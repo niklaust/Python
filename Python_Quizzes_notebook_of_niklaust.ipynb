{
  "nbformat": 4,
  "nbformat_minor": 0,
  "metadata": {
    "colab": {
      "provenance": [],
      "collapsed_sections": [],
      "include_colab_link": true
    },
    "kernelspec": {
      "name": "python3",
      "display_name": "Python 3"
    }
  },
  "cells": [
    {
      "cell_type": "markdown",
      "metadata": {
        "id": "view-in-github",
        "colab_type": "text"
      },
      "source": [
        "<a href=\"https://colab.research.google.com/github/niklaust/Python/blob/main/Python_Quizzes_notebook_of_niklaust.ipynb\" target=\"_parent\"><img src=\"https://colab.research.google.com/assets/colab-badge.svg\" alt=\"Open In Colab\"/></a>"
      ]
    },
    {
      "cell_type": "markdown",
      "source": [
        "<h1><center><b>Python Quizzes</b></center></h1>"
      ],
      "metadata": {
        "id": "eAZnOD46VDAU"
      }
    },
    {
      "cell_type": "markdown",
      "source": [
        "github:niklaust"
      ],
      "metadata": {
        "id": "4PYxTXHnVG2y"
      }
    },
    {
      "cell_type": "markdown",
      "metadata": {
        "id": "mhf4MsnyGKoB"
      },
      "source": [
        "**Fruit Bowl**\n",
        "\n",
        "You have a bowl on your counter with an even number of pieces of fruit in it. Half of them are bananas, and the other half are apples. You need 3 apples to make a pie.\n",
        "\n",
        "**Task**\n",
        "\n",
        "Your task is to evaluate the total number of pies that you can make with the apples that are in your bowl given to total amount of fruit in the bowl\n",
        "\n",
        "**Input Format**\n",
        "\n",
        "An integer that represents the total amount of fruit in the bowl\n",
        "\n",
        "**Output Format**\n",
        "\n",
        "An integer representing the total number of whole apple pies that you can make \n",
        "\n",
        "**Sample Input**\n",
        "\n",
        "26\n",
        "\n",
        "**Sample Output**\n",
        "\n",
        "4\n",
        "\n",
        "**Explanation**\n",
        "\n",
        "If you have 26 pieces of fruit, you have 13 apples, which makes 4 pies, and leaves one apple left over."
      ]
    },
    {
      "cell_type": "code",
      "metadata": {
        "colab": {
          "base_uri": "https://localhost:8080/"
        },
        "id": "L-jWOzJ0eaXx",
        "outputId": "9a8bdc83-ffcc-47ba-dee1-c42180fca4d4"
      },
      "source": [
        "fruit = int(input(\"Enter the total amount of fruit in the bowl :\"))\n",
        "\n",
        "apples = fruit//2\n",
        "pie = apple//3\n",
        "print(\"The total number of whole apple pies :\" , int(pie))\n"
      ],
      "execution_count": null,
      "outputs": [
        {
          "output_type": "stream",
          "text": [
            "Enter the total amount of fruit in the bowl :26\n",
            "The total number of whole apple pies : 4\n"
          ],
          "name": "stdout"
        }
      ]
    },
    {
      "cell_type": "markdown",
      "metadata": {
        "id": "3DWBFoEm1liG"
      },
      "source": [
        "**Halloween Candy**\n",
        "\n",
        "You go trick or treating with a friend and all but here of the houses that you visit are giving out candy. One house that you visit is giving out toothbrushes and two houses are giving out dollar bills.\n",
        "\n",
        "**Task**\n",
        "\n",
        "Given the input of the total number of houses that you visited, what is the percentage chance that one random item pulled from your bag is a dollar bill?\n",
        "\n",
        "**Input Format**\n",
        "\n",
        "An integer (>3) representing the total number of houses that you visited.\n",
        "\n",
        "**Output Format**\n",
        "\n",
        "A percentage value rounded up to the nearest whole number.\n",
        "\n",
        "**Sample Input**\n",
        "\n",
        "4\n",
        "\n",
        "**Sample Output**\n",
        "\n",
        "50\n",
        "\n",
        "**Explanation**\n",
        "\n",
        "If you visited four houses, one would be candy, two would be dollars, and one would be a toothbrush. A 2 in 4 chance is 50%"
      ]
    },
    {
      "cell_type": "code",
      "metadata": {
        "colab": {
          "base_uri": "https://localhost:8080/"
        },
        "id": "ggvZOkEe1lHX",
        "outputId": "94c26dfb-8bc9-4810-c199-36e18823fdce"
      },
      "source": [
        "TOOTHBRUSHES = 1 # constant\n",
        "DOLLARBILLS = 2 # constant\n",
        "\n",
        "def find_percent(h):\n",
        "  percent = 0\n",
        "  percent =  (DOLLARBILLS/h) *100\n",
        "  if percent % 2 == 0:\n",
        "    return int(percent)\n",
        "  else:\n",
        "    return int(percent + 1) \n",
        "\n",
        "house = int(input(\"Enter the total number of the house that you visited :\"))\n",
        "find_percent(house)"
      ],
      "execution_count": null,
      "outputs": [
        {
          "output_type": "stream",
          "text": [
            "Enter the total number of the house that you visited :4\n"
          ],
          "name": "stdout"
        },
        {
          "output_type": "execute_result",
          "data": {
            "text/plain": [
              "50"
            ]
          },
          "metadata": {
            "tags": []
          },
          "execution_count": 1
        }
      ]
    },
    {
      "cell_type": "markdown",
      "metadata": {
        "id": "Uf0jMANg5lCH"
      },
      "source": [
        "**Cheer Creator**\n",
        "\n",
        "You are cheering on your favorite team. After each play, it your team go over 10 yards further down the field, you stand up and give your friend a hight five. If they don't move forward by at least a yard you stay quiet and say \"shh\", and if they move forward 10 yards or less, you say \"Ra!\" for every yard that they moved forward in that play.\n",
        "\n",
        "**Task**\n",
        "\n",
        "Given the number of yards that your team moved forward, output either \"High Five\" (for over 10), \"shh\" (for < 1), or a string that has a \"Ra!\" for every yard that they gained.\n",
        "\n",
        "**Input Format**\n",
        "\n",
        "An integer value that represents the number of yards gained or lost by your team.\n",
        "\n",
        "**Output Format**\n",
        "\n",
        "A string of the appropriate cheer\n",
        "\n",
        "**Sample Input**\n",
        "\n",
        "3\n",
        "\n",
        "**Sample Output**\n",
        "\n",
        "Ra! Ra! Ra!\n",
        "\n"
      ]
    },
    {
      "cell_type": "code",
      "metadata": {
        "colab": {
          "base_uri": "https://localhost:8080/"
        },
        "id": "d0HdV6ev7ACO",
        "outputId": "dfc6e310-025e-4ca8-89c1-9b1d9d01fc9f"
      },
      "source": [
        "def cheer(dis):\n",
        "  if dis > 10:\n",
        "    print(\"High Five\")\n",
        "  elif dis >= 1:\n",
        "    print(\"Ra!\" * dis)\n",
        "  else:\n",
        "    print(\"shh\")\n",
        "\n",
        "\n",
        "distance = int(input(\"Enter the number of yards :\"))\n",
        "cheer(distance)"
      ],
      "execution_count": null,
      "outputs": [
        {
          "output_type": "stream",
          "text": [
            "Enter the number of yards :3\n",
            "Ra!Ra!Ra!\n"
          ],
          "name": "stdout"
        }
      ]
    },
    {
      "cell_type": "markdown",
      "metadata": {
        "id": "_MvBc0F88aO2"
      },
      "source": [
        "**Skee-Ball**\n",
        "\n",
        "You are playing a game at your local arcade, and you receive 1 ticket from the machine for every 12 points that you score. You want to purchase a squirt gun with your tickets. Given your score, and the price of the squirt gun (in tickets) are you able to buy it?\n",
        "\n",
        "**Task**\n",
        "\n",
        "Evaluate whether or not you have scored high enough to earn enough tickets to purchase the squirt gun at the arcade.\n",
        "\n",
        "**Input Format**\n",
        "\n",
        "The first input is an integer value that represents that points that you scored playing, and the scored input is an integer value that represents the cost of the squirt gun (in tickets).\n",
        "\n",
        "**Output Format**\n",
        "\n",
        "A string that say \"Buy it\" if you will have enough tickets, or a string that says \"Try again\" if you will not.\n",
        "\n",
        "**Sample Input**\n",
        "\n",
        "500\n",
        "\n",
        "40\n",
        "\n",
        "**Sample Output**\n",
        "\n",
        "Buy it!\n",
        "\n",
        "**Explanation**\n",
        "\n",
        "By scoring 500 points, you will receive 41 tickets, which is enoght to buy the squirt gun at a price of 49 tickets"
      ]
    },
    {
      "cell_type": "code",
      "metadata": {
        "colab": {
          "base_uri": "https://localhost:8080/"
        },
        "id": "YaMe5f6m9u1H",
        "outputId": "79379272-669e-4d56-8ac9-c5ce014dfe8e"
      },
      "source": [
        "def reward(p, c):\n",
        "  ticket = p/12\n",
        "  if ticket >= c:\n",
        "    print(\"Buy it\")\n",
        "  else:\n",
        "    print(\"Try again\")\n",
        "\n",
        "\n",
        "point = int(input(\"Enter your points :\"))\n",
        "cost = int(input(\"Enter the cost of the squirt gun :\"))\n",
        "reward(point, cost)    "
      ],
      "execution_count": null,
      "outputs": [
        {
          "output_type": "stream",
          "text": [
            "Enter your points :500\n",
            "Enter the cost of the squirt gun :40\n",
            "Buy it\n"
          ],
          "name": "stdout"
        }
      ]
    },
    {
      "cell_type": "markdown",
      "metadata": {
        "id": "Yk9srCof_hsG"
      },
      "source": [
        "**Paint Costs**\n",
        "\n",
        "You are getting ready to paint a piece of art. The canvas and brushes that you want to use will cost 40.00. Each color of paint that you buy is an additional 5.00. Determine how much money you will need based on the number of colors that you want to buy if tax at this store is 10%\n",
        "\n",
        "**Task**\n",
        "\n",
        "Given the total number of colors of paint that you need, calculate and output the total cost of your project rounded up to the nearest whole number.\n",
        "\n",
        "**Input Format**\n",
        "\n",
        "An integer that represents the number of colors that you want to purchase for your project.\n",
        "\n",
        "**Output Format**\n",
        "\n",
        "A number that represens the cost of your purchase rounded up to the nearest whole number \n",
        "\n",
        "**Sample Input**\n",
        "\n",
        "10\n",
        "\n",
        "**Sample Output**\n",
        "\n",
        "99\n",
        "\n",
        "**Explanation**\n",
        "\n",
        "You need 50.00 to buy 10 colors of paint + 40.00 for the canvas and brushes + 9.00 for the tax.\n",
        "\n"
      ]
    },
    {
      "cell_type": "code",
      "metadata": {
        "colab": {
          "base_uri": "https://localhost:8080/"
        },
        "id": "1KVEbBgWAhx3",
        "outputId": "1199da8c-e7b0-44b8-bf4f-a55d628ab7de"
      },
      "source": [
        "from math import ceil \n",
        "\n",
        "\n",
        "def calculate(c):\n",
        "  price_canvas = 40.00\n",
        "  price_color = 5.00*c\n",
        "  sum = price_canvas + price_color\n",
        "  tax = (sum * 10)/100\n",
        "  total =  sum + tax\n",
        "  return ceil(total)\n",
        "\n",
        "\n",
        "number_color = int(input(\"Enter the number of colors that you want to purchase for your project :\"))\n",
        "calculate(number_color)"
      ],
      "execution_count": null,
      "outputs": [
        {
          "output_type": "stream",
          "text": [
            "Enter the number of colors that you want to purchase for your project :10\n"
          ],
          "name": "stdout"
        },
        {
          "output_type": "execute_result",
          "data": {
            "text/plain": [
              "99"
            ]
          },
          "metadata": {
            "tags": []
          },
          "execution_count": 5
        }
      ]
    },
    {
      "cell_type": "markdown",
      "metadata": {
        "id": "e-cMNK2SCrnv"
      },
      "source": [
        "**Argentina**\n",
        "\n",
        "You are in a hat store in Argentina! the prices are listed in US Dollars and Argentinian Pesos. You have both, but you want to make sure you pay the lower price! Do you pay in Dollars or Pesos? The exchange rate is 2 cents for every Peso.\n",
        "\n",
        "**Task**\n",
        "\n",
        "Create a program that takes two prices and tells you which one is lower after conversion\n",
        "\n",
        "**Input Format**\n",
        "\n",
        "Two integer values, the first one is the prices in Pesos and the second one is the prices in Dollars.\n",
        "\n",
        "**Output Format**\n",
        "\n",
        "A string that says which currency you should make the purchase in (\"Dollars\" or \"Pesos\")\n",
        "\n",
        "**Sample Input**\n",
        "\n",
        "4000\n",
        "\n",
        "100\n",
        "\n",
        "**Sample Output**\n",
        "\n",
        "Pesos\n",
        "\n",
        "**Explanation**\n",
        "\n",
        "You should use Pesos to buy the hat since 4000 pesos is equal to $80."
      ]
    },
    {
      "cell_type": "code",
      "metadata": {
        "colab": {
          "base_uri": "https://localhost:8080/"
        },
        "id": "j8YbYO-oEFqm",
        "outputId": "f16977ea-9b9b-41f3-f104-75b0aa00a4cf"
      },
      "source": [
        "def converse(peso, dollar):\n",
        "  cent = 100 * dollar\n",
        "  dollar_to_peso = cent/2\n",
        "  if peso <= dollar_to_peso:\n",
        "    print(\"Pesos\")\n",
        "  else:\n",
        "    print(\"Dollars\") \n",
        "\n",
        "\n",
        "prices_peso = int(input(\"Enter the prices in Pesos   :\"))\n",
        "prices_dollar = int(input(\"Enter the prices in Dollars :\"))\n",
        "converse(prices_peso, prices_dollar)"
      ],
      "execution_count": null,
      "outputs": [
        {
          "output_type": "stream",
          "text": [
            "Enter the prices in Pesos   :4000\n",
            "Enter the prices in Dollars :100\n",
            "Pesos\n"
          ],
          "name": "stdout"
        }
      ]
    },
    {
      "cell_type": "markdown",
      "metadata": {
        "id": "sxTLAfavGOd7"
      },
      "source": [
        "**Gotham City**\n",
        "\n",
        "You are a police officer, and you get a report of criminal activity! Should you go on your own, or shold you call a superhero to help: you fight the crime? If there are less than 5, you can handle this on your own, if there are more than 10, you should stay where it is safe and let Batman handle this on his own!\n",
        "\n",
        "**Task**\n",
        "\n",
        "Determine whether you need to call backup based on the total number of criminals being reprorted.\n",
        "\n",
        "**Input Format**\n",
        "\n",
        "An integer that represents the total number of criminals present at the scene.\n",
        "\n",
        "**Output Format**\n",
        "\n",
        "A string that says \"I got this!\", \"help me Batman\", or \"Good Luck out there!\" depending on the scenario. \n",
        "\n",
        "**Sample Input**\n",
        "\n",
        "7\n",
        "\n",
        "**Sample Output**\n",
        "\n",
        "\"Help me Batman\"\n",
        "\n",
        "**Explanation**\n",
        "\n",
        "If ther are  7 criminals, you and Batman should handle this situation together.\n",
        "\n",
        "\n"
      ]
    },
    {
      "cell_type": "code",
      "metadata": {
        "colab": {
          "base_uri": "https://localhost:8080/"
        },
        "id": "gNO2-a9EHY72",
        "outputId": "40a48946-65e5-4bab-d851-d8bafa88fd4e"
      },
      "source": [
        "def fight(num):\n",
        "  if num > 10:\n",
        "    print(\"Good Luck out there!\")\n",
        "  elif num > 5:\n",
        "    print(\"help me Batman\")\n",
        "  else:\n",
        "    print(\"I got this!\")\n",
        "\n",
        "\n",
        "number_criminals = int(input(\"Enter the total number of criminals :\"))\n",
        "fight(number_criminals)    "
      ],
      "execution_count": null,
      "outputs": [
        {
          "output_type": "stream",
          "text": [
            "Enter the total number of criminals :7\n",
            "help me Batman\n"
          ],
          "name": "stdout"
        }
      ]
    },
    {
      "cell_type": "markdown",
      "metadata": {
        "id": "M07t8UXkInmn"
      },
      "source": [
        "**Hovercraft**\n",
        "\n",
        "You ran a hovercraft factory. Your factory makes ten hovercrafts in a month. Given the number of customers you got that month, did you make a profit? It costs you 200,000 to build a hovercraft, and you are selling the for 300,000. You also pay 1,000,000 each month for insurance \n",
        "\n",
        "**Task**\n",
        "\n",
        "Determine whether or not you made a profit based on how many of the ten hovercrafts you were able to sell that month.\n",
        "\n",
        "**Input Format**\n",
        "\n",
        "An integer that represents the sales that you made that month.\n",
        "\n",
        "**Output Format**\n",
        "\n",
        "A string that says \"Profits\", \"Loss\" or \"Broken Even!\"\n",
        "\n",
        "**Sample Input:**\n",
        "\n",
        "5\n",
        "\n",
        "**Sample Output:**\n",
        "\n",
        "Loss\n",
        "\n",
        "**Explanation**\n",
        "\n",
        "If you only sold 5 hovercrafts, you spent 2,100,000 to operate but only made 1,500,000\n"
      ]
    },
    {
      "cell_type": "code",
      "metadata": {
        "id": "Z_eQIu8OJurO",
        "colab": {
          "base_uri": "https://localhost:8080/"
        },
        "outputId": "8eac8460-1090-4eb5-d03e-97feabc11980"
      },
      "source": [
        "def calculate(num):\n",
        "  insurance = 1000000\n",
        "  manufacturing_costs = 200000 * num\n",
        "  all_costs = insurance + manufacturing_costs\n",
        "  income = 300000 * num \n",
        "  if income > all_costs:\n",
        "    print(\"Profits\")\n",
        "  elif income < all_costs:\n",
        "    print(\"Loss\")\n",
        "  else:\n",
        "    print(\"Broken Even\")\n",
        "\n",
        "\n",
        "sell_volume = int(input(\"Enter the sales that you made this month :\"))\n",
        "calculate(sell_volume)"
      ],
      "execution_count": null,
      "outputs": [
        {
          "output_type": "stream",
          "text": [
            "Enter the sales that you made this month :5\n",
            "Loss\n"
          ],
          "name": "stdout"
        }
      ]
    },
    {
      "cell_type": "markdown",
      "metadata": {
        "id": "5cW5oNN_CV1m"
      },
      "source": [
        "**Extra-Terrestrials**\n",
        "\n",
        "You meet a group of aliens, and their language is just like English except that they say every word backwards. How will you learn to communicate with them?\n",
        "\n",
        "**Task**\n",
        "\n",
        "Take a word in English that you would like to say, and turn it into language that these aliens will understand.\n",
        "\n",
        "**Input Format**\n",
        "\n",
        "A string of a word in English.\n",
        "\n",
        "**Output format**\n",
        "\n",
        "A string of the reversed word that represents the original word traslated into alien language\n",
        "\n",
        "**Sample Input:**\n",
        "\n",
        "Howdy\n",
        "\n",
        "**Sample Output:**\n",
        "\n",
        "ydwoh\n",
        "\n",
        "**Explanation**\n",
        "\n",
        "if you flip howdy backwords you get ydwoh\n"
      ]
    },
    {
      "cell_type": "code",
      "metadata": {
        "colab": {
          "base_uri": "https://localhost:8080/",
          "height": 52
        },
        "id": "j2mIzl2oDIzH",
        "outputId": "2f2b5296-42f6-4306-c029-60a38c26ae70"
      },
      "source": [
        "#  0 1 2 3 4\n",
        "#  h o w d y \n",
        "# -5-4-3-2-1\n",
        "\n",
        "say = input(\"Say something : \").lower()\n",
        "\n",
        "def alien_translater(words):\n",
        "  translate = \"\"\n",
        "  l = len(words)\n",
        "  translate = words[-1: -l-1: -1]\n",
        "  return translate.capitalize()\n",
        "\n",
        "alien_translater(say)"
      ],
      "execution_count": null,
      "outputs": [
        {
          "output_type": "stream",
          "text": [
            "Say something : Happy to meet you\n"
          ],
          "name": "stdout"
        },
        {
          "output_type": "execute_result",
          "data": {
            "application/vnd.google.colaboratory.intrinsic+json": {
              "type": "string"
            },
            "text/plain": [
              "'Uoy teem ot yppah'"
            ]
          },
          "metadata": {
            "tags": []
          },
          "execution_count": 21
        }
      ]
    },
    {
      "cell_type": "markdown",
      "metadata": {
        "id": "vXF28rD3Fh-G"
      },
      "source": [
        "**Jungle campling**\n",
        "\n",
        "You are camping alone out in the jungle and you hear some animals in the dark nearby. Based on the noise they make, determine which animals they are.\n",
        "\n",
        "**Task**\n",
        "\n",
        "You are given the noises made by different animals that you can hear in the dark, evaluate each noise to determine which animal it belongs to. \n",
        "\n",
        "Lions say 'Grr', Tigers say 'Rawr', Snakes say 'Ssss', and Birds say 'Chirp'.\n",
        "\n",
        "**Input Format**\n",
        "\n",
        "A string that represent the noises that you hear with a space between them.\n",
        "\n",
        "**Output Format**\n",
        "\n",
        "A string that includes each animal that you hear iwth a space after each one. (animals can repeat)\n",
        "\n",
        "**Sample Input:**\n",
        "\n",
        "Rawr Chirp Ssss\n",
        "\n",
        "**Sample Output:**\n",
        "\n",
        "Tiger--Bird-- Snake\n",
        "\n",
        "**Explanation**\n",
        "\n",
        "You heard the noise made by a tiger, then a bird, and then a snake\n"
      ]
    },
    {
      "cell_type": "code",
      "metadata": {
        "colab": {
          "base_uri": "https://localhost:8080/"
        },
        "id": "6HTOsBOmGu-Z",
        "outputId": "215a76e1-3f2a-4a24-80e8-7c78e2ff0e89"
      },
      "source": [
        "def animal_voice_translate(cry):\n",
        "  cry = cry.split(\" \")\n",
        "  animal_type = [] \n",
        "  animal_sound = {\"Lions\" : 'Grr',\n",
        "                  \"Tiger\" : 'Rawr',\n",
        "                  \"Snakes\" : 'Ssss', \n",
        "                  \"Birds\" : 'Chirp' }               \n",
        "  for cry in animal_sound:\n",
        "      animal_type.append(animal_sound.get(cry))\n",
        "  str_animal_type = \"--\".join(animal_type)\n",
        "  print(str_animal_type)\n",
        "\n",
        "\n",
        "sound = input(\"Sound what you hear :\")\n",
        "animal_voice_translate(sound)  "
      ],
      "execution_count": null,
      "outputs": [
        {
          "output_type": "stream",
          "text": [
            "Sound what you hear :Rawr Chirp Ssss\n",
            "Grr--Rawr--Ssss--Chirp\n"
          ],
          "name": "stdout"
        }
      ]
    },
    {
      "cell_type": "markdown",
      "metadata": {
        "id": "GdRuNEk9JuGV"
      },
      "source": [
        "**Popsicales**\n",
        "\n",
        "You have a boy of popsicles and you want to give them all away to a group of brothers and sisters. If you have enough left in the box to give them each and even amount you should go for it? if not, they will fight over them, and you should eat them yourself later.\n",
        "\n",
        "**Task** \n",
        "\n",
        "Given the number of siblings that you are giving popsicles to, determine if you can give them each an even amount of if you shouldn't mention the popsicles at all.\n",
        "\n",
        "**Input Format**\n",
        "\n",
        "Two integer values, the first one represents the number of siblings, and the second one represents the number of popsicles that you have left in the box.\n",
        "\n",
        "**Output Format**\n",
        "\n",
        "A string that say 'give aways' if you are giveing them away, or 'eat them yourself' if you will be eating them yourself\n",
        "\n",
        "**Sample Input:**\n",
        "\n",
        "3 9\n",
        "\n",
        "**Sample Output**\n",
        "\n",
        "give away\n",
        "\n",
        "**Explanation**\n",
        "\n",
        "You can give the popsicles to the brothers and sisters because they would each get the same amount, 3."
      ]
    },
    {
      "cell_type": "code",
      "metadata": {
        "colab": {
          "base_uri": "https://localhost:8080/"
        },
        "id": "4X1-8S10Jt1f",
        "outputId": "f51b44a7-7037-40e6-c8cf-c2f22f54f331"
      },
      "source": [
        "def hand_down(sibling, popsicles):\n",
        "  if popsicles % sibling == 0:\n",
        "    print(\"give aways\")\n",
        "  else:\n",
        "    print(\"eat them yourself\")\n",
        "\n",
        "\n",
        "num_sib = int(input(\"Enter the number of siblings : \"))\n",
        "num_pop = int(input(\"Enter the number of popsicles : \"))\n",
        "hand_down(num_sib, num_pop)    "
      ],
      "execution_count": null,
      "outputs": [
        {
          "output_type": "stream",
          "text": [
            "Enter the number of siblings : 3\n",
            "Enter the number of popsicles : 9\n",
            "give aways\n"
          ],
          "name": "stdout"
        }
      ]
    },
    {
      "cell_type": "markdown",
      "metadata": {
        "id": "RHJULgWdMQ-l"
      },
      "source": [
        "**Secret Message**\n",
        "\n",
        "You are trying to send a secret message, and you've decided to encode it by replacing every letter in your message with its corresponding letter in a backwards version of the alphabet. What do you messages look like?\n",
        "\n",
        "**Task**\n",
        "\n",
        "create a program that replaces each letter in a message with its corresponding letter in a backwards version of the English alphabet \n",
        "\n",
        "**Input Format**\n",
        "\n",
        "A string of your message in its normal form.\n",
        "\n",
        "**Output Format**\n",
        "\n",
        "A string of your message once you have encoded it call lower cases.\n",
        "\n",
        "**Sample Input:**\n",
        "\n",
        "Hello World\n",
        "\n",
        "**Sample Output:**\n",
        "\n",
        "Svool dliow\n",
        "\n",
        "**Explanation**\n",
        "\n",
        "If you reeplace each letter in \"Hello World\" with the corresponding letter in a backwards version of the alphabet: you get \"svool dliow\""
      ]
    },
    {
      "cell_type": "code",
      "metadata": {
        "colab": {
          "base_uri": "https://localhost:8080/",
          "height": 52
        },
        "id": "5H0A-PtaRnot",
        "outputId": "d305899a-731c-4bb2-e7f0-c8ba65edb351"
      },
      "source": [
        "# 0 1 2 3 4 5 6 7 8 9 10 11 12 13 14 15 16 17 18 19 20 21 22 23 24 25 \n",
        "# a b c d e f g h i j  k  l  m  n  o  p  q  r  s  t  u  v  w  x  y  z\n",
        "\n",
        "def secret_message(words):\n",
        "  alphabet = \"abcdefghijklmnopqrstuvwxyz\"\n",
        "  alphabet_backword = alphabet[-1::-1]\n",
        "  letter = \"\"\n",
        "  for i in words:\n",
        "    if i == \" \":\n",
        "      letter += \" \"\n",
        "    else:\n",
        "      position = alphabet.index(i)\n",
        "      letter += alphabet_backword[position]\n",
        "  return letter.capitalize()\n",
        "\n",
        "\n",
        "say = input(\"Enter your word : \").lower()\n",
        "secret_message(say)"
      ],
      "execution_count": null,
      "outputs": [
        {
          "output_type": "stream",
          "text": [
            "Enter your word : Hello World\n"
          ],
          "name": "stdout"
        },
        {
          "output_type": "execute_result",
          "data": {
            "application/vnd.google.colaboratory.intrinsic+json": {
              "type": "string"
            },
            "text/plain": [
              "'Svool dliow'"
            ]
          },
          "metadata": {
            "tags": []
          },
          "execution_count": 17
        }
      ]
    },
    {
      "cell_type": "code",
      "metadata": {
        "colab": {
          "base_uri": "https://localhost:8080/",
          "height": 52
        },
        "id": "1ECJLDQ8Pdxn",
        "outputId": "d405fb25-8fc2-47b5-91f0-d67370acf37f"
      },
      "source": [
        "#a -> z 97 + (25 - 0)\n",
        "#b -> y 97 + (25 - 1)\n",
        "#...\n",
        "#z -> a 97 + (25 - 25)\n",
        "\n",
        "def secret_message(words):\n",
        "  alphabet = \"abcdefghijklmnopqrstuvwxyz\"\n",
        "  letter = \"\"\n",
        "  for i in words:\n",
        "    if i not in alphabet:\n",
        "      letter += \" \" \n",
        "    else: \n",
        "      letter += chr(97 + (25 - (alphabet.index(i))))\n",
        "  return letter.capitalize()\n",
        "\n",
        "\n",
        "say = input(\"Enter your word : \").lower()\n",
        "secret_message(say)"
      ],
      "execution_count": null,
      "outputs": [
        {
          "output_type": "stream",
          "text": [
            "Enter your word : Hello World\n"
          ],
          "name": "stdout"
        },
        {
          "output_type": "execute_result",
          "data": {
            "application/vnd.google.colaboratory.intrinsic+json": {
              "type": "string"
            },
            "text/plain": [
              "'Svool dliow'"
            ]
          },
          "metadata": {
            "tags": []
          },
          "execution_count": 18
        }
      ]
    },
    {
      "cell_type": "code",
      "metadata": {
        "colab": {
          "base_uri": "https://localhost:8080/",
          "height": 52
        },
        "id": "iQmMlbQ0dggX",
        "outputId": "f4d161e3-2e5f-46e7-d02c-28601adc45c1"
      },
      "source": [
        "def secret_message(words):\n",
        "  alphabet = \" abcdefghijklmnopqrstuvwxyz \"\n",
        "  reverse = alphabet[::-1]\n",
        "  letter = \"\"\n",
        "  for i in words:\n",
        "    position = alphabet.index(i)\n",
        "    letter += reverse[position]\n",
        "  return letter.capitalize()\n",
        "\n",
        "\n",
        "say = input(\"Enter your word : \").lower()\n",
        "secret_message(say)"
      ],
      "execution_count": null,
      "outputs": [
        {
          "output_type": "stream",
          "text": [
            "Enter your word : Hello World\n"
          ],
          "name": "stdout"
        },
        {
          "output_type": "execute_result",
          "data": {
            "application/vnd.google.colaboratory.intrinsic+json": {
              "type": "string"
            },
            "text/plain": [
              "'Svool dliow'"
            ]
          },
          "metadata": {
            "tags": []
          },
          "execution_count": 21
        }
      ]
    },
    {
      "cell_type": "markdown",
      "metadata": {
        "id": "JJ-tL_7NTUPF"
      },
      "source": [
        "**That's odd...**\n",
        "\n",
        "You wnat to take a list of numbers and find the sum of all of the even numbers in the list. Ignore any odd numbers.\n",
        "\n",
        "**Task**\n",
        "\n",
        "Find the sum of all even integers in a list of numbers.\n",
        "\n",
        "**Input Format**\n",
        "\n",
        "The first input denotes the length of the list(N). The next N lines contain the list elements as integers\n",
        "\n",
        "**Output Format**\n",
        "\n",
        "An integer that represents the sum of only the even numbers in the list.\n",
        "\n",
        "**Sample Input:**\n",
        "\n",
        "9:\n",
        "\n",
        "1\n",
        "\n",
        "2 -\n",
        "\n",
        "3\n",
        "\n",
        "4 -\n",
        "\n",
        "5\n",
        "\n",
        "6 -\n",
        "\n",
        "7\n",
        "\n",
        "8 -\n",
        "\n",
        "9\n",
        "\n",
        "**Sample Output:**\n",
        "\n",
        "20\n",
        "\n",
        "**Explanation**\n",
        "\n",
        "If you add together 2, 4, 6, and 8 from the list, you get a sum of 20.\n"
      ]
    },
    {
      "cell_type": "code",
      "metadata": {
        "colab": {
          "base_uri": "https://localhost:8080/"
        },
        "id": "Zdqp7pgEUTp2",
        "outputId": "589c371b-c6f4-4758-b843-79a5819d1035"
      },
      "source": [
        "def add_only_even(num):\n",
        "  sum = 0\n",
        "  for n in range(num):\n",
        "    if n % 2 != 0:\n",
        "      continue\n",
        "    else:\n",
        "      sum += n\n",
        "  return sum\n",
        "\n",
        "number = int(input(\"Enter the length of the list : \"))\n",
        "add_only_even(number)"
      ],
      "execution_count": null,
      "outputs": [
        {
          "output_type": "stream",
          "text": [
            "Enter the length of the list : 9\n"
          ],
          "name": "stdout"
        },
        {
          "output_type": "execute_result",
          "data": {
            "text/plain": [
              "20"
            ]
          },
          "metadata": {
            "tags": []
          },
          "execution_count": 23
        }
      ]
    },
    {
      "cell_type": "code",
      "metadata": {
        "colab": {
          "base_uri": "https://localhost:8080/"
        },
        "id": "1j0WEy8BVVrV",
        "outputId": "aecb2f69-db88-40e2-df44-93629bea6482"
      },
      "source": [
        "length = int(input(\"Enter the length of the list : \"))\n",
        "\n",
        "number = range(length)\n",
        "even = list(filter(lambda x : x % 2 == 0, number))\n",
        "total = sum(even)\n",
        "\n",
        "print(total)"
      ],
      "execution_count": null,
      "outputs": [
        {
          "output_type": "stream",
          "text": [
            "Enter the length of the list : 9\n",
            "20\n"
          ],
          "name": "stdout"
        }
      ]
    },
    {
      "cell_type": "markdown",
      "metadata": {
        "id": "CJ2z-xnEWj69"
      },
      "source": [
        "**Pig Latin**\n",
        "\n",
        "You have two friends who are speaking Pig Latin to each other! Pig Latin is the same words in the same order except that you take the first letter of each word and put in on the end, then you add 'ay' to the end of that. (\"road\" = \"oadray\")\n",
        "\n",
        "**Task**\n",
        "\n",
        "You take is to take a sentence in English and turn it into the same sentence in Pig Latin!\n",
        "\n",
        "**Input Format**\n",
        "\n",
        "A string of the sentence in English that you need to translate into Pig Latin. (no punctuation or capitalization)\n",
        "\n",
        "**Output format**\n",
        "\n",
        "A string of the same sentence in Pig Latin\n",
        "\n",
        "**Sample Input:**\n",
        "\n",
        "\"nevermind youve got them\"\n",
        "\n",
        "**Sample Output:**\n",
        "\n",
        "\"evermindnay ouveyay otgay hemtay\"\n",
        "\n",
        "**Explanation**\n",
        "\n",
        "The output should be the original sentence with each word changed so that they first letter is at the end and then -ay is added after that.\n",
        "\n"
      ]
    },
    {
      "cell_type": "code",
      "metadata": {
        "colab": {
          "base_uri": "https://localhost:8080/",
          "height": 52
        },
        "id": "OavZv4oEW24E",
        "outputId": "30973021-fca1-43e6-9bab-b07f2889093d"
      },
      "source": [
        "def pig_latin(words):\n",
        "  words = words.split(\" \")\n",
        "  new_words = \"\"\n",
        "  for word in words:\n",
        "    new_words += word[1::] + word[0] + \"ay \"\n",
        "  return new_words\n",
        "\n",
        "english = input(\"you say in English : \")\n",
        "pig_latin(english)"
      ],
      "execution_count": null,
      "outputs": [
        {
          "output_type": "stream",
          "text": [
            "you say in English : nevermind youve got them\n"
          ],
          "name": "stdout"
        },
        {
          "output_type": "execute_result",
          "data": {
            "application/vnd.google.colaboratory.intrinsic+json": {
              "type": "string"
            },
            "text/plain": [
              "'evermindnay ouveyay otgay hemtay '"
            ]
          },
          "metadata": {
            "tags": []
          },
          "execution_count": 26
        }
      ]
    },
    {
      "cell_type": "code",
      "metadata": {
        "colab": {
          "base_uri": "https://localhost:8080/"
        },
        "id": "37HLvIdwZc13",
        "outputId": "82e783c7-712a-456d-968f-0bf6f65e85af"
      },
      "source": [
        "english = input(\"you say in English : \")\n",
        "\n",
        "def pig_latin(words):\n",
        "  words = words.split(\" \")\n",
        "  for word in words:\n",
        "    print(word[1::] + word[0] + 'ay', end=\" \")\n",
        "\n",
        "pig_latin(english)"
      ],
      "execution_count": null,
      "outputs": [
        {
          "output_type": "stream",
          "text": [
            "you say in English : nevermind youve got them\n",
            "evermindnay ouveyay otgay hemtay "
          ],
          "name": "stdout"
        }
      ]
    },
    {
      "cell_type": "markdown",
      "metadata": {
        "id": "qGZuQ1Y7cjzV"
      },
      "source": [
        "**Youtube Link Finder**\n",
        "\n",
        "You and your friends like to share Youtube links all throughout the day. You want to keep track of all the video you watch in your own personal notepad, but you find the keeping the entire link is unnecessary. keep the video ID (the comination of letters and numbers at the end of the link) in your notepad to slim down the URL.\n",
        "\n",
        "**Task**\n",
        "\n",
        "Crate a program that parses through a link, extracts and outputs the Youtube video ID.\n",
        "\n",
        "**Input Format**\n",
        "\n",
        "A string containing The URL to a Youtube video. The format of the string can be in \"https://www.youtube.com/watch?v=kbxkq_w51pm\" or the shortened \"https://youtu.be/KMBBjzp5hdc\" format.\n",
        "\n",
        "**output Format**\n",
        "\n",
        "A string containing the extracted Youtube video id.\n",
        "\n",
        "**Sample Input:**\n",
        "\n",
        "https://www.youtube.com/watch?v=RRW2auSW5VU\n",
        "\n",
        "**Sample Output:**\n",
        "\n",
        "RRW2auSW5VU\n",
        "\n",
        "**Note**\n",
        "\n",
        "that the input can be in two different formats."
      ]
    },
    {
      "cell_type": "code",
      "metadata": {
        "colab": {
          "base_uri": "https://localhost:8080/"
        },
        "id": "7RjfMYyFeEoF",
        "outputId": "849a03b4-83d0-461f-a7d2-8c199408f65d"
      },
      "source": [
        "import re\n",
        "\n",
        "\n",
        "def find_youtube_id(link):\n",
        "  pattern = r\"www.\"\n",
        "  if re.search(pattern, link):\n",
        "    part = link.split(\"=\")\n",
        "    video = part[1]\n",
        "  else:\n",
        "    part = link.split(\"/\")\n",
        "    video = part[3]\n",
        "  print(video)\n",
        "\n",
        "\n",
        "link = input(\"Enter the URL :\")\n",
        "find_youtube_id(link)"
      ],
      "execution_count": null,
      "outputs": [
        {
          "output_type": "stream",
          "text": [
            "Enter the URL :https://www.youtube.com/watch?v=RRW2auSW5VU\n",
            "RRW2auSW5VU\n"
          ],
          "name": "stdout"
        }
      ]
    },
    {
      "cell_type": "markdown",
      "metadata": {
        "id": "uyl_90xogO--"
      },
      "source": [
        "**Average Word Length**\n",
        "\n",
        "You are in a college level English class, your professor wants you to write an essay, but you need to find out the average length of all the words you use. It is up to you to figure out how long each word is and to average it out.\n",
        "\n",
        "**Task**\n",
        "\n",
        "Takes in a string, figure out the average length of all the words and return a nubmer representing the average length. Remove all punctuation. Round up to the nearest whole number.\n",
        "\n",
        "**Input Format**\n",
        "\n",
        "A string countaining multiple words\n",
        "\n",
        "**Output Format**\n",
        "\n",
        "A number representing the average length of each word, rounded up to the nearest whole number.\n",
        "\n",
        "**Sample Input:**\n",
        "\n",
        "This phrases has multiple words.\n",
        "\n",
        "**Sample output:**\n",
        "\n",
        "6\n",
        "\n",
        "**Explanation**\n",
        "\n",
        "The string in questions has five words iwht a total of 26 letters (spaces do not count).\n",
        "The average word length is 5.20 letters, rounding it up to the nearest whole numbers results in 6"
      ]
    },
    {
      "cell_type": "code",
      "metadata": {
        "colab": {
          "base_uri": "https://localhost:8080/"
        },
        "id": "Q_n0QI7xgVtW",
        "outputId": "d8e8309c-fc9f-4b8e-b03c-bf8a1db41eee"
      },
      "source": [
        "from math import ceil\n",
        "\n",
        "\n",
        "def find_average(words):\n",
        "  letter = 0\n",
        "  avg_words = 0\n",
        "  split_words = words.split(\" \")\n",
        "  for word in split_words:\n",
        "    for l in word:\n",
        "      if l.isalpha():\n",
        "        letter +=  1\n",
        "  words_in_sentence = len(split_words)\n",
        "  avg_words = letter/words_in_sentence\n",
        "  return ceil(avg_words)\n",
        "\n",
        "\n",
        "sentence = input(\"Write an essay here: \")\n",
        "find_average(sentence)"
      ],
      "execution_count": null,
      "outputs": [
        {
          "output_type": "stream",
          "text": [
            "Write an essay here: This phrases has multiple words\n"
          ],
          "name": "stdout"
        },
        {
          "output_type": "execute_result",
          "data": {
            "text/plain": [
              "6"
            ]
          },
          "metadata": {
            "tags": []
          },
          "execution_count": 31
        }
      ]
    },
    {
      "cell_type": "code",
      "metadata": {
        "colab": {
          "base_uri": "https://localhost:8080/"
        },
        "id": "ogh-rlZjoaCV",
        "outputId": "e90d2005-69ff-449c-f84d-b6481e73e065"
      },
      "source": [
        "from math import ceil\n",
        "\n",
        "\n",
        "def find_average(words):\n",
        "  letter = 0\n",
        "  word_count = 0\n",
        "  for i in range(len(words)):\n",
        "    for j in range(len(words[i])):\n",
        "      if (words[i][j] != '?'):\n",
        "        letter += 1\n",
        "    word_count += 1\n",
        "  average = letter/word_count\n",
        "  return ceil(average)\n",
        "\n",
        "\n",
        "sentence = input(\"Write an essay here: \").split()\n",
        "find_average(sentence)"
      ],
      "execution_count": null,
      "outputs": [
        {
          "output_type": "stream",
          "text": [
            "Write an essay here: This phrases has multiple words.\n"
          ],
          "name": "stdout"
        },
        {
          "output_type": "execute_result",
          "data": {
            "text/plain": [
              "6"
            ]
          },
          "metadata": {
            "tags": []
          },
          "execution_count": 32
        }
      ]
    },
    {
      "cell_type": "markdown",
      "metadata": {
        "id": "oyaMiOdBhApX"
      },
      "source": [
        "**The Spy Life**\n",
        "\n",
        "You are a secret agent, and you receive an encrypted message that needs to be decoded. The code that is being used flips the message backwards and inserts non-alphabetic characters in the message to make it hard to decipher.\n",
        "\n",
        "**Task**\n",
        "\n",
        "Create a program that will take the encoded message, filp it around, remove any characters that are not a letter or a space, and output the hidden message\n",
        "\n",
        "**Input Format**\n",
        "\n",
        "A string of characters that represent the encoded message.\n",
        "\n",
        "**Output Format**\n",
        "\n",
        "A string of character that represent the intended secret message.\n",
        "\n",
        "**Sample Input:**\n",
        "\n",
        "d89%l++5r190o7W*o=l645le9H\n",
        "\n",
        "**Sample Output:**\n",
        "\n",
        "HelloWorld\n",
        "\n",
        "**Explanation**\n",
        "\n",
        "If you remove everything that isn't a letter or space from the original message and flip it around, you get 'Hello world'"
      ]
    },
    {
      "cell_type": "code",
      "metadata": {
        "id": "dMvHDCbHo55q",
        "colab": {
          "base_uri": "https://localhost:8080/"
        },
        "outputId": "2445353f-ee7e-402d-8219-7b9b02c2abe6"
      },
      "source": [
        "def encode(msg):\n",
        "  secret = \"\"\n",
        "  for letter in msg:\n",
        "    if letter.isalpha():\n",
        "      secret += letter\n",
        "  secret = secret[::-1]\n",
        "  print(secret)\n",
        "\n",
        "\n",
        "message = input(\"the encoded message : \")\n",
        "encode(message)"
      ],
      "execution_count": null,
      "outputs": [
        {
          "output_type": "stream",
          "text": [
            "the encoded message : d89%l++5r190o7W*o=l645le9H\n",
            "HelloWorld\n"
          ],
          "name": "stdout"
        }
      ]
    },
    {
      "cell_type": "code",
      "metadata": {
        "colab": {
          "base_uri": "https://localhost:8080/"
        },
        "id": "ZgKxrymPoP5Z",
        "outputId": "423ae794-65eb-40be-90d2-c06946fd0128"
      },
      "source": [
        "import re\n",
        "\n",
        "def encode(msg):\n",
        "  secret = \"\"\n",
        "  secret = re.findall('[A-Za-z]', msg)\n",
        "  secret = secret[::-1]\n",
        "  print(\"\".join(secret))\n",
        "\n",
        "\n",
        "message = input(\"the encoded message : \")\n",
        "encode(message)"
      ],
      "execution_count": null,
      "outputs": [
        {
          "output_type": "stream",
          "text": [
            "the encoded message : d89%l++5r190o7W*o=l645le9H\n",
            "HelloWorld\n"
          ],
          "name": "stdout"
        }
      ]
    },
    {
      "cell_type": "code",
      "metadata": {
        "colab": {
          "base_uri": "https://localhost:8080/"
        },
        "id": "DZNG90jBk_Un",
        "outputId": "d079203a-f4e4-4c48-9dd8-345b63d82535"
      },
      "source": [
        "import string\n",
        "\n",
        "\n",
        "def encode(msg):\n",
        "  secret = \"\"\n",
        "  letter = \"\"\n",
        "  msg = msg[::-1]\n",
        "  special_char = string.punctuation # return all sets of punctuation\n",
        "  digit = string.digits # return all set of digit\n",
        "  letter = [i for i in msg if i not in special_char and i not in digit ]\n",
        "  secret = \"\".join(letter)\n",
        "  print(secret)\n",
        "  \n",
        "  \n",
        "message = input(\"the encoded message : \")\n",
        "encode(message) "
      ],
      "execution_count": null,
      "outputs": [
        {
          "output_type": "stream",
          "text": [
            "the encoded message : d89%l++5r190o7W*o=l645le9H\n",
            "HelloWorld\n"
          ],
          "name": "stdout"
        }
      ]
    },
    {
      "cell_type": "markdown",
      "metadata": {
        "id": "_6W-ugSLpXsf"
      },
      "source": [
        "**Military Time**\n",
        "\n",
        "You want to convert the time from a 12 hour clock to a 24 hour clock. If you are given the time on a 12 hour clock, you should output the time as it would appear on a 24 hour clock.\n",
        "\n",
        "**Task**\n",
        "\n",
        "Determine if the time you are given is AM or PM, then convert that value to the way that it would appear on a 24 hour clock\n",
        "\n",
        "**Input Format**\n",
        "\n",
        "A string that includes the time, then a space and the indicator for AM or PM\n",
        "\n",
        "**Output Format**\n",
        "\n",
        "A string that includes the time in a 24 hour format(XX:XX)\n",
        "\n",
        "**Sample Input:**\n",
        "\n",
        "1:15 PM\n",
        "\n",
        "**Sample Output:**\n",
        "\n",
        "13:15\n",
        "\n",
        "**Explanation**\n",
        "\n",
        "1:00 PM on a 12 hour clock is equivalent to 13:00 on a 24 hour clock."
      ]
    },
    {
      "cell_type": "code",
      "metadata": {
        "colab": {
          "base_uri": "https://localhost:8080/"
        },
        "id": "9AD0cHP8qSD6",
        "outputId": "ff91ff57-9236-46f5-d799-e840ef80758b"
      },
      "source": [
        "def clock(time):\n",
        "  totd = time.split()\n",
        "  hand = totd[0].split(\":\")\n",
        "  hour = hand[0]\n",
        "  minute = hand[1]\n",
        "  twentyfour = 0\n",
        "  if totd[-1] == \"AM\":\n",
        "    twentyfour = hour\n",
        "  else:\n",
        "    twentyfour = int(hour) + 12\n",
        "  print(f\"{twentyfour:>2}:{minute}\")\n",
        "\n",
        "\n",
        "time = input(\"Enter your time : \")\n",
        "clock(time)"
      ],
      "execution_count": null,
      "outputs": [
        {
          "output_type": "stream",
          "text": [
            "Enter your time : 1:15 PM\n",
            "13:15\n"
          ],
          "name": "stdout"
        }
      ]
    },
    {
      "cell_type": "code",
      "metadata": {
        "colab": {
          "base_uri": "https://localhost:8080/"
        },
        "id": "ksWgTMtCv8EX",
        "outputId": "1f3fc499-5fd8-4434-875e-f1eb14691f0c"
      },
      "source": [
        "def clock(time):\n",
        "  totd = time[-2]\n",
        "  ind = time.index(\":\")\n",
        "  hour = int(time[:ind])\n",
        "  if (totd == \"A\"):\n",
        "    if (hour == 12):\n",
        "      print(\"00\" + time[hand:-2])\n",
        "    else:\n",
        "      print(str(hour).zfill(2)+time[ind:-2]) # zfill() method pads string on the left with zeros to fill width\n",
        "  else:\n",
        "    if (hour == 12):\n",
        "      print(time[:-2])\n",
        "    else:\n",
        "      print(str(hour+12)+time[ind:-2])\n",
        "\n",
        "\n",
        "time = input(\"Enter your time : \")\n",
        "clock(time)"
      ],
      "execution_count": null,
      "outputs": [
        {
          "output_type": "stream",
          "text": [
            "Enter your time : 1:15 PM\n",
            "13:15 \n"
          ],
          "name": "stdout"
        }
      ]
    },
    {
      "cell_type": "markdown",
      "metadata": {
        "id": "Gfl9KUj3yg3g"
      },
      "source": [
        "**No Numerals**\n",
        "\n",
        "You write a phrase and include a lot of number characters (0-9), but you decide that for numbers 10 and under you would rather write the word out instead. Can you go in and edit your phrase to write out the name of each number instead of using the numeral?\n",
        "\n",
        "**Task**\n",
        "\n",
        "Take a phrase and replace any instances of an integer from 0 - 10 and replace it with the English word that corresponds to that integer.\n",
        "\n",
        "**Input Format**\n",
        "\n",
        "A string of the phrase in its original from (lowercase)\n",
        "\n",
        "**Output Format**\n",
        "\n",
        "A string of the updated phrase that has changed the numerals to words.\n",
        "\n",
        "**Sample Input:**\n",
        "\n",
        "I need 2 pumpkins and 3 apples\n",
        "\n",
        "**Sample Outout:**\n",
        "\n",
        "I need two pumkins and Three apples\n",
        "\n",
        "**Explanation**\n",
        "\n",
        "You would update the phrase to change '2' to 'two\" and '3' to 'three'"
      ]
    },
    {
      "cell_type": "code",
      "metadata": {
        "colab": {
          "base_uri": "https://localhost:8080/",
          "height": 52
        },
        "id": "SUSU_4e7ygS-",
        "outputId": "30d57525-76a3-4816-be1d-9c963b21c436"
      },
      "source": [
        "def digit_to_letter(sentence):\n",
        "  sentence = sentence.split()\n",
        "  numbers = { '0': \"zero\", '1': \"one\", '2': \"two\", '3': \"Three\", '4': \"four\", '5': \"five\", '6': \"six\", '7': \"seven\", '8': \"eight\", '9': \"nine\", '10': \"ten\",}\n",
        "  new_sentence = \"\"\n",
        "  for word in sentence:\n",
        "    if word in numbers:\n",
        "      new_sentence += numbers.get(word) + \" \"\n",
        "    else:\n",
        "        new_sentence += word + \" \"\n",
        "  return new_sentence\n",
        "\n",
        "\n",
        "phrase = input(\"Enter your phrase : \")\n",
        "digit_to_letter(phrase)"
      ],
      "execution_count": null,
      "outputs": [
        {
          "output_type": "stream",
          "text": [
            "Enter your phrase : I need 2 pumpkins and 3 apples\n"
          ],
          "name": "stdout"
        },
        {
          "output_type": "execute_result",
          "data": {
            "application/vnd.google.colaboratory.intrinsic+json": {
              "type": "string"
            },
            "text/plain": [
              "'I need two pumpkins and Three apples '"
            ]
          },
          "metadata": {
            "tags": []
          },
          "execution_count": 36
        }
      ]
    },
    {
      "cell_type": "code",
      "metadata": {
        "colab": {
          "base_uri": "https://localhost:8080/",
          "height": 52
        },
        "id": "W7vwDw_j6WnO",
        "outputId": "7b39a055-4e94-48c9-8f4e-1ea2f6a0a7d8"
      },
      "source": [
        "def digit_to_letter(sentence):\n",
        "  new_sentence = \"\"\n",
        "  numbers = { '0': \"zero\", '1': \"one\", '2': \"two\", '3': \"Three\", '4': \"four\", '5': \"five\", '6': \"six\", '7': \"seven\", '8': \"eight\", '9': \"nine\", '10': \"ten\",}\n",
        "  for word in sentence.split():\n",
        "    new_sentence += (numbers.get(word,word) + \" \")\n",
        "  return new_sentence\n",
        "\n",
        "\n",
        "phrase = input(\"Enter your phrase : \")\n",
        "digit_to_letter(phrase)"
      ],
      "execution_count": null,
      "outputs": [
        {
          "output_type": "stream",
          "text": [
            "Enter your phrase : I need 2 pumpkins and 3 apples\n"
          ],
          "name": "stdout"
        },
        {
          "output_type": "execute_result",
          "data": {
            "application/vnd.google.colaboratory.intrinsic+json": {
              "type": "string"
            },
            "text/plain": [
              "'I need two pumpkins and Three apples '"
            ]
          },
          "metadata": {
            "tags": []
          },
          "execution_count": 37
        }
      ]
    },
    {
      "cell_type": "markdown",
      "metadata": {
        "id": "zsKlzuaY7ZhF"
      },
      "source": [
        "**Symbols**\n",
        "\n",
        "This is a problem with your keyboard: if randomly writes symbols when you are typing a text. You need to clean up the text by removing all symbols.\n",
        "\n",
        "**Task**\n",
        "\n",
        "Take a text that includes some random symbols and translate it into a text that has none of them. The resulting text should only incluede letters and numbers.\n",
        "\n",
        "**Input Format**\n",
        "\n",
        "A string with random symbols\n",
        "\n",
        "**Output Format**\n",
        "\n",
        "A string of the text with all the symbols removed.\n",
        "\n",
        "**Sample Input:**\n",
        "\n",
        "\\# l $ e % t s go @ a n # d @ @ g * * et # l # unch$$\n",
        "\n",
        "**Sample Output:**\n",
        "\n",
        "letsgoandgetlunch\n",
        "\n",
        "**Explanation**\n",
        "\n",
        "If you take out every symbol and leave only The letters and numbers, Your text says 'lets go and get lunch!.\n"
      ]
    },
    {
      "cell_type": "code",
      "metadata": {
        "colab": {
          "base_uri": "https://localhost:8080/",
          "height": 52
        },
        "id": "_XKe0YUQ80D1",
        "outputId": "c3421e36-aafd-4884-d2d2-3c8dfdadfa4b"
      },
      "source": [
        "import re\n",
        "\n",
        "def remove_symbols(sentence):\n",
        "  new_sentence = \"\"\n",
        "  new_sentence = re.findall('[A-Za-z0-9]', sentence)\n",
        "  return \"\".join(new_sentence)\n",
        "\n",
        "\n",
        "phrase = input(\"Enter your phrase : \")\n",
        "remove_symbols(phrase)"
      ],
      "execution_count": null,
      "outputs": [
        {
          "output_type": "stream",
          "text": [
            "Enter your phrase : # l $ e % t s go @ a n # d @ @ g * * et # l # unch$$\n"
          ],
          "name": "stdout"
        },
        {
          "output_type": "execute_result",
          "data": {
            "application/vnd.google.colaboratory.intrinsic+json": {
              "type": "string"
            },
            "text/plain": [
              "'letsgoandgetlunch'"
            ]
          },
          "metadata": {
            "tags": []
          },
          "execution_count": 30
        }
      ]
    },
    {
      "cell_type": "code",
      "metadata": {
        "colab": {
          "base_uri": "https://localhost:8080/",
          "height": 52
        },
        "id": "Cv7IG5zx-S_V",
        "outputId": "40c7fa38-c244-4dba-a618-f6b6dfec8eec"
      },
      "source": [
        "import string\n",
        "\n",
        "def remove_symbols(sentence):\n",
        "  letter_dic = string.ascii_lowercase\n",
        "  letter_dic += string.ascii_uppercase\n",
        "  letter_dic += \"0123456789\"\n",
        "  new_sentence = \"\"\n",
        "  for letter in range(0,len(sentence)):\n",
        "    if sentence[letter] in letter_dic:\n",
        "      new_sentence += sentence[letter]\n",
        "  return new_sentence\n",
        "\n",
        "\n",
        "phrase = input(\"Enter your phrase : \")\n",
        "remove_symbols(phrase)"
      ],
      "execution_count": null,
      "outputs": [
        {
          "output_type": "stream",
          "text": [
            "Enter your phrase : # l $ e % t s go @ a n # d @ @ g * * et # l # unch$$\n"
          ],
          "name": "stdout"
        },
        {
          "output_type": "execute_result",
          "data": {
            "application/vnd.google.colaboratory.intrinsic+json": {
              "type": "string"
            },
            "text/plain": [
              "'letsgoandgetlunch'"
            ]
          },
          "metadata": {
            "tags": []
          },
          "execution_count": 38
        }
      ]
    },
    {
      "cell_type": "markdown",
      "metadata": {
        "id": "tSXc26FuAk4t"
      },
      "source": [
        "**Convert US date to EU date**\n",
        "\n",
        "You and your friends are going to Europe! You have made plans to travel around Europe with your friends, but one thing you need ot take into account so that everything goes according to play, is  that the format of their date is different than from what is used in the United States. Your Job is to convert all your dates from MM/DD/YYYY to DD/MM/YYYY\n",
        "\n",
        "**Task**\n",
        "\n",
        "Create a function that takes in a string containing a date that is in US format, and return a string of the same date converted to EU.\n",
        "\n",
        "**Input Format**\n",
        "\n",
        "A string that contains a date formatting 11/19/2019 or November 19, 2019\n",
        "\n",
        "**Output Format**\n",
        "\n",
        "A string of the same date but in a different format : 19/11/2019\n",
        "\n",
        "**Sample Input:**\n",
        "\n",
        "7/26/2019\n",
        "\n",
        "**Sample Output:**\n",
        "\n",
        "26/7/2019\n",
        "\n",
        "\n",
        "**Note** \n",
        "\n",
        "that the input can be in two different formats, 11/19/2019 or November 19, 2019\n"
      ]
    },
    {
      "cell_type": "code",
      "metadata": {
        "colab": {
          "base_uri": "https://localhost:8080/",
          "height": 52
        },
        "id": "DYA0zFpwCBYe",
        "outputId": "fbdd8392-3c9d-4f08-ff77-86e0ddbe6c7e"
      },
      "source": [
        "def time_convert(time):\n",
        "  newtime = \"\"\n",
        "  date =  \"\"\n",
        "  month = \"\"\n",
        "  year = \"\"\n",
        "  months = {\"January\": \"1\", \"Febuary\": \"2\", \"March\": \"3\", \"April\": \"4\", \n",
        "            \"May\": \"5\", \"June\": \"6\", \"July\": \"7\", \"August\" : \"8\", \n",
        "            \"September\": \"9\", \"October\": \"10\", \"November\": \"11\", \"December\": \"12\",}      \n",
        "  if \"/\" in time:\n",
        "    month, date, year = time.split(\"/\")\n",
        "  else:\n",
        "    newtime = time.split(\",\")\n",
        "    year = newtime[1].strip()\n",
        "    del newtime[-1]\n",
        "    newtime = newtime[0].split(\" \")\n",
        "    date = newtime[1]\n",
        "    if newtime[0] in months:\n",
        "      month = months[newtime[0]]\n",
        "  return (f\"{date}/{month}/{year}\")\n",
        "\n",
        "\n",
        "time = input(\"Enter your time :\")\n",
        "time_convert(time)"
      ],
      "execution_count": null,
      "outputs": [
        {
          "output_type": "stream",
          "text": [
            "Enter your time :November 19, 2019\n"
          ],
          "name": "stdout"
        },
        {
          "output_type": "execute_result",
          "data": {
            "application/vnd.google.colaboratory.intrinsic+json": {
              "type": "string"
            },
            "text/plain": [
              "'19/11/2019'"
            ]
          },
          "metadata": {
            "tags": []
          },
          "execution_count": 39
        }
      ]
    },
    {
      "cell_type": "code",
      "metadata": {
        "colab": {
          "base_uri": "https://localhost:8080/",
          "height": 52
        },
        "id": "rm3ZhTqc1qQE",
        "outputId": "3e04b7d0-dbed-4516-ab58-e3bc5a7ef9d1"
      },
      "source": [
        "def time_convert(time):\n",
        "  date = 0\n",
        "  month = 0\n",
        "  year = 0\n",
        "  months = { 1: \"January\", 2: \"Febuary\", 3: \"March\", 4: \"April\", \n",
        "             5: \"May\", 6: \"June\", 7: \"July\", 8: \"August\", \n",
        "             9: \"September\",10: \"October\",11: \"November\",12: \"December\",}\n",
        "  if (\"/\" in time):\n",
        "    date = time.split(\"/\")\n",
        "    (date[0], date[1]) = (date[1], date[0])\n",
        "    return (f\"{date[0]}/{date[1]}/{date[2]}\")\n",
        "  else:\n",
        "    for i in range(1,13):\n",
        "      if months[i] in time:\n",
        "        time = time.split(',')\n",
        "        year = time[1].strip()\n",
        "        month = i\n",
        "        date = (time[0].split())[1]\n",
        "    return (f\"{date}/{month}/{year}\")\n",
        "\n",
        "\n",
        "time = input(\"Enter your time :\")\n",
        "time_convert(time)"
      ],
      "execution_count": null,
      "outputs": [
        {
          "output_type": "stream",
          "text": [
            "Enter your time :November 19, 2019\n"
          ],
          "name": "stdout"
        },
        {
          "output_type": "execute_result",
          "data": {
            "application/vnd.google.colaboratory.intrinsic+json": {
              "type": "string"
            },
            "text/plain": [
              "'19/11/2019'"
            ]
          },
          "metadata": {
            "tags": []
          },
          "execution_count": 40
        }
      ]
    },
    {
      "cell_type": "markdown",
      "metadata": {
        "id": "9N3nogsO9KZh"
      },
      "source": [
        "**Deja Vu**\n",
        "\n",
        "You aren't paying attention and you accidentally type a bunch of random letters on your keyboard. You want to know if you ever typed the same letter twice, or if they are all unique letters.\n",
        "\n",
        "**Task**\n",
        "\n",
        "If you are given a string of random letters, you task is to evaluate whether any letter is repeated in the string of if you only hit unique keys while you typing.\n",
        "\n",
        "**Input Format**\n",
        "\n",
        "A string of random letter characters (no numbers or other buttons were pressed)\n",
        "\n",
        "**Output Format**\n",
        "\n",
        "A string that say \"Deja Vu\" if any letter is repented in the input string, or a string that says \"Unique\" if there are no repeats.\n",
        "\n",
        "**Sample Input:**\n",
        "\n",
        "aaaaaaajhhhjkll\n",
        "\n",
        "**Sample Output:**\n",
        "\n",
        "Deja Vu\n",
        "\n",
        "**Explanation**\n",
        "\n",
        "Your program should output \"Deja Vu\" because there are many repetitions in \"aaaaaaajhhhjkll\"."
      ]
    },
    {
      "cell_type": "code",
      "metadata": {
        "colab": {
          "base_uri": "https://localhost:8080/"
        },
        "id": "ZJjO4d5g-Sn3",
        "outputId": "f07eb5b9-638c-4a1e-98fc-ed3a303b344c"
      },
      "source": [
        "def check_repeat(words):\n",
        "  check_string = ''\n",
        "  for letter in words:\n",
        "    if letter not in check_string:\n",
        "      check_string += letter\n",
        "      result = \"Unique\"\n",
        "    else:\n",
        "      result = \"Deja Vu\"\n",
        "      break\n",
        "  print(result)\n",
        "    \n",
        "    \n",
        "words = input(\"Enter your words : \")\n",
        "check_repeat(words)"
      ],
      "execution_count": null,
      "outputs": [
        {
          "output_type": "stream",
          "text": [
            "Enter your words : Sunday Saturday\n",
            "Deja Vu\n"
          ],
          "name": "stdout"
        }
      ]
    },
    {
      "cell_type": "code",
      "metadata": {
        "colab": {
          "base_uri": "https://localhost:8080/"
        },
        "id": "1tOmwg8QIa9a",
        "outputId": "eb9d52a1-8224-4857-976b-c13b6be9a20d"
      },
      "source": [
        "def check_repeat(words):\n",
        "  check_string = set(words)\n",
        "  if len(words) > len(check_string):\n",
        "    print(\"Deja Vu\")\n",
        "  else:\n",
        "    print(\"Unique\")\n",
        "\n",
        "\n",
        "words = input(\"Enter your words : \")\n",
        "check_repeat(words)"
      ],
      "execution_count": null,
      "outputs": [
        {
          "output_type": "stream",
          "text": [
            "Enter your words : Sunday Saturday\n",
            "Deja Vu\n"
          ],
          "name": "stdout"
        }
      ]
    },
    {
      "cell_type": "markdown",
      "metadata": {
        "id": "ULG35L6kDJMA"
      },
      "source": [
        "**New Driver's License**\n",
        "\n",
        "You have to get a new driver's license and you show up at the office at the same time as 4 other people. The office says that they will see everyone in alphabetical order and it takes 20 minutes for them to process each new license. All of the agents are available now, and they can each see one customer at a time. How long will it take for you to walk out of the office with your new license?\n",
        "\n",
        "**Task**\n",
        "\n",
        "Given everyone's name that showed up at the same time, determine how long it will take to get your new license.\n",
        "\n",
        "**Input Format**\n",
        "\n",
        "Your input will be a string of your name, then an integer of the number of available agents, and lastly a string of the other four names separated by spaces.\n",
        "\n",
        "**Output Format**\n",
        "\n",
        "You will output an integer of the number of minutes that it will take to get your license.\n",
        "\n",
        "**Sample Input**\n",
        "\n",
        "\"Eric\"\n",
        "\n",
        "2\n",
        "\n",
        "\"Adam Caroline Rebecca Frank\"\n",
        "\n",
        "**Sample Output**\n",
        "\n",
        "40\n",
        "\n",
        "**Explanation**\n",
        "\n",
        "It will take 40 minutes to get your license because you are in the second group of two to be seen by one of the two available agents"
      ]
    },
    {
      "cell_type": "code",
      "metadata": {
        "colab": {
          "base_uri": "https://localhost:8080/"
        },
        "id": "tJ0u8zU7EaK6",
        "outputId": "05ee979b-9947-45ab-b1a5-378b889b9926"
      },
      "source": [
        "def time_waiting(name, agent, group):\n",
        "  wait = 0\n",
        "  position = 0 # first position is 0 \n",
        "  group = group.split() \n",
        "  group.append(name)\n",
        "  #print(group)\n",
        "  # Bubble Sort\n",
        "  n = len(group)                                # 5 names\n",
        "  for i in range(n-1):                          # i = 0,...,4\n",
        "    for j in range(0, n-i-1):                   # j = 0,...,3\n",
        "      if group[j] > group[j+1]:                 # [name0 name1 name2 name3 name4]\n",
        "        group[j], group[j+1] = group[j+1], group[j] \n",
        "        #print(group)\n",
        "  for n in group:\n",
        "    if n == name:\n",
        "      break\n",
        "    else:\n",
        "      position += 1\n",
        "  #print(group)\n",
        "  wait = int(((position//agent)*20)+20)\n",
        "  return wait\n",
        "  \n",
        "\n",
        "name = input(\"Enter your name : \")\n",
        "agent = int(input(\"Enter number of agents : \"))\n",
        "group = input(\"Enter names of other four people : \")\n",
        "time_waiting(name, agent, group)"
      ],
      "execution_count": null,
      "outputs": [
        {
          "output_type": "stream",
          "text": [
            "Enter your name : Eric\n",
            "Enter number of agents : 2\n",
            "Enter names of other four people : Adam Caroline Rebecca Frank\n"
          ],
          "name": "stdout"
        },
        {
          "output_type": "execute_result",
          "data": {
            "text/plain": [
              "40"
            ]
          },
          "metadata": {
            "tags": []
          },
          "execution_count": 44
        }
      ]
    },
    {
      "cell_type": "code",
      "metadata": {
        "colab": {
          "base_uri": "https://localhost:8080/"
        },
        "id": "5FA4MvLoV-Y1",
        "outputId": "67cec6dc-bd5f-42fa-a577-89bc350583f0"
      },
      "source": [
        "def time_waiting(name, agent, group):\n",
        "  wait = 0\n",
        "  position =0\n",
        "  group = group.split()\n",
        "  group.append(name)\n",
        "  group.sort()\n",
        "  for i in range(0, len(group)):\n",
        "    if group[i] == name:\n",
        "      print((int(i/agent)*20)+20)\n",
        "\n",
        "      \n",
        "name = input(\"Enter your name : \")\n",
        "agent = int(input(\"Enter number of agents : \"))\n",
        "group = input(\"Enter names of other four people : \")\n",
        "time_waiting(name, agent, group)"
      ],
      "execution_count": null,
      "outputs": [
        {
          "output_type": "stream",
          "text": [
            "Enter your name : Eric\n",
            "Enter number of agents : 2\n",
            "Enter names of other four people : Adam Caroline Rebecca Frank\n",
            "40\n"
          ],
          "name": "stdout"
        }
      ]
    },
    {
      "cell_type": "markdown",
      "metadata": {
        "id": "PVLL5KslXMTN"
      },
      "source": [
        "**Password Validation**\n",
        "\n",
        "You're interviewing to join a security team. They want to see you build a password evaluator for your technical interview to validate the input\n",
        "\n",
        "**Task**\n",
        "\n",
        "Write a program that takes in a string as input and evaluates it as a valid password. The password is valid if it has a minimum 2 numbers, 2 of the following special characters ('!', '@', '#', '\\$', '%', '&', '*'), and a length of at least 7 characters. If the password passes the check, output 'Strong' else output 'Weak'.\n",
        "\n",
        "**Input Format**\n",
        "\n",
        "A string representing the password to evaluate\n",
        "\n",
        "**Output Format**\n",
        "\n",
        "A string that says 'Strong' if the input meets the requirements, or 'Weak' if not\n",
        "\n",
        "**Sample Input:**\n",
        "\n",
        "Hello@$World19\n",
        "\n",
        "**Sample Output:**\n",
        "\n",
        "Strong\n",
        "\n",
        "**Explanation**\n",
        "\n",
        "The password has 2 numbers, 2 of the defined special characters, and its length is 14, making it valid."
      ]
    },
    {
      "cell_type": "code",
      "metadata": {
        "id": "q8kLYkJMYkIj",
        "colab": {
          "base_uri": "https://localhost:8080/"
        },
        "outputId": "f0c67303-a09b-4311-c0a0-260c967ae0a7"
      },
      "source": [
        "def password_validation(password):\n",
        "  result = \"Weak\"\n",
        "  special_char = \"!@#$%&*\"\n",
        "  num = \"1234567890\"\n",
        "  special_char_count = 0\n",
        "  num_count = 0\n",
        "  for n in password:\n",
        "    if n in special_char:\n",
        "      special_char_count += 1\n",
        "  for n in password:\n",
        "    if n in num:\n",
        "      num_count += 1 \n",
        "  if len(password) > 7 and special_char_count >= 2 and num_count >= 2 :\n",
        "    result = \"Strong\"\n",
        "  else:\n",
        "    result = \"Weak\"\n",
        "  print(result)\n",
        "\n",
        "\n",
        "password = input(\"Please enter your password : \")\n",
        "password_validation(password)"
      ],
      "execution_count": null,
      "outputs": [
        {
          "output_type": "stream",
          "text": [
            "Please enter your password : Hello@$World19\n",
            "Strong\n"
          ],
          "name": "stdout"
        }
      ]
    },
    {
      "cell_type": "code",
      "metadata": {
        "colab": {
          "base_uri": "https://localhost:8080/"
        },
        "id": "Xp1wUyJXRuu5",
        "outputId": "69eea7eb-2011-44cd-a91f-5a36e9f7dff4"
      },
      "source": [
        "def password_validation(password):\n",
        "  letter = set(password.strip())\n",
        "  length = len(password)\n",
        "  alpha = []\n",
        "  digit = []\n",
        "  special = []\n",
        "  for i in range(length):\n",
        "    if password[i].isalpha():\n",
        "     alpha.append(password[i]) \n",
        "    elif password[i].isdigit():\n",
        "     digit.append(password[i])\n",
        "    else:\n",
        "     special.append(password[i])\n",
        "  if length >= 7 and len(alpha) >= 2 and len(digit) >= 2 and len(special) >= 2:\n",
        "    print(\"Strong\")\n",
        "  else:\n",
        "    print(\"Weak\")\n",
        " \n",
        "\n",
        "password = input(\"Please enter your password : \")\n",
        "password_validation(password)"
      ],
      "execution_count": null,
      "outputs": [
        {
          "output_type": "stream",
          "text": [
            "Please enter your password : Hello@$World19\n",
            "Strong\n"
          ],
          "name": "stdout"
        }
      ]
    },
    {
      "cell_type": "code",
      "metadata": {
        "colab": {
          "base_uri": "https://localhost:8080/"
        },
        "id": "ieg5o_M-Sojk",
        "outputId": "bf4764e1-415d-4ed3-b9fc-15f4ac3d672a"
      },
      "source": [
        "import re\n",
        "\n",
        "def password_validation(password):\n",
        "  result = \"Weak\"\n",
        "  num = r\"\\d{2,}\"\n",
        "  alpha = r\"[A-Za-z]{2,}\"\n",
        "  special_char = r\"[\\@\\#\\$\\%&\\*]{2,}\"\n",
        "  result = []\n",
        "  pattern = [num, alpha, special_char]\n",
        "  for i in pattern:\n",
        "    if re.search(i , password):\n",
        "      result.append(True)\n",
        "    else:\n",
        "      result.append(False)\n",
        "  if all(i == True for i in result):\n",
        "    print(\"Strong\")\n",
        "  else:\n",
        "    print(\"Weak\")\n",
        "  \n",
        "\n",
        "password = input(\"Please enter your password : \")\n",
        "password_validation(password)"
      ],
      "execution_count": null,
      "outputs": [
        {
          "output_type": "stream",
          "text": [
            "Please enter your password : Hello@$World19\n",
            "Strong\n"
          ],
          "name": "stdout"
        }
      ]
    },
    {
      "cell_type": "markdown",
      "metadata": {
        "id": "WdsZJGI-gZVf"
      },
      "source": [
        "**Security**\n",
        "\n",
        "You are in charge of security at a casino, and there is a thief who is trying to steal the casino's money! Look over the security diagrams to make sure that you always have a gurard between the thief and the money!\n",
        "\n",
        "There is one money location, one thief, and any number of guards on each floor of the casino\n",
        "\n",
        "**Task**\n",
        "\n",
        "Evaluate a given floor of the casino to determine if there is a guard between the money and the thief, if there is not, you will sound an alarm.\n",
        "\n",
        "**Input Format**\n",
        "\n",
        "A string of characters that includes \\$(money), T(Thief), G(guard), that represents the layout of the casino floor. Space on the casino floor that is not ocupied by either money, the thief, or a guard id represnted by the character X\n",
        "\n",
        "**Output Format**\n",
        "\n",
        "A string that says 'ALARM' if the money is danger or 'quiet' if the money is safe.\n",
        "\n",
        "**Sample Input:**\n",
        "\n",
        "XXXXXGXX\\$XXXT\n",
        "\n",
        "**Sample Output:**\n",
        "\n",
        "ALARM\n",
        "\n",
        "**Explanation**\n",
        "\n",
        "This input should set off the alarm because there is no guard between the money and the thief!"
      ]
    },
    {
      "cell_type": "code",
      "metadata": {
        "colab": {
          "base_uri": "https://localhost:8080/"
        },
        "id": "Qa3gNOO8kLkT",
        "outputId": "b2f6bc65-a2b9-40b7-9b1a-66db67c94879"
      },
      "source": [
        "def security(picture):\n",
        "  pattern = { \"G\":0 , \"$\":0 , \"T\":0}\n",
        "  for i in pattern:\n",
        "    for j in picture:\n",
        "      if i == j:\n",
        "        break\n",
        "      else:\n",
        "        pattern[i] += 1\n",
        "  #print(pattern)\n",
        "  if pattern[\"$\"] > pattern[\"G\"] > pattern[\"T\"] or pattern[\"T\"] > pattern[\"G\"] > pattern[\"$\"]:\n",
        "    print(\"quiet\")\n",
        "  else:\n",
        "    print(\"ALARM\") \n",
        "\n",
        "\n",
        "picture = input(\"Input picture layout of the casino floor : \")\n",
        "security(picture)"
      ],
      "execution_count": null,
      "outputs": [
        {
          "output_type": "stream",
          "name": "stdout",
          "text": [
            "Input picture layout of the casino floor : XXXXXGXX$XXXT\n",
            "ALARM\n"
          ]
        }
      ]
    },
    {
      "cell_type": "code",
      "metadata": {
        "colab": {
          "base_uri": "https://localhost:8080/"
        },
        "id": "jwnbEqpChlgS",
        "outputId": "b7105d9f-02e7-475b-ac86-eaf06cb4d6c7"
      },
      "source": [
        "import re\n",
        "\n",
        "def security(picture):\n",
        "  pattern = r\"(X*G*X*(X*TX*[$]X*)|(X*[$]X*TX*)X*G*X*)\"\n",
        "  if re.search(pattern, picture):\n",
        "    print(\"ALARM\")\n",
        "  else:\n",
        "    print(\"quiet\")\n",
        "\n",
        "\n",
        "picture = input(\"Input picture layout of the casino floor : \")\n",
        "security(picture)"
      ],
      "execution_count": null,
      "outputs": [
        {
          "output_type": "stream",
          "name": "stdout",
          "text": [
            "Input picture layout of the casino floor : XXXXXGXX$XXXT\n",
            "ALARM\n"
          ]
        }
      ]
    },
    {
      "cell_type": "markdown",
      "source": [
        "#<b>Reference</b>"
      ],
      "metadata": {
        "id": "SUWzUEQXLhXy"
      }
    },
    {
      "cell_type": "markdown",
      "source": [
        "Sololearn. https://www.sololearn.com"
      ],
      "metadata": {
        "id": "xDv6DbV4Ld6b"
      }
    },
    {
      "cell_type": "markdown",
      "source": [
        "Myself\n",
        "\n",
        "github:Niklaust"
      ],
      "metadata": {
        "id": "t0aOi_whRj7c"
      }
    }
  ]
}