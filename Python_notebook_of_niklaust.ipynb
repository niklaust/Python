{
  "nbformat": 4,
  "nbformat_minor": 0,
  "metadata": {
    "colab": {
      "provenance": [],
      "collapsed_sections": [],
      "authorship_tag": "ABX9TyO/evVZ1GROGyVkBJy+7TyR",
      "include_colab_link": true
    },
    "kernelspec": {
      "name": "python3",
      "display_name": "Python 3"
    },
    "language_info": {
      "name": "python"
    }
  },
  "cells": [
    {
      "cell_type": "markdown",
      "metadata": {
        "id": "view-in-github",
        "colab_type": "text"
      },
      "source": [
        "<a href=\"https://colab.research.google.com/github/niklaust/Python/blob/main/Python_notebook_of_niklaust.ipynb\" target=\"_parent\"><img src=\"https://colab.research.google.com/assets/colab-badge.svg\" alt=\"Open In Colab\"/></a>"
      ]
    },
    {
      "cell_type": "markdown",
      "source": [
        "<h1><center><b>Python</b></center></h1>"
      ],
      "metadata": {
        "id": "Apz1_Oqi1OUc"
      }
    },
    {
      "cell_type": "markdown",
      "source": [
        "github:niklaust"
      ],
      "metadata": {
        "id": "srDr5eUqhfpa"
      }
    },
    {
      "cell_type": "markdown",
      "source": [
        "#<b><center>1. Basic Concepts<center></b>"
      ],
      "metadata": {
        "id": "7NfuTNOS1bry"
      }
    },
    {
      "cell_type": "markdown",
      "source": [
        "**Python** is a **high-level programming language**, with applications in numerous areas, including: \n",
        "- web programming, \n",
        "- scripting, \n",
        "- scientific computing, and \n",
        "- artificial intelligence. \n",
        "\n",
        "It is very popular and used by organizations such as Google, NASA, the CIA and Disney."
      ],
      "metadata": {
        "id": "nGnpK9qr1stC"
      }
    },
    {
      "cell_type": "markdown",
      "source": [
        "**Printing Text**\n",
        "\n",
        "Let's start off by creating a short program that displays \"Hello world!\". \n",
        "\n",
        "In Python, we use **print** statment to output text.\n",
        "\n",
        "> print('text')\n",
        "\n",
        "\n",
        "The **print** statement needs to be followed by parentheses (), which enclose the output we want to generate."
      ],
      "metadata": {
        "id": "Mx0j6kOa14fb"
      }
    },
    {
      "cell_type": "code",
      "source": [
        "print('Hello world!')"
      ],
      "metadata": {
        "colab": {
          "base_uri": "https://localhost:8080/"
        },
        "id": "PO0QHm6d173z",
        "outputId": "8ba4ce10-bb77-4744-ebfd-669ea7d729a8"
      },
      "execution_count": null,
      "outputs": [
        {
          "output_type": "stream",
          "name": "stdout",
          "text": [
            "Hello world!\n"
          ]
        }
      ]
    },
    {
      "cell_type": "markdown",
      "source": [
        "**Printing Text**\n",
        "\n",
        "The **print** statement can also be used to output multiple lines of text\n",
        "\n",
        ">print('Hello world!')\n",
        "\n",
        ">print('Hello world!')\n",
        "\n",
        ">print('Spam and eggs...')\n",
        "\n",
        "Each print statement output text from a new line.\n",
        "\n",
        "Python code often contains references to the comedy group **Monty Python**. This is why the words, \"spam\" and \"eggs\" and often used as placeholder variables in Python \n",
        "\n",
        "where \"foo\" and \"bar\" would be used in other programming languages.\n"
      ],
      "metadata": {
        "id": "bPyQd-TI2Jz6"
      }
    },
    {
      "cell_type": "code",
      "source": [
        "print(\"A\")\n",
        "print(\"B\")\n",
        "print(\"C\")"
      ],
      "metadata": {
        "colab": {
          "base_uri": "https://localhost:8080/"
        },
        "id": "zFV5WOEV2Ma8",
        "outputId": "6f75000c-bac3-41a7-998a-3195e0a2d37d"
      },
      "execution_count": null,
      "outputs": [
        {
          "output_type": "stream",
          "name": "stdout",
          "text": [
            "A\n",
            "B\n",
            "C\n"
          ]
        }
      ]
    },
    {
      "cell_type": "markdown",
      "source": [
        "**Simple Operations**\n",
        "\n",
        "Python has the capability of carrying out calculations. \n",
        "\n",
        "Enter a calculation directly into the print statement:\n",
        "\n",
        ">print(2+2)\n",
        "\n",
        ">print(5 + 4 -3) \n",
        "\n",
        "The spaces around the plus and minus signs here are **optional** (the code would work without them) , but they make it easier to read."
      ],
      "metadata": {
        "id": "Bv4og0jV2ahD"
      }
    },
    {
      "cell_type": "code",
      "source": [
        "print(1+0+1+0)"
      ],
      "metadata": {
        "colab": {
          "base_uri": "https://localhost:8080/"
        },
        "id": "aPK7wB9x2dVa",
        "outputId": "d304f492-21c3-4c92-d537-2494d8d83b52"
      },
      "execution_count": null,
      "outputs": [
        {
          "output_type": "stream",
          "name": "stdout",
          "text": [
            "2\n"
          ]
        }
      ]
    },
    {
      "cell_type": "code",
      "source": [
        "print(1 + 2 + 3)\n",
        "print(1+2+3)  # without spaces around the mathematic signs"
      ],
      "metadata": {
        "colab": {
          "base_uri": "https://localhost:8080/"
        },
        "id": "hxd-GoF-2f0a",
        "outputId": "804952e6-7acb-4a17-8a3b-299cb3bee5e9"
      },
      "execution_count": null,
      "outputs": [
        {
          "output_type": "stream",
          "name": "stdout",
          "text": [
            "6\n",
            "6\n"
          ]
        }
      ]
    },
    {
      "cell_type": "markdown",
      "source": [
        "**Simple Operations**\n",
        "\n",
        "Python also carries out multiplication and division, using an **Asterisk** *   **/** to indicate division.\n",
        "\n",
        "Use **parentheses** to determine which operations are **performed first**.\n",
        "\n",
        "Using a sigle slash to divide numbers produces a decimal ( or **float**, as it called in programming). "
      ],
      "metadata": {
        "id": "h5ReFCW_29Wr"
      }
    },
    {
      "cell_type": "markdown",
      "source": [
        "<table>\n",
        "  <tr>\n",
        "    <th>Mathematic Symbol</th>\n",
        "    <th>Explanation</th>\n",
        "    <th>Example</th>\n",
        "  </tr>\n",
        "  <tr>\n",
        "    <td>+</td>\n",
        "    <td>Plus sign</br>use to indicate addition</td>\n",
        "    <td>2 + 3</td>\n",
        "  </tr>\n",
        "    <tr>\n",
        "    <td>-</td>\n",
        "    <td>Minus sign</br>use to indicate subtraction</td>\n",
        "    <td>9 - 4</td>\n",
        "  </tr>\n",
        "    </tr>\n",
        "    <tr>\n",
        "    <td>*</td>\n",
        "    <td>Asterisk</br>use to indicate multiplication</td>\n",
        "    <td>8 * 7</td>\n",
        "  </tr>\n",
        "  </tr>\n",
        "    <tr>\n",
        "    <td>/</td>\n",
        "    <td>forward slash</br>use to indicate division</td>\n",
        "    <td>5 / 1</td>\n",
        "  </tr>\n",
        "  </tr>\n",
        "    <tr>\n",
        "    <td>%</td>\n",
        "    <td>modulo (mod)</br>return the remainder of dividing</td>\n",
        "    <td>10 % 6</td>\n",
        "  </tr>\n",
        "</table>"
      ],
      "metadata": {
        "id": "j7pUS6Kz3MLS"
      }
    },
    {
      "cell_type": "code",
      "source": [
        "# Simple Operations \n",
        "\n",
        "# Write a program that will multiply the sum of 5 and 6 by 10\n",
        "\n",
        "print((5 + 6)*10)"
      ],
      "metadata": {
        "colab": {
          "base_uri": "https://localhost:8080/"
        },
        "id": "kIRPIaiA3FMU",
        "outputId": "2496884f-3862-4c14-a48c-b516b922e9ca"
      },
      "execution_count": null,
      "outputs": [
        {
          "output_type": "stream",
          "name": "stdout",
          "text": [
            "110\n"
          ]
        }
      ]
    },
    {
      "cell_type": "code",
      "source": [
        "print((4+8)/2)"
      ],
      "metadata": {
        "colab": {
          "base_uri": "https://localhost:8080/"
        },
        "id": "dLTrFgb-3HUy",
        "outputId": "8b814cc5-9626-4a34-b876-09ae5464445d"
      },
      "execution_count": null,
      "outputs": [
        {
          "output_type": "stream",
          "name": "stdout",
          "text": [
            "6.0\n"
          ]
        }
      ]
    },
    {
      "cell_type": "code",
      "source": [
        "print(7%3)"
      ],
      "metadata": {
        "colab": {
          "base_uri": "https://localhost:8080/"
        },
        "id": "vDE6tDAk8TKi",
        "outputId": "f5cdda59-6b4f-4135-f1aa-9e2d9e428727"
      },
      "execution_count": null,
      "outputs": [
        {
          "output_type": "stream",
          "name": "stdout",
          "text": [
            "1\n"
          ]
        }
      ]
    },
    {
      "cell_type": "markdown",
      "source": [
        "**Floats**\n",
        "\n",
        "**Floats** are used in Python to represent numbers that **aren't integers**(whole numbers).\n",
        "\n",
        "Some examples of numbers that are represented as floats are 0.5 and -7.8237591\n",
        "\n",
        "They can be created directly by \n",
        "- entering a number with a decimal point, \n",
        "\n",
        "> print(0.42)\n",
        "\n",
        "- or by using operations such as division on integers.\n",
        "\n",
        "> print(3/4)\n",
        "\n",
        "Computers can't store floats perfectly accurately, in the same way that we can't write down the complete decimal expansion of 1/3 ( 0.3333333333333333333...). \n",
        "Keep this in mind, because it often leads to infuriating bugs!"
      ],
      "metadata": {
        "id": "KiRZXYF9_3cC"
      }
    },
    {
      "cell_type": "markdown",
      "source": [
        "**Floats**\n",
        "\n",
        "As you saw previously, \n",
        "\n",
        "- dividing any two integers produces a **float**. \n",
        "\n",
        "> print(8/2)\n",
        "\n",
        "- A float is also produced by running an operation on two floats, or \n",
        "\n",
        "> print(6.0 * 7.0)\n",
        "\n",
        "- on a float and an integer.\n",
        "\n",
        "> print( 4 + 1.65)\n",
        "\n",
        "A float can be added to an integer, because Python silently converts the integer to a float."
      ],
      "metadata": {
        "id": "K8JizO4nAKzD"
      }
    },
    {
      "cell_type": "code",
      "source": [
        "print(5/1)\n",
        "\n",
        "print(6.0*7.0)\n",
        "\n",
        "print(4.5+1.5 )"
      ],
      "metadata": {
        "colab": {
          "base_uri": "https://localhost:8080/"
        },
        "id": "zavw89mtAlyV",
        "outputId": "bbea3c52-7468-4021-c953-5017203b9922"
      },
      "execution_count": null,
      "outputs": [
        {
          "output_type": "stream",
          "name": "stdout",
          "text": [
            "5.0\n",
            "42.0\n",
            "6.0\n"
          ]
        }
      ]
    },
    {
      "cell_type": "markdown",
      "source": [
        "**Floats**\n",
        "\n",
        "As you saw previously, \n",
        "\n",
        "- dividing any two integers produces a **float**. \n",
        "\n",
        "> print(8/2)\n",
        "\n",
        "- A float is also produced by running an operation on two floats, or \n",
        "\n",
        "> print(6.0 * 7.0)\n",
        "\n",
        "- on a float and an integer.\n",
        "\n",
        "> print( 4 + 1.65)\n",
        "\n",
        "A float can be added to an integer, because Python silently converts the integer to a float."
      ],
      "metadata": {
        "id": "GNAmgZ14Ail1"
      }
    },
    {
      "cell_type": "code",
      "source": [
        "print(1 + 2 + 3 + 4.0 + 5)"
      ],
      "metadata": {
        "colab": {
          "base_uri": "https://localhost:8080/"
        },
        "id": "jR0yqUEXA77r",
        "outputId": "3f6a2a94-e8f0-42ff-fdff-885e31314eb6"
      },
      "execution_count": null,
      "outputs": [
        {
          "output_type": "stream",
          "name": "stdout",
          "text": [
            "15.0\n"
          ]
        }
      ]
    },
    {
      "cell_type": "markdown",
      "source": [
        "**Exponentiation**\n",
        "\n",
        "Besides addition, subtraction, multiplication, and division, Python also supports **exponentiation**, which is the raising of one number to the power of another. \n",
        "\n",
        "This operation is performed **using two asterisks**.\n",
        "\n",
        "> print(2**5)\n",
        "\n",
        "You can chain exponentiations together. In other words, you can rise a number to multiple powers. \n",
        "\n",
        "\n",
        "For example, 2 ** 3 ** 2"
      ],
      "metadata": {
        "id": "knKo2WzoBDjr"
      }
    },
    {
      "cell_type": "code",
      "source": [
        "print(5**3)"
      ],
      "metadata": {
        "colab": {
          "base_uri": "https://localhost:8080/"
        },
        "id": "tSC2o2FSBGbD",
        "outputId": "941cc8aa-ac49-48c7-8b1e-4f1c2a161ea2"
      },
      "execution_count": null,
      "outputs": [
        {
          "output_type": "stream",
          "name": "stdout",
          "text": [
            "125\n"
          ]
        }
      ]
    },
    {
      "cell_type": "code",
      "source": [
        "print(2**3**2)"
      ],
      "metadata": {
        "colab": {
          "base_uri": "https://localhost:8080/"
        },
        "id": "uVsRcUj6BIcr",
        "outputId": "a6bb8e08-9202-42d1-fb30-024a189ad185"
      },
      "execution_count": null,
      "outputs": [
        {
          "output_type": "stream",
          "name": "stdout",
          "text": [
            "512\n"
          ]
        }
      ]
    },
    {
      "cell_type": "code",
      "source": [
        "print(2**9)"
      ],
      "metadata": {
        "colab": {
          "base_uri": "https://localhost:8080/"
        },
        "id": "9jK8zbmwBKt7",
        "outputId": "56ebcc0c-82bb-457e-c5ed-a6d02d3264db"
      },
      "execution_count": null,
      "outputs": [
        {
          "output_type": "stream",
          "name": "stdout",
          "text": [
            "512\n"
          ]
        }
      ]
    },
    {
      "cell_type": "markdown",
      "source": [
        "**Exponentiation**\n",
        "\n",
        "You can also use floats in exponentiation.\n",
        "\n",
        "For example, the following code will result in the square root of 9:\n",
        "\n",
        "> print(9**(1/2))\n",
        "\n",
        "Note that the result will be a **float.**"
      ],
      "metadata": {
        "id": "FBfY-1fzBPhT"
      }
    },
    {
      "cell_type": "code",
      "source": [
        "print(8**(1/3))"
      ],
      "metadata": {
        "id": "qSo9n1MMBScb"
      },
      "execution_count": null,
      "outputs": []
    },
    {
      "cell_type": "markdown",
      "source": [
        "**Quotient**\n",
        "\n",
        "**Floor division** is done using two forward slashes and is used to determine the **quotient** of a division (the quantity produced by the division of two numbers).\n",
        "\n",
        "> print(20//6)\n",
        "\n",
        "The code above will output 3, because 6 goes into 20 three times.\n",
        "\n",
        "You can also use floor division on floats.\n"
      ],
      "metadata": {
        "id": "4gZjQWTjBdt7"
      }
    },
    {
      "cell_type": "code",
      "source": [
        "print(10//4)"
      ],
      "metadata": {
        "colab": {
          "base_uri": "https://localhost:8080/"
        },
        "id": "DgY60-ekBlJT",
        "outputId": "b9eb7542-3313-43d5-ac11-22d2ef74f2db"
      },
      "execution_count": null,
      "outputs": [
        {
          "output_type": "stream",
          "name": "stdout",
          "text": [
            "2\n"
          ]
        }
      ]
    },
    {
      "cell_type": "markdown",
      "source": [
        "**Remainder**\n",
        "\n",
        "The **modulo operator** is carried out with a percent symbol (%) and is used to get the **remainder** of a division.\n",
        "\n",
        "> print(20 % 6)\n",
        "\n",
        "> print(1.25 % 0.5)\n",
        "\n",
        "All numerical operators can also be used with floats"
      ],
      "metadata": {
        "id": "xG0yug9IBpID"
      }
    },
    {
      "cell_type": "code",
      "source": [
        "print(7%(5//2))"
      ],
      "metadata": {
        "colab": {
          "base_uri": "https://localhost:8080/"
        },
        "id": "xxNXewBUBs40",
        "outputId": "58709c88-8376-45b2-a6f8-5ff436700f38"
      },
      "execution_count": null,
      "outputs": [
        {
          "output_type": "stream",
          "name": "stdout",
          "text": [
            "1\n"
          ]
        }
      ]
    },
    {
      "cell_type": "markdown",
      "source": [
        "**Quizzes**"
      ],
      "metadata": {
        "id": "CyguUyeNBxn7"
      }
    },
    {
      "cell_type": "code",
      "source": [
        "print(1+4*3)"
      ],
      "metadata": {
        "colab": {
          "base_uri": "https://localhost:8080/"
        },
        "id": "benY654LB_kj",
        "outputId": "3cadb017-22fe-4f05-f31a-61557e0c7538"
      },
      "execution_count": null,
      "outputs": [
        {
          "output_type": "stream",
          "name": "stdout",
          "text": [
            "13\n"
          ]
        }
      ]
    },
    {
      "cell_type": "code",
      "source": [
        "print(\"I love Python\")"
      ],
      "metadata": {
        "colab": {
          "base_uri": "https://localhost:8080/"
        },
        "id": "tvgNKTc3CBaz",
        "outputId": "11eb0eea-45d0-4f76-b058-73788ce00f55"
      },
      "execution_count": null,
      "outputs": [
        {
          "output_type": "stream",
          "name": "stdout",
          "text": [
            "I love Python\n"
          ]
        }
      ]
    },
    {
      "cell_type": "code",
      "source": [
        "print((3**2)//2)"
      ],
      "metadata": {
        "colab": {
          "base_uri": "https://localhost:8080/"
        },
        "id": "8zYLlbGJCC5T",
        "outputId": "76f70550-52ae-4db5-e345-12e2f2868a05"
      },
      "execution_count": null,
      "outputs": [
        {
          "output_type": "stream",
          "name": "stdout",
          "text": [
            "4\n"
          ]
        }
      ]
    },
    {
      "cell_type": "code",
      "source": [
        "print(100//42) # quotient"
      ],
      "metadata": {
        "colab": {
          "base_uri": "https://localhost:8080/"
        },
        "id": "2kBDzw-fCEdT",
        "outputId": "78615ce1-4f66-4b8e-93da-302a754fc433"
      },
      "execution_count": null,
      "outputs": [
        {
          "output_type": "stream",
          "name": "stdout",
          "text": [
            "2\n"
          ]
        }
      ]
    },
    {
      "cell_type": "code",
      "source": [
        "print(10**5)"
      ],
      "metadata": {
        "colab": {
          "base_uri": "https://localhost:8080/"
        },
        "id": "qe6s1tVnCGZk",
        "outputId": "f6a2451e-3015-413b-b9db-80e44a68ad4e"
      },
      "execution_count": null,
      "outputs": [
        {
          "output_type": "stream",
          "name": "stdout",
          "text": [
            "100000\n"
          ]
        }
      ]
    },
    {
      "cell_type": "markdown",
      "source": [
        "#<b><center>2. Strings and Variables<center></b>"
      ],
      "metadata": {
        "id": "GlIbdC5GC3d7"
      }
    },
    {
      "cell_type": "markdown",
      "source": [
        "**Strings**\n",
        "\n",
        "If you want to use text in Python, you have to use a **string.**\n",
        "\n",
        "A **string** is created by entering text between **two single or double quotation masks**\n",
        "\n",
        "> print(\"Python is fun!\")\n",
        "\n",
        "> print('Always look on the bright side of life')\n",
        "\n",
        "The delimiter (\"or') used for a string doesn't affect how it behaves in anyway."
      ],
      "metadata": {
        "id": "jQDbWjT6DIaj"
      }
    },
    {
      "cell_type": "code",
      "source": [
        "print(\"Hello world!\")"
      ],
      "metadata": {
        "colab": {
          "base_uri": "https://localhost:8080/"
        },
        "id": "Y2esLNkZDHy7",
        "outputId": "bf061326-100b-4a09-aa7d-19d408762794"
      },
      "execution_count": null,
      "outputs": [
        {
          "output_type": "stream",
          "name": "stdout",
          "text": [
            "Hello world!\n"
          ]
        }
      ]
    },
    {
      "cell_type": "code",
      "source": [
        "print('สวัสดีชาวโลก!')\n",
        "print(\"Ciao Mondo!\")\n",
        "print(\"¡Hola Mundo!\")\n",
        "print('Hallo Welt!')"
      ],
      "metadata": {
        "colab": {
          "base_uri": "https://localhost:8080/"
        },
        "id": "uZYzW3ukDLI0",
        "outputId": "e43d1518-3ebc-4605-f162-7042d65e8a33"
      },
      "execution_count": null,
      "outputs": [
        {
          "output_type": "stream",
          "name": "stdout",
          "text": [
            "สวัสดีชาวโลก!\n",
            "Ciao Mondo!\n",
            "¡Hola Mundo!\n",
            "Hallo Welt!\n"
          ]
        }
      ]
    },
    {
      "cell_type": "markdown",
      "source": [
        "**Backslash**\n",
        "\n",
        "Some characters can't be directly included in a string. For instance, double quotes can't be directly included in a double quote string; this would cause it to end prematurely.\n",
        "\n",
        "Characters like these must be escaped by placing a **backslash** before them. Double quotes only need to be escaped in double quote strings, and the same is true for singel quote strings.\n",
        "\n",
        "**For Example:**\n",
        "\n",
        "> print('Brian\\'s mother: He\\'s not an angel. He\\'s a very naughty boy!')\n",
        "\n",
        "**Backslashes** can also be used to escape tabs, arbitraty Unicode characters, and various other things that can't be reliably printed."
      ],
      "metadata": {
        "id": "GFObLFMbEbR0"
      }
    },
    {
      "cell_type": "code",
      "source": [
        "print('Brain\\'s mother: He\\'s not an angel. He\\'s a very naughty boy!') "
      ],
      "metadata": {
        "colab": {
          "base_uri": "https://localhost:8080/"
        },
        "id": "qy3ceenMEanG",
        "outputId": "bd6014a9-5e34-461a-bf18-631563af3efe"
      },
      "execution_count": null,
      "outputs": [
        {
          "output_type": "stream",
          "name": "stdout",
          "text": [
            "Brain's mother: He's not an angel. He's a very naughty boy!\n"
          ]
        }
      ]
    },
    {
      "cell_type": "code",
      "source": [
        "# use different dilimitor \n",
        "\n",
        "print(\"Brain\\'s mother: He\\'s not an angel. He\\'s a very naughty boy!\")"
      ],
      "metadata": {
        "colab": {
          "base_uri": "https://localhost:8080/"
        },
        "id": "q3Ujkn38EgvE",
        "outputId": "e6abd726-4ffb-47b0-e90f-3d4868facb18"
      },
      "execution_count": null,
      "outputs": [
        {
          "output_type": "stream",
          "name": "stdout",
          "text": [
            "Brain's mother: He's not an angel. He's a very naughty boy!\n"
          ]
        }
      ]
    },
    {
      "cell_type": "code",
      "source": [
        "print('I\\'m learning!')"
      ],
      "metadata": {
        "colab": {
          "base_uri": "https://localhost:8080/"
        },
        "id": "K1790-04Efp7",
        "outputId": "35ffcb98-20ce-495b-db13-8dfe237785c6"
      },
      "execution_count": null,
      "outputs": [
        {
          "output_type": "stream",
          "name": "stdout",
          "text": [
            "I'm learning!\n"
          ]
        }
      ]
    },
    {
      "cell_type": "markdown",
      "source": [
        "**Newlines**\n",
        "\n",
        "**\\n** represents a new line.\n",
        "\n",
        "It can be used in strings to create multi-line output:\n",
        "\n",
        "> print('One \\nTwo \\nThree')\n",
        "\n",
        "Similarly, **\\t** represents a tab."
      ],
      "metadata": {
        "id": "ym6OJYtkE1ED"
      }
    },
    {
      "cell_type": "code",
      "source": [
        "print(\"Hello \\nWorld\")"
      ],
      "metadata": {
        "colab": {
          "base_uri": "https://localhost:8080/"
        },
        "id": "YAeLbybsE2yz",
        "outputId": "83b861a5-97a8-4528-a0e2-1175d2b780d4"
      },
      "execution_count": null,
      "outputs": [
        {
          "output_type": "stream",
          "name": "stdout",
          "text": [
            "Hello \n",
            "World\n"
          ]
        }
      ]
    },
    {
      "cell_type": "code",
      "source": [
        "print(\"Shopping list:\\n\\t1. Tomatoes\\n\\t2. Eggs\\n\\t3. Onions\")"
      ],
      "metadata": {
        "colab": {
          "base_uri": "https://localhost:8080/"
        },
        "id": "eOBbQaJ0E389",
        "outputId": "6a738a7c-9076-41d6-ba4d-fdea6e156c1b"
      },
      "execution_count": null,
      "outputs": [
        {
          "output_type": "stream",
          "name": "stdout",
          "text": [
            "Shopping list:\n",
            "\t1. Tomatoes\n",
            "\t2. Eggs\n",
            "\t3. Onions\n"
          ]
        }
      ]
    },
    {
      "cell_type": "markdown",
      "source": [
        "**Newlines**\n",
        "\n",
        "Newlines will be automatically added for strings that are created using **three quotes**.\n",
        "\n",
        "**For example**\n",
        "\n",
        "        print(   \n",
        "  \n",
        "            \"\"\"\n",
        "\n",
        "            this\n",
        "            is a \n",
        "            multiline \n",
        "            text\n",
        "\n",
        "            \"\"\"\n",
        "            )\n",
        "\n",
        "This makes it easier to format long, multi-line texts without the need to explicitly put **\\n** for line breaks."
      ],
      "metadata": {
        "id": "VnZr1hwDFRsb"
      }
    },
    {
      "cell_type": "code",
      "source": [
        "print(\"Hi\")\n",
        "print(\"\"\"\n",
        "        This \n",
        "         is \n",
        "        great\n",
        "      \"\"\")"
      ],
      "metadata": {
        "colab": {
          "base_uri": "https://localhost:8080/"
        },
        "id": "Xl857V-PFW5b",
        "outputId": "100d5bbc-3d03-49e8-efec-e4d23d9b959b"
      },
      "execution_count": null,
      "outputs": [
        {
          "output_type": "stream",
          "name": "stdout",
          "text": [
            "Hi\n",
            "\n",
            "        This \n",
            "         is \n",
            "        great\n",
            "      \n"
          ]
        }
      ]
    },
    {
      "cell_type": "code",
      "source": [
        "print(\"Hi\\nThis\\nis\\ngreat\")"
      ],
      "metadata": {
        "colab": {
          "base_uri": "https://localhost:8080/"
        },
        "id": "_XNOfvgZFhds",
        "outputId": "5f432b2b-4358-4b8b-84a0-fd9da9808a4a"
      },
      "execution_count": null,
      "outputs": [
        {
          "output_type": "stream",
          "name": "stdout",
          "text": [
            "Hi\n",
            "This\n",
            "is\n",
            "great\n"
          ]
        }
      ]
    },
    {
      "cell_type": "markdown",
      "source": [
        "**Concatenation**\n",
        "\n",
        "As with integers and floats, strings in Python can be added, using a process called **concatenation**, which can be done on any two strings.\n",
        "\n",
        "> print(\"Spam\" + 'eggs')\n",
        "\n",
        "Even if your strings contain numbers, they are still added as strings rather than integers.\n",
        "\n",
        "> print(\"2\" + \"2\")\n",
        "\n",
        "**Adding** a **string** to a **number** produces an **error**, as even though they might look similar, they are two different entities. "
      ],
      "metadata": {
        "id": "P4JWM3Z-FvjV"
      }
    },
    {
      "cell_type": "code",
      "source": [
        "print(\"Python \" + \"is \" + \"awesome. \")"
      ],
      "metadata": {
        "colab": {
          "base_uri": "https://localhost:8080/"
        },
        "id": "4Pq4mcZeFyBM",
        "outputId": "168b8ac2-a565-40a9-eef0-7f27098823e1"
      },
      "execution_count": null,
      "outputs": [
        {
          "output_type": "stream",
          "name": "stdout",
          "text": [
            "Python is awesome. \n"
          ]
        }
      ]
    },
    {
      "cell_type": "code",
      "source": [
        "print(\"Happy \"+\"20\"+\"th \"+\"anniversary\")"
      ],
      "metadata": {
        "colab": {
          "base_uri": "https://localhost:8080/"
        },
        "id": "UIlOasImF2dS",
        "outputId": "1e9f74a9-8471-47ad-c97c-22982afbea49"
      },
      "execution_count": null,
      "outputs": [
        {
          "output_type": "stream",
          "name": "stdout",
          "text": [
            "Happy 20th anniversary\n"
          ]
        }
      ]
    },
    {
      "cell_type": "markdown",
      "source": [
        "**String Operations**\n",
        "\n",
        "Strings can also be **multipled by** **integers.** \n",
        "\n",
        "This produces a **repeated version of the original string**. The order of the string and the integer doesn't matter, but the string usually coms first.\n",
        "\n",
        "> print(\"spam\" *3)\n",
        "\n",
        "> print(4 * '2')\n",
        "\n",
        "Strings can't be multiplied by other strings. Strings also can't be multiplied by floats, even if the floats are whole numbers."
      ],
      "metadata": {
        "id": "U_4YqUxVF1xc"
      }
    },
    {
      "cell_type": "code",
      "source": [
        "print(3*'7')"
      ],
      "metadata": {
        "colab": {
          "base_uri": "https://localhost:8080/"
        },
        "id": "RhHfz5GCGW9z",
        "outputId": "efc69b95-faa2-43ed-f7d0-8646005a59d0"
      },
      "execution_count": null,
      "outputs": [
        {
          "output_type": "stream",
          "name": "stdout",
          "text": [
            "777\n"
          ]
        }
      ]
    },
    {
      "cell_type": "code",
      "source": [
        "print(type((3*'7')))"
      ],
      "metadata": {
        "colab": {
          "base_uri": "https://localhost:8080/"
        },
        "id": "eGmSXLWBGYPd",
        "outputId": "40746a79-1b68-483f-de01-f42afdb519fc"
      },
      "execution_count": null,
      "outputs": [
        {
          "output_type": "stream",
          "name": "stdout",
          "text": [
            "<class 'str'>\n"
          ]
        }
      ]
    },
    {
      "cell_type": "markdown",
      "source": [
        "**Variables**\n",
        "\n",
        "A **variable** allows you to store a value by assigning it to a name, which can be used to refer to the value alter in the program.\n",
        "\n",
        "For example, in game development, you would use a variable to store the points of the player. \n",
        "\n",
        "To assign a variable, use **one equals sign**\n",
        "\n",
        "> user = \"James\"\n",
        "\n",
        "In given example we assigned string \"James\" to user variable."
      ],
      "metadata": {
        "id": "rQnOJuuPGkV0"
      }
    },
    {
      "cell_type": "code",
      "source": [
        "age = 42\n",
        "\n",
        "print(age)"
      ],
      "metadata": {
        "colab": {
          "base_uri": "https://localhost:8080/"
        },
        "id": "mAl9OUY0GmIz",
        "outputId": "c809b7e7-bf90-458a-e59f-752c1680cc3f"
      },
      "execution_count": null,
      "outputs": [
        {
          "output_type": "stream",
          "name": "stdout",
          "text": [
            "42\n"
          ]
        }
      ]
    },
    {
      "cell_type": "markdown",
      "source": [
        "**Variable names**\n",
        "\n",
        "Certain restrictions apply in regard to the characters that may be used in Python variable names. The only characters that are allowed are \n",
        "- **letters,** \n",
        "- **numbers,** and \n",
        "- **underscores.** \n",
        "\n",
        "Also, they can't start with numbers. Not following these rules results in errors.\n",
        "\n",
        "> this_is_a_normal_name = 7\n",
        "\n",
        "> 123abc = 7 \n",
        "SyntaxError: invalid syntax\n",
        "\n",
        "Python is a case sensitive programming language. Thus, **Lastname** and **lastname** are two **different variable** names in Python.\n"
      ],
      "metadata": {
        "id": "D0B8OwwyGvBz"
      }
    },
    {
      "cell_type": "code",
      "source": [
        "A_VARIABLE_NAME = True\n",
        "\n",
        "if A_VARIABLE_NAME == True:\n",
        "  print(\"yes\")"
      ],
      "metadata": {
        "colab": {
          "base_uri": "https://localhost:8080/"
        },
        "id": "EwnaMyfZGyT0",
        "outputId": "5050d47c-7c06-4c33-ac40-34d59353029a"
      },
      "execution_count": null,
      "outputs": [
        {
          "output_type": "stream",
          "name": "stdout",
          "text": [
            "yes\n"
          ]
        }
      ]
    },
    {
      "cell_type": "markdown",
      "source": [
        "**Working with Variables**\n",
        "\n",
        "You can use variables to perform corresponding operations, just as you did with numbers and strings:\n",
        "\n",
        "> x = 7\n",
        "\n",
        "> print(x)\n",
        "\n",
        "> print( x + 3)\n",
        "\n",
        "> print(x)\n",
        "\n",
        "As you can see, the variable stores its value throughout the program."
      ],
      "metadata": {
        "id": "MnqaqFZhG5dN"
      }
    },
    {
      "cell_type": "code",
      "source": [
        "x = 7\n",
        "\n",
        "print(x)\n",
        "print(x+3)\n",
        "print(x)"
      ],
      "metadata": {
        "colab": {
          "base_uri": "https://localhost:8080/"
        },
        "id": "UMyzHZLqG6L0",
        "outputId": "aaa7a882-9b87-482f-c2ea-e851e7fe85df"
      },
      "execution_count": null,
      "outputs": [
        {
          "output_type": "stream",
          "name": "stdout",
          "text": [
            "7\n",
            "10\n",
            "7\n"
          ]
        }
      ]
    },
    {
      "cell_type": "code",
      "source": [
        "spam = \"eggs\"\n",
        "\n",
        "print(spam*3)"
      ],
      "metadata": {
        "colab": {
          "base_uri": "https://localhost:8080/"
        },
        "id": "lvuTwLAXHBhD",
        "outputId": "8a2ae02b-f681-4206-89d6-3999dc2a5ab1"
      },
      "execution_count": null,
      "outputs": [
        {
          "output_type": "stream",
          "name": "stdout",
          "text": [
            "eggseggseggs\n"
          ]
        }
      ]
    },
    {
      "cell_type": "markdown",
      "source": [
        "**Working with Variables**\n",
        "\n",
        "Variables can be reassigned as many times as you want, in order to change their value.\n",
        "\n",
        "**In Python**, variables **don't have specific types**, so you can assign a string to a variable, and later assign an integer to the same variable.\n",
        "\n",
        "> x = 123.456\n",
        "\n",
        "> print(x)\n",
        "\n",
        "> x = \"This is a string\"\n",
        "\n",
        "> print(x + \"!\")\n",
        "\n",
        "However, it is not good practice. To avaid mistakes, **try to avoid overwriting the same variable with different data types.**"
      ],
      "metadata": {
        "id": "AB6HQ-mVHIqj"
      }
    },
    {
      "cell_type": "code",
      "source": [
        "x = 5\n",
        "y = 7\n",
        "\n",
        "print(x + y)"
      ],
      "metadata": {
        "colab": {
          "base_uri": "https://localhost:8080/"
        },
        "id": "hDmhSWgqHRJL",
        "outputId": "60637a0a-4324-4fad-d63a-1f40f9b96b3d"
      },
      "execution_count": null,
      "outputs": [
        {
          "output_type": "stream",
          "name": "stdout",
          "text": [
            "12\n"
          ]
        }
      ]
    },
    {
      "cell_type": "markdown",
      "source": [
        "**Input**\n",
        "\n",
        "Let's assume we want to take the age of the user as input. We know that the **input()** function returns a string. To convert it to a number, we can use the **int()** function.\n",
        "\n",
        "> age = int(input())\n",
        "\n",
        "> print(age)\n",
        "\n",
        "Similarly, inorder to convert a number to a string, the \"str()\" function is used. This can be useful if you need to use a number in string concatenation.\n",
        "\n",
        "For example:\n",
        "\n",
        "> age = 42\n",
        "\n",
        "> print(\"His age is \" + str(age))"
      ],
      "metadata": {
        "id": "TvxTCoquHUEj"
      }
    },
    {
      "cell_type": "code",
      "source": [
        "x = \"2\"\n",
        "y = \"4\"\n",
        "z = int(x) + int(y)\n",
        "print(z)"
      ],
      "metadata": {
        "colab": {
          "base_uri": "https://localhost:8080/"
        },
        "id": "abZ3Bv57HZV1",
        "outputId": "cf388c89-6b23-4e74-ffbf-1569d4ee9bd3"
      },
      "execution_count": null,
      "outputs": [
        {
          "output_type": "stream",
          "name": "stdout",
          "text": [
            "6\n"
          ]
        }
      ]
    },
    {
      "cell_type": "markdown",
      "source": [
        "**Input**\n",
        "\n",
        "You can use input() multiple times to take multiple user inputs \n",
        "\n",
        "**For example:**\n",
        "\n",
        "> name = input()\n",
        "\n",
        "> age = input()\n",
        "\n",
        "> print(name + \" is \" + age)\n",
        "\n",
        "When input() function executes, program flow stops until a user enters some value."
      ],
      "metadata": {
        "id": "XhJI1juGNBE9"
      }
    },
    {
      "cell_type": "code",
      "source": [
        "x = int(input())\n",
        "y = int(input())\n",
        "\n",
        "print(x + y)"
      ],
      "metadata": {
        "colab": {
          "base_uri": "https://localhost:8080/"
        },
        "id": "vZDpTbgXNEGc",
        "outputId": "00e67636-1081-4668-f1ca-fc6608ca1588"
      },
      "execution_count": null,
      "outputs": [
        {
          "output_type": "stream",
          "name": "stdout",
          "text": [
            "7\n",
            "3\n",
            "10\n"
          ]
        }
      ]
    },
    {
      "cell_type": "markdown",
      "source": [
        "**In-Place Operators**\n",
        "\n",
        "**In-place operators** allow you to write code like 'x = x + 3' more concisely, as ' x +=3'.\n",
        "\n",
        "The same thing is possible with other operators such as -, * , /and % as well.\n",
        "\n",
        "> x = 2 \n",
        "\n",
        "> print(x)\n",
        "\n",
        "> x += 3\n",
        "\n",
        "> print(x)"
      ],
      "metadata": {
        "id": "JF1fO0pjNOWk"
      }
    },
    {
      "cell_type": "code",
      "source": [
        "x = 4\n",
        "x *=3\n",
        "\n",
        "print(x)"
      ],
      "metadata": {
        "colab": {
          "base_uri": "https://localhost:8080/"
        },
        "id": "0hjfTLs4NNwF",
        "outputId": "09f9284b-9bda-4201-9c73-cf3e267df415"
      },
      "execution_count": null,
      "outputs": [
        {
          "output_type": "stream",
          "name": "stdout",
          "text": [
            "12\n"
          ]
        }
      ]
    },
    {
      "cell_type": "markdown",
      "source": [
        "**In-place Operators**\n",
        "\n",
        "These operators can be used on types other than numbers, as well, such as **strings**\n",
        "\n",
        "> x = \"spam\"\n",
        "\n",
        "> print(x)\n",
        "\n",
        "> x += \"eggs\"\n",
        "\n",
        "> print(x)\n",
        "\n",
        "In-place operators can be used for any numerical operation( + , - , * , / , %, **, //)."
      ],
      "metadata": {
        "id": "vC53fNQeNZcE"
      }
    },
    {
      "cell_type": "code",
      "source": [
        "x = \"a\"\n",
        "x *= 3\n",
        "\n",
        "print(x)"
      ],
      "metadata": {
        "colab": {
          "base_uri": "https://localhost:8080/"
        },
        "id": "k332e-w9OAVF",
        "outputId": "27668c89-9b33-4a62-c6ff-5891064c3dbe"
      },
      "execution_count": null,
      "outputs": [
        {
          "output_type": "stream",
          "name": "stdout",
          "text": [
            "aaa\n"
          ]
        }
      ]
    },
    {
      "cell_type": "code",
      "source": [
        "spam = \"7\"\n",
        "spam = spam + \"0\"\n",
        "eggs = int(spam) + 3\n",
        "\n",
        "print(float(eggs))"
      ],
      "metadata": {
        "colab": {
          "base_uri": "https://localhost:8080/"
        },
        "id": "w1FtTNcAOCAl",
        "outputId": "0205535f-5b15-4f80-bd8a-1627776e5c84"
      },
      "execution_count": null,
      "outputs": [
        {
          "output_type": "stream",
          "name": "stdout",
          "text": [
            "73.0\n"
          ]
        }
      ]
    },
    {
      "cell_type": "markdown",
      "source": [
        "**Quizzes**"
      ],
      "metadata": {
        "id": "cLSzLNI5OKjE"
      }
    },
    {
      "cell_type": "code",
      "source": [
        "# enter '42' as input:\n",
        "\n",
        "age = int(input())\n",
        "print(age + 8)"
      ],
      "metadata": {
        "colab": {
          "base_uri": "https://localhost:8080/"
        },
        "id": "CtZwNyAxOJK0",
        "outputId": "0aeffa65-a1ed-42a4-98fc-eb0b9efcb2db"
      },
      "execution_count": null,
      "outputs": [
        {
          "output_type": "stream",
          "name": "stdout",
          "text": [
            "42\n",
            "50\n"
          ]
        }
      ]
    },
    {
      "cell_type": "code",
      "source": [
        "x = 5\n",
        "y = x +3\n",
        "y = int(str(y) + \"2\")\n",
        "\n",
        "print(y)"
      ],
      "metadata": {
        "colab": {
          "base_uri": "https://localhost:8080/"
        },
        "id": "Y4OFOqCOOQaM",
        "outputId": "2883b58b-6bb5-44ac-e3dc-6eaa47835018"
      },
      "execution_count": null,
      "outputs": [
        {
          "output_type": "stream",
          "name": "stdout",
          "text": [
            "82\n"
          ]
        }
      ]
    },
    {
      "cell_type": "code",
      "source": [
        "x = 4\n",
        "x += 5\n",
        "\n",
        "print(x)"
      ],
      "metadata": {
        "colab": {
          "base_uri": "https://localhost:8080/"
        },
        "id": "n6uGojg9OSYU",
        "outputId": "5f5ca9b6-7161-425a-ba8f-c2ae78d1daf6"
      },
      "execution_count": null,
      "outputs": [
        {
          "output_type": "stream",
          "name": "stdout",
          "text": [
            "9\n"
          ]
        }
      ]
    },
    {
      "cell_type": "code",
      "source": [
        "x = 3 \n",
        "num = 17\n",
        "\n",
        "print(num%x) # 3*5 =15"
      ],
      "metadata": {
        "colab": {
          "base_uri": "https://localhost:8080/"
        },
        "id": "nk50PciBOUEU",
        "outputId": "c23beabf-0510-4781-a809-2b263b47ff23"
      },
      "execution_count": null,
      "outputs": [
        {
          "output_type": "stream",
          "name": "stdout",
          "text": [
            "2\n"
          ]
        }
      ]
    },
    {
      "cell_type": "code",
      "source": [
        "name = input()\n",
        "\n",
        "print(\"Welcome,\"+ name)"
      ],
      "metadata": {
        "colab": {
          "base_uri": "https://localhost:8080/"
        },
        "id": "F82CilwYOWGe",
        "outputId": "969062bf-a3af-4393-b2b1-9fed09ec856f"
      },
      "execution_count": null,
      "outputs": [
        {
          "output_type": "stream",
          "name": "stdout",
          "text": [
            "John\n",
            "Welcome,John\n"
          ]
        }
      ]
    },
    {
      "cell_type": "markdown",
      "source": [
        "**Extra**"
      ],
      "metadata": {
        "id": "GmuA3ZBvOktl"
      }
    },
    {
      "cell_type": "code",
      "source": [
        "# Find BMI Programm\n",
        "\n",
        "cover = \"............Find Your BMI.............\\nPlease Follow the instruction below :  \"\n",
        "length = int(len(cover)/2)\n",
        "\n",
        "print(\"*\"*length)\n",
        "print(cover)\n",
        "Name = input(\"Please Enter your Name: \")\n",
        "Height = int(input(\"Please Enter your Height in (CM): \"))\n",
        "Weight = int(input(\"Please Enter your Weight in (KG): \"))\n",
        "\n",
        "BMI = Weight/(Height/100)**2\n",
        "\n",
        "print(f\"\\nHello {Name}\\nYour height is {Height}\\nYour weight is {Weight}\\n\\\n",
        "Your BMI is {BMI:.2f}\")\n",
        "print(\"*\"*length)"
      ],
      "metadata": {
        "colab": {
          "base_uri": "https://localhost:8080/"
        },
        "id": "LDVwFThlHtV7",
        "outputId": "29467630-828b-41b0-caf0-7bd6a1604742"
      },
      "execution_count": null,
      "outputs": [
        {
          "output_type": "stream",
          "name": "stdout",
          "text": [
            "***************************************\n",
            "............Find Your BMI.............\n",
            "Please Follow the instruction below :  \n",
            "Please Enter your Name: Nico\n",
            "Please Enter your Height in (CM): 170\n",
            "Please Enter your Weight in (KG): 50\n",
            "\n",
            "Hello Nico\n",
            "Your height is 170\n",
            "Your weight is 50\n",
            "Your BMI is 17.30\n",
            "***************************************\n"
          ]
        }
      ]
    },
    {
      "cell_type": "markdown",
      "source": [
        "#<center><b>3. Control Structures</b></center>"
      ],
      "metadata": {
        "id": "VWcNQGotPaY1"
      }
    },
    {
      "cell_type": "markdown",
      "source": [
        "**Boolearns**\n",
        "\n",
        "Anothertype in Python is the **Boolean** type. There are two boolearn values:\n",
        "- **True**\n",
        "- **False**.\n",
        "\n",
        "They can be created by **comparing values**, for instance by using the equal operator **==**.\n",
        "\n",
        "> my_booleran = True\n",
        "\n",
        "> print(my_boolean)\n",
        "\n",
        "> #True\n",
        "\n",
        "> print(2==3)\n",
        "\n",
        "> #false\n",
        "\n",
        "> print(\"hello\" == \"hello\")\n",
        "\n",
        "> #True\n",
        "\n",
        "Be careful not to confuse assignment **\"=\"** (one equals sign) with comparison **\"==\"** (two equals signs).\n"
      ],
      "metadata": {
        "id": "kaK6LN1bPY58"
      }
    },
    {
      "cell_type": "code",
      "source": [
        "print(7 != 8)"
      ],
      "metadata": {
        "colab": {
          "base_uri": "https://localhost:8080/"
        },
        "id": "uuzVXm6OPrTV",
        "outputId": "39a78666-4256-4f15-b527-37823d342a80"
      },
      "execution_count": null,
      "outputs": [
        {
          "output_type": "stream",
          "name": "stdout",
          "text": [
            "True\n"
          ]
        }
      ]
    },
    {
      "cell_type": "markdown",
      "source": [
        "**Comparison**\n",
        "\n",
        "Python also has operators that determine whether one number (float or integer) is \n",
        "- greater than  **\">\"**\n",
        "- smaller than  **\"<\"**\n",
        "\n",
        "> print( 7 > 5 )\n",
        "\n",
        "> #True\n",
        "\n",
        "> print( 10 < 10 )\n",
        "\n",
        "> #False\n",
        "\n",
        "Different numeric types can also be compared, for example, integer and float."
      ],
      "metadata": {
        "id": "rV4_eGfaPvG8"
      }
    },
    {
      "cell_type": "code",
      "source": [
        "print( 7 > 7.0)"
      ],
      "metadata": {
        "colab": {
          "base_uri": "https://localhost:8080/"
        },
        "id": "E3OBJLLNPxKc",
        "outputId": "f22e9a72-a2a1-4dac-c00f-1e577517f5ab"
      },
      "execution_count": null,
      "outputs": [
        {
          "output_type": "stream",
          "name": "stdout",
          "text": [
            "False\n"
          ]
        }
      ]
    },
    {
      "cell_type": "markdown",
      "source": [
        "**Comparision**\n",
        "\n",
        "- The greater than or equal to **\">=\"**\n",
        "- The smaller than or equal to **\"<=\"**\n",
        "\n",
        "They are the same as the strict greater than and smaller than operators, except that they return **True** when **comparing equal numbers**.\n",
        "\n",
        "> print(7 <= 8)\n",
        "\n",
        "> #True\n",
        "\n",
        "> print(9 >= 9.0)\n",
        "\n",
        "> #True\n",
        "\n",
        "Greater than and smaller than operators can also be used to compare strings **lexicographically** (The alphabetical order of words is based on the alphabetical order of their componenet letters).\n",
        "\n",
        "**For example:**\n",
        "\n",
        "> print(\"Annie\" > \"Andy\")\n",
        "\n",
        "> #True\n",
        "\n",
        "The first two characters from \"Annie\" and \"Andy\" (A and A) are compared. As they are equal, the second two characters are compared. Because they are also equal, the thrid two characters (n and d) are compared. And because n has greater alphabetical order value than d, \"Annie\" is greater than \"Andy\"."
      ],
      "metadata": {
        "id": "JPAn2UF2QQdO"
      }
    },
    {
      "cell_type": "code",
      "source": [
        "print(8.7 <= 8.70)"
      ],
      "metadata": {
        "colab": {
          "base_uri": "https://localhost:8080/"
        },
        "id": "Sbq4Xiu9QTry",
        "outputId": "f0cadee0-9f07-42dc-b134-4ef8d1d52dc6"
      },
      "execution_count": null,
      "outputs": [
        {
          "output_type": "stream",
          "name": "stdout",
          "text": [
            "True\n"
          ]
        }
      ]
    },
    {
      "cell_type": "markdown",
      "source": [
        "**if Statements**\n",
        "\n",
        "You can use if statements to run code if a certain condition holds. if an expression evaluates to True, some statements are carried out. Otherwise, they aren't carried out.\n",
        "\n",
        "An if statement looks like this:\n",
        "\n",
        "> if expression: \n",
        ">> statements\n",
        "\n",
        "Python uses indentation (white space at the beginning of a line) to delimit blocks of code. Depending on program's logic, indentation can be mandatory. As you can see, the statements in the if should be indented."
      ],
      "metadata": {
        "id": "zaxm3vaxQWda"
      }
    },
    {
      "cell_type": "markdown",
      "source": [
        "**if Statements**\n",
        "\n",
        "Here is an example if statement:\n",
        "\n",
        "> if 10 > 5:\n",
        ">> print(\"10 greater than 5\")\n",
        "\n",
        "> print(\"Program ended\")\n",
        "\n",
        "The expression determines whether 10 is greater than 5. Since it is, the indented statement runs, and \"10 greater than 5\" is output. Then, the unindented statement, which is not part of the if statement, is run, and \"Program ended\" is displayed.\n",
        "\n",
        "Notice the **colon** at the end of the expression in the if statement."
      ],
      "metadata": {
        "id": "np-J4ChOQnBF"
      }
    },
    {
      "cell_type": "code",
      "source": [
        "spam = 7 \n",
        "if spam > 5:\n",
        "  print(\"five\")\n",
        "if spam > 8:\n",
        "  print(\"eight\")"
      ],
      "metadata": {
        "colab": {
          "base_uri": "https://localhost:8080/"
        },
        "id": "lmbvfWRiQp5c",
        "outputId": "9c4e1f6e-8c3c-46c9-efc4-b925b236c272"
      },
      "execution_count": null,
      "outputs": [
        {
          "output_type": "stream",
          "name": "stdout",
          "text": [
            "five\n"
          ]
        }
      ]
    },
    {
      "cell_type": "markdown",
      "source": [
        "**if Statements**\n",
        "\n",
        "To perform more complex checks, if statements can be nested, one inside the other. \n",
        "\n",
        "This means that the inner if statement is the statement part of the outer one. This is one way to see whether multiple conditions are satisfied.\n",
        "\n",
        "For example:\n",
        "\n",
        "> num = 12\n",
        "\n",
        "> if num > 5:\n",
        ">> print(\"Bigger than 5\")\n",
        "\n",
        ">> if num <= 47:\n",
        ">>>print(\"Between 5 and 47\")\n",
        "\n",
        "**Indentation** is used to define the level of nesting."
      ],
      "metadata": {
        "id": "xB85BvwnQw1l"
      }
    },
    {
      "cell_type": "code",
      "source": [
        "num = 7\n",
        "if num > 3:\n",
        "  print(\"3\")\n",
        "  if num < 5:\n",
        "    print(\"5\")\n",
        "    if num == 7:\n",
        "      print(\"7\")"
      ],
      "metadata": {
        "colab": {
          "base_uri": "https://localhost:8080/"
        },
        "id": "40mRjRzYQzuV",
        "outputId": "cc8ab9a8-a39b-4fe7-8687-52ad0f52763c"
      },
      "execution_count": null,
      "outputs": [
        {
          "output_type": "stream",
          "name": "stdout",
          "text": [
            "3\n"
          ]
        }
      ]
    },
    {
      "cell_type": "markdown",
      "source": [
        "**else Statements**\n",
        "\n",
        "The **if statemen**t allows you to check a condition and run some statements, if the **condition is True**.\n",
        "\n",
        "The **else statement** can be used to run some statements when then condition of the if **statement is False**.\n",
        "\n",
        "As with if statements, the code inside the block should be indented.\n",
        "\n",
        "> x = 4\n",
        "\n",
        "> if x == 5:\n",
        ">> print(\"Yes\")\n",
        "\n",
        ">else:\n",
        ">> print(\"No\")\n",
        "\n",
        "Notice the colon after the else keyword."
      ],
      "metadata": {
        "id": "v-linz2dQ4Fs"
      }
    },
    {
      "cell_type": "code",
      "source": [
        "if 1 + 1 == 2:\n",
        "  if 2*2 == 8:\n",
        "    print(\"if\")\n",
        "  else:\n",
        "    print(\"else\")"
      ],
      "metadata": {
        "colab": {
          "base_uri": "https://localhost:8080/"
        },
        "id": "1cRq_0UGWBlv",
        "outputId": "11a7eb8b-dd99-4ba5-b9de-6b72b8a5ee1f"
      },
      "execution_count": null,
      "outputs": [
        {
          "output_type": "stream",
          "name": "stdout",
          "text": [
            "else\n"
          ]
        }
      ]
    },
    {
      "cell_type": "markdown",
      "source": [
        "**else Statements**\n",
        "\n",
        "Every if condition block can have only one else statement.\n",
        "\n",
        "In order to make multiple checks, you can chain if and else statement.\n",
        "\n",
        "For example, the following program checks and outputs the num variable's value as text:\n",
        "\n",
        "> num = 3\n",
        "\n",
        "> if num == 1:\n",
        ">> print(\"One\")\n",
        "\n",
        "> else:\n",
        ">> if num == 2:\n",
        ">>> print(\"Two\")\n",
        "\n",
        ">> else:\n",
        ">>> if num == 3:\n",
        ">>>> print(\"Three\")\n",
        "\n",
        ">>> else:\n",
        ">>>> print(\"Something else\")\n",
        "\n",
        "Indentation determines which **if/else** statements the code blocks belong to."
      ],
      "metadata": {
        "id": "v3RS4eKeWDs9"
      }
    },
    {
      "cell_type": "code",
      "source": [
        "num = 3\n",
        "if num == 1:\n",
        "  print(\"One\")\n",
        "else:\n",
        "  if num == 2:\n",
        "    print(\"Two\")\n",
        "  else:\n",
        "    if num == 3:\n",
        "      print(\"Three\")\n",
        "    else:\n",
        "      print(\"Something else\")"
      ],
      "metadata": {
        "colab": {
          "base_uri": "https://localhost:8080/"
        },
        "id": "VV91pnkMWKtt",
        "outputId": "eb8ace9a-3408-4de3-a612-01c2fe82280d"
      },
      "execution_count": null,
      "outputs": [
        {
          "output_type": "stream",
          "name": "stdout",
          "text": [
            "Three\n"
          ]
        }
      ]
    },
    {
      "cell_type": "code",
      "source": [
        "x = 10\n",
        "y = 20\n",
        "\n",
        "if x > y:\n",
        "  print(\"if statement\")\n",
        "else:\n",
        "  print(\"else statement\")"
      ],
      "metadata": {
        "colab": {
          "base_uri": "https://localhost:8080/"
        },
        "id": "DeOevkpqWMLm",
        "outputId": "4d2a0860-6699-4162-c04c-4770885b9d53"
      },
      "execution_count": null,
      "outputs": [
        {
          "output_type": "stream",
          "name": "stdout",
          "text": [
            "else statement\n"
          ]
        }
      ]
    },
    {
      "cell_type": "markdown",
      "source": [
        "**elif Statements**\n",
        "\n",
        "Multiple if/else statements make the code long and not very readable.\n",
        "\n",
        "The elif (short for else if) statement is a shortcut to use when chaining if and else statements, making the code shorter. \n",
        "\n",
        "The same example from the previous part can be rewritten using elif statements:\n",
        "\n",
        "\n",
        "> num = 3\n",
        "\n",
        "> if num == 1:\n",
        ">> print(\"One\")\n",
        "\n",
        "> elif num == 2:\n",
        ">> print(\"Two)\n",
        "\n",
        "> elif num == 3:\n",
        ">> print(\"Three\")\n",
        "\n",
        "> else:\n",
        ">> print(\"Something else\")\n",
        "\n",
        "As you can see in the example above, a series of if elif statements can have a **final** **else** block, which is called if **none of the if or elif expressions is True**.\n",
        "\n",
        "The **elif** statement is **equivalent** to an else/if statement. It is used to make the code shorter, more readable, and avoid indentation increase.\n"
      ],
      "metadata": {
        "id": "lbZvpBCFWOad"
      }
    },
    {
      "cell_type": "code",
      "source": [
        "num = 3\n",
        "if num == 1:\n",
        "  print(\"One\")\n",
        "elif num == 2:\n",
        "  print(\"Two\")\n",
        "elif num == 3:\n",
        "  print(\"Three\")\n",
        "else:\n",
        "  print(\"Something else\")"
      ],
      "metadata": {
        "colab": {
          "base_uri": "https://localhost:8080/"
        },
        "id": "UCKeC8q-WRC1",
        "outputId": "9362ac75-e119-4325-dbeb-fe6e82910e92"
      },
      "execution_count": null,
      "outputs": [
        {
          "output_type": "stream",
          "name": "stdout",
          "text": [
            "Three\n"
          ]
        }
      ]
    },
    {
      "cell_type": "markdown",
      "source": [
        "**Boolean Logic**\n",
        "\n",
        "**Boolean logic** is used to make more complicated conditions for if statements that rely on more than one condition.\n",
        "\n",
        "Python's Boolean operators are \n",
        "- and \n",
        "- or \n",
        "- not\n",
        "\n",
        "The **and** operator takes two arguments, and evaluates and **True**, if, and only if, **both of its arguments are True**. Otherwise, it evaluates to False.\n",
        "\n",
        "> print(1 == 1 and 2 == 2)\n",
        "\n",
        "> #True\n",
        "\n",
        "> print(1 == 1 and 2 == 3)\n",
        "\n",
        "> #False\n",
        "\n",
        "> print(1 != 1 and 2 == 2) \n",
        "\n",
        "> #False\n",
        "\n",
        "> print(2 < 1 and 3 > 6)\n",
        "\n",
        "> #False\n",
        "\n",
        "Boolean operator can be used in expression as many times as needed."
      ],
      "metadata": {
        "id": "_0hSr2Yxer3y"
      }
    },
    {
      "cell_type": "code",
      "source": [
        "if (1==1) and (2+2>3):\n",
        "  print(\"true\")\n",
        "else:\n",
        "  print(\"false\")"
      ],
      "metadata": {
        "colab": {
          "base_uri": "https://localhost:8080/"
        },
        "id": "bdyZUvL3e6DK",
        "outputId": "7e81b04d-0ccb-45b0-d594-af416e389ed9"
      },
      "execution_count": null,
      "outputs": [
        {
          "output_type": "stream",
          "name": "stdout",
          "text": [
            "true\n"
          ]
        }
      ]
    },
    {
      "cell_type": "markdown",
      "source": [
        "**Boolean Or**\n",
        "\n",
        "The **or** operator also takes two arguments. It evaluates to **True** if **either** **(or both)** of its arguemnts are **True**, and False if both arguments are False\n",
        "\n",
        "> print(1 == 1 or 2 == 2)\n",
        "> #True\n",
        "\n",
        "> print(1 == 1 or 2 == 3)\n",
        "> #True\n",
        "\n",
        "> print(1 != 1 or 2 == 2)\n",
        "> #True\n",
        "\n",
        "> print(2 < 1 or 3 > 6)\n",
        "> #False\n",
        "\n",
        "Besides values, you can also compare variables."
      ],
      "metadata": {
        "id": "T7HJ6Ns7e9wa"
      }
    },
    {
      "cell_type": "code",
      "source": [
        "age = 15 \n",
        "money = 500\n",
        "\n",
        "if age > 18 or money > 100:\n",
        "  print(\"Welcome\")"
      ],
      "metadata": {
        "colab": {
          "base_uri": "https://localhost:8080/"
        },
        "id": "9efExGNcfGnC",
        "outputId": "055e1d57-ff4d-4430-d8d8-27c0bde109cf"
      },
      "execution_count": null,
      "outputs": [
        {
          "output_type": "stream",
          "name": "stdout",
          "text": [
            "Welcome\n"
          ]
        }
      ]
    },
    {
      "cell_type": "markdown",
      "source": [
        "**Boolean Not**\n",
        "\n",
        "Unlike other operators we've seen so far, **not** takes one argument, and **inverts it**.\n",
        "\n",
        "The result of \n",
        "- **not True** is **False** \n",
        "- **not False** goes to **True**\n",
        "\n",
        "> print(not 1 == 1)\n",
        "\n",
        "> #False \n",
        "\n",
        "> print(not 1 > 7)\n",
        "\n",
        "> #True\n",
        "\n",
        "You can chain multiple conditional statements in an if statement using the Boolearn operators."
      ],
      "metadata": {
        "id": "geb_amynfJ6C"
      }
    },
    {
      "cell_type": "code",
      "source": [
        "if not True:\n",
        "  print(\"1\")\n",
        "elif not (1+1 == 3):\n",
        "  print(\"2\")\n",
        "else:\n",
        "  print(\"3\")"
      ],
      "metadata": {
        "colab": {
          "base_uri": "https://localhost:8080/"
        },
        "id": "4uNP5aMefQfy",
        "outputId": "1cbd7726-e047-48a3-8725-f187e2693ac2"
      },
      "execution_count": null,
      "outputs": [
        {
          "output_type": "stream",
          "name": "stdout",
          "text": [
            "2\n"
          ]
        }
      ]
    },
    {
      "cell_type": "markdown",
      "source": [
        "**Operator Precedence**\n",
        "\n",
        "Operator precedence is a very important concept in programming. It is an extension of the **methematical idea of order of operations** (multiplication being performed before addition, etc.) to include other operators, such as those in Boolean logic.\n",
        "\n",
        "The below code shows that **== has a higher precedence than or**\n",
        "\n",
        "> print(False == False or True)\n",
        "\n",
        "> #True\n",
        "\n",
        "> print(False == (False or True))\n",
        "\n",
        "> #False\n",
        "\n",
        "> print((False == False) or True)\n",
        "\n",
        "> #True\n",
        "\n",
        "**Python's order** of operations is the same as that of normal mathematics: \n",
        "- parentheses first, \n",
        "- then exponentiation, \n",
        "- then multiplication / division, \n",
        "- and then addition / subtraction."
      ],
      "metadata": {
        "id": "uBrylIHufTPy"
      }
    },
    {
      "cell_type": "code",
      "source": [
        "if 1 + 1*3 == 6:\n",
        "  print(\"Yes\")\n",
        "else:\n",
        "  print(\"No\")"
      ],
      "metadata": {
        "colab": {
          "base_uri": "https://localhost:8080/"
        },
        "id": "cmtLM21cgx1Q",
        "outputId": "671d67b6-efd2-43ba-a96f-313c301dc736"
      },
      "execution_count": null,
      "outputs": [
        {
          "output_type": "stream",
          "name": "stdout",
          "text": [
            "No\n"
          ]
        }
      ]
    },
    {
      "cell_type": "markdown",
      "source": [
        "**Chaining Multiple Conditions**\n",
        "\n",
        "You can chain multiple conditional statements in an if statement using The \n",
        "Boolean operators.\n",
        "\n",
        "For example, we can if the value of a grade is between 70 and 100:\n",
        "\n",
        "> grade = 88\n",
        "\n",
        "> if (grade >= 70 and grade <= 100):\n",
        ">>print(\"passed!\")\n",
        "\n",
        "You can use multiple and, or, not operators to chain multiple conditions together."
      ],
      "metadata": {
        "id": "gSLDPqF3g48p"
      }
    },
    {
      "cell_type": "code",
      "source": [
        "score = int(input(\"Enter your score: \"))\n",
        "\n",
        "if (score >= 90 and score <= 100):\n",
        "  print(\"A\")\n",
        "elif (score >= 80 and score < 90):\n",
        "  print(\"B\")\n",
        "elif (score >= 70 and score < 80):\n",
        "  print(\"C\")\n",
        "elif (score >= 60 and score < 70):\n",
        "  print(\"D\")\n",
        "else:\n",
        "  print(\"Fail\")"
      ],
      "metadata": {
        "colab": {
          "base_uri": "https://localhost:8080/"
        },
        "id": "1ncfRiihhBKC",
        "outputId": "ff266177-5e8a-4f12-f682-4515dc6980f4"
      },
      "execution_count": null,
      "outputs": [
        {
          "output_type": "stream",
          "name": "stdout",
          "text": [
            "Enter your score: 100\n",
            "A\n"
          ]
        }
      ]
    },
    {
      "cell_type": "code",
      "source": [
        "x = 4 \n",
        "y = 2\n",
        "if not 1 + 1 == y or x == 4 and 7 == 8: # not [(true) or [(true) and (false)]]\n",
        "  print(\"Yes\")\n",
        "elif x > y:\n",
        "  print(\"No\")"
      ],
      "metadata": {
        "colab": {
          "base_uri": "https://localhost:8080/"
        },
        "id": "X1NM3qQig_s7",
        "outputId": "e57cb5b3-fab3-4287-9cd3-feb8bd64dd3f"
      },
      "execution_count": null,
      "outputs": [
        {
          "output_type": "stream",
          "name": "stdout",
          "text": [
            "No\n"
          ]
        }
      ]
    },
    {
      "cell_type": "markdown",
      "source": [
        "**Lists**\n",
        "\n",
        "**Lists** are used to store items.\n",
        "A list is created using square brackets with commas separating items.\n",
        "\n",
        "> words = [\"Hello\", \"world\", \"!\"]\n",
        "\n",
        "In the example above the words list contains three string items.\n",
        "\n",
        "A certain item in the list can be accessed by using its index in square brackets.\n",
        "\n",
        "For example:\n",
        "\n",
        "> words = [\"Hello\", \"world\", \"!\"]\n",
        "\n",
        "> print(words[0])\n",
        "\n",
        "> print(words[1])\n",
        "\n",
        "> print(words[2])\n",
        "\n",
        "**The first list item's index is 0**, rather than 1, as might be expected.\n"
      ],
      "metadata": {
        "id": "g6QRf2ezicgC"
      }
    },
    {
      "cell_type": "code",
      "source": [
        "nums = [5,4,3,2,1]\n",
        "\n",
        "print(nums[1])"
      ],
      "metadata": {
        "colab": {
          "base_uri": "https://localhost:8080/"
        },
        "id": "8hXlLRVMiihT",
        "outputId": "07538659-b8a4-4155-dda2-8a182b78d7df"
      },
      "execution_count": null,
      "outputs": [
        {
          "output_type": "stream",
          "name": "stdout",
          "text": [
            "4\n"
          ]
        }
      ]
    },
    {
      "cell_type": "markdown",
      "source": [
        "**Lists**\n",
        "\n",
        "Sometimes you need to create an empty list and populate it later during the program. For example, if you are creating a queue management program, the queue is going to be empty in the beginning and get populated with people data later.\n",
        "\n",
        "An empty list is created with an empty pair of square brackets.\n",
        "\n",
        "> empty_list = []\n",
        "\n",
        "> print(empty_list)\n",
        "\n",
        "In some code samples you might see a comma after the last item in the list. It's not mandatory, but perfectly valid."
      ],
      "metadata": {
        "id": "zCPBEWHWik-c"
      }
    },
    {
      "cell_type": "code",
      "source": [
        "nums = [2,]\n",
        "\n",
        "i = 0\n",
        "\n",
        "# count member of the list\n",
        "for num in nums:\n",
        "  i += 1\n",
        "  print(i)"
      ],
      "metadata": {
        "colab": {
          "base_uri": "https://localhost:8080/"
        },
        "id": "cDLw17URiw_L",
        "outputId": "bb3a463f-302f-4b47-a5a0-fa187d93b85c"
      },
      "execution_count": null,
      "outputs": [
        {
          "output_type": "stream",
          "name": "stdout",
          "text": [
            "1\n"
          ]
        }
      ]
    },
    {
      "cell_type": "markdown",
      "source": [
        "**Lists**\n",
        "\n",
        "Typically, a list will contain items of a single item type, but it is also possible to include several different types.\n",
        "\n",
        "Lists can also be nested within other lists.\n",
        "\n",
        "> number = 3\n",
        "\n",
        "> Things = [\"string\", 0, [1, 2, number], 4.56]\n",
        "\n",
        "> print(things[1])\n",
        "\n",
        "> print(things[2])\n",
        "\n",
        "> print(things[2][2])\n",
        "\n",
        "Nested lists can be used to represent 2D grids, such as matrices. \n",
        "\n",
        "For example:\n",
        "\n",
        "    m = [\n",
        "         [ 1, 2, 3 ],\n",
        "         [ 4, 5, 6 ],\n",
        "        ] \n",
        "\n",
        "> print(m[1][2]) # 6\n",
        "\n",
        "A matrix-like structure can be used in cases where you need to store data in row-column format. For example, when creating a ticketing program, the seat numbers can be stored in a matrix, with their corresponding rows and numbers.\n",
        "\n",
        "The code above outputs the 3rd item of the 2nd row."
      ],
      "metadata": {
        "id": "i-lgnI8ajKkj"
      }
    },
    {
      "cell_type": "code",
      "source": [
        "list = [42, 55, 67]\n",
        "\n",
        "print(list[2])"
      ],
      "metadata": {
        "colab": {
          "base_uri": "https://localhost:8080/"
        },
        "id": "gP3cMqvPjrLL",
        "outputId": "44ac4248-a19a-407b-e3b2-b619006724ed"
      },
      "execution_count": null,
      "outputs": [
        {
          "output_type": "stream",
          "name": "stdout",
          "text": [
            "67\n"
          ]
        }
      ]
    },
    {
      "cell_type": "markdown",
      "source": [
        "**Lists**\n",
        "\n",
        "Some types, such as strings, can be indexed like lists. \n",
        "\n",
        "Indexing strings behaves as though you are indexing a list containing each character in the string.\n",
        "\n",
        "For example:\n",
        "\n",
        "> str = \"Hello world!\"\n",
        "\n",
        "> print(str[6])\n",
        "\n",
        "Space(\" \") is also a symbol and has an index.\n",
        "\n",
        "Trying to access a non-existing index will produce an error."
      ],
      "metadata": {
        "id": "Wy3clTQvjuNj"
      }
    },
    {
      "cell_type": "code",
      "source": [
        "num = [5,4,2,[2],1]\n",
        "\n",
        "print(num[0])\n",
        "print(num[3][0])\n",
        "# print(num[5]) error"
      ],
      "metadata": {
        "colab": {
          "base_uri": "https://localhost:8080/"
        },
        "id": "mqLAlsK7j1lq",
        "outputId": "20e0add1-555b-40f0-b767-9f22f9b6ab29"
      },
      "execution_count": null,
      "outputs": [
        {
          "output_type": "stream",
          "name": "stdout",
          "text": [
            "5\n",
            "2\n"
          ]
        }
      ]
    },
    {
      "cell_type": "markdown",
      "source": [
        "**List Operations**\n",
        "\n",
        "The item at a certian index in a list can be reassigned \n",
        "\n",
        "For example:\n",
        "\n",
        "> nums = [7, 7, 7, 7, 7]\n",
        "\n",
        "> nums[2] = 5\n",
        "\n",
        "> print(nums)\n",
        "\n",
        "You can replace the item with an item of a different type."
      ],
      "metadata": {
        "id": "eiO9bLrdj62q"
      }
    },
    {
      "cell_type": "code",
      "source": [
        "nums = [1, 2, 3, 4, 5]\n",
        "nums[3] = nums[1]\n",
        "\n",
        "print(nums[3])"
      ],
      "metadata": {
        "colab": {
          "base_uri": "https://localhost:8080/"
        },
        "id": "F1uu_yOqj9vy",
        "outputId": "f5e33dca-aa16-413b-8b70-243c1c8ba342"
      },
      "execution_count": null,
      "outputs": [
        {
          "output_type": "stream",
          "name": "stdout",
          "text": [
            "2\n"
          ]
        }
      ]
    },
    {
      "cell_type": "markdown",
      "source": [
        "**List Operations**\n",
        "\n",
        "Lists can be added an multiplied in the same way as strings. \n",
        "\n",
        "For example:\n",
        "\n",
        "> nums = [1, 2, 3]\n",
        "\n",
        "> print(nums + [4, 5, 6])\n",
        "\n",
        "> print(nums *3)\n",
        "\n",
        "Lists and strings are similar in many ways \n",
        "\n",
        "string can be thought of as lists of characters that can't be changed\n",
        "\n",
        "For example, the string \"Hello\" can be thought of as a list, where each character is an item in the list. The first item is \"H\", the second item is \"e\", and so on."
      ],
      "metadata": {
        "id": "8J8PbNTekBB6"
      }
    },
    {
      "cell_type": "code",
      "source": [
        "nums = [1, 2, 3]\n",
        "\n",
        "print(nums + [4, 5, 6])\n",
        "print(nums*3)"
      ],
      "metadata": {
        "colab": {
          "base_uri": "https://localhost:8080/"
        },
        "id": "bzwO1fLJkHxq",
        "outputId": "8c70b412-266c-48e1-b16a-6be0a5ad44c0"
      },
      "execution_count": null,
      "outputs": [
        {
          "output_type": "stream",
          "name": "stdout",
          "text": [
            "[1, 2, 3, 4, 5, 6]\n",
            "[1, 2, 3, 1, 2, 3, 1, 2, 3]\n"
          ]
        }
      ]
    },
    {
      "cell_type": "code",
      "source": [
        "nums = [33, 42, 56]\n",
        "nums[1] = 22\n",
        "\n",
        "print(nums)"
      ],
      "metadata": {
        "colab": {
          "base_uri": "https://localhost:8080/"
        },
        "id": "2N_dHzQkkS41",
        "outputId": "7db62016-9704-42a3-f053-74d4a522d7b1"
      },
      "execution_count": null,
      "outputs": [
        {
          "output_type": "stream",
          "name": "stdout",
          "text": [
            "[33, 22, 56]\n"
          ]
        }
      ]
    },
    {
      "cell_type": "markdown",
      "source": [
        "**List Operations**\n",
        "\n",
        "To check if an item is in a list, the **in** operator can be used. \n",
        "\n",
        "- It returns **True** if the item occurs one or more times in the list, and\n",
        "- **False** if it doesn't\n",
        "\n",
        "> words = [\"spam\", \"egg\", \"spam\", \"sausage\"]\n",
        "\n",
        "> print(\"spam\" in words)\n",
        "\n",
        "> print(\"egg\" in words)\n",
        "\n",
        "> print(\"tomato\" in words)\n",
        "\n",
        "The **in** operator is also used to determien whether or not a string is a substring of another string."
      ],
      "metadata": {
        "id": "WPp-XKWIkd1z"
      }
    },
    {
      "cell_type": "code",
      "source": [
        "nums = [10, 9, 8, 7, 6, 5]\n",
        "nums[0] = nums[1] - 5\n",
        "\n",
        "if 4 in nums:\n",
        "  print(nums[3])\n",
        "else:\n",
        "  print(nums[4])"
      ],
      "metadata": {
        "colab": {
          "base_uri": "https://localhost:8080/"
        },
        "id": "FBEKHIbWkhWK",
        "outputId": "96f946ae-eff3-4c80-a145-48d5d20dc3bd"
      },
      "execution_count": null,
      "outputs": [
        {
          "output_type": "stream",
          "name": "stdout",
          "text": [
            "7\n"
          ]
        }
      ]
    },
    {
      "cell_type": "markdown",
      "source": [
        "**List Operations**\n",
        "\n",
        "To check if an item is not in a list, you can use the **not** operator in one of the following ways:\n",
        "\n",
        "> nums = [1, 2, 3]\n",
        "\n",
        "> print(not 4 in nums)\n",
        "\n",
        "> print(4 not in nums)\n",
        "\n",
        "> print(not 3 in nums)\n",
        "\n",
        "> print(3 not in nums)\n",
        "\n",
        "> #True \n",
        "\n",
        "> #True\n",
        "\n",
        "> #False\n",
        "\n",
        "> #False"
      ],
      "metadata": {
        "id": "UAkX9ci0ktwa"
      }
    },
    {
      "cell_type": "code",
      "source": [
        "letters = ['a', 'b', 'z']\n",
        "\n",
        "if \"z\" in letters:\n",
        "  print(\"Yes\")"
      ],
      "metadata": {
        "colab": {
          "base_uri": "https://localhost:8080/"
        },
        "id": "NVJX0zpMkv1L",
        "outputId": "1b942199-2f0f-4ee0-e495-b0b455fb76ab"
      },
      "execution_count": null,
      "outputs": [
        {
          "output_type": "stream",
          "name": "stdout",
          "text": [
            "Yes\n"
          ]
        }
      ]
    },
    {
      "cell_type": "markdown",
      "source": [
        "**List Functions**\n",
        "\n",
        "The **append** method adds an item to the end of an existing list.\n",
        "\n",
        "For example:\n",
        "\n",
        "> nums = [1, 2, 3]\n",
        "\n",
        "> nums.append(4)\n",
        "\n",
        "> print(nums)\n",
        "\n",
        "> #[1, 2, 3, 4]\n",
        "\n",
        "The **dot** before append is there because it is a **method** of the list class. "
      ],
      "metadata": {
        "id": "ZvtvMoHak3a7"
      }
    },
    {
      "cell_type": "code",
      "source": [
        "words = [\"hello\"]\n",
        "words.append(\"world\")\n",
        "\n",
        "print(words[1])"
      ],
      "metadata": {
        "colab": {
          "base_uri": "https://localhost:8080/"
        },
        "id": "1YVRf56Lk5fD",
        "outputId": "81ac053e-04ce-4f73-ae18-706f86d030f6"
      },
      "execution_count": null,
      "outputs": [
        {
          "output_type": "stream",
          "name": "stdout",
          "text": [
            "world\n"
          ]
        }
      ]
    },
    {
      "cell_type": "markdown",
      "source": [
        "**List Functions**\n",
        "\n",
        "To get the number of items in a list, you can use the **len** function.\n",
        "\n",
        "> nums = [1, 3, 5, 2, 4]\n",
        "\n",
        "> print(len(nums))\n",
        "\n",
        "Unlike the index of the items, **len** does not start with 0. So, the list above contains 5 items, meaning **len** will return 5.\n",
        "\n",
        "**len** is written before the list it is being called on, without a dot.\n"
      ],
      "metadata": {
        "id": "88R_f_jClAgD"
      }
    },
    {
      "cell_type": "code",
      "source": [
        "letters = [\"a\", \"b\", \"c\"]\n",
        "letters.append(\"d\")\n",
        "\n",
        "print(len(letters))"
      ],
      "metadata": {
        "colab": {
          "base_uri": "https://localhost:8080/"
        },
        "id": "SdF48m1KlCMO",
        "outputId": "3dbed22f-74a7-4346-9f9e-5f49a67b4d8c"
      },
      "execution_count": null,
      "outputs": [
        {
          "output_type": "stream",
          "name": "stdout",
          "text": [
            "4\n"
          ]
        }
      ]
    },
    {
      "cell_type": "markdown",
      "source": [
        "**List Functions**\n",
        "\n",
        "The **insert** method is similar to **append**, except that it allows you to insert a new item at any position in the list, as opposed to just at the end.\n",
        "\n",
        "> words = [\"Python\", \"fun]\n",
        "\n",
        "> index = 1\n",
        "\n",
        "> words.insert(index, \"is\")\n",
        "\n",
        "> print(words)\n",
        "\n",
        "> #Python is fun\n",
        "\n",
        "Elements, that are after the inserted item, are shifted to the right."
      ],
      "metadata": {
        "id": "f6Jm3gAflIci"
      }
    },
    {
      "cell_type": "code",
      "source": [
        "words = ['Python', 'fun']\n",
        "\n",
        "index = 1\n",
        "words.insert(index, 'is')\n",
        "print(words)"
      ],
      "metadata": {
        "colab": {
          "base_uri": "https://localhost:8080/"
        },
        "id": "MiTL8-eWlJqL",
        "outputId": "5943a0d1-b886-4c97-a8b3-4b23b0b4c305"
      },
      "execution_count": null,
      "outputs": [
        {
          "output_type": "stream",
          "name": "stdout",
          "text": [
            "['Python', 'is', 'fun']\n"
          ]
        }
      ]
    },
    {
      "cell_type": "code",
      "source": [
        "nums = [9, 8, 7, 6, 5]\n",
        "nums.append(4)\n",
        "nums.insert(2,11)\n",
        "\n",
        "print(nums)\n",
        "print(len(nums))"
      ],
      "metadata": {
        "colab": {
          "base_uri": "https://localhost:8080/"
        },
        "id": "mJgdvXecldrA",
        "outputId": "ce71ba1a-ee9c-4eea-d68e-8ca7a38e02d5"
      },
      "execution_count": null,
      "outputs": [
        {
          "output_type": "stream",
          "name": "stdout",
          "text": [
            "[9, 8, 11, 7, 6, 5, 4]\n",
            "7\n"
          ]
        }
      ]
    },
    {
      "cell_type": "markdown",
      "source": [
        "**List Functions**\n",
        "\n",
        "The **index** method finds the first occurrence of a list item and returns its index.\n",
        "\n",
        "if the item isn't in the list, it raises a ValueError.\n",
        "\n",
        "> letters = ['p', 'q', 'r', 's', 'p', 'u']\n",
        "\n",
        "> print(letters.index('r))\n",
        "\n",
        "> print(letters.index('p'))\n",
        "\n",
        "> print(letters.index('z'))\n",
        "\n",
        "> #2\n",
        "\n",
        "> #0\n",
        "\n",
        "> #ValueError.\n",
        "\n",
        "there are a few more useful functions and methods for lists.\n",
        "\n",
        "- max(list): Returns the list item with the maximum value.\n",
        "- min(list): Returns the list item with the minimum value.\n",
        "- list.count(item): Returns a count of how many times an item occurs in a list.\n",
        "- list.remove(item): Removes an object from a list.\n",
        "- list.reverse(): Reverses items in a list.\n",
        "\n",
        "For example, \n",
        "you can count how many 42s are there in the lsit using: **items.count(42)**\n",
        "where items is the name of our list."
      ],
      "metadata": {
        "id": "_rYvLGuPlhPK"
      }
    },
    {
      "cell_type": "code",
      "source": [
        "list = ['x', 'y']\n",
        "\n",
        "list.append('z')\n",
        "\n",
        "print(len(list))"
      ],
      "metadata": {
        "colab": {
          "base_uri": "https://localhost:8080/"
        },
        "id": "hOUH_BFzpIyz",
        "outputId": "53a86dc1-fdc0-4ab2-92c3-fb07e14b80a7"
      },
      "execution_count": null,
      "outputs": [
        {
          "output_type": "stream",
          "name": "stdout",
          "text": [
            "3\n"
          ]
        }
      ]
    },
    {
      "cell_type": "markdown",
      "source": [
        "**while Loops**\n",
        "\n",
        "A **while** loop is used to repeat a block of code multiple times.\n",
        "\n",
        "For example, let's say we need to process multiple user inputs, so that each time the user inputs something, the same block of code needs to execute.\n",
        "\n",
        "Below is a **while** loop containing a variable that counts up for 1 to 5, at which point the loop terminates.\n",
        "\n",
        "> i = 1\n",
        "\n",
        "> while i <= 5:\n",
        "\n",
        ">> print(i)\n",
        "\n",
        ">> i = i + 1\n",
        "\n",
        ">print(\"Finished!\")\n",
        "\n",
        "During each loop iteration, the i variable will get incremented by one, until it reaches 5.\n",
        "\n",
        "So, the loop will execure the print statement 5 times.\n",
        "\n",
        "The code in the body of a **while** loop is executed repeatedly, This is called **iteration.**\n"
      ],
      "metadata": {
        "id": "hwMh9NAepRzb"
      }
    },
    {
      "cell_type": "code",
      "source": [
        "i = 3\n",
        "\n",
        "while i >= 0:\n",
        "  print(i)\n",
        "  i = i - 1"
      ],
      "metadata": {
        "colab": {
          "base_uri": "https://localhost:8080/"
        },
        "id": "mLASLLN8pgw1",
        "outputId": "3cff7dba-ec66-4997-c78d-b31b370fd467"
      },
      "execution_count": null,
      "outputs": [
        {
          "output_type": "stream",
          "name": "stdout",
          "text": [
            "3\n",
            "2\n",
            "1\n",
            "0\n"
          ]
        }
      ]
    },
    {
      "cell_type": "markdown",
      "source": [
        "**while Loops**\n",
        "\n",
        "You can use multiple statements in the while loop. \n",
        "\n",
        "For example, you can use an **if** statement to make decisions. This can be useful, if you are making a game and need to loop through a number of player actions and add or remove points of the player.\n",
        "\n",
        "The code below uses an if/else statement inside a while loop to separate the even and odd numbers in the range of 1 to 10:\n",
        "\n",
        "> x = 1\n",
        "\n",
        "> while x < 10:\n",
        "\n",
        ">> if x % 2 == 0:\n",
        "\n",
        ">>> print(str(x) + \" is even\")\n",
        "\n",
        ">> else:\n",
        "\n",
        ">>> print(str(x) + \" is odd\")\n",
        "\n",
        ">> x += 1\n",
        "\n",
        "**str(x)** is used to convert the number x to a string, so that it can be used for concatenation\n",
        "\n",
        "In console, you can stop the program's execution by using the Ctrl-c shortcut or by closing the program."
      ],
      "metadata": {
        "id": "4m5X4NqDpmUT"
      }
    },
    {
      "cell_type": "code",
      "source": [
        "# find odd or even number \n",
        "\n",
        "x = 1 \n",
        "\n",
        "while x < 10:\n",
        "  if x % 2 == 0:\n",
        "    print(str(x) + ' is even')\n",
        "  else:\n",
        "    print(str(x) + ' is odd')\n",
        "  x += 1"
      ],
      "metadata": {
        "colab": {
          "base_uri": "https://localhost:8080/"
        },
        "id": "ykicbVWJp2-9",
        "outputId": "5864f0a0-b9c0-4246-8135-196266f917ad"
      },
      "execution_count": null,
      "outputs": [
        {
          "output_type": "stream",
          "name": "stdout",
          "text": [
            "1 is odd\n",
            "2 is even\n",
            "3 is odd\n",
            "4 is even\n",
            "5 is odd\n",
            "6 is even\n",
            "7 is odd\n",
            "8 is even\n",
            "9 is odd\n"
          ]
        }
      ]
    },
    {
      "cell_type": "code",
      "source": [
        "# only even number from 0 to 20\n",
        "\n",
        "x = 0\n",
        "\n",
        "while x <= 20:\n",
        "  print(x)\n",
        "\n",
        "  x += 2"
      ],
      "metadata": {
        "colab": {
          "base_uri": "https://localhost:8080/"
        },
        "id": "HqfmU-vkqMRd",
        "outputId": "aa1038bd-a998-4137-c3fa-ed5689561794"
      },
      "execution_count": null,
      "outputs": [
        {
          "output_type": "stream",
          "name": "stdout",
          "text": [
            "0\n",
            "2\n",
            "4\n",
            "6\n",
            "8\n",
            "10\n",
            "12\n",
            "14\n",
            "16\n",
            "18\n",
            "20\n"
          ]
        }
      ]
    },
    {
      "cell_type": "markdown",
      "source": [
        "**break** \n",
        "\n",
        "To end a while loop prematurely, the break statement can be used. \n",
        "\n",
        "For example, we can break an infinite loop if some condition is met:\n",
        "\n",
        "> i = 0\n",
        "\n",
        "> while True:\n",
        "\n",
        ">> print(i)\n",
        "\n",
        ">> i = i + 1\n",
        "\n",
        ">> if i >= 5:\n",
        "\n",
        ">>> print(\"Breaking\")\n",
        "\n",
        ">>> break\n",
        "\n",
        ">print(\"Finished\")\n",
        "\n",
        "**while True** is a short and easy way to make an infinite loop.\n",
        "\n",
        "**An example use case of break:**\n",
        "\n",
        "An infinite while loop can be used to continuously take user input. \n",
        "\n",
        "For example, you are making a calculator and need to take numbers from the user to add an stop, when the user enters **\"stop\"**.\n",
        "\n",
        "In the case, the **break** statement can be used to end the infinite loop when the user input equals \"stop\".\n",
        "\n",
        "Using the **break** statement outside of a loop causes an error."
      ],
      "metadata": {
        "id": "Xl-1U_X5qhYL"
      }
    },
    {
      "cell_type": "code",
      "source": [
        "i = 5 \n",
        "\n",
        "while True:\n",
        "  print(i)\n",
        "  i = i -1\n",
        "  if i <= 2:\n",
        "    break"
      ],
      "metadata": {
        "colab": {
          "base_uri": "https://localhost:8080/"
        },
        "id": "Y4iw9dC7qj9L",
        "outputId": "f68f85d4-d7d3-49d7-b690-385a6c7da9eb"
      },
      "execution_count": null,
      "outputs": [
        {
          "output_type": "stream",
          "name": "stdout",
          "text": [
            "5\n",
            "4\n",
            "3\n"
          ]
        }
      ]
    },
    {
      "cell_type": "markdown",
      "source": [
        "**continue**\n",
        "\n",
        "Another statement that can be used withing loops is **continue**  \n",
        "\n",
        "Unlike **break**, **continue** jumps back to the top of the loop, rather than stopping it.\n",
        "\n",
        "Basically, the **continue** statement stops the current iteration and continues with the next one.\n",
        "\n",
        "**For example:**\n",
        "\n",
        "> i = 1 \n",
        "\n",
        ">while i <= 5:\n",
        "\n",
        ">> print(i)\n",
        "\n",
        ">> i += 1\n",
        "\n",
        ">> if i == 3:\n",
        "\n",
        ">>> print(\"Skipping 3\")\n",
        "\n",
        ">>> continue\n",
        "\n",
        "**An example use case of continue:**\n",
        "\n",
        "An airline ticketing system needs to calculate the total cost for all tickets purchased. The tickets for childeren under the age of 1 are free. We can use a while loop to iterate through the list of passengers and calculate the total cost of their tickets. Here, the **continue** statement can be used to skip the children.\n",
        "\n",
        "Using the **continue** statement outside of a loop causes and error.\n",
        "\n"
      ],
      "metadata": {
        "id": "S7k1NeMGq2QN"
      }
    },
    {
      "cell_type": "code",
      "source": [
        "i = 0 \n",
        "\n",
        "while i < 5:\n",
        "  i += 1 \n",
        "  if i == 3:\n",
        "    print(\"Skipping 3\")\n",
        "    continue\n",
        "    print(\"not print\")\n",
        "  else:\n",
        "    print(i)\n"
      ],
      "metadata": {
        "colab": {
          "base_uri": "https://localhost:8080/"
        },
        "id": "iQlHPXG_rSKL",
        "outputId": "caf4b73c-861e-444b-bed4-7b75f61defe8"
      },
      "execution_count": null,
      "outputs": [
        {
          "output_type": "stream",
          "name": "stdout",
          "text": [
            "1\n",
            "2\n",
            "Skipping 3\n",
            "4\n",
            "5\n"
          ]
        }
      ]
    },
    {
      "cell_type": "markdown",
      "source": [
        "**for Loop**\n",
        "\n",
        "The for loop is used to iterate over a given sequence, such as lists or strings. \n",
        "\n",
        "The code below outputs each item in the list and adds an exclamation mark at the end:\n",
        "\n",
        "> words = [\"hello\", \"world\", \"spam\", \"eggs\"]\n",
        "\n",
        "> for word in words:\n",
        "\n",
        ">> print(word + \"!\")\n",
        "\n",
        "In the code above, the word variable represents the corresponding item of the list in each iteration of the loop. \n",
        "\n",
        "During the 1st iteration, word is equal to \"hello\", and during the 2nd iteration it's equal to \"world\", and so on."
      ],
      "metadata": {
        "id": "IbEPsZKkswnj"
      }
    },
    {
      "cell_type": "code",
      "source": [
        "letters = ['a', 'b', 'c']\n",
        "\n",
        "for l in letters:\n",
        "  print(l)"
      ],
      "metadata": {
        "colab": {
          "base_uri": "https://localhost:8080/"
        },
        "id": "EEbfFoXDs6KL",
        "outputId": "eb7a5a7c-c1a5-478e-c1cb-a91db32bc12b"
      },
      "execution_count": null,
      "outputs": [
        {
          "output_type": "stream",
          "name": "stdout",
          "text": [
            "a\n",
            "b\n",
            "c\n"
          ]
        }
      ]
    },
    {
      "cell_type": "markdown",
      "source": [
        "**for Loops**\n",
        "\n",
        "The **for** loop can be used to iterate over strings.\n",
        "\n",
        "**For example:**\n",
        "\n",
        "> str = \"testing for loops\"\n",
        "\n",
        "> count = 0\n",
        "\n",
        "> for x in str:\n",
        "\n",
        ">> if(x == 't'):\n",
        "\n",
        ">>> count += 1\n",
        "\n",
        "> print(count)\n",
        "\n",
        "\n",
        "The code above defines a count variable, iterates over the string and calculates the count of 't' letters in it. During each iteration, the **x** variable represents the current letter of the string.\n",
        "\n",
        "The count variable is incremented each itme the letter 't' is found, thus, at the end of the loop it represents the number of 't' letters in the string.\n",
        "\n",
        "Similar to **while** loops, the **break** and **continue** statemetns can be used in **for** loops, to stop the loop or jump to the next iteration."
      ],
      "metadata": {
        "id": "uI_3KRrTs8kb"
      }
    },
    {
      "cell_type": "code",
      "source": [
        "list = [2, 3, 4, 5, 6, 7]\n",
        "\n",
        "for x in list:\n",
        " if (x % 2 == 1 and x > 4):\n",
        "   print(x)\n",
        "   break"
      ],
      "metadata": {
        "colab": {
          "base_uri": "https://localhost:8080/"
        },
        "id": "voweOKcctERz",
        "outputId": "5fa57fe5-f794-4603-a586-4e49a9c0913a"
      },
      "execution_count": null,
      "outputs": [
        {
          "output_type": "stream",
          "name": "stdout",
          "text": [
            "5\n"
          ]
        }
      ]
    },
    {
      "cell_type": "markdown",
      "source": [
        "**for vs while**\n",
        "\n",
        "Both, **for** and **while** loops can be used to execute a block of code for multiple times.\n",
        "\n",
        "It is common to use the **for** loop when the number of iterations is fixed. For example, iterating over a fixed list of items in a shopping list.\n",
        "\n",
        "The **while** loop is used in cases when the number of iterations is not known and depends on some calculations and conditions in the code block of the loop.\n",
        "\n",
        "For example, ending the loop when the user enters a specific input in a calculator program.\n",
        "\n",
        "Both, **for** and **while** loops can be used to achieve the same results, however, the **for** loop has cleaner and shorter syntax, makign it a better choice in most cases."
      ],
      "metadata": {
        "id": "F5FPewC1tQFc"
      }
    },
    {
      "cell_type": "markdown",
      "source": [
        "**Range**\n",
        "\n",
        "The **range()** function returns a sequence of numbers.\n",
        "\n",
        "By default, it starts from 0, increments by 1 and stops **before the specified number.**\n",
        "\n",
        "The code below generates a list containing all of the integers, up to 10.\n",
        "\n",
        "> numbers = list(range(10))\n",
        "\n",
        "> print(numbers)\n",
        "\n",
        "In order to output the range as a list, we need to explicitly convert it to a list, using the **list()** function."
      ],
      "metadata": {
        "id": "-CVvLVDRte1E"
      }
    },
    {
      "cell_type": "code",
      "source": [
        "list = range(5)\n",
        "\n",
        "print(list[4])"
      ],
      "metadata": {
        "colab": {
          "base_uri": "https://localhost:8080/"
        },
        "id": "KIJv0dVvtnwV",
        "outputId": "9c96a0cc-cc61-4643-bebf-39e9ae8c58ab"
      },
      "execution_count": null,
      "outputs": [
        {
          "output_type": "stream",
          "name": "stdout",
          "text": [
            "4\n"
          ]
        }
      ]
    },
    {
      "cell_type": "markdown",
      "source": [
        "**Range**\n",
        "\n",
        "if range is **called with one argument**, it produces an object with values **from 0 to that argument**.\n",
        "\n",
        "if it is **called with two arguemnts**, it produces values **from the first to the second**.\n",
        "\n",
        "For example:\n",
        "\n",
        "> numbers = list(range(3, 8))\n",
        "\n",
        "> print(numbers)\n",
        "\n",
        "> print(range(20) == range(0, 20))\n",
        "\n",
        "Remember, **the second argument is not included in the range**, so range(3, 8) will not include the number 8."
      ],
      "metadata": {
        "id": "Bd6MCiBOtxH0"
      }
    },
    {
      "cell_type": "code",
      "source": [
        "print(len(range(20)) == len(range(0,20)))"
      ],
      "metadata": {
        "colab": {
          "base_uri": "https://localhost:8080/"
        },
        "id": "FXeM36D9t1dU",
        "outputId": "cdea886c-dcac-4791-f051-8698377aaea4"
      },
      "execution_count": null,
      "outputs": [
        {
          "output_type": "stream",
          "name": "stdout",
          "text": [
            "True\n"
          ]
        }
      ]
    },
    {
      "cell_type": "code",
      "source": [
        "nums = range(5, 8)\n",
        "\n",
        "print(len(nums))"
      ],
      "metadata": {
        "colab": {
          "base_uri": "https://localhost:8080/"
        },
        "id": "0eG2K1fgt2zk",
        "outputId": "f244d1e4-88a6-4be0-cde4-35718934c2c8"
      },
      "execution_count": null,
      "outputs": [
        {
          "output_type": "stream",
          "name": "stdout",
          "text": [
            "3\n"
          ]
        }
      ]
    },
    {
      "cell_type": "markdown",
      "source": [
        "**Range**\n",
        "\n",
        "**range** can have a **third argument**, which determines the **interval** of the sequence produced, also called the **step**\n",
        "\n",
        "> numbers = list(range(5, 20, 2))\n",
        "\n",
        "> print(numbers)\n",
        "\n",
        "We can also create list of **decreasign numbers**, using a **negative number** as the third argument, for example **list(range(20, 5, -2)).**"
      ],
      "metadata": {
        "id": "WYAgtGnUt5NL"
      }
    },
    {
      "cell_type": "code",
      "source": [
        "nums = range(3, 15, 3)\n",
        "print(nums[2])"
      ],
      "metadata": {
        "colab": {
          "base_uri": "https://localhost:8080/"
        },
        "id": "CWtSV4_bt-nE",
        "outputId": "075fcdab-96fb-466b-f7f8-b9de6fbc6167"
      },
      "execution_count": null,
      "outputs": [
        {
          "output_type": "stream",
          "name": "stdout",
          "text": [
            "9\n"
          ]
        }
      ]
    },
    {
      "cell_type": "markdown",
      "source": [
        "**for Loops**\n",
        "\n",
        "The **for** loop is commonly used to repeat some code a certain number of times. This is done by combining for loop with **range** objects.\n",
        "\n",
        "> for i in range(5):\n",
        ">> print(\"hello!\")\n",
        "\n",
        "You don't need to call **list** on the **range** object when it is used in a **for** loop, because it isn't being indexed, so a list isn't required"
      ],
      "metadata": {
        "id": "_3kMK8BUuA3i"
      }
    },
    {
      "cell_type": "code",
      "source": [
        "for i in range(0, 20, 2):\n",
        "  print(i)"
      ],
      "metadata": {
        "colab": {
          "base_uri": "https://localhost:8080/"
        },
        "id": "0VImPuT9uJaC",
        "outputId": "473a53fc-6ffb-4dbd-8511-087f8bbc8c8f"
      },
      "execution_count": null,
      "outputs": [
        {
          "output_type": "stream",
          "name": "stdout",
          "text": [
            "0\n",
            "2\n",
            "4\n",
            "6\n",
            "8\n",
            "10\n",
            "12\n",
            "14\n",
            "16\n",
            "18\n"
          ]
        }
      ]
    },
    {
      "cell_type": "markdown",
      "source": [
        "**Quizes**"
      ],
      "metadata": {
        "id": "jGd6cqeyuLuk"
      }
    },
    {
      "cell_type": "code",
      "source": [
        "list = [1, 1, 2, 3, 5, 8, 13]\n",
        "\n",
        "print(list[list[4]])"
      ],
      "metadata": {
        "colab": {
          "base_uri": "https://localhost:8080/"
        },
        "id": "znRsMNcCuPUU",
        "outputId": "23ce05bf-db85-4ed0-e38a-027aa1efb6f8"
      },
      "execution_count": null,
      "outputs": [
        {
          "output_type": "stream",
          "name": "stdout",
          "text": [
            "8\n"
          ]
        }
      ]
    },
    {
      "cell_type": "code",
      "source": [
        "for i in range (10):\n",
        "  if not i % 2 == 0 :\n",
        "    print(i + 1)"
      ],
      "metadata": {
        "colab": {
          "base_uri": "https://localhost:8080/"
        },
        "id": "AlTjfgyXuQ9s",
        "outputId": "e5f8ba99-0fe0-4080-83ad-d57de8f5da37"
      },
      "execution_count": null,
      "outputs": [
        {
          "output_type": "stream",
          "name": "stdout",
          "text": [
            "2\n",
            "4\n",
            "6\n",
            "8\n",
            "10\n"
          ]
        }
      ]
    },
    {
      "cell_type": "code",
      "source": [
        "while False:\n",
        "  print(\"Looping...\")"
      ],
      "metadata": {
        "id": "OT2LkCzMuSpb"
      },
      "execution_count": null,
      "outputs": []
    },
    {
      "cell_type": "code",
      "source": [
        "list = [1, 2, 3, 4]\n",
        "if len(list) % 2 == 0:\n",
        "  print(list[0])"
      ],
      "metadata": {
        "colab": {
          "base_uri": "https://localhost:8080/"
        },
        "id": "IDwaiqCTuUKr",
        "outputId": "a595ac2c-d18f-45a2-ebb0-34ba0facdf4a"
      },
      "execution_count": null,
      "outputs": [
        {
          "output_type": "stream",
          "name": "stdout",
          "text": [
            "1\n"
          ]
        }
      ]
    },
    {
      "cell_type": "code",
      "source": [
        "letters = ['x', 'y', 'z']\n",
        "letters.insert(1, 'w')\n",
        "print(letters[2])\n",
        "print(letters)"
      ],
      "metadata": {
        "colab": {
          "base_uri": "https://localhost:8080/"
        },
        "id": "Gsmf-eD9uVy_",
        "outputId": "0c814953-00cf-439a-ba8d-8fe3cb04c0fb"
      },
      "execution_count": null,
      "outputs": [
        {
          "output_type": "stream",
          "name": "stdout",
          "text": [
            "y\n",
            "['x', 'w', 'y', 'z']\n"
          ]
        }
      ]
    },
    {
      "cell_type": "code",
      "source": [
        "list = [1, 2, 3]\n",
        "for var in list:\n",
        "  print(var)"
      ],
      "metadata": {
        "colab": {
          "base_uri": "https://localhost:8080/"
        },
        "id": "U_UPp_gkuXab",
        "outputId": "5e6d3c42-2d6e-48e8-ef15-64975ec485f3"
      },
      "execution_count": null,
      "outputs": [
        {
          "output_type": "stream",
          "name": "stdout",
          "text": [
            "1\n",
            "2\n",
            "3\n"
          ]
        }
      ]
    },
    {
      "cell_type": "markdown",
      "source": [
        "**Extra**"
      ],
      "metadata": {
        "id": "7V8NFsDHV7Gt"
      }
    },
    {
      "cell_type": "code",
      "source": [
        "print(\"Find Prime number 1 - 100\")\n",
        "num = int(input(\"Plase enter number between 1 to 100 : \"))\n",
        "\n",
        "\n",
        "primes = [2, 3, 5, 7, \n",
        "          11, 13, 17, 19,\n",
        "          23, 29, \n",
        "          31, 37, \n",
        "          41, 43, 47,\n",
        "          53, 59,\n",
        "          61, 67,\n",
        "          71, 73, 79,\n",
        "          83, 89,\n",
        "          97,]\n",
        "\n",
        "if num in primes:\n",
        "  print(f\"{num} is a prime number\")\n",
        "else:\n",
        "  print(f\"{num} is not a prime number\")          "
      ],
      "metadata": {
        "colab": {
          "base_uri": "https://localhost:8080/"
        },
        "id": "zp1vfyvGRGZM",
        "outputId": "fc9bdf04-ce05-4bde-dfde-962bf94e27c3"
      },
      "execution_count": null,
      "outputs": [
        {
          "output_type": "stream",
          "name": "stdout",
          "text": [
            "Find Prime number 1 - 100\n",
            "Plase enter number between 1 to 100 : 2\n",
            "2 is a prime number\n"
          ]
        }
      ]
    },
    {
      "cell_type": "markdown",
      "source": [
        "#<center><b>4. Functions & Modules</b></center>"
      ],
      "metadata": {
        "id": "3jjMhkUYAgvY"
      }
    },
    {
      "cell_type": "markdown",
      "source": [
        "**Reusing Code**\n",
        "\n",
        "**code reuse** is a very important part of programming in any language.\n",
        "Increasing code size makes it harder to maintain.\n",
        "\n",
        "Far a large programming project to be successful, it is essential to abide by the **Don't Repeat Yourself**, or **DRY**, principle. We've already looked at one way of doing this: by using loops. In this module, we will explore two more:\n",
        "- functions and\n",
        "- modules\n",
        "\n",
        "Bad, repetitive code is said to abide by the **WET** priciple, with stands for **Write Everything Twice**, or **We Enjoy Typing.**"
      ],
      "metadata": {
        "id": "QjJLSoIMAvZg"
      }
    },
    {
      "cell_type": "markdown",
      "source": [
        "**Functions**\n",
        "\n",
        "You've already used **functions** in previous lessons. Any statement that consists of a word followed by information in **parentheses** is a function call.\n",
        "\n",
        "Here are some examples that you've already seen:\n",
        "\n",
        "> print(\"Hello world!\")\n",
        "\n",
        "> range(2, 20)\n",
        "\n",
        "> str(12)\n",
        "\n",
        "> range(10, 20, 3)\n",
        "\n",
        "The words in front of the parentheses are function **names**, and the comma-separated values inside the parentheses are function **arguments.**"
      ],
      "metadata": {
        "id": "xKhvEFcJU3NU"
      }
    },
    {
      "cell_type": "code",
      "source": [
        "nums = range(0, 100, 5)\n",
        "\n",
        "print(len(nums))"
      ],
      "metadata": {
        "colab": {
          "base_uri": "https://localhost:8080/"
        },
        "id": "g7m9clyBU5K6",
        "outputId": "a41b0e03-17cf-4666-f298-59db62071689"
      },
      "execution_count": null,
      "outputs": [
        {
          "output_type": "stream",
          "name": "stdout",
          "text": [
            "20\n"
          ]
        }
      ]
    },
    {
      "cell_type": "markdown",
      "source": [
        "**Functions**\n",
        "\n",
        "In addition to using pre-defined functions, you can create your own functions by using the **def** statement.\n",
        "\n",
        "Here is an example of a function name **my_func**. It takes no arguments, and print \"spam\" three times. It is defined, and then called. The statements in the function are executed only when the function is called.\n",
        "\n",
        "> def my_func():\n",
        "\n",
        ">> print(\"spam\")\n",
        "\n",
        ">> print(\"spam\")\n",
        "\n",
        ">> print(\"spam\")\n",
        "\n",
        "> my_func()\n",
        "\n",
        "The code block within every function starts with a colon (:) and is **indented**."
      ],
      "metadata": {
        "id": "kQeJYd5TVFDS"
      }
    },
    {
      "cell_type": "code",
      "source": [
        "def hello():\n",
        "  print(\"Hi!\")\n",
        "\n",
        "hello()"
      ],
      "metadata": {
        "colab": {
          "base_uri": "https://localhost:8080/"
        },
        "id": "sGpBJ8LbVGqC",
        "outputId": "cb7f2ed9-68a1-408a-c332-aa2abb2f8fad"
      },
      "execution_count": null,
      "outputs": [
        {
          "output_type": "stream",
          "name": "stdout",
          "text": [
            "Hi!\n"
          ]
        }
      ]
    },
    {
      "cell_type": "markdown",
      "source": [
        "**Functions**\n",
        "\n",
        "You must define functions before they are called, in the same way that you must assign variables before usign them.\n",
        "\n",
        "> hello()\n",
        "\n",
        "> def hello():\n",
        "\n",
        ">>print(\"Hello world!\")\n",
        "\n",
        "> #Error\n"
      ],
      "metadata": {
        "id": "rOzdSdPRVNO7"
      }
    },
    {
      "cell_type": "code",
      "source": [
        "def sayHi():\n",
        "  print(\"Hi!\")\n",
        "\n",
        "sayHi()"
      ],
      "metadata": {
        "colab": {
          "base_uri": "https://localhost:8080/"
        },
        "id": "X4EtaBoJVPz5",
        "outputId": "85f8e639-2d42-40b0-c51d-cad5228fc71a"
      },
      "execution_count": null,
      "outputs": [
        {
          "output_type": "stream",
          "name": "stdout",
          "text": [
            "Hi!\n"
          ]
        }
      ]
    },
    {
      "cell_type": "markdown",
      "source": [
        "**Arguments**\n",
        "\n",
        "All the function definitins we've looked at so far have been functions of zero arguemnts, which are called with empty parentheses. However, most functions take arguemtns. The example below defines a function that takes one argument:\n",
        "\n",
        "> def print_with_exclamation(word):\n",
        "\n",
        ">> print(word + \"!\")\n",
        "\n",
        "> print_with_exclamation(\"spam\")\n",
        "\n",
        "> print_with_exclamation(\"eggs\")\n",
        "\n",
        "> print_with_exclamation(\"python\")\n",
        "\n",
        "As you can see, the argument is defined inside the parentheses."
      ],
      "metadata": {
        "id": "J4qPZpTuVZwi"
      }
    },
    {
      "cell_type": "code",
      "source": [
        "def print_double(x):\n",
        "  print(2 * x)\n",
        "\n",
        "print_double(3)\n",
        "print_double('s')"
      ],
      "metadata": {
        "colab": {
          "base_uri": "https://localhost:8080/"
        },
        "id": "H3u_XFtZVdjb",
        "outputId": "2d44bfce-4b6f-4de6-88fb-aa0f20c7442e"
      },
      "execution_count": null,
      "outputs": [
        {
          "output_type": "stream",
          "name": "stdout",
          "text": [
            "6\n",
            "ss\n"
          ]
        }
      ]
    },
    {
      "cell_type": "code",
      "source": [
        "def print_twice(x):\n",
        "  print(2 * str(x))\n",
        "\n",
        "print_twice(3)  "
      ],
      "metadata": {
        "colab": {
          "base_uri": "https://localhost:8080/"
        },
        "id": "ht7CdcVWVpwn",
        "outputId": "ead024af-45e1-4712-faff-6431b6606511"
      },
      "execution_count": null,
      "outputs": [
        {
          "output_type": "stream",
          "name": "stdout",
          "text": [
            "33\n"
          ]
        }
      ]
    },
    {
      "cell_type": "markdown",
      "source": [
        "**Arguments**\n",
        "\n",
        "You can also define functions with more than one argument; separate them with commas.\n",
        "\n",
        "> def print_sum_twice(x, y):\n",
        "\n",
        ">> print(x + y)\n",
        "\n",
        ">> print(x + y)\n",
        "\n",
        "> print_sum_twice(5, 8)\n",
        "\n",
        "> #13\n",
        "\n",
        "> #13"
      ],
      "metadata": {
        "id": "hUHSkHG4Vy1A"
      }
    },
    {
      "cell_type": "code",
      "source": [
        "def print_mult(x, y):\n",
        "  print(x * y)\n",
        "\n",
        "print_mult(4, 8)"
      ],
      "metadata": {
        "colab": {
          "base_uri": "https://localhost:8080/"
        },
        "id": "zYTlxnoXV2_6",
        "outputId": "94cf8168-0091-4080-f21b-0b385fb2fb36"
      },
      "execution_count": null,
      "outputs": [
        {
          "output_type": "stream",
          "name": "stdout",
          "text": [
            "32\n"
          ]
        }
      ]
    },
    {
      "cell_type": "markdown",
      "source": [
        "**Arguments**\n",
        "\n",
        "Function arguments can be used as variables inside the function definition. However, they cannot be referenced outside of the function's definition. This also applies to other variables created inside a function.\n",
        "\n",
        "> def function(variable):\n",
        "\n",
        ">> variable += 1\n",
        "\n",
        ">> print(variable)\n",
        "\n",
        "> function(7)\n",
        "\n",
        "> print(variable)\n",
        "\n",
        "> #Error\n",
        "\n",
        "Technically, **parameters** are the variables in a function definition, and **arguments** are the values put into parameters when functions are called\n",
        "\n",
        "- parameters ตัวแปรที่อยู่ในฟังก์ชัน\n",
        "- arguments ค่าที่ส่งไปในตัวแปร"
      ],
      "metadata": {
        "id": "jQLJxs5SWmqD"
      }
    },
    {
      "cell_type": "code",
      "source": [
        "def even(x):\n",
        "  if x%2 == 0:\n",
        "    print(\"Yes\")\n",
        "  else:\n",
        "    print(\"No\")\n",
        "    \n",
        "even(2)\n",
        "even(7)"
      ],
      "metadata": {
        "colab": {
          "base_uri": "https://localhost:8080/"
        },
        "id": "gRjuKN8jW6Ga",
        "outputId": "883a1b8f-00ec-45cf-80d5-c88956a1deea"
      },
      "execution_count": null,
      "outputs": [
        {
          "output_type": "stream",
          "name": "stdout",
          "text": [
            "Yes\n",
            "No\n"
          ]
        }
      ]
    },
    {
      "cell_type": "markdown",
      "source": [
        "**Returning for Funcitons**\n",
        "\n",
        "Certain functions, such as **int** or **str**, return a value that can be used later.\n",
        "\n",
        "To do this for your defined functions, you can use the **return** statement.\n",
        "\n",
        "**For example:**\n",
        "\n",
        "> def max(x, y):\n",
        "\n",
        ">> if x >= y:\n",
        "\n",
        ">>> return x\n",
        "\n",
        ">> else: \n",
        "\n",
        ">>> return y\n",
        "\n",
        "> print(max(4, 7))\n",
        "\n",
        "> z = max(8, 5)\n",
        "\n",
        "> print(z)\n",
        "\n",
        "> #7\n",
        "\n",
        "> #8\n",
        "\n",
        "The **return** statement cannot be used outside of a function definition.\n"
      ],
      "metadata": {
        "id": "pHuItA1XXGxO"
      }
    },
    {
      "cell_type": "code",
      "source": [
        "def shortest_string(x,y):\n",
        "  if len(x) <= len(y):\n",
        "    return x\n",
        "  else:\n",
        "    return y\n",
        "\n",
        "shortest_string(\"hello world\", \"good morning\")"
      ],
      "metadata": {
        "colab": {
          "base_uri": "https://localhost:8080/",
          "height": 35
        },
        "id": "nHbitMp7XM2K",
        "outputId": "e62df2d6-8ab6-44fc-be2b-3d2a7e0a820d"
      },
      "execution_count": null,
      "outputs": [
        {
          "output_type": "execute_result",
          "data": {
            "text/plain": [
              "'hello world'"
            ],
            "application/vnd.google.colaboratory.intrinsic+json": {
              "type": "string"
            }
          },
          "metadata": {},
          "execution_count": 15
        }
      ]
    },
    {
      "cell_type": "markdown",
      "source": [
        "**Returning from Functions**\n",
        "\n",
        "Once you return a value from a function, it immediately stops being executed. Any code after the **return** statement will never happen.\n",
        "\n",
        "**For example:**\n",
        "\n",
        "> def add_numbers(x, y):\n",
        "\n",
        ">> total = x + y\n",
        "\n",
        ">> return total\n",
        "\n",
        ">> print(\"This won't be printed\") # not print\n",
        "\n",
        "> print(add_numbers(4, 5))\n",
        "\n",
        "> #9"
      ],
      "metadata": {
        "id": "GHuXyt7TXW9D"
      }
    },
    {
      "cell_type": "code",
      "source": [
        "def print_numbers():\n",
        "  print(1)\n",
        "  print(2)\n",
        "  return \n",
        "  print(4)\n",
        "  print(6)\n",
        "\n",
        "print_numbers()"
      ],
      "metadata": {
        "colab": {
          "base_uri": "https://localhost:8080/"
        },
        "id": "IDGa7NXpXYST",
        "outputId": "34d24f9d-cd46-48c4-b77b-144f96acc670"
      },
      "execution_count": null,
      "outputs": [
        {
          "output_type": "stream",
          "name": "stdout",
          "text": [
            "1\n",
            "2\n"
          ]
        }
      ]
    },
    {
      "cell_type": "markdown",
      "source": [
        "**Comments**\n",
        "\n",
        "**Comments** are annotations to code used to make it easier to understand. They don't affect how code is run.\n",
        "\n",
        "In Python, a comment is created by inserting an **octothorpe** (otherwise known as a number sign or hash symbol: #). All text after it on that line is ignored. \n",
        "\n",
        "**For example:**\n",
        "\n",
        "> x = 365\n",
        "\n",
        "> y = 7\n",
        "\n",
        "> #this is a comment\n",
        "\n",
        "> print(x % y) #find the remainder\n",
        "\n",
        "> #print(x//y)\n",
        "\n",
        "> #another comment\n",
        "\n",
        "Python doesn't have general purpose multiline comments, as do programming languages such as C."
      ],
      "metadata": {
        "id": "k04r96-iXoMz"
      }
    },
    {
      "cell_type": "code",
      "source": [
        "x = 8\n",
        "\n",
        "# printing x\n",
        "\n",
        "print(x)"
      ],
      "metadata": {
        "colab": {
          "base_uri": "https://localhost:8080/"
        },
        "id": "-z5LN6SMXqVS",
        "outputId": "0a55c22e-2c45-4c71-c21d-46bde338f5ac"
      },
      "execution_count": null,
      "outputs": [
        {
          "output_type": "stream",
          "name": "stdout",
          "text": [
            "8\n"
          ]
        }
      ]
    },
    {
      "cell_type": "markdown",
      "source": [
        "**Docstrings**\n",
        "\n",
        "**Docstrings** (documentation strings) serve a similar purpose to comments, as they are designed to explain code. However, they are more specific and have a different syntax. They are created by putting a multiline string containing and explanatin of the function below the **function's first line**\n",
        "\n",
        "> def shout(word):\n",
        "\n",
        ">> \"\"\"\n",
        "\n",
        ">> Print a word with an \n",
        "\n",
        ">> exclamation mark following it.\n",
        "\n",
        ">> \"\"\"\n",
        "\n",
        ">> print(word + \"!\")\n",
        "\n",
        "> shout(\"spam\")\n",
        "\n",
        "Unlike conventional comments, **docstrings** are retained throughout the runtime of the program. This allows the programmer to inspect these comments at run time."
      ],
      "metadata": {
        "id": "CRgKqdN9X47S"
      }
    },
    {
      "cell_type": "code",
      "source": [
        "def shout(word):\n",
        "  \"\"\"\n",
        "  print a word with an\n",
        "  exclamation mark following it\n",
        "  \"\"\"\n",
        "  print(word + \"!\")\n",
        "\n",
        "\n",
        "shout(\"spam\")\n",
        "print(shout.__doc__)  # access docstrings"
      ],
      "metadata": {
        "colab": {
          "base_uri": "https://localhost:8080/"
        },
        "id": "TBi0HLGVX8ez",
        "outputId": "2fb5cbef-9304-491d-b5dc-0ff30b24225b"
      },
      "execution_count": null,
      "outputs": [
        {
          "output_type": "stream",
          "name": "stdout",
          "text": [
            "spam!\n",
            "\n",
            "  print a word with an\n",
            "  exclamation mark following it\n",
            "  \n"
          ]
        }
      ]
    },
    {
      "cell_type": "markdown",
      "source": [
        "**Functions**\n",
        "\n",
        "Although they are created differently from normal variables, **functions** are just like any other kind of value.\n",
        "\n",
        "They can be **assigned and reassigned to variables**, and later referenced by those names\n",
        "\n",
        "> def multiply(x, y):\n",
        "\n",
        ">> return x * y \n",
        "\n",
        "> a = 4\n",
        "\n",
        "> b = 7 \n",
        "\n",
        "> operation = multiply # assigned function to variables\n",
        "\n",
        "> print(operation(a, b))\n",
        "\n",
        "The example above assigned the function **multiply** to a variable **operation**. Now, the name operation can also be used to call the function."
      ],
      "metadata": {
        "id": "2SUIyTFkYQiL"
      }
    },
    {
      "cell_type": "code",
      "source": [
        "def shout(word):\n",
        "  return word + \"!\"\n",
        "\n",
        "speak = shout\n",
        "output = speak(\"shout\")\n",
        "\n",
        "print(output)"
      ],
      "metadata": {
        "colab": {
          "base_uri": "https://localhost:8080/"
        },
        "id": "3xJhgG0NYYXC",
        "outputId": "87370a21-7a34-4f46-8af7-d2680881eff0"
      },
      "execution_count": null,
      "outputs": [
        {
          "output_type": "stream",
          "name": "stdout",
          "text": [
            "shout!\n"
          ]
        }
      ]
    },
    {
      "cell_type": "markdown",
      "source": [
        "**Functions**\n",
        "\n",
        "Functions can also be used as **arguments** of other functions.\n",
        "\n",
        "> def add(x, y):\n",
        "\n",
        ">> return x + y\n",
        "\n",
        "> def do_twice(func, x, y):\n",
        "\n",
        ">> return func(func(x,y), func(x,y))\n",
        "\n",
        "> a = 5 \n",
        "\n",
        "> b = 10 \n",
        "\n",
        "> print(do_twice(add, a, b))\n",
        "\n",
        "As you can see, the function **do_twice** takes a function as its argument and calls it in its body."
      ],
      "metadata": {
        "id": "WdvSKGV8YpJt"
      }
    },
    {
      "cell_type": "code",
      "source": [
        "def add(x, y):\n",
        "  return x + y\n",
        "\n",
        "def do_twice(func, x, y):\n",
        "  return func(func(x,y), func(x,y))\n",
        "\n",
        "a = 5\n",
        "b = 10\n",
        "\n",
        "print(do_twice(add, a, b))"
      ],
      "metadata": {
        "colab": {
          "base_uri": "https://localhost:8080/"
        },
        "id": "25_iFGYKYsAy",
        "outputId": "d579a596-29d2-4c7b-d656-c324b111b5bb"
      },
      "execution_count": null,
      "outputs": [
        {
          "output_type": "stream",
          "name": "stdout",
          "text": [
            "30\n"
          ]
        }
      ]
    },
    {
      "cell_type": "code",
      "source": [
        "def square(x):\n",
        "  return x * x\n",
        "\n",
        "def test(func, x):\n",
        "  print(func(x))\n",
        "\n",
        "test(square,42)"
      ],
      "metadata": {
        "colab": {
          "base_uri": "https://localhost:8080/"
        },
        "id": "6uI-ny9GYzTC",
        "outputId": "cc4722f8-ff4f-4251-af26-bfcc853323c8"
      },
      "execution_count": null,
      "outputs": [
        {
          "output_type": "stream",
          "name": "stdout",
          "text": [
            "1764\n"
          ]
        }
      ]
    },
    {
      "cell_type": "markdown",
      "source": [
        "**Modules**\n",
        "\n",
        "**Modules** are pieces of code that other people have written to fulfill common tasks, such as generating random numbers, performing mathematical operations, etc.\n",
        "\n",
        "The basic way to use a module is to add **import module_name** at the top of your code, and then using **module_name.var** to access functions and values with the name **var** in the module.\n",
        "\n",
        "For example, the following example uses the random module to generate random numbers:\n",
        "\n",
        "> import random\n",
        "\n",
        "> for i in range(5):\n",
        "\n",
        ">> value = random.randint(1, 6)\n",
        "\n",
        ">> print(value)\n",
        "\n",
        "The code uses the **randint** function defined in the **random** module to print 5 random numbers in the range 1 to 6."
      ],
      "metadata": {
        "id": "7Gwu8xKuZJ2D"
      }
    },
    {
      "cell_type": "code",
      "source": [
        "import math\n",
        "\n",
        "num = 10\n",
        "\n",
        "print(math.sqrt(num))"
      ],
      "metadata": {
        "colab": {
          "base_uri": "https://localhost:8080/"
        },
        "id": "PWEgt8KrZMdj",
        "outputId": "a72c12e8-b159-4160-884c-d67149453e37"
      },
      "execution_count": null,
      "outputs": [
        {
          "output_type": "stream",
          "name": "stdout",
          "text": [
            "3.1622776601683795\n"
          ]
        }
      ]
    },
    {
      "cell_type": "markdown",
      "source": [
        "**Modules**\n",
        "\n",
        "There is another kind of **import** that can be used if you only need certain functions from a module. \n",
        "\n",
        "These take the form **from module_name import var**, and then **var** can be used as if it were defined normally in your code.\n",
        "\n",
        "For example, to import only the **pi** constant from the **math** module:\n",
        "\n",
        "> from math import pi\n",
        "\n",
        "> print(pi)\n",
        "\n",
        "Use a **comma separated** list to import **multiple objects**. For example:\n",
        "\n",
        "> from math import pi, sqrt\n",
        "\n",
        "\\* impors all objects from a module. For example: \n",
        "> from math import *\n",
        "\n",
        "This is generally **discouraged**, as it confuses variables in your code with variables in the external module."
      ],
      "metadata": {
        "id": "Dy4oIjqAZQHD"
      }
    },
    {
      "cell_type": "code",
      "source": [
        "from math import sqrt, cos\n",
        "\n",
        "\n",
        "print(sqrt(4))\n",
        "print(cos(180))"
      ],
      "metadata": {
        "colab": {
          "base_uri": "https://localhost:8080/"
        },
        "id": "YYpROBSZZjQe",
        "outputId": "7f44906e-2bfd-4e6b-9afc-7c203d12f6e7"
      },
      "execution_count": null,
      "outputs": [
        {
          "output_type": "stream",
          "name": "stdout",
          "text": [
            "2.0\n",
            "-0.5984600690578581\n"
          ]
        }
      ]
    },
    {
      "cell_type": "markdown",
      "source": [
        "**Modules**\n",
        "\n",
        "Trying to import **a module that isn't available causes an ImportError.**\n",
        "\n",
        "> import some_module\n",
        "\n",
        "Trying to import a module that isn't available causes an ImportError."
      ],
      "metadata": {
        "id": "klPrVTLGZpo2"
      }
    },
    {
      "cell_type": "markdown",
      "source": [
        "**Modules**\n",
        "\n",
        "You can import a module or object under a different name using the **as** keyword. This is mainly used when a module or object has a long or confusing name.\n",
        "\n",
        "**For example:**\n",
        "\n",
        "> form math import sqrt as square_root\n",
        "\n",
        ">> print(square_root(100))\n",
        "\n",
        "> #10"
      ],
      "metadata": {
        "id": "VKNEWUIIZ1aS"
      }
    },
    {
      "cell_type": "markdown",
      "source": [
        "**Modules**\n",
        "\n",
        "There are **three main types** of modules in Python, \n",
        "- those you write yourself, \n",
        "- those you install from external sources, and  \n",
        "- those that are preinstalled with Python.\n",
        "\n",
        "The last type is called the **standard library**, and contains many useful modules. Some of the standard library's useful modules include **string**, **re**, **datetime**, **math**, **random**, **os**, **multiprocessing**, **subprocess**, **socket**, **email**, **jason**, **doctest**, **unitest**, **pdb**, **argparse** and **sys**.\n",
        "\n",
        "Tasks that can be done by the standard library include string parsing, data serialization, testing, debagging and manipulating dates, emails, command line arguemtns, and much more!\n",
        "\n",
        "**Python's extensive standard library is one of its main strengths as a language.**"
      ],
      "metadata": {
        "id": "0YGnribraQPj"
      }
    },
    {
      "cell_type": "markdown",
      "source": [
        "**The Standard Library**\n",
        "\n",
        "Some of the modules in the standard library are written in Python, and some are written in C.\n",
        "\n",
        "Most are available on all platforms, but some are Windows or Unix specific.\n",
        "\n",
        "We won't cover all of the modules in the standard library; there are simply too many. The complete documentation for the standard library is available online at www.python.org."
      ],
      "metadata": {
        "id": "6K7T4EYPaYQy"
      }
    },
    {
      "cell_type": "markdown",
      "source": [
        "**Modules**\n",
        "\n",
        "Many third-party Python modules are stored on the **Python Package Index** **(PyPl)**.\n",
        "\n",
        "The best way to install these is usign a program called **pip**. This comes installed by default with modern distributions of Python. If you don't have it, it is easy to install online. Once you have it, installing libraries form PyPl is easy. Look up the name of the library you want to install, go to the command line (for Windows it will be the Command Prompt), and enter **pip install** **library_name** Once you've done this, import  the library and use it in your code.\n",
        "\n",
        "Using **pip** is the standard way of installing libraries on most operating systems, but some libraries have prebuilt binaries for Windows. These are normal executable files that let you install libraries with a GUI the same way you would install other programs.\n",
        "\n",
        "It's important to enter **pip** commands at the command line, not the Python interpreter."
      ],
      "metadata": {
        "id": "nj4GihG8apei"
      }
    },
    {
      "cell_type": "markdown",
      "source": [
        "**Quizes**"
      ],
      "metadata": {
        "id": "pNkhFgJcasAS"
      }
    },
    {
      "cell_type": "code",
      "source": [
        "def min(x,y):\n",
        "  if x <= y:\n",
        "    return x \n",
        "  else:\n",
        "    return y\n",
        "\n",
        "min(2, 4)    "
      ],
      "metadata": {
        "colab": {
          "base_uri": "https://localhost:8080/"
        },
        "id": "PspNqEc5avPT",
        "outputId": "5e8d55db-bf74-4cfc-9d14-ca1f1645682c"
      },
      "execution_count": null,
      "outputs": [
        {
          "output_type": "execute_result",
          "data": {
            "text/plain": [
              "2"
            ]
          },
          "metadata": {},
          "execution_count": 28
        }
      ]
    },
    {
      "cell_type": "code",
      "source": [
        "def sum(x):\n",
        "  res = 0\n",
        "  for i in range(x):\n",
        "    res += i\n",
        "  return res\n",
        "\n",
        "sum(10)"
      ],
      "metadata": {
        "colab": {
          "base_uri": "https://localhost:8080/"
        },
        "id": "wih9Iu0Ga1Dr",
        "outputId": "7e49e2c3-b24c-4085-c26d-d352c897a184"
      },
      "execution_count": null,
      "outputs": [
        {
          "output_type": "execute_result",
          "data": {
            "text/plain": [
              "45"
            ]
          },
          "metadata": {},
          "execution_count": 29
        }
      ]
    },
    {
      "cell_type": "code",
      "source": [
        "def print_nums(x):\n",
        "  for i in range(x):\n",
        "    print(i)\n",
        "  return \n",
        "\n",
        "print_nums(10)"
      ],
      "metadata": {
        "colab": {
          "base_uri": "https://localhost:8080/"
        },
        "id": "e0fg5MKWa6dz",
        "outputId": "352c337d-dbd8-4ae1-93f4-6c4ddb7ee7c7"
      },
      "execution_count": null,
      "outputs": [
        {
          "output_type": "stream",
          "name": "stdout",
          "text": [
            "0\n",
            "1\n",
            "2\n",
            "3\n",
            "4\n",
            "5\n",
            "6\n",
            "7\n",
            "8\n",
            "9\n"
          ]
        }
      ]
    },
    {
      "cell_type": "code",
      "source": [
        "def func(x):\n",
        "  res = 0\n",
        "  for i in range(x):\n",
        "    res += i \n",
        "  return res\n",
        "\n",
        "print(func(4))"
      ],
      "metadata": {
        "colab": {
          "base_uri": "https://localhost:8080/"
        },
        "id": "7w-UFBE5a9LT",
        "outputId": "468535d7-efa7-4dcd-aa6c-2616b564c645"
      },
      "execution_count": null,
      "outputs": [
        {
          "output_type": "stream",
          "name": "stdout",
          "text": [
            "6\n"
          ]
        }
      ]
    },
    {
      "cell_type": "markdown",
      "source": [
        "#<center><b>5. Exceptions and Files</b></center>"
      ],
      "metadata": {
        "id": "B4fAbvIabFxj"
      }
    },
    {
      "cell_type": "markdown",
      "source": [
        "**Exceptions**\n",
        "\n",
        "You have already seen **exceptions** in previous code. They occur when something goes wrong, due to incorrect code or input. When an exception occurs, the program immediately stops.\n",
        "\n",
        "The following code produces the ZeroDivisionError exception by trying to divide 7 by 0.\n",
        "\n",
        "> num1 = 7 \n",
        "\n",
        "> num2 = 0\n",
        "\n",
        "> print(num1/num2)\n",
        "\n",
        "> #ZeroDivisionError"
      ],
      "metadata": {
        "id": "VKib8lVORi50"
      }
    },
    {
      "cell_type": "code",
      "source": [
        "num1 = 7\n",
        "num2 = 0\n",
        "\n",
        "# print(num1/num2) # ZeroDivisionError \n"
      ],
      "metadata": {
        "id": "e3UdHaRfRqn5"
      },
      "execution_count": null,
      "outputs": []
    },
    {
      "cell_type": "markdown",
      "source": [
        "**Exceptions**\n",
        "\n",
        "Different exceptions are raised for different reasons.\n",
        "\n",
        "Common exceptions:\n",
        "\n",
        "- **ImportError**: an import fails;\n",
        "- **IndexError**: a list is indexed with an out-of-range number;\n",
        "- **NameError**: an unknown variable is used;\n",
        "- **SyntaxError**: the code can't be parsed properly;\n",
        "- **TypeError**: a function is called on a value of an inappropriate type;\n",
        "- **ValueError**: a function is called on a value of the correct type, but with an inappropriate value.\n",
        "\n",
        "Python has several other built-in exceptions, such as ZeroDivisionError and OSError. Third-party libraries also often define their own exceptions."
      ],
      "metadata": {
        "id": "AUhq_MSISLYx"
      }
    },
    {
      "cell_type": "code",
      "source": [
        "# print(\"7\"+4)  # typeError"
      ],
      "metadata": {
        "id": "WMqOSAxVSM5j"
      },
      "execution_count": null,
      "outputs": []
    },
    {
      "cell_type": "markdown",
      "source": [
        "**Exception Handling**\n",
        "\n",
        "To handle exceptions, and to call code when an exception occurs, you can use a **try/except** statement.\n",
        "\n",
        "- The **try** block contains code that might throw an exception. \n",
        "\n",
        "- If that exception occurs, the code in the **try** block stops being executed, and the code in the **except** block is run. \n",
        "\n",
        "- If no error occurs, the code in the **except** block doesn't run.\n",
        "\n",
        "**For example**\n",
        "\n",
        "> try:\n",
        "\n",
        ">> num1 = 7\n",
        "\n",
        ">> num2 = 0\n",
        "\n",
        ">> print(num1/num2)\n",
        "\n",
        ">> print(\"Done calculation\")\n",
        "\n",
        "> except ZeroDivisionError:\n",
        "\n",
        ">> print(\"An error occurred\")\n",
        "\n",
        ">> print(\"due to zero division\")\n",
        "\n",
        "> #ZeroDivisionError:\n",
        "\n",
        "In the code above, the except statement defines the type of exception to handle (in our case, the **ZeroDivisionError**)."
      ],
      "metadata": {
        "id": "b5mlQq2ISbNB"
      }
    },
    {
      "cell_type": "code",
      "source": [
        "try:\n",
        "  num1 = 7\n",
        "  num2 = 0\n",
        "  print(num1/num2)\n",
        "except ZeroDivisionError:\n",
        "  print(\"An error occured\")\n",
        "  print(\"due to zero division\")"
      ],
      "metadata": {
        "colab": {
          "base_uri": "https://localhost:8080/"
        },
        "id": "eX-ABwhNSkIJ",
        "outputId": "51785110-5e5b-425d-bed6-25e6b9fae426"
      },
      "execution_count": null,
      "outputs": [
        {
          "output_type": "stream",
          "name": "stdout",
          "text": [
            "An error occured\n",
            "due to zero division\n"
          ]
        }
      ]
    },
    {
      "cell_type": "code",
      "source": [
        "try: \n",
        "  variable = 10\n",
        "  print(10 / 2)\n",
        "except ZeroDivisionError:\n",
        "  print(\"Error\")\n",
        "  \n",
        "print(\"Finished\")  "
      ],
      "metadata": {
        "colab": {
          "base_uri": "https://localhost:8080/"
        },
        "id": "I8sZr4LWShSz",
        "outputId": "07eaa879-03c7-44b6-931d-6531ae271225"
      },
      "execution_count": null,
      "outputs": [
        {
          "output_type": "stream",
          "name": "stdout",
          "text": [
            "5.0\n",
            "Finished\n"
          ]
        }
      ]
    },
    {
      "cell_type": "markdown",
      "source": [
        "**Exception Handling**\n",
        "\n",
        "A **try** statement can have multiple different **except** blocks to handle different exceptions.\n",
        "\n",
        "Multiple exceptions can also be put into a single **except** block using parentheses, to have the **except** block handle all of them.\n",
        "\n",
        "> try: \n",
        "\n",
        ">> variable = 10\n",
        "\n",
        ">> print(variable + \"hello\")\n",
        "\n",
        ">> print(variable / 2)\n",
        "\n",
        "> except ZeroDivisionError:\n",
        "\n",
        ">> print(\"Divided by zero\")\n",
        "\n",
        "> except (ValueError, TypeError):\n",
        "\n",
        ">> print(\"Error occurred\")\n",
        "\n",
        ">#Error occurred\n"
      ],
      "metadata": {
        "id": "dVRfyUUOS5Mv"
      }
    },
    {
      "cell_type": "code",
      "source": [
        "try:\n",
        "  variable = 10\n",
        "  print(variable + \"hello\")\n",
        "  print(variable/2)\n",
        "except ZeroDivisionError:\n",
        "  print(\"Divided by zero\")\n",
        "except (ValueError, TypeError):\n",
        "  print(\"Error occurred\")"
      ],
      "metadata": {
        "colab": {
          "base_uri": "https://localhost:8080/"
        },
        "id": "KkZpSPN6S-Bo",
        "outputId": "3a571f7e-8011-4369-c413-9d74fa6910ba"
      },
      "execution_count": null,
      "outputs": [
        {
          "output_type": "stream",
          "name": "stdout",
          "text": [
            "Error occurred\n"
          ]
        }
      ]
    },
    {
      "cell_type": "code",
      "source": [
        "try:\n",
        "  meaning = 42\n",
        "  print(meaning/0)\n",
        "  print(\"the meaning of life\")\n",
        "except (ValueError, TypeError):\n",
        "  print(\"ValueError or TypeError occurred\")\n",
        "except ZeroDivisionError:\n",
        "  print(\"Divided by zero\")"
      ],
      "metadata": {
        "colab": {
          "base_uri": "https://localhost:8080/"
        },
        "id": "F32c_D71TaXR",
        "outputId": "6013aa21-9469-4ca0-bba1-33ae30ef4583"
      },
      "execution_count": null,
      "outputs": [
        {
          "output_type": "stream",
          "name": "stdout",
          "text": [
            "Divided by zero\n"
          ]
        }
      ]
    },
    {
      "cell_type": "markdown",
      "source": [
        "**Exception Handling**\n",
        "\n",
        "An **except** statement **without any exception specified with catch all errors.** These should be used sparingly, as they can catch unexpected errors and hide programming mistakes.\n",
        "\n",
        "**For example:**\n",
        "\n",
        "> try:\n",
        "\n",
        ">> word = \"spam\"\n",
        "\n",
        ">> print(word/0)\n",
        "\n",
        "> except:\n",
        "\n",
        ">> print(\"An error occurred\")\n",
        "\n",
        "Exception handling is particularly useful when dealing with user input."
      ],
      "metadata": {
        "id": "a5VBiAAbTlYD"
      }
    },
    {
      "cell_type": "code",
      "source": [
        "try:\n",
        "  num1 = input(\":\")\n",
        "  num2 = input(\":\")\n",
        "  print(float(num1)/float(num2))\n",
        "except:\n",
        "  print(\"Invalid input\")"
      ],
      "metadata": {
        "colab": {
          "base_uri": "https://localhost:8080/"
        },
        "id": "2lwJTYXuTutq",
        "outputId": "4a1721a0-94b8-4e4d-c765-be31fbdd2b22"
      },
      "execution_count": null,
      "outputs": [
        {
          "output_type": "stream",
          "name": "stdout",
          "text": [
            ":4\n",
            ":a\n",
            "Invalid input\n"
          ]
        }
      ]
    },
    {
      "cell_type": "markdown",
      "source": [
        "**finally**\n",
        "\n",
        "To ensuere some code runs no matter what erros occur, you can use a **finally** statement. \n",
        "\n",
        "The **finally** statement is placed at the bottom of a **try/except** statement. \n",
        "\n",
        "Code with a **finally** statement always runs after excution of the code in the **try**, and possibly in the **except** blocks.\n",
        "\n",
        "> try: \n",
        "\n",
        ">> print(\"Hello\")\n",
        "\n",
        ">> print(1 / 0)\n",
        "\n",
        "> except ZeroDivisionError:\n",
        "\n",
        ">> print(\"Divided by zero\")\n",
        "\n",
        "> finally:\n",
        "\n",
        ">> print(\"This code will run no matter what\")"
      ],
      "metadata": {
        "id": "oMyg7oTzUIx6"
      }
    },
    {
      "cell_type": "code",
      "source": [
        "try:\n",
        "  print(\"Hello\")\n",
        "  print(1/0)\n",
        "  print(\"Not run\")\n",
        "except ZeroDivisionError:\n",
        "  print(\"Divided by zero\")\n",
        "finally:\n",
        "  print(\"This code will run no matter what\")"
      ],
      "metadata": {
        "colab": {
          "base_uri": "https://localhost:8080/"
        },
        "id": "L9iRMVpsUJtZ",
        "outputId": "7d696e8b-5c9d-427b-cd7b-53c0de96d1c8"
      },
      "execution_count": null,
      "outputs": [
        {
          "output_type": "stream",
          "name": "stdout",
          "text": [
            "Hello\n",
            "Divided by zero\n",
            "This code will run no matter what\n"
          ]
        }
      ]
    },
    {
      "cell_type": "code",
      "source": [
        "try: \n",
        "  print(1)\n",
        "except:\n",
        "  print(2)\n",
        "finally:\n",
        "  print(3)"
      ],
      "metadata": {
        "colab": {
          "base_uri": "https://localhost:8080/"
        },
        "id": "9KI-bPReUhbx",
        "outputId": "6a2a878c-5db6-4c7c-d0a7-8ecdd2c38a04"
      },
      "execution_count": null,
      "outputs": [
        {
          "output_type": "stream",
          "name": "stdout",
          "text": [
            "1\n",
            "3\n"
          ]
        }
      ]
    },
    {
      "cell_type": "markdown",
      "source": [
        "**finally**\n",
        "\n",
        "Code in a **finally** statement even runs if an uncaught exception occurs in one of the preceding blocks.\n",
        "\n",
        "> try:\n",
        "\n",
        ">> print(1)\n",
        "\n",
        ">> print(10 / 0)\n",
        "\n",
        "> except ZeroDivisonError:\n",
        "\n",
        ">> print(unknown_var)\n",
        "\n",
        "> finally:\n",
        "\n",
        ">> print(\"This is excuted last\")\n",
        "\n"
      ],
      "metadata": {
        "id": "UoWfxkJMUo7g"
      }
    },
    {
      "cell_type": "code",
      "source": [
        "try:\n",
        "  print(1)\n",
        "except:\n",
        "  print(2)\n",
        "finally:\n",
        "  print(42)"
      ],
      "metadata": {
        "colab": {
          "base_uri": "https://localhost:8080/"
        },
        "id": "DOQ6OFbOUq0h",
        "outputId": "9648ce5a-bb4d-4979-8621-cb3da7bbb651"
      },
      "execution_count": null,
      "outputs": [
        {
          "output_type": "stream",
          "name": "stdout",
          "text": [
            "1\n",
            "42\n"
          ]
        }
      ]
    },
    {
      "cell_type": "markdown",
      "source": [
        "**Raising Exceptions**\n",
        "\n",
        "You can raise exceptions by using the **raise** statement.\n",
        "\n",
        "> print(1)\n",
        "\n",
        "> raise ValueError\n",
        "\n",
        "> print(2)\n",
        "\n",
        "You need to specify the **type** of the exception raised."
      ],
      "metadata": {
        "id": "h665el-EUxfh"
      }
    },
    {
      "cell_type": "code",
      "source": [
        "try:\n",
        "  print(1/0)\n",
        "except ZeroDivisionError:\n",
        "  raise ValueError  "
      ],
      "metadata": {
        "id": "GVLaUc0zU78A"
      },
      "execution_count": null,
      "outputs": []
    },
    {
      "cell_type": "markdown",
      "source": [
        "**Raising Exceptions**\n",
        "\n",
        "Exceptions can be raised with arguments the give detail about them.\n",
        "\n",
        "For example:\n",
        "\n",
        "> name = \"123\"\n",
        "\n",
        "> raise NameError(\"Invalid name!\")"
      ],
      "metadata": {
        "id": "8JSsge2MVEAC"
      }
    },
    {
      "cell_type": "code",
      "source": [
        "name = input(\"Enter your name :\")\n",
        "\n",
        "if name == \"123\":\n",
        "  raise NameError(\"Invalid name!\")\n",
        "else:\n",
        "  print(\"hello\", name)"
      ],
      "metadata": {
        "colab": {
          "base_uri": "https://localhost:8080/"
        },
        "id": "cE-EbsNjVH9p",
        "outputId": "62a472c6-5fcd-4212-ab59-75cbcbed6346"
      },
      "execution_count": null,
      "outputs": [
        {
          "output_type": "stream",
          "name": "stdout",
          "text": [
            "Enter your name :John\n",
            "hello John\n"
          ]
        }
      ]
    },
    {
      "cell_type": "code",
      "source": [
        "num = input(\":\")\n",
        "\n",
        "if float(num) < 0:\n",
        "  raise ValueError(\"Negative!\")"
      ],
      "metadata": {
        "colab": {
          "base_uri": "https://localhost:8080/"
        },
        "id": "wY8XfwGlVO2h",
        "outputId": "6403105c-1bbf-4688-a950-4a52675a1b4a"
      },
      "execution_count": null,
      "outputs": [
        {
          "name": "stdout",
          "output_type": "stream",
          "text": [
            ":0\n"
          ]
        }
      ]
    },
    {
      "cell_type": "markdown",
      "source": [
        "**Raising Exceptions**\n",
        "\n",
        "In **except** blocks, the **raise** statement can be used without arguments to re-raise whatever exception occurred.\n",
        "\n",
        "**For example:**\n",
        "\n",
        "> try:\n",
        "\n",
        ">> num = 5 / 0\n",
        "\n",
        "> except:\n",
        "\n",
        ">> print(\"An error occurred\")\n",
        "\n",
        ">> raise"
      ],
      "metadata": {
        "id": "99eSsKD-VdqR"
      }
    },
    {
      "cell_type": "code",
      "source": [
        "try:\n",
        "  num1 = int(input(\"num1 : \"))\n",
        "  num2 = int(input(\"num2 : \"))\n",
        "  print(num1/num2)\n",
        "except:\n",
        "  print(\"An error occurred\")\n",
        "  raise"
      ],
      "metadata": {
        "colab": {
          "base_uri": "https://localhost:8080/"
        },
        "id": "Z-f8j5ROVeYS",
        "outputId": "f857a773-cf8c-4faf-c907-22462b217708"
      },
      "execution_count": null,
      "outputs": [
        {
          "output_type": "stream",
          "name": "stdout",
          "text": [
            "num1 : 6\n",
            "num2 : 4\n",
            "1.5\n"
          ]
        }
      ]
    },
    {
      "cell_type": "markdown",
      "source": [
        "**Assertions**\n",
        "\n",
        "An **assertion** is a sanity-check that you can turn on or turn off when you have finished testing the program.\n",
        "\n",
        "An expression is tested, and if the result comes up false, and exception is raised.\n",
        "\n",
        "Assertions are carried out through use of the **assert** statement.\n",
        "\n",
        "> print(1)\n",
        "\n",
        "> assert 2 + 2 == 4\n",
        "\n",
        "> print(2)\n",
        "\n",
        "> assert 1 + 1 == 3\n",
        "\n",
        "> print(3)\n",
        "\n",
        "Programmers often place assertions at the start of a function to check for valid input, and after a function call to check for valid output."
      ],
      "metadata": {
        "id": "klzcn28OWO8g"
      }
    },
    {
      "cell_type": "code",
      "source": [
        "print(0)\n",
        "assert \"h\" != \"w\"\n",
        "print(1)\n",
        "assert False\n",
        "print(2)\n",
        "assert True\n",
        "print(3)"
      ],
      "metadata": {
        "id": "XzOsAXzoWZya"
      },
      "execution_count": null,
      "outputs": []
    },
    {
      "cell_type": "markdown",
      "source": [
        "**Assertions**\n",
        "\n",
        "The **assert** can take a second argument that is passed to the AssertionError raised if the assertion fails.\n",
        "\n",
        "> temp = -10\n",
        "\n",
        "> assert (temp >= 0) , \"Colder than absolute zero!\"\n",
        "\n",
        "AssertionError exceptions can be caught and handled like any other exception using the **try-except** statement, but if not handled, this type of exception will terminate the program."
      ],
      "metadata": {
        "id": "MwO0ecBUWmIH"
      }
    },
    {
      "cell_type": "code",
      "source": [
        "def my_func(x):\n",
        "  assert  0 < x < 10, \"Error number must be between 1 and 9!\"\n",
        "  print(f\"you select number : {x}\")\n",
        "\n",
        "x = int(input(\"Enter a number from 1 to 9 : \"))\n",
        "my_func(x)"
      ],
      "metadata": {
        "colab": {
          "base_uri": "https://localhost:8080/"
        },
        "id": "2ldrSZJLWpFA",
        "outputId": "87833615-450f-480b-aac7-c698e1fb0ad0"
      },
      "execution_count": null,
      "outputs": [
        {
          "output_type": "stream",
          "name": "stdout",
          "text": [
            "Enter a number from 1 to 9 : 5\n",
            "you select number : 5\n"
          ]
        }
      ]
    },
    {
      "cell_type": "markdown",
      "source": [
        "**Opening Files**\n",
        "\n",
        "You can use Python to read and write the contents of **files**. \n",
        "\n",
        "Text files are the easiest to manipulate. Before a file can be edited, it must be opened, using the open function.\n",
        "\n",
        "> myfile = open(\"filename.text\")\n",
        "\n",
        "The argument of the **open** function is the **path** to the file. If the file is in the current working directory of the program, you can specify only its name. "
      ],
      "metadata": {
        "id": "ve4rRneAX9rX"
      }
    },
    {
      "cell_type": "markdown",
      "source": [
        "**Opening Files**\n",
        "\n",
        "You can specify the **mode** used to open a file by aplying a second argument to the **open** function.\n",
        "\n",
        "- Sending **\"r\"** means open in **read mode**, which is the default.\n",
        "- Sending **\"w\"** means **write mode**, for rewriting the contents of a file.\n",
        "- Sending **\"a\"** means **append mode**, for adding new content to the end of the file.\n",
        "\n",
        "Adding **\"b\"** to a mode opens it in **binary** mode, which is used for non-text files (such as image and sound files).\n",
        "\n",
        "**For example:**\n",
        "\n",
        "> #write mode\n",
        "\n",
        "> open(\"filename.txt\", \"w\")\n",
        "\n",
        "> #read mode\n",
        "\n",
        "> open(\"filename.text\", \"r\")\n",
        "\n",
        "> open(\"filename.txt\")\n",
        "\n",
        "> #binary write mode\n",
        "\n",
        "> open(\"filename.txt\", \"wb\")\n",
        "\n",
        "You can use the + sign with each of the modes above to give them extra access to files. For example, r+ opens the file for both reading and writing.\n"
      ],
      "metadata": {
        "id": "wJ0mWms0YNo3"
      }
    },
    {
      "cell_type": "code",
      "source": [
        "file = open(\"test.bin\", \"rb\")"
      ],
      "metadata": {
        "id": "YsMatWE4YTI_"
      },
      "execution_count": null,
      "outputs": []
    },
    {
      "cell_type": "markdown",
      "source": [
        "**Opening Files**\n",
        "\n",
        "Once a file has been opened and used, you should close it. \n",
        "\n",
        "This is done with the **close** method of the file object.\n",
        "\n",
        "> file = open(\"filename.txt\", \"w\")\n",
        "\n",
        "> #do stuff to the file\n",
        "\n",
        "> file.close()\n"
      ],
      "metadata": {
        "id": "61xgvqIRYYSg"
      }
    },
    {
      "cell_type": "markdown",
      "source": [
        "**Reading Files**\n",
        "\n",
        "The contents of a file that has been opened in text mode can be read using the **read** method\n",
        "\n",
        "> file = open(\"filename.txt\", \"r\")\n",
        "\n",
        "> cont = file.read()\n",
        "\n",
        "> print(cont)\n",
        "\n",
        "> file.close()\n",
        "\n",
        "This will print all of the contents of the file \"filename.text\"."
      ],
      "metadata": {
        "id": "B-3KNxr6Yjiv"
      }
    },
    {
      "cell_type": "code",
      "source": [
        "file = open(\"test.txt\")\n",
        "cont = file.read()\n",
        "print(cont)\n",
        "file.close()"
      ],
      "metadata": {
        "id": "SYTnRc3IYl9I"
      },
      "execution_count": null,
      "outputs": []
    },
    {
      "cell_type": "markdown",
      "source": [
        "**Reading Files**\n",
        "\n",
        "To read only a certain amount of a file, you can provide a number as an argument to the **read** function. This determines the number of **bytes** that should be read.\n",
        "\n",
        "You can make more calls to read on the same file object to read more of the file byte by byte. With no argument, read returns the test of the file.\n",
        "\n",
        "> file = open(\"filename.txt\", \"r\")\n",
        "\n",
        "> print(file.read(16))\n",
        "\n",
        "> print(file.read(4))\n",
        "\n",
        "> print(file.read(4))\n",
        "\n",
        "> print(file.read())\n",
        "\n",
        "> file.close()\n",
        "\n",
        "Just like passing no arguments, negative values will return the entire contents.\n",
        "\n"
      ],
      "metadata": {
        "id": "NFcLR8OGYzbo"
      }
    },
    {
      "cell_type": "code",
      "source": [
        "file = open(\"filename.txt\",\"r\")\n",
        "for i in range(21):\n",
        "  print(file.read(4))\n",
        "\n",
        "file.close()"
      ],
      "metadata": {
        "id": "kDiSqvElY59A"
      },
      "execution_count": null,
      "outputs": []
    },
    {
      "cell_type": "markdown",
      "source": [
        "**Reading Files**\n",
        "\n",
        "**After all contents in a file have been read, any attempts to read further from that file will return an empty string**, because you are trying to read from the end of the file.\n",
        "\n",
        "> file = open(\"filename.text\", \"r\")\n",
        "\n",
        "> file.read()\n",
        "\n",
        "> print(\"Re-reading\")\n",
        "\n",
        "> print(file.read())  #  return empty string\n",
        "\n",
        "> print(\"Finished\")\n",
        "\n",
        "> file.close()\n",
        "\n",
        "result:\n",
        "\n",
        "> #Re-reading\n",
        "\n",
        "> #Finished\n",
        "\n",
        "Just like passing no arguments, negative values will return the entire contents."
      ],
      "metadata": {
        "id": "Y2NS03KQY-Wo"
      }
    },
    {
      "cell_type": "code",
      "source": [
        "file = open(\"filename.txt\",\"r\")\n",
        "str = file.read()\n",
        "print(len(str))\n",
        "file.close()"
      ],
      "metadata": {
        "id": "vwduFKIxZUYH"
      },
      "execution_count": null,
      "outputs": []
    },
    {
      "cell_type": "markdown",
      "source": [
        "**Reading Files**\n",
        "\n",
        "To retrieve each line in a file, you can use the **readlines** method to return a list in which each element is a line in the file.\n",
        "\n",
        "**For example:**\n",
        "\n",
        "> file = open(\"filename.txt\", \"r\")\n",
        "\n",
        "> print(file.readlines())\n",
        "\n",
        "> file.close()\n",
        "\n",
        "**Result:**\n",
        "\n",
        "> #['Line 1 text \\n', 'Line 2 text \\n', 'Line 3 text']\n",
        "\n",
        "You can also use a **for** loop to iterate through the lines in the file:\n",
        "\n",
        "> file = open(\"filename.txt\", \"r\")\n",
        "\n",
        "> for line in file:\n",
        "\n",
        ">> print(line)\n",
        "\n",
        "> file.close()\n",
        "\n",
        "**Result:**\n",
        "\n",
        "> #Line 1 text\n",
        "\n",
        "> #Line 2 text\n",
        "\n",
        "> #Line 3 text\n",
        "\n",
        "In the output, the lines are separated by black lines , as the **print** function automatically adds a new line at the end of its output.\n",
        "\n"
      ],
      "metadata": {
        "id": "TRrcyyqNZnMJ"
      }
    },
    {
      "cell_type": "markdown",
      "source": [
        "**Writing Files**\n",
        "\n",
        "To write to files you use the **write** method, which writes a string to the file. \n",
        "\n",
        "**For example:**\n",
        "\n",
        "> file = open(\"newfile.txt\", \"w\")\n",
        "\n",
        "> file.write(\"This has been written to a file\")\n",
        "\n",
        "> file.close()\n",
        "\n",
        "> file = open(\"newfile.txt\", \"r\")\n",
        "\n",
        "> print(file.read())\n",
        "\n",
        "> file.close()\n",
        "\n",
        "The \"w\" mode will create a file, if it does not already exist."
      ],
      "metadata": {
        "id": "a23QexDyZwqP"
      }
    },
    {
      "cell_type": "markdown",
      "source": [
        "**Writing Files**\n",
        "\n",
        "When a file is opened in **write mode, the file's existing content is deleted.**\n",
        "\n",
        "> file = open(\"newfile.txt\", \"r\")\n",
        "\n",
        "> print(\"Reading initial contents\")\n",
        "\n",
        "> print(file.read())\n",
        "\n",
        "> print(\"Finished\")\n",
        "\n",
        "> file.close()\n",
        "\n",
        "> #\n",
        "\n",
        "> file = open(\"newfile.txt\", \"w\")\n",
        "\n",
        "> file.write(\"Some new text\")\n",
        "\n",
        "> file.close()\n",
        "\n",
        "> #\n",
        "\n",
        "> file = open(\"newfile.txt\", \"r\")\n",
        "\n",
        "> print(\"Readign new contents\")\n",
        "\n",
        "> print(file.read())\n",
        "\n",
        "> print(\"Finished\")\n",
        "\n",
        "> file.close()\n",
        "\n",
        "As you can see, the content of the file has been overwritten."
      ],
      "metadata": {
        "id": "V2kAsWIKZ7p4"
      }
    },
    {
      "cell_type": "markdown",
      "source": [
        "**Writing Files**\n",
        "\n",
        "The **write** method returns the number of **bytes** written to a file, if successful.\n",
        "\n",
        "> msg = \"Hello world!\"\n",
        "\n",
        "> file = open(\"newfile.txt\", \"w\")\n",
        "\n",
        "> amount_writen = file.write(msg)\n",
        "\n",
        "> print(amount_written)\n",
        "\n",
        "> file.close()\n",
        "\n",
        "To write something other than a string, it needs to be converted to a string first."
      ],
      "metadata": {
        "id": "ujpN1xKFaKKn"
      }
    },
    {
      "cell_type": "markdown",
      "source": [
        "**Working with Files**\n",
        "\n",
        "It is good practice to avoid wasting resources by making sure that files are always closed after they have been used. One way of doing this is to use **try** and **finally**\n",
        "\n",
        "> try\n",
        "\n",
        ">> f = open(\"filename.txt\")\n",
        "\n",
        ">> print(f.read())\n",
        "\n",
        "> finally:\n",
        "\n",
        ">> f.close()\n",
        "\n",
        "This ensures that the file is always closed, even if an error occures.\n"
      ],
      "metadata": {
        "id": "YU3B4fW0aRgf"
      }
    },
    {
      "cell_type": "code",
      "source": [
        "try:\n",
        "  f = open(\"filename.txt\")\n",
        "  print(f.read())\n",
        "  print(1/0)\n",
        "finally:\n",
        "  f.close()"
      ],
      "metadata": {
        "id": "CZBB39kaaXjq"
      },
      "execution_count": null,
      "outputs": []
    },
    {
      "cell_type": "markdown",
      "source": [
        "**Working with Files**\n",
        "\n",
        "An alternative way of doing this is using **with** statements. This creates a temporary variable (ofen called f), which is only accessible in the indented block of the **with** statement.\n",
        "\n",
        "> with open(\"filename.txt\") as f:\n",
        "\n",
        ">> print(f.read())\n",
        "\n",
        "The file is automatically closed at the end of the **with** statement, even if exceptions occur within it."
      ],
      "metadata": {
        "id": "VJT4SfLtalVG"
      }
    },
    {
      "cell_type": "code",
      "source": [
        "with open(\"test.txt\") as f:\n",
        "  print(f.read())"
      ],
      "metadata": {
        "id": "Hqr1FcQgamtX"
      },
      "execution_count": null,
      "outputs": []
    },
    {
      "cell_type": "markdown",
      "source": [
        "**quizes**"
      ],
      "metadata": {
        "id": "DB02wGLEandA"
      }
    },
    {
      "cell_type": "code",
      "source": [
        "try:\n",
        "  print(1)\n",
        "  print(20/0)\n",
        "  print(2)\n",
        "except ZeroDivisionError:\n",
        "  print(3)\n",
        "finally:\n",
        "  print(4)"
      ],
      "metadata": {
        "colab": {
          "base_uri": "https://localhost:8080/"
        },
        "id": "G9cGAsEVapqX",
        "outputId": "f3a60b2b-6bc4-4b9f-b21c-231813fec97e"
      },
      "execution_count": null,
      "outputs": [
        {
          "output_type": "stream",
          "name": "stdout",
          "text": [
            "1\n",
            "3\n",
            "4\n"
          ]
        }
      ]
    },
    {
      "cell_type": "code",
      "source": [
        "open(\"test.txt\", \"wb\") #open the file in binary write mode."
      ],
      "metadata": {
        "id": "r964eJVParBI"
      },
      "execution_count": null,
      "outputs": []
    },
    {
      "cell_type": "code",
      "source": [
        "try:\n",
        "  with open(\"test.txt\") as f:\n",
        "    print(f.read())\n",
        "except:\n",
        "  print(\"Error\")"
      ],
      "metadata": {
        "id": "6S4tWNrVasT3"
      },
      "execution_count": null,
      "outputs": []
    },
    {
      "cell_type": "code",
      "source": [
        "try:\n",
        "  print(1)\n",
        "  assert 2 + 2 == 5\n",
        "except AssertionError:\n",
        "  print(3)\n",
        "except:\n",
        "  print(4)"
      ],
      "metadata": {
        "colab": {
          "base_uri": "https://localhost:8080/"
        },
        "id": "K1_ANq-xatlf",
        "outputId": "72b898e5-8e61-4d87-f5be-fa2249491507"
      },
      "execution_count": null,
      "outputs": [
        {
          "output_type": "stream",
          "name": "stdout",
          "text": [
            "1\n",
            "3\n"
          ]
        }
      ]
    },
    {
      "cell_type": "markdown",
      "source": [
        "#<center><b>6. More Types</b></center>"
      ],
      "metadata": {
        "id": "J4eH1_Hha0X0"
      }
    },
    {
      "cell_type": "markdown",
      "source": [
        "**None**\n",
        "\n",
        "The **None** object is used to represent the absence of a value. \n",
        "\n",
        "It is similar to **null** in other programming langauages. \n",
        "\n",
        "Like other \"empty\" values, such as 0, [] and the empty string, it is **False** when converted to a Boolearn variable.\n",
        "\n",
        "When entered at the Python console, it is displayed as the empty string.\n",
        "\n",
        "> None == None\n",
        "\n",
        "> #True\n",
        "\n",
        "> print(None)\n",
        "\n",
        "> #None\n",
        "\n"
      ],
      "metadata": {
        "id": "3Gi4IoEOZYcE"
      }
    },
    {
      "cell_type": "code",
      "source": [
        "if None == None:\n",
        "  print(None)"
      ],
      "metadata": {
        "colab": {
          "base_uri": "https://localhost:8080/"
        },
        "id": "EiWbQaRdbgRt",
        "outputId": "aca882cc-d705-47ec-a9de-85f78a11361a"
      },
      "execution_count": null,
      "outputs": [
        {
          "output_type": "stream",
          "name": "stdout",
          "text": [
            "None\n"
          ]
        }
      ]
    },
    {
      "cell_type": "markdown",
      "source": [
        "**None** \n",
        "\n",
        "The **None** object is returned by any function that doesn't explicitly return anything else.\n",
        "\n",
        "> def some_func():\n",
        "\n",
        ">> print(\"Hi!\")\n",
        "\n",
        "> var = some_func()\n",
        "\n",
        "> print(var)\n",
        "\n"
      ],
      "metadata": {
        "id": "2DqdNG5NbyaT"
      }
    },
    {
      "cell_type": "code",
      "source": [
        "def some_func():\n",
        "  print(\"Hi!\")\n",
        "\n",
        "var = some_func()\n",
        "print(var)"
      ],
      "metadata": {
        "colab": {
          "base_uri": "https://localhost:8080/"
        },
        "id": "tCfOgLBzbzU7",
        "outputId": "d11245ad-34e8-457b-9316-dc057bd9da76"
      },
      "execution_count": null,
      "outputs": [
        {
          "output_type": "stream",
          "name": "stdout",
          "text": [
            "Hi!\n",
            "None\n"
          ]
        }
      ]
    },
    {
      "cell_type": "code",
      "source": [
        "foo = print()\n",
        "\n",
        "if foo == None:\n",
        "  print(1)\n",
        "else:\n",
        "  print(2)"
      ],
      "metadata": {
        "colab": {
          "base_uri": "https://localhost:8080/"
        },
        "id": "oyHH7Wzdb-VS",
        "outputId": "fbef83c6-bfb3-45ee-f38e-09e7590dc29a"
      },
      "execution_count": null,
      "outputs": [
        {
          "output_type": "stream",
          "name": "stdout",
          "text": [
            "\n",
            "1\n"
          ]
        }
      ]
    },
    {
      "cell_type": "markdown",
      "source": [
        "**Dictionaries**\n",
        "\n",
        "**Dictionaries** are data structures used to **map** arbitrary **keys** to **values**. \n",
        "\n",
        "Lists can be thought of as dictionaries with integer keys within a certain range.\n",
        "\n",
        "Dictionaries can be indexed in the same way as lists, using **square brackets** containing keys.\n",
        "\n",
        "**Example:**\n",
        "\n",
        "> ages = {\"Dave\": 24, \"Mary\": 42, \"John\": 58}\n",
        "\n",
        "> print(ages[\"Dave\"])\n",
        "\n",
        "> print(ages[\"Mary\"])\n",
        "\n",
        "Each element in a dictionary is represented by a **key**:**value** pair."
      ],
      "metadata": {
        "id": "C8rZmCQ4cS3c"
      }
    },
    {
      "cell_type": "code",
      "source": [
        "cars = {\"BMW\": \"blue\", \"Volo\": \"red\"}\n",
        "\n",
        "print(cars[\"BMW\"])"
      ],
      "metadata": {
        "colab": {
          "base_uri": "https://localhost:8080/"
        },
        "id": "_uFB1vB_cUs7",
        "outputId": "ff25272b-5114-467f-ce23-c395fb32c113"
      },
      "execution_count": null,
      "outputs": [
        {
          "output_type": "stream",
          "name": "stdout",
          "text": [
            "blue\n"
          ]
        }
      ]
    },
    {
      "cell_type": "markdown",
      "source": [
        "**Dictionaries**\n",
        "\n",
        "Trying to index a key that isn't part of the dictionary rerturn a **KeyError** \n",
        "\n",
        "\n",
        "**Example:**\n",
        "\n",
        "> primary = {\n",
        "\n",
        "> \"red\": [255, 0 , 0],\n",
        "\n",
        "> \"green\": [0, 255, 0],\n",
        "\n",
        "> \"blue\": [0, 0, 255],\n",
        "\n",
        "> }\n",
        "\n",
        "\n",
        "> print(primary[\"red\"])\n",
        "\n",
        "> print(primary[\"yellow\"]) #KeyError\n",
        "\n",
        "As you can see, a dictionary can store any types of data as values. \n",
        "\n",
        "An empty dictionary is defined as {}."
      ],
      "metadata": {
        "id": "N0CxFvrPcf5d"
      }
    },
    {
      "cell_type": "code",
      "source": [
        "test = {}\n",
        "\n",
        "# print(test[0]) #KeyError"
      ],
      "metadata": {
        "id": "ArkTaXYBcir8"
      },
      "execution_count": null,
      "outputs": []
    },
    {
      "cell_type": "markdown",
      "source": [
        "**Dictionaries**\n",
        "\n",
        "Only **immutable** objects can be used as keys to dictionaries. \n",
        "\n",
        "**Immutable** objects are those that can't be changed. So far, the only mutable objects you've come across are **lists** and **dictionaries**.\n",
        "\n",
        "Trying to use a mutable object as a dictionary key causes a **TypeError**.\n",
        "\n",
        "> bad_dict = {\n",
        "\n",
        "> [1, 2, 3]: \"one two three\",\n",
        "\n",
        "> } #TypeError"
      ],
      "metadata": {
        "id": "Wjif_w1zcy0t"
      }
    },
    {
      "cell_type": "markdown",
      "source": [
        "**Dictionaries**\n",
        "\n",
        "Just like lists, dictionary keys can be assigned to different values. However, **unlike lists, a new dictionary key can also be assigned a value,** not just ones that already exist.\n",
        "\n",
        "> squares = {1: 1, 2: 4, 3: \"error\", 4: 16,}\n",
        "\n",
        "> squares[8] = 64\n",
        "\n",
        "> squares[3] = 9\n",
        "\n",
        "> print(squares)\n"
      ],
      "metadata": {
        "id": "YzWgT_3gc_8U"
      }
    },
    {
      "cell_type": "code",
      "source": [
        "primes = {1: 2, 2: 3, 4: 7, 7: 17 }\n",
        "\n",
        "print(primes[primes[4]])"
      ],
      "metadata": {
        "colab": {
          "base_uri": "https://localhost:8080/"
        },
        "id": "FPidpRTFdE71",
        "outputId": "74753273-3e8e-4daf-956f-cea80551130c"
      },
      "execution_count": null,
      "outputs": [
        {
          "output_type": "stream",
          "name": "stdout",
          "text": [
            "17\n"
          ]
        }
      ]
    },
    {
      "cell_type": "markdown",
      "source": [
        "**Dictionaries**\n",
        "\n",
        "To determine whether a key is in a dictionary, you can use **in** and **not in**, just as you can for a list.\n",
        "\n",
        "**Example:**\n",
        "\n",
        "> nums = {\n",
        "\n",
        "> 1: \"one\",\n",
        "\n",
        "> 2: \"two\",\n",
        "\n",
        "> 3: \"three\",\n",
        "\n",
        "> }\n",
        "\n",
        "> print(1 in nums)\n",
        "\n",
        "> print(\"three\" in nums)\n",
        "\n",
        "> print(4 not in nums)\n",
        "\n",
        "> #True\n",
        "\n",
        "> #False\n",
        "\n",
        "> #True\n"
      ],
      "metadata": {
        "id": "Ndny7DCedVyT"
      }
    },
    {
      "cell_type": "code",
      "source": [
        "pairs = {112 : \"Orange\"}\n",
        "\n",
        "if 112 in pairs:\n",
        "  print(\"Yes\")\n",
        "else:\n",
        "  print(\"No\")"
      ],
      "metadata": {
        "colab": {
          "base_uri": "https://localhost:8080/"
        },
        "id": "57ZaZcvrduV0",
        "outputId": "27e99f8f-5236-481f-f9d0-ee05a4540822"
      },
      "execution_count": null,
      "outputs": [
        {
          "output_type": "stream",
          "name": "stdout",
          "text": [
            "Yes\n"
          ]
        }
      ]
    },
    {
      "cell_type": "markdown",
      "source": [
        "**Dictionaries**\n",
        "\n",
        "A useful dictionary method is **get**. It does the same thing as indexing, but if the key is not found in the dictionary it returns another specified value instead('None', by default).\n",
        "\n",
        "**Example:**\n",
        "\n",
        "> pairs = {1 : \"apple\", \n",
        "\n",
        "> \"orange\" : [2, 3, 4],\n",
        "\n",
        "> True: False,\n",
        "\n",
        "> None: \"True\",\n",
        "\n",
        "> }\n",
        "\n",
        "> print(pairs.get(\"orange\"))\n",
        "\n",
        "> print(pairs.get(7))\n",
        "\n",
        "> print(pairs.get(12345, \"not in dictionary\"))\n",
        "\n",
        "> #[2, 3, 4]\n",
        "\n",
        "> #None\n",
        "\n",
        "> #not in dictionary"
      ],
      "metadata": {
        "id": "jvktZA3jeJAd"
      }
    },
    {
      "cell_type": "code",
      "source": [
        "fib = {1: 1, 2: 1, 3: 2, 4: 3}\n",
        "\n",
        "print(fib.get(4,0) + fib.get(7,5))  #  if there is the key 4 then get the value of 4, otherwise return 0"
      ],
      "metadata": {
        "colab": {
          "base_uri": "https://localhost:8080/"
        },
        "id": "1MEDTNkIePws",
        "outputId": "31df2e48-4867-40d3-d945-64aaaf09e575"
      },
      "execution_count": null,
      "outputs": [
        {
          "output_type": "stream",
          "name": "stdout",
          "text": [
            "8\n"
          ]
        }
      ]
    },
    {
      "cell_type": "markdown",
      "source": [
        "**Tuples**\n",
        "\n",
        "**Tuples** are very similar to lists, except that they are immutable(they cannot be changed).\n",
        "\n",
        "Also, they are created using **parentheses**, rather than square brackets.\n",
        "\n",
        "**Example:**\n",
        "\n",
        "> words = (\"spam\", \"eggs\", \"sausages\",)\n",
        "\n",
        "You can **access the values** in the tuple with their index, just as you did with lists:\n",
        "\n",
        "> print(words[0])\n",
        "\n",
        "Trying to **reassign a value** in a tuple causes a **TypeError.**\n",
        "\n",
        "> words[1] = \"cheese\"\n",
        "\n",
        "Like lists and dictionaries, tuples can be nested within each other."
      ],
      "metadata": {
        "id": "PxJmK9-LemBU"
      }
    },
    {
      "cell_type": "code",
      "source": [
        "# list\n",
        "list = [\"one\", \"two\"]\n",
        "\n",
        "# dictionary\n",
        "dict = {1: \"one\", 2: \"two\"}\n",
        "\n",
        "# tuple\n",
        "tp = (\"one\", \"two\")"
      ],
      "metadata": {
        "id": "efY3uINFerWM"
      },
      "execution_count": null,
      "outputs": []
    },
    {
      "cell_type": "markdown",
      "source": [
        "**Tuples**\n",
        "\n",
        "Tuples can be created without the parentheses, by just separating the values with commas.\n",
        "\n",
        "**Example**\n",
        "\n",
        "> my_tuple = \"one\", \"two\", \"three\"\n",
        "\n",
        "> print(my_tuple[0])\n",
        "\n",
        "An empty tuple is created using an empty parenthesis pair\n",
        "\n",
        "> tpl = ()\n",
        "\n",
        "Tuples are faster than lists, but they cannot be changed."
      ],
      "metadata": {
        "id": "atpR378Kez8c"
      }
    },
    {
      "cell_type": "code",
      "source": [
        "tuple = (1,(1,2,3))\n",
        "\n",
        "print(tuple[1])"
      ],
      "metadata": {
        "colab": {
          "base_uri": "https://localhost:8080/"
        },
        "id": "6upFLZajin9z",
        "outputId": "88a4461c-030c-4da1-89bd-4e961ae3a849"
      },
      "execution_count": null,
      "outputs": [
        {
          "output_type": "stream",
          "name": "stdout",
          "text": [
            "(1, 2, 3)\n"
          ]
        }
      ]
    },
    {
      "cell_type": "code",
      "source": [
        "CmtoInch = 1, 0.39\n",
        "\n",
        "select = input(\"Press 1: Convert Centimeter to Inches\\n\\\n",
        "Press 2: Convert Inches to Centimeter\\nYou select :  \")\n",
        "\n",
        "length = int(input(\"put the value: \"))\n",
        "\n",
        "if select == \"1\":\n",
        "  print(f\"{length} cm is equal to {length*CmtoInch[1]:.2f} inche(s)\")\n",
        "elif select ==\"2\":\n",
        "  print(f\"{length} inche(s) is equal to {length/CmtoInch[1]:.2f} cm\")\n",
        "else:\n",
        "  print(\"Wrong Input\")"
      ],
      "metadata": {
        "colab": {
          "base_uri": "https://localhost:8080/"
        },
        "id": "jD00_9UeezbU",
        "outputId": "1adfac93-7168-4711-b454-e1d6a47c25a7"
      },
      "execution_count": null,
      "outputs": [
        {
          "output_type": "stream",
          "name": "stdout",
          "text": [
            "Press 1: Convert Centimeter to Inches\n",
            "Press 2: Convert Inches to Centimeter\n",
            "You select :  1\n",
            "put the value: 12\n",
            "12 cm is equal to 4.68 inche(s)\n"
          ]
        }
      ]
    },
    {
      "cell_type": "markdown",
      "source": [
        "**List Slices**\n",
        "\n",
        "**List Slices** provide a more advance way of retrieving values from a list. Basic list slicing involves indexing a list with **two colon-separated integers.** This returns a new list containing all the values in the old list between the indices.\n",
        "\n",
        "**Example:**\n",
        "\n",
        "> squares = [0, 1, 4, 9, 16, 25, 36, 49, 64, 81]\n",
        "\n",
        "> print(squares[2:6])\n",
        "\n",
        "> print(squares[3:8])\n",
        "\n",
        "> print(squares[0:1])\n",
        "\n",
        "Like the arguments to **range**, the first index provided in a slice is included in the result, but the second isn't "
      ],
      "metadata": {
        "id": "Ueazc5Vji2Ab"
      }
    },
    {
      "cell_type": "code",
      "source": [
        "sqs = [0, 1, 4, 9, 16, 25, 36, 49, 64]\n",
        "\n",
        "print(sqs[4:7])"
      ],
      "metadata": {
        "colab": {
          "base_uri": "https://localhost:8080/"
        },
        "id": "dS8wLICgi3tb",
        "outputId": "5374ac82-698b-49c4-f664-91b639a2ff9b"
      },
      "execution_count": null,
      "outputs": [
        {
          "output_type": "stream",
          "name": "stdout",
          "text": [
            "[16, 25, 36]\n"
          ]
        }
      ]
    },
    {
      "cell_type": "markdown",
      "source": [
        "**List Slices**\n",
        "\n",
        "If the **first number** in a slice is **omitted**, it is taken to be **the start** of the list. \n",
        "\n",
        "If the **second number** is **omitted**, it is taken to be **the end**.\n",
        "\n",
        "**Example:**\n",
        "\n",
        "> squares = [0, 1, 4, 9, 16, 25, 36, 49, 64, 81]\n",
        "\n",
        "> print(squares[:7])\n",
        "\n",
        "> print(squares[7:])\n",
        "\n",
        "\n",
        "Slicing can also be done on tuples.\n"
      ],
      "metadata": {
        "id": "4DBTjGnwjB9c"
      }
    },
    {
      "cell_type": "code",
      "source": [
        "squares = [0, 1, 4, 9, 16, 25, 36, 49, 64, 81]\n",
        "\n",
        "print(squares[:7])\n",
        "print(squares[7:])"
      ],
      "metadata": {
        "colab": {
          "base_uri": "https://localhost:8080/"
        },
        "id": "8fdXxPFfjC0l",
        "outputId": "b09d14b1-f8cc-4ffb-9acc-cfc255bb1776"
      },
      "execution_count": null,
      "outputs": [
        {
          "output_type": "stream",
          "name": "stdout",
          "text": [
            "[0, 1, 4, 9, 16, 25, 36]\n",
            "[49, 64, 81]\n"
          ]
        }
      ]
    },
    {
      "cell_type": "code",
      "source": [
        "list = [\"a\", \"b\", \"c\", \"d\"]\n",
        "\n",
        "a = list[0:2]\n",
        "\n",
        "print(a)"
      ],
      "metadata": {
        "colab": {
          "base_uri": "https://localhost:8080/"
        },
        "id": "kcIwF4XxjRQ7",
        "outputId": "55ba6508-6f8f-45a7-b3a3-05198ab42115"
      },
      "execution_count": null,
      "outputs": [
        {
          "output_type": "stream",
          "name": "stdout",
          "text": [
            "['a', 'b']\n"
          ]
        }
      ]
    },
    {
      "cell_type": "markdown",
      "source": [
        "**List Slices**\n",
        "\n",
        "List slices can also have a third number, representing the **step**, to include only alternate values in the slice.\n",
        "\n",
        "> squares = [0, 1, 4, 9, 16, 25, 36, 49, 64, 81]\n",
        "\n",
        "> print(squares[::2])\n",
        "\n",
        "> print(squares[2:8:3])\n",
        "\n",
        "\n",
        "[2:8:3] will include elements starting form the 2nd index up to the 8th with a step of 3."
      ],
      "metadata": {
        "id": "vLPz3_znjY97"
      }
    },
    {
      "cell_type": "code",
      "source": [
        "sqs = [0, 1, 4, 9, 16, 25, 36, 49, 64, 81]\n",
        "\n",
        "print(sqs[1::4])"
      ],
      "metadata": {
        "colab": {
          "base_uri": "https://localhost:8080/"
        },
        "id": "XT-LnbZdjarj",
        "outputId": "98e851cd-5607-4879-eb55-ca8a994fbdb9"
      },
      "execution_count": null,
      "outputs": [
        {
          "output_type": "stream",
          "name": "stdout",
          "text": [
            "[1, 25, 81]\n"
          ]
        }
      ]
    },
    {
      "cell_type": "markdown",
      "source": [
        "**List Slices**\n",
        "\n",
        "**Negative** values can be used in list slicing (and normal list indexing). When negative values are used for the first and second values in a slice (or a normal index), they count from the end of the list.\n",
        "\n",
        "> squares = [0, 1, 4, 9, 16, 25, 36, 49, 64, 81]\n",
        "\n",
        "> print(squares[1:-1])\n",
        "\n",
        "if a negative values is used for the step, the slice is done backwards. Using[::-1] as a slice is a common and idiomatic way to reverse a list."
      ],
      "metadata": {
        "id": "xWckwTzBjjCT"
      }
    },
    {
      "cell_type": "code",
      "source": [
        "sqs = [0, 1, 4, 9, 16, 25, 36, 49, 64, 81]\n",
        "\n",
        "print(sqs[7:5:-1])"
      ],
      "metadata": {
        "colab": {
          "base_uri": "https://localhost:8080/"
        },
        "id": "FHIYNEoJjlbz",
        "outputId": "579b701f-585f-4a67-f901-74807f62fe5b"
      },
      "execution_count": null,
      "outputs": [
        {
          "output_type": "stream",
          "name": "stdout",
          "text": [
            "[49, 36]\n"
          ]
        }
      ]
    },
    {
      "cell_type": "markdown",
      "source": [
        "**List Comprehensions**\n",
        "\n",
        "**List comprehensions** are a useful way of quickly creating lists whose contents obey a simple rule.\n",
        "\n",
        "For example, we can do the following:\n",
        "\n",
        "> #a list comprehension\n",
        "\n",
        "> cubes = [i**3 for i in range(5)]\n",
        "\n",
        "> print(cubes)\n",
        "\n",
        "> #[0, 1, 8, 27, 64]\n",
        "\n",
        "List comprehensions are inspired by set-builder notation in mathematics."
      ],
      "metadata": {
        "id": "3Bg-xovbjv5j"
      }
    },
    {
      "cell_type": "code",
      "source": [
        "cubes = [i**3 for i in range(5)]\n",
        "\n",
        "print(cubes)"
      ],
      "metadata": {
        "colab": {
          "base_uri": "https://localhost:8080/"
        },
        "id": "-lc8AqzLjzBz",
        "outputId": "b209e074-d281-403c-a0da-ef08d56abf04"
      },
      "execution_count": null,
      "outputs": [
        {
          "output_type": "stream",
          "name": "stdout",
          "text": [
            "[0, 1, 8, 27, 64]\n"
          ]
        }
      ]
    },
    {
      "cell_type": "code",
      "source": [
        "nums = [i*2 for i in range(10)]\n",
        "\n",
        "print(nums)"
      ],
      "metadata": {
        "colab": {
          "base_uri": "https://localhost:8080/"
        },
        "id": "FkQTuOW7j2Ms",
        "outputId": "656d98a0-0694-4b8d-d101-dea37afc864c"
      },
      "execution_count": null,
      "outputs": [
        {
          "output_type": "stream",
          "name": "stdout",
          "text": [
            "[0, 2, 4, 6, 8, 10, 12, 14, 16, 18]\n"
          ]
        }
      ]
    },
    {
      "cell_type": "markdown",
      "source": [
        "**List Comprehensions**\n",
        "\n",
        "A list comprehension can also contain an **if** statement to enforce a condition on values in the list.\n",
        "\n",
        "**Example:**\n",
        "\n",
        "> evens = [i\\*\\*2 for i in range(10) if i\\*\\*2 % 2 == 0]\n",
        "\n",
        "> print(evens)\n",
        "\n",
        "> #[0, 4, 16, 36, 64]"
      ],
      "metadata": {
        "id": "Qrpa6ZoSj9MM"
      }
    },
    {
      "cell_type": "code",
      "source": [
        "evens = [i**2 for i in range(10) if i**2%2 == 0]\n",
        "\n",
        "print(evens)"
      ],
      "metadata": {
        "colab": {
          "base_uri": "https://localhost:8080/"
        },
        "id": "uAnlNbZskASz",
        "outputId": "673ead55-72e7-4728-d13c-9e94f044db6d"
      },
      "execution_count": null,
      "outputs": [
        {
          "output_type": "stream",
          "name": "stdout",
          "text": [
            "[0, 4, 16, 36, 64]\n"
          ]
        }
      ]
    },
    {
      "cell_type": "code",
      "source": [
        "a = [i for i in range(20) if i % 3 == 0]\n",
        "\n",
        "print(a)"
      ],
      "metadata": {
        "colab": {
          "base_uri": "https://localhost:8080/"
        },
        "id": "iS8mM7_IkCQj",
        "outputId": "c953487a-626c-4845-887b-5d06614531f9"
      },
      "execution_count": null,
      "outputs": [
        {
          "output_type": "stream",
          "name": "stdout",
          "text": [
            "[0, 3, 6, 9, 12, 15, 18]\n"
          ]
        }
      ]
    },
    {
      "cell_type": "code",
      "source": [
        "num = [i if i%2 == 0  else -i for i in range(10)]\n",
        "\n",
        "print(num)"
      ],
      "metadata": {
        "colab": {
          "base_uri": "https://localhost:8080/"
        },
        "id": "GrsOP3k4kDwk",
        "outputId": "3d6187a0-5106-42de-f0db-768decb8c735"
      },
      "execution_count": null,
      "outputs": [
        {
          "output_type": "stream",
          "name": "stdout",
          "text": [
            "[0, -1, 2, -3, 4, -5, 6, -7, 8, -9]\n"
          ]
        }
      ]
    },
    {
      "cell_type": "markdown",
      "source": [
        "**List Comprehensions**\n",
        "\n",
        "Trying to create a list in a very extensive range will result in  a **MemoryError**. \n",
        "This code shows an example where the list comprehension runs out of memory.\n",
        "\n",
        "> even = [2 * i for i in range(10**100)]\n",
        "\n",
        "This issue is solved by **generators**, which are covered in the next module."
      ],
      "metadata": {
        "id": "Mmbz6gLflfhd"
      }
    },
    {
      "cell_type": "code",
      "source": [
        "a = [x * 10 for x in range(5,9)]\n",
        "\n",
        "print(a)"
      ],
      "metadata": {
        "colab": {
          "base_uri": "https://localhost:8080/"
        },
        "id": "1N5k174slrOD",
        "outputId": "4d265ba2-f060-4f41-db07-d7547bfa2eb1"
      },
      "execution_count": null,
      "outputs": [
        {
          "output_type": "stream",
          "name": "stdout",
          "text": [
            "[50, 60, 70, 80]\n"
          ]
        }
      ]
    },
    {
      "cell_type": "markdown",
      "source": [
        "**String Formatting** \n",
        "\n",
        "So far, to combine strings and non-strings, you've converted the non-strings to strings and added them.\n",
        "\n",
        "String formatting provides a more powerful way to embed non-strings within strigs. String formatting uses a string's **format** method to substitute a number of arguments in the string.\n",
        "\n",
        "**Example:**\n",
        "\n",
        "> #string formatting\n",
        "\n",
        "> nums = [4, 5, 6]\n",
        "\n",
        "> msg = \"Numbers {0} {1} {2}\". format(nums[0], nums[1], nums[2])\n",
        "\n",
        "> print(msg)\n",
        "\n",
        "Each argument of the format function is placed in the string at the corresponding position, which is determined using the curly braces {}."
      ],
      "metadata": {
        "id": "-mtr2JY6l_Uz"
      }
    },
    {
      "cell_type": "code",
      "source": [
        "print(\"{0}{1}{0}\".format(\"abra\",\"cad\"))"
      ],
      "metadata": {
        "colab": {
          "base_uri": "https://localhost:8080/"
        },
        "id": "2hBJY2WTmCak",
        "outputId": "495c1c73-d283-417f-cea6-0defb0de39dd"
      },
      "execution_count": null,
      "outputs": [
        {
          "output_type": "stream",
          "name": "stdout",
          "text": [
            "abracadabra\n"
          ]
        }
      ]
    },
    {
      "cell_type": "code",
      "source": [
        "info = [\"John\", \"Mueller\", \"27\"]\n",
        "\n",
        "say = \"Hello Mr.{1} You become {2} today.\".format(info[0], info[1], info[2])\n",
        "\n",
        "print(say)"
      ],
      "metadata": {
        "colab": {
          "base_uri": "https://localhost:8080/"
        },
        "id": "dR3XlSVRmK_0",
        "outputId": "70c568e4-9ce8-49a0-eafc-7b21c81f5743"
      },
      "execution_count": null,
      "outputs": [
        {
          "output_type": "stream",
          "name": "stdout",
          "text": [
            "Hello Mr.Mueller You become 27 today.\n"
          ]
        }
      ]
    },
    {
      "cell_type": "markdown",
      "source": [
        "**String Formatting**\n",
        "\n",
        "String formatting can also be done with named arguments.\n",
        "\n",
        "**Example:**\n",
        "\n",
        "> a = \"{x}, {y}\".format(x = 5, y = 12)\n",
        "\n",
        "> print(a)"
      ],
      "metadata": {
        "id": "XLazhRktmQsL"
      }
    },
    {
      "cell_type": "code",
      "source": [
        "str = \"{c}, {b}, {a}\".format(a = 5, b = 9, c = 7)\n",
        "\n",
        "print(str)"
      ],
      "metadata": {
        "colab": {
          "base_uri": "https://localhost:8080/"
        },
        "id": "-fD6rG72mUCT",
        "outputId": "bd6fd1a0-ac32-446c-ddee-66bc1193f895"
      },
      "execution_count": null,
      "outputs": [
        {
          "output_type": "stream",
          "name": "stdout",
          "text": [
            "7, 9, 5\n"
          ]
        }
      ]
    },
    {
      "cell_type": "markdown",
      "source": [
        "**String Functions**\n",
        "\n",
        "Python contains many useful built-in functions and methods to accomplish common tasks.\n",
        "\n",
        "**join** - joins a list of strings with another strings as a separator.\n",
        "\n",
        "> print(\",\".join([\"spam\", \"eggs\", \"ham\"]))\n",
        "\n",
        "> #spam, eggs, ham \n",
        "\n",
        "\n",
        "**replace** - replaces  one substring in a strig with another.\n",
        "\n",
        "\n",
        "> print(\"Hello Me\".replace(\"Me\", \"world\"))\n",
        "\n",
        "> #Hello world\n",
        "\n",
        "**strtswith** and **endwith** - determine if there is a substring at the start and end of a string, respectively.\n",
        "\n",
        "\n",
        "> print(\"This is a sentence.\".startswith(\"This\"))\n",
        "\n",
        "> #True\n",
        "\n",
        "> print(\"This is a sentence.\".endswith(\"sentence.\"))\n",
        "\n",
        "> #True\n",
        " \n",
        "\n",
        "To change the case of a string, you can use **lower** and **upper**.\n",
        "\n",
        "> print(\"This is a sentence.\".upper())\n",
        "\n",
        "> #THIS IS A SENTENCE\n",
        "\n",
        "\n",
        "> print(\"AN ALL CAPS SENTENCE\".lower())\n",
        "\n",
        "> #an all caps sentence\n",
        " \n",
        "\n",
        "The method **split** is the opposite of **join** turning a string with a certain separator into a list.\n",
        "\n",
        "\n",
        "> print(\"spam, eggs, ham\".split(\",\"))\n",
        "\n",
        "> #['spam', 'eggs', 'ham']"
      ],
      "metadata": {
        "id": "2Ki0SmcLmqID"
      }
    },
    {
      "cell_type": "code",
      "source": [
        "a = \"Spam\"\n",
        "\n",
        "b = a.upper()\n",
        "\n",
        "print(b)"
      ],
      "metadata": {
        "colab": {
          "base_uri": "https://localhost:8080/"
        },
        "id": "6aHtqNc0u9sJ",
        "outputId": "56fae812-e71d-48d0-d2e4-fd12c15f965d"
      },
      "execution_count": null,
      "outputs": [
        {
          "output_type": "stream",
          "name": "stdout",
          "text": [
            "SPAM\n"
          ]
        }
      ]
    },
    {
      "cell_type": "markdown",
      "source": [
        "**Numeric Functions**\n",
        "\n",
        "To find the maximum or minimum of some numbers or a list, you can use **max** or **min**\n",
        "\n",
        "> print(min(1, 2, 3, 4, 0, 2, 1))\n",
        "\n",
        "> print(max([1, 4, 0, 2, 5, 6, 8]))\n",
        "\n",
        "To find the distance of a number from zero (its absolute value), use **abs**.\n",
        "\n",
        "> print(abs(-99))\n",
        "\n",
        "To round a number ot a certain number of decimal places, use **round**. \n",
        "\n",
        "> print(round(42.785))\n",
        "\n",
        "To find the total of a list, use **sum**\n",
        "\n",
        "> print(sum([1, 2, 3, 4, 5])))"
      ],
      "metadata": {
        "id": "bx9Jd8w7BF7x"
      }
    },
    {
      "cell_type": "code",
      "source": [
        "a = min([sum([11, 22]), max(abs(-30), 2)])\n",
        "\n",
        "print(a)"
      ],
      "metadata": {
        "colab": {
          "base_uri": "https://localhost:8080/"
        },
        "id": "thcOBSK_BMoN",
        "outputId": "51d878ff-8976-4e63-d843-b2e66369869e"
      },
      "execution_count": null,
      "outputs": [
        {
          "output_type": "stream",
          "name": "stdout",
          "text": [
            "30\n"
          ]
        }
      ]
    },
    {
      "cell_type": "markdown",
      "source": [
        "**List Functions**\n",
        "\n",
        "Often used in conditional statements, **all** and **any** take a list as an argument, and return **True** if all or any(respectively) of their arguemts evaluate to **True** (and **False** otherwise).\n",
        "\n",
        "The function **enumerate** can be used to iterate through the values and indices of a list simultaneously.\n",
        "\n",
        "**Example**:\n",
        "\n",
        "> nums = [55, 44, 33, 22, 11]\n",
        "\n",
        "> if all([i > 5 for i in nums]):\n",
        "\n",
        ">> print(\"All larger than 5\")\n",
        "\n",
        "> if any([i % 2 == 0 for i in nums]):\n",
        "\n",
        ">> print(\"At least one is even\")\n",
        "\n",
        "> for v in enumerate(nums):\n",
        "\n",
        ">> print(v)\n",
        "\n"
      ],
      "metadata": {
        "id": "1FdJhDbCBiR9"
      }
    },
    {
      "cell_type": "code",
      "source": [
        "nums = [55, 44, 33, 22, 11]\n",
        "\n",
        "if all([i > 5 for i in nums]):\n",
        "  print(\"All larger than 5\")\n",
        "\n",
        "if any([i % 2 == 0 for i in nums]):\n",
        "  print(\"At least one is even\")\n",
        "\n",
        "for v in enumerate(nums):\n",
        "  print(v)    "
      ],
      "metadata": {
        "colab": {
          "base_uri": "https://localhost:8080/"
        },
        "id": "a6Vt2fc3BjFY",
        "outputId": "570e358d-95c0-4f20-95fa-091648d0a7b1"
      },
      "execution_count": null,
      "outputs": [
        {
          "output_type": "stream",
          "name": "stdout",
          "text": [
            "All larger than 5\n",
            "At least one is even\n",
            "(0, 55)\n",
            "(1, 44)\n",
            "(2, 33)\n",
            "(3, 22)\n",
            "(4, 11)\n"
          ]
        }
      ]
    },
    {
      "cell_type": "code",
      "source": [
        "nums = [-1, 2, -3, 4 -5]\n",
        "\n",
        "if all([abs(i) < 3 for i in nums]):\n",
        "  print(1)\n",
        "else:\n",
        "  print(2)"
      ],
      "metadata": {
        "colab": {
          "base_uri": "https://localhost:8080/"
        },
        "id": "yNVTW6oqB9Qo",
        "outputId": "4294d890-ab65-4d7f-d636-f8c0ca2ebacb"
      },
      "execution_count": null,
      "outputs": [
        {
          "output_type": "stream",
          "name": "stdout",
          "text": [
            "2\n"
          ]
        }
      ]
    },
    {
      "cell_type": "markdown",
      "source": [
        "**Text Analyzer**\n",
        "\n",
        "This is an example project, showing a program that analyzes a sample file to find what percentage of the text each character occupies.\n",
        "\n",
        "This section shows how a file could be open and read.\n",
        "\n",
        "> filename = input(\"Enter a filename:\")\n",
        "\n",
        "> with open(filename) as f:\n",
        "\n",
        ">> text = f.read()\n",
        "\n",
        "> print(text)\n",
        "\n"
      ],
      "metadata": {
        "id": "T1n6XIpXCIQ7"
      }
    },
    {
      "cell_type": "code",
      "source": [
        "# with open(filename) as f:\n",
        "#  text = f.read()"
      ],
      "metadata": {
        "id": "yJ59OB7VCMan"
      },
      "execution_count": null,
      "outputs": []
    },
    {
      "cell_type": "markdown",
      "source": [
        "**Text Analyzer**\n",
        "\n",
        "This part of the program shows a function that counts how many times a character occurs in a string.\n",
        "\n",
        "> def count_char(text, char):\n",
        "\n",
        ">> count = 0\n",
        "\n",
        ">> for c in text:\n",
        "\n",
        ">>> if c == char:\n",
        "\n",
        ">>>> count +=1\n",
        "\n",
        ">> return count\n",
        "\n",
        "This function takes as its argumetns the text of the file and one character, returning the number of times that character appears in the text. \n",
        "\n",
        "Now we can call it for our file.\n",
        "\n",
        "> filename = input(\"Enter a filename: \")\n",
        "\n",
        "> with open(filename) as f:\n",
        "\n",
        ">> text = f.read()\n",
        "\n",
        "> print(count_char(text, \"r\"))\n",
        "\n",
        "**Result:**\n",
        "\n",
        "> #Enter a filename: test.txt\n",
        "\n",
        ">> #83\n",
        "\n",
        "\n",
        "The character \"r\" appears 83 times in the file.\n"
      ],
      "metadata": {
        "id": "Xcy-c5UpCvsk"
      }
    },
    {
      "cell_type": "markdown",
      "source": [
        "**Text Analyzer**\n",
        "\n",
        "The next part of the program find what percentage of the text each character of the alphabet occupies.\n",
        "\n",
        "> for char in \"abcdefghijklmnopqrstuvwxyz\":\n",
        "\n",
        ">> perc = 100 * count_char(text,char) / len(text)\n",
        "\n",
        ">> print(\"{0} - {1}%\".format(char, round(perc,2)))\n",
        "\n",
        "Let's put it all together and run the program:\n",
        "\n",
        "> def count_char(text, char):\n",
        "\n",
        ">> count = 0\n",
        "\n",
        ">> for c in text:\n",
        "\n",
        ">>> if c == char:\n",
        "\n",
        ">>>> count += 1\n",
        "\n",
        ">> return count\n",
        "\n",
        "> filename = input(\"Enter a filename: \")\n",
        "\n",
        "> with open(filename) as f:\n",
        "\n",
        ">> text = f.read()\n",
        "\n",
        ">for char in \"abcdefghijklmnopqrstvuwxyz\":\n",
        "\n",
        ">> perc = 100 * count_char(text, char) / len(text)\n",
        "\n",
        ">> print(\"{0} -{1}%\".format(char, round(perc, 2)))\n",
        "\n",
        "**Result**\n",
        "\n",
        "> Enter a file name: text.txt\n",
        "\n",
        "> a - 4.68%"
      ],
      "metadata": {
        "id": "_51rdBPnC99X"
      }
    },
    {
      "cell_type": "code",
      "source": [
        "def count_char(text, char):\n",
        "  count = 0\n",
        "  for c in text:\n",
        "    if c == char:\n",
        "      count += 1\n",
        "  return count \n",
        "\n",
        "file = open(\"RomeoandJuliet.txt\", \"w\")\n",
        "file.write(\"\"\"O Romeo, Romeo, wherefore art thou Romeo?\n",
        "Deny thy father and refuse thy name.\n",
        "Or if thou wilt not, be but sworn my love\n",
        "And I’ll no longer be a Capulet.\n",
        "‘Tis but thy name that is my enemy:\n",
        "Thou art thyself, though not a Montague.\n",
        "What’s Montague? It is nor hand nor foot\n",
        "Nor arm nor face nor any other part\n",
        "Belonging to a man. O be some other name.\n",
        "What’s in a name? That which we call a rose\n",
        "By any other name would smell as sweet;\n",
        "So Romeo would, were he not Romeo call’d,\n",
        "Retain that dear perfection which he owes\n",
        "Without that title. Romeo, doff thy name,\n",
        "And for that name, which is no part of thee,\n",
        "Take all myself.\n",
        "\"\"\")\n",
        "file.close()\n",
        "\n",
        "filename = \"RomeoandJuliet.txt\"\n",
        "with open(filename) as f:\n",
        "  text = f.read()\n",
        "\n",
        "for char in \"abcdefghijklmnopqrstuvwxyz\":\n",
        "  perc = 100 * count_char(text, char) / len(text)\n",
        "  print(\"{0} - {1}\".format(char, round(perc,2)))"
      ],
      "metadata": {
        "colab": {
          "base_uri": "https://localhost:8080/"
        },
        "id": "h8Bo84dpDA-3",
        "outputId": "622df79a-7c9d-4c3b-8a22-6fe6f35d96ff"
      },
      "execution_count": null,
      "outputs": [
        {
          "output_type": "stream",
          "name": "stdout",
          "text": [
            "a - 6.59\n",
            "b - 0.8\n",
            "c - 1.13\n",
            "d - 1.45\n",
            "e - 9.0\n",
            "f - 2.09\n",
            "g - 0.96\n",
            "h - 5.31\n",
            "i - 2.41\n",
            "j - 0.0\n",
            "k - 0.16\n",
            "l - 3.22\n",
            "m - 3.38\n",
            "n - 5.47\n",
            "o - 8.04\n",
            "p - 0.64\n",
            "q - 0.0\n",
            "r - 4.02\n",
            "s - 2.57\n",
            "t - 7.56\n",
            "u - 2.09\n",
            "v - 0.16\n",
            "w - 1.93\n",
            "x - 0.0\n",
            "y - 2.09\n",
            "z - 0.0\n"
          ]
        }
      ]
    },
    {
      "cell_type": "code",
      "source": [
        "nums = (55, 44, 33, 22)\n",
        "\n",
        "print(max(min(nums[:2]),abs(-42)))"
      ],
      "metadata": {
        "colab": {
          "base_uri": "https://localhost:8080/"
        },
        "id": "Cue_8afHDbhR",
        "outputId": "1c7214ec-20dd-441b-a15c-1b941151b531"
      },
      "execution_count": null,
      "outputs": [
        {
          "output_type": "stream",
          "name": "stdout",
          "text": [
            "44\n"
          ]
        }
      ]
    },
    {
      "cell_type": "markdown",
      "source": [
        "**Extra**"
      ],
      "metadata": {
        "id": "jwwir2fDDdxG"
      }
    },
    {
      "cell_type": "code",
      "source": [
        "print(\"Welcome to Tramezzino Squisito\") # ss zz sound makes salivary glands more active. \n",
        "\n",
        "meat = input(\"Please select your meat\\n\\tpress 1: pork\\n\\tpress 2: beef\\n\\tpress\\\n",
        " 3: chicken\\n\\tpress 4: fish\\n\\tpress 5: vegan\\nYour selection : \")\n",
        "\n",
        "Sanwich = [\"bread\",\"onion\", \"tomato\", \"egg\", \"meat\", \"cucumber\" ,\"lettuce\", \"bread\"]\n",
        "Order = \" \".join(Sanwich)\n",
        "\n",
        "if meat == \"1\":\n",
        "  Order = Order.replace(\"meat\", \"pork\")\n",
        "elif meat == \"2\":\n",
        "  Order = Order.replace(\"meat\", \"beef\")\n",
        "elif meat == \"3\":\n",
        "  Order = Order.replace(\"meat\", \"chicken\")\n",
        "elif meat == \"4\":\n",
        "  Order = Order.replace(\"meat\", \"fish\")\n",
        "elif meat == \"5\":\n",
        "  veg = {\"meat\": \"plant-based\",\"egg\": \"mushroom\"}\n",
        "  for k, v in veg.items():\n",
        "   Order = Order.replace(k,v)\n",
        "else: \n",
        "  print(\"Not available\")\n",
        "\n",
        "menus = ['1', '2', '3', '4', '5']\n",
        "\n",
        "if meat in menus and Order.startswith('bread') == Order.endswith('bread'):\n",
        "  print(f\"your order {Order.split(' ')}\")\n",
        "  print(\"processing...\")\n",
        "else:\n",
        "  print(\"error!\")"
      ],
      "metadata": {
        "colab": {
          "base_uri": "https://localhost:8080/"
        },
        "id": "ZcfvMGS-DmJZ",
        "outputId": "e6fcb352-9b36-4f5c-ab19-1a9d5ff68478"
      },
      "execution_count": null,
      "outputs": [
        {
          "output_type": "stream",
          "name": "stdout",
          "text": [
            "Welcome to Tramezzino Squisito\n",
            "Please select your meat\n",
            "\tpress 1: pork\n",
            "\tpress 2: beef\n",
            "\tpress 3: chicken\n",
            "\tpress 4: fish\n",
            "\tpress 5: vegan\n",
            "Your selection : 5\n",
            "your order ['bread', 'onion', 'tomato', 'mushroom', 'plant-based', 'cucumber', 'lettuce', 'bread']\n",
            "processing...\n"
          ]
        }
      ]
    },
    {
      "cell_type": "markdown",
      "source": [
        "#<center><b>7. Functional Programming</b></center>"
      ],
      "metadata": {
        "id": "KeTL_xjwEbzD"
      }
    },
    {
      "cell_type": "markdown",
      "source": [
        "**Functional Programming**\n",
        "\n",
        "**Functional programming** is a style of programming that (as the name suggests) is based around functions.\n",
        "\n",
        "A key part of functional programming is **higher-oder functions.** We have seen this idea briefly in the previous lesson on functions as objects. Higher-order functions take other functions as arguments, or return them as results.\n",
        "\n",
        "**Example:**\n",
        "\n",
        "> def apply_twice(func, arg):\n",
        "\n",
        ">> return func(func(arg))\n",
        "\n",
        "> def add_five(x):\n",
        "\n",
        ">> return x + 5\n",
        "\n",
        "> print(apply_twice(add_five, 10))\n",
        "\n",
        "The function **apply_twice** takes another function as its argument, and calls it twice inside its body."
      ],
      "metadata": {
        "id": "b0SV18iHbMP9"
      }
    },
    {
      "cell_type": "code",
      "source": [
        "def apply_twice(func, arg):\n",
        "  return func(func(arg))\n",
        "\n",
        "def add_five(x):\n",
        "  return x + 5\n",
        "\n",
        "print(apply_twice(add_five, 10))  "
      ],
      "metadata": {
        "colab": {
          "base_uri": "https://localhost:8080/"
        },
        "id": "6WSr15F3bR92",
        "outputId": "3c051c34-69a8-411e-9422-76f9af8b6f07"
      },
      "execution_count": null,
      "outputs": [
        {
          "output_type": "stream",
          "name": "stdout",
          "text": [
            "20\n"
          ]
        }
      ]
    },
    {
      "cell_type": "code",
      "source": [
        "def test(func, arg):\n",
        "  return func(func(arg))\n",
        "\n",
        "def mult(x):\n",
        "  return x*x\n",
        "\n",
        "print(test(mult,2))"
      ],
      "metadata": {
        "colab": {
          "base_uri": "https://localhost:8080/"
        },
        "id": "fNukhlwtbW9l",
        "outputId": "5c4b44c8-fb6a-4990-80d6-390c64c2bd76"
      },
      "execution_count": null,
      "outputs": [
        {
          "output_type": "stream",
          "name": "stdout",
          "text": [
            "16\n"
          ]
        }
      ]
    },
    {
      "cell_type": "markdown",
      "source": [
        "**Pure Functions**\n",
        "\n",
        "Functional programmming seeks to use **pure functions**. Pure functions have no side effects, and return a value that depends **only** on their arguements.\n",
        "\n",
        "This is how functions in math work: \n",
        "\n",
        "**For example**\n",
        "\n",
        "The cos(x) will, for the same value of x, always return the same result. \n",
        "\n",
        "Below are examples of pure and impure functions.\n",
        "\n",
        "\n",
        "**Pure function:**\n",
        "\n",
        "> def pure_function(x, y):\n",
        "\n",
        ">> temp = x + 2 * y\n",
        "\n",
        ">> return temp / (2*x + y)\n",
        "\n",
        "\n",
        "**Impure function:**\n",
        "\n",
        "> some_list = []\n",
        "\n",
        "> def impure(arg):\n",
        "\n",
        ">> some_list.append(arg)\n",
        "\n",
        "The function above is not pure, because it changed the state of **some_list.**\n"
      ],
      "metadata": {
        "id": "g6rYF962buh2"
      }
    },
    {
      "cell_type": "code",
      "source": [
        "def func(x):\n",
        "  y = x**2\n",
        "  z = x + y\n",
        "  return z\n",
        "\n",
        "print(func(24))"
      ],
      "metadata": {
        "colab": {
          "base_uri": "https://localhost:8080/"
        },
        "id": "h6R3_J2xbxRt",
        "outputId": "533f3142-6e3f-4b15-eec5-0e4adc7f0ecd"
      },
      "execution_count": null,
      "outputs": [
        {
          "output_type": "stream",
          "name": "stdout",
          "text": [
            "600\n"
          ]
        }
      ]
    },
    {
      "cell_type": "markdown",
      "source": [
        "**Pure Functions**\n",
        "\n",
        "Using pure functions has both advantages and disadvantages. \n",
        "\n",
        "Pure functions are:\n",
        "\n",
        "- easier to reason about and test.\n",
        "- more efficient. Once the function has been evaluated for an input, the result can be stored and referred to the next time the function of that input is needed, reducing the number of times the function is called. This is called **memorization.**\n",
        "- easier to run in parallel.\n",
        "\n",
        "The **main disadvantage** of using only pure functions is that they majorly complicate otherwise simple task of I/O, since this appears to inherently require side effects. They can also be more **difficult to write in some situations**."
      ],
      "metadata": {
        "id": "PEkYMyXJcMMm"
      }
    },
    {
      "cell_type": "markdown",
      "source": [
        "**Lambdas**\n",
        "\n",
        "Creating a function normally (using **def**) assigns it to a variable automatically. This is different from the creation of other objects - such as strings and integers - which can be created on the fly, without assigning them to  a variable.\n",
        "\n",
        "The same is possible with functions, provided that they are created using lambda syntax. Functions created this way are known as **anonymous.**\n",
        "\n",
        "This approach is most commonly used when passing a simple function as an argument to another function. \n",
        "\n",
        "The syntax is shown in the next example and consists of the **lambda** keyword followed by a list of arguments, a colon, and the expression to evaluate and return\n",
        "\n",
        "> def my_func(f, arg):\n",
        "\n",
        ">> return f(arg)\n",
        "\n",
        "> my_func(lambda x: 2 * x * x, 5)\n",
        "\n",
        "Lambda functions get their name from **lambda calculas**, which is a model of computation invented by Alonzo Church."
      ],
      "metadata": {
        "id": "G2ziz7HmcdCF"
      }
    },
    {
      "cell_type": "code",
      "source": [
        "def my_func(f,arg):\n",
        "  return f(arg)\n",
        "\n",
        "\n",
        "my_func(lambda x: 2*x*x, 5)"
      ],
      "metadata": {
        "colab": {
          "base_uri": "https://localhost:8080/"
        },
        "id": "QbvMwPc4cj4O",
        "outputId": "d916a75d-31bc-4e50-decd-7ed914907173"
      },
      "execution_count": null,
      "outputs": [
        {
          "output_type": "execute_result",
          "data": {
            "text/plain": [
              "50"
            ]
          },
          "metadata": {},
          "execution_count": 5
        }
      ]
    },
    {
      "cell_type": "markdown",
      "source": [
        "**Lambdas**\n",
        "\n",
        "Lambda functions **aren't as powerful** as named functions.\n",
        "\n",
        "They can only do things that require **a single expression** - usually equivalent to a single line of code.\n",
        "\n",
        "**Example:**\n",
        "\n",
        "> **#named function**\n",
        "\n",
        "> def polynomial(x):\n",
        "\n",
        ">> return x ** 2  + 5 * x + 4\n",
        "\n",
        "> print(polynomial(-4))\n",
        "\n",
        "> **#lambda**\n",
        "\n",
        "> print((lambda x : x ** 2 +  5 * x + 4 ) (-4))\n",
        "\n",
        "In the code above, we created an anonymous function on the fly and called it with an argument."
      ],
      "metadata": {
        "id": "9TKDj41Sc3zJ"
      }
    },
    {
      "cell_type": "code",
      "source": [
        "# named function\n",
        "def polynomial(x):\n",
        "  return x**2 + 5*x + 4\n",
        "\n",
        "print(polynomial(-4))\n",
        "\n",
        "# lambda\n",
        "print((lambda x: x**2 + 5 * x + 4)(-4))"
      ],
      "metadata": {
        "colab": {
          "base_uri": "https://localhost:8080/"
        },
        "id": "kilcX5Ucc47m",
        "outputId": "1a757301-d727-4859-a0f1-46f2b56f6f82"
      },
      "execution_count": null,
      "outputs": [
        {
          "output_type": "stream",
          "name": "stdout",
          "text": [
            "0\n",
            "0\n"
          ]
        }
      ]
    },
    {
      "cell_type": "code",
      "source": [
        "a = (lambda x: x * x) (8)\n",
        "print(a)"
      ],
      "metadata": {
        "colab": {
          "base_uri": "https://localhost:8080/"
        },
        "id": "rhMlSpUNc9y1",
        "outputId": "17d0883b-a2af-4c29-cea3-d914de97c2bb"
      },
      "execution_count": null,
      "outputs": [
        {
          "output_type": "stream",
          "name": "stdout",
          "text": [
            "64\n"
          ]
        }
      ]
    },
    {
      "cell_type": "markdown",
      "source": [
        "**Lambdas**\n",
        "\n",
        "Lambda functions can be assigned to variables, and used like normal functions.\n",
        "\n",
        "**Example:**\n",
        "\n",
        "> double = lambda x: x*2\n",
        "\n",
        "> print(double(7))\n",
        "\n",
        "However, there is rarely a good reason to do this.\n",
        "\n",
        "It is usually better to define a function with **def** instead."
      ],
      "metadata": {
        "id": "pTanHBTqdG0t"
      }
    },
    {
      "cell_type": "code",
      "source": [
        "triple = lambda x: x*3\n",
        "add = lambda x,y: x + y\n",
        "\n",
        "print(add(triple(3),4))"
      ],
      "metadata": {
        "colab": {
          "base_uri": "https://localhost:8080/"
        },
        "id": "t-9ff1aLdJXd",
        "outputId": "282d67ce-373e-4ebf-84d9-317a77b7d02e"
      },
      "execution_count": null,
      "outputs": [
        {
          "output_type": "stream",
          "name": "stdout",
          "text": [
            "13\n"
          ]
        }
      ]
    },
    {
      "cell_type": "markdown",
      "source": [
        "**map**\n",
        "\n",
        "The built-in functions **map** and **filter** are very useful higher-order functions that operate on lists (or similar objects called **iterables**).\n",
        "\n",
        "The function **map** takes **a function** and **an iterable** as arguments, and returns a new iterable with the function applied to each argument.\n",
        "\n",
        "**Example:**\n",
        "\n",
        "> def add_five(x):\n",
        "\n",
        ">> return x + 5\n",
        "\n",
        "> nums = [11, 22, 33, 44, 55]\n",
        "\n",
        "> result = list(map(add_five, nums))\n",
        "\n",
        "> print(result)\n",
        "\n",
        "We could have achieved the same result more easily by using **lambda** syntax.\n",
        "\n",
        "> nums = [11, 22, 33, 44, 55]\n",
        "\n",
        "> result = list(map(lambda x: x+5, nums))\n",
        "\n",
        "> print(result)\n",
        "\n",
        "To convert the result into a list, we used **list** explicitly."
      ],
      "metadata": {
        "id": "10ujcFKydkEW"
      }
    },
    {
      "cell_type": "code",
      "source": [
        "def add_five(x):\n",
        "  return x + 5\n",
        "\n",
        "nums = [11, 22, 33, 44, 55]\n",
        "result = list(map(add_five, nums))\n",
        "print(result)"
      ],
      "metadata": {
        "colab": {
          "base_uri": "https://localhost:8080/"
        },
        "id": "jsEfXBOZdqC9",
        "outputId": "396de92e-fb97-4ed5-96a6-06f42bde9cd5"
      },
      "execution_count": null,
      "outputs": [
        {
          "output_type": "stream",
          "name": "stdout",
          "text": [
            "[16, 27, 38, 49, 60]\n"
          ]
        }
      ]
    },
    {
      "cell_type": "code",
      "source": [
        "nums = [11, 22, 33, 44, 55]\n",
        "result = list(map(lambda x: x+5, nums))\n",
        "print(result)"
      ],
      "metadata": {
        "colab": {
          "base_uri": "https://localhost:8080/"
        },
        "id": "14Aj5o5TdsAt",
        "outputId": "48406fd6-b3c6-4944-8ff3-eb1de47b3f69"
      },
      "execution_count": null,
      "outputs": [
        {
          "output_type": "stream",
          "name": "stdout",
          "text": [
            "[16, 27, 38, 49, 60]\n"
          ]
        }
      ]
    },
    {
      "cell_type": "code",
      "source": [
        "nums = [11, 22, 33]\n",
        "\n",
        "a = list(map(lambda x: x*2, nums))\n",
        "\n",
        "print(a)"
      ],
      "metadata": {
        "colab": {
          "base_uri": "https://localhost:8080/"
        },
        "id": "Iamjju27dwh_",
        "outputId": "f83c0646-ee5a-4a3e-b1e8-e453fb2f5f0e"
      },
      "execution_count": null,
      "outputs": [
        {
          "output_type": "stream",
          "name": "stdout",
          "text": [
            "[22, 44, 66]\n"
          ]
        }
      ]
    },
    {
      "cell_type": "code",
      "source": [
        "nums = [1, 2, 3, 4, 5, 6, 7, 8, 9]\n",
        "\n",
        "square = list(map(lambda x: x**2, nums))\n",
        "\n",
        "print(square)"
      ],
      "metadata": {
        "colab": {
          "base_uri": "https://localhost:8080/"
        },
        "id": "y1vErCM9dzee",
        "outputId": "cad096bd-d9ae-4a5b-d78b-e8899d1fd3c5"
      },
      "execution_count": null,
      "outputs": [
        {
          "output_type": "stream",
          "name": "stdout",
          "text": [
            "[1, 4, 9, 16, 25, 36, 49, 64, 81]\n"
          ]
        }
      ]
    },
    {
      "cell_type": "markdown",
      "source": [
        "**filter**\n",
        "\n",
        "The function **filter** filters an iterable by removing items that don't match a predicate (a function that returns a Boolean).\n",
        "\n",
        "**Example:**\n",
        "\n",
        "> nums = [11, 22, 33, 44, 55]\n",
        "\n",
        "> res = list(filter(lambda x: x%2 == 0, nums))\n",
        "\n",
        "> print(res)\n",
        "\n",
        "Like **map**, the result has to be explicitly converted to a list if you want to print it."
      ],
      "metadata": {
        "id": "c0NB6ejeeARu"
      }
    },
    {
      "cell_type": "code",
      "source": [
        "nums = [1, 2, 5, 8, 3, 0, 7]\n",
        "\n",
        "res = list(filter(lambda x: x < 5, nums))\n",
        "\n",
        "print(res)"
      ],
      "metadata": {
        "colab": {
          "base_uri": "https://localhost:8080/"
        },
        "id": "nFcOCLtXeB7t",
        "outputId": "b5cd4ba6-ad04-4240-8adb-624178a27d34"
      },
      "execution_count": null,
      "outputs": [
        {
          "output_type": "stream",
          "name": "stdout",
          "text": [
            "[1, 2, 3, 0]\n"
          ]
        }
      ]
    },
    {
      "cell_type": "code",
      "source": [
        "nums = [1, 2, 5, 8, 3, 0, 7]\n",
        "\n",
        "a = lambda x: x < 5, nums\n",
        "\n",
        "print(a)"
      ],
      "metadata": {
        "colab": {
          "base_uri": "https://localhost:8080/"
        },
        "id": "YISgdbf_eE1U",
        "outputId": "d2f7bbc0-8448-47a1-c9ba-44a726ef20e9"
      },
      "execution_count": null,
      "outputs": [
        {
          "output_type": "stream",
          "name": "stdout",
          "text": [
            "(<function <lambda> at 0x7f1013ddf5f0>, [1, 2, 5, 8, 3, 0, 7])\n"
          ]
        }
      ]
    },
    {
      "cell_type": "markdown",
      "source": [
        "**Generators**\n",
        "\n",
        "**Generators** are a type of iterable, like lists or tuples. \n",
        "\n",
        "Unlike lists, they don't allow indexing with arbitrary indices, but they can still be iterated through with **for** loops.\n",
        "\n",
        "They can be created using functions and the **yield** statement.\n",
        "\n",
        "**Example:**\n",
        "\n",
        "> def countdown():\n",
        "\n",
        ">> i = 5 \n",
        "\n",
        ">> while i > 0:\n",
        "\n",
        ">>> yield i \n",
        "\n",
        ">>> i -= 1 \n",
        "\n",
        "> for i in countdown():\n",
        "\n",
        ">> print(i)\n",
        "\n",
        "The **yield** statement is used to define a generator, replacing the return of a function to provide a result to its caller without destroying local variables."
      ],
      "metadata": {
        "id": "2jytz6d1emMn"
      }
    },
    {
      "cell_type": "code",
      "source": [
        "def countdown():\n",
        "  i = 5\n",
        "  while i > 0:\n",
        "    yield i \n",
        "    i -= 1\n",
        "\n",
        "\n",
        "for i in countdown():\n",
        "  print(i)  "
      ],
      "metadata": {
        "colab": {
          "base_uri": "https://localhost:8080/"
        },
        "id": "8KPeJ0rPe0AN",
        "outputId": "6ad931b8-024b-4f73-ec40-16aae5b5afd5"
      },
      "execution_count": null,
      "outputs": [
        {
          "output_type": "stream",
          "name": "stdout",
          "text": [
            "5\n",
            "4\n",
            "3\n",
            "2\n",
            "1\n"
          ]
        }
      ]
    },
    {
      "cell_type": "markdown",
      "source": [
        "**Generators**\n",
        "\n",
        "Due to the fact that they **yield** one item at a time, generators doen't have the memory restrictions of lists.\n",
        "\n",
        "in fact, they can be **infinite!**\n",
        "\n",
        "> def infinite_sevens():\n",
        "\n",
        ">> while True:\n",
        "\n",
        ">>> yield 7\n",
        "\n",
        "> for i in infinite_sevens():\n",
        "\n",
        ">> print(i)\n",
        "\n",
        "> #7\n",
        "\n",
        "> #7\n",
        "\n",
        "> #7\n",
        "\n",
        "> #7\n",
        "\n",
        "> #...\n"
      ],
      "metadata": {
        "id": "zEQm9V2Ie-Ed"
      }
    },
    {
      "cell_type": "code",
      "source": [
        "def infinite_sevens():\n",
        "  while True:\n",
        "    yield 7\n",
        "\n",
        "\"\"\"\n",
        "for i in infinite_sevens():\n",
        "  print(i)     #infinite loop\n",
        "\"\"\"  "
      ],
      "metadata": {
        "colab": {
          "base_uri": "https://localhost:8080/",
          "height": 35
        },
        "id": "4Jbzy1ZcfAdl",
        "outputId": "2f48ec27-55d1-40ec-b69b-9e4415d16380"
      },
      "execution_count": null,
      "outputs": [
        {
          "output_type": "execute_result",
          "data": {
            "text/plain": [
              "'\\nfor i in infinite_sevens():\\n  print(i)     #infinite loop\\n'"
            ],
            "application/vnd.google.colaboratory.intrinsic+json": {
              "type": "string"
            }
          },
          "metadata": {},
          "execution_count": 16
        }
      ]
    },
    {
      "cell_type": "markdown",
      "source": [
        "**Generators**\n",
        "\n",
        "Finite generators can be converted into lists by passing them as arguments to the **list** function.\n",
        "\n",
        "> def numbers(x):\n",
        "\n",
        ">> for i in range(x):\n",
        "\n",
        ">>> if i % 2 == 0:\n",
        "\n",
        ">>>> yield i\n",
        "\n",
        "> print(list(numbers(11)))\n",
        "\n",
        "Using **generators** results in improved performance, which is the result of the lazy(on demand) generation of values, which translates to lower memory usage. Furthermore, we do not need to wait until all the elements have been generated before we start to use them."
      ],
      "metadata": {
        "id": "Dd8z60FNfYwV"
      }
    },
    {
      "cell_type": "code",
      "source": [
        "def numbers(x):\n",
        "  for i in range(x):\n",
        "    if i % 2 == 0:\n",
        "        yield i \n",
        "\n",
        "print(list(numbers(11)))"
      ],
      "metadata": {
        "colab": {
          "base_uri": "https://localhost:8080/"
        },
        "id": "jv6Qu5xgfaed",
        "outputId": "79121c2f-2a5c-4487-92f6-f38f526bdece"
      },
      "execution_count": null,
      "outputs": [
        {
          "output_type": "stream",
          "name": "stdout",
          "text": [
            "[0, 2, 4, 6, 8, 10]\n"
          ]
        }
      ]
    },
    {
      "cell_type": "code",
      "source": [
        "def make_word():\n",
        "  word = \"\"\n",
        "  for ch in \"spam\":\n",
        "    word += ch\n",
        "    yield word\n",
        "\n",
        "print(list(make_word()))"
      ],
      "metadata": {
        "colab": {
          "base_uri": "https://localhost:8080/"
        },
        "id": "MW0NrPxhfjJt",
        "outputId": "81b07dd1-2cf0-4b53-d9a4-e9cae1970a6b"
      },
      "execution_count": null,
      "outputs": [
        {
          "output_type": "stream",
          "name": "stdout",
          "text": [
            "['s', 'sp', 'spa', 'spam']\n"
          ]
        }
      ]
    },
    {
      "cell_type": "markdown",
      "source": [
        "**Decorators**\n",
        "\n",
        "**Decorators** provide a way to modify functions using other functions. \n",
        "\n",
        "This is ideal when you need to extend the functionality of functions that you don't want to modify.\n",
        "\n",
        "**Example:**\n",
        "\n",
        "> def decor(fun):\n",
        "\n",
        ">> def wrap():\n",
        "\n",
        ">>> print(\"===================\")\n",
        "\n",
        ">>> func()\n",
        "\n",
        ">>> print(\"===================\")\n",
        "\n",
        ">> return wrap\n",
        "\n",
        "> def print_text():\n",
        "\n",
        ">> print(\"Hello world!\")\n",
        "\n",
        "> decorated = decor(print_text)\n",
        "\n",
        "> decorated()\n",
        "\n",
        "**how it works**\n",
        "\n",
        "- We defined a function named **decor** that has a single parameter **func.** \n",
        "\n",
        "- Inside **decor**, we defined a nested function named **wrap.** \n",
        "\n",
        "- The **wrap** function will print a string, then call **func()**, and print another string. \n",
        "\n",
        "- The **decor** function returns the **wrap** function as its result.\n",
        "\n",
        "We could say that the variable **decorated** is a decorated version of **print_text** - it's **print_text** plus something.\n",
        "\n",
        "In fact, if we wrote a useful decorator we might want to replace **print_text** with the decorated version altogether so we always got out \"plus something\" version of **print_text**\n",
        "\n",
        "This is done by re-assigning the variable that contains our function:\n",
        "\n",
        "> print_text = decor(print_text)\n",
        "\n",
        "> print_text()\n",
        "\n",
        "Now **print_text** corresponds to our decorated version."
      ],
      "metadata": {
        "id": "31vhvvJygAoc"
      }
    },
    {
      "cell_type": "code",
      "source": [
        "def decor(func):\n",
        "  def wrap():\n",
        "    print(\"============\")\n",
        "    func()\n",
        "    print(\"============\")\n",
        "  return wrap\n",
        "\n",
        "def print_text():\n",
        "  print(\"Hello world!\")\n",
        "\n",
        "decorated = decor(print_text)\n",
        "decorated()"
      ],
      "metadata": {
        "colab": {
          "base_uri": "https://localhost:8080/"
        },
        "id": "G0ZN4NQcgBi9",
        "outputId": "f452e415-5b0b-4da9-ec4c-9780bf35ee2a"
      },
      "execution_count": null,
      "outputs": [
        {
          "output_type": "stream",
          "name": "stdout",
          "text": [
            "============\n",
            "Hello world!\n",
            "============\n"
          ]
        }
      ]
    },
    {
      "cell_type": "markdown",
      "source": [
        "**Decorators**\n",
        "\n",
        "In our previous example, we decorated our function by replacing the variable containing the function with a wrapped version.\n",
        "\n",
        "> def print_text():\n",
        "\n",
        ">> print(\"hello world!\")\n",
        "\n",
        "> print_text = decor(print_text)\n",
        "\n",
        "This pattern can be used at any time, to wrap any function. \n",
        "\n",
        "**Python** provides **support to wrap a function** in a decorator by pre-pending the **function definition** wiht a decorator name and the **@** symbol.\n",
        "\n",
        "If we are defining a function we can \"decorate\" it with **@** symbol like:\n",
        "\n",
        "> @decor\n",
        "\n",
        "> def print_text():\n",
        "\n",
        ">> print(\"Hello world!\")\n",
        "\n",
        "This will have the same result as the above code. \n",
        "\n",
        "A single functin can have multiple decorators."
      ],
      "metadata": {
        "id": "68nS_SWxgUS1"
      }
    },
    {
      "cell_type": "code",
      "source": [
        "def decor(func):\n",
        "  def wrap():\n",
        "    print(\"============\")\n",
        "    func()\n",
        "    print(\"============\")\n",
        "  return wrap\n",
        "\n",
        "@decor\n",
        "def print_text():\n",
        "  print(\"Hello world!\")\n",
        "\n",
        "print_text()"
      ],
      "metadata": {
        "colab": {
          "base_uri": "https://localhost:8080/"
        },
        "id": "M0pbPZAcgd78",
        "outputId": "433d5245-41f4-484c-b3f2-272bf25d5c4f"
      },
      "execution_count": null,
      "outputs": [
        {
          "output_type": "stream",
          "name": "stdout",
          "text": [
            "============\n",
            "Hello world!\n",
            "============\n"
          ]
        }
      ]
    },
    {
      "cell_type": "markdown",
      "source": [
        "**Recursion**\n",
        "\n",
        "**Recursion** is a very important concept in functional programming. **The fundamental part of recursion is self-reference- functions calling themselves.** It is used to solve problems that can be broken up into easier sub-problems of the same type.\n",
        "\n",
        "A classic example of a function that is implemented recursively is the **factorial** function, which finds the product of all positive integers below a specified number.\n",
        "\n",
        "For example, 5! (5 factorial) is 5 * 4 * 3 * 2 * 1  (120). To implement this recursively, notice that \n",
        "> 5! = 5 * 4!,\n",
        "\n",
        "> 4! = 4 * 3!, \n",
        "\n",
        "> 3! = 3 * 2!,\n",
        "\n",
        "> 2! = 2 * 1!, \n",
        "\n",
        "and so on. Generally, n! = n * (n - 1)!.\n",
        "\n",
        "Furthermore, 1! = 1. This is known as the **base case**, as it can be calculated without performing any more factorials.\n",
        "\n",
        "Below is a recursive implementation of the factorial function.\n",
        "\n",
        "> def factorial(x):\n",
        "\n",
        ">> if x == 1:\n",
        "\n",
        ">>> return 1\n",
        "\n",
        ">> else:\n",
        "\n",
        ">>> return x * factorial(x - 1)\n",
        "\n",
        ">print(factorial(5))\n",
        "\n",
        "The **base case** acts as the exit condition of the recursion."
      ],
      "metadata": {
        "id": "Z7g33K72T49X"
      }
    },
    {
      "cell_type": "code",
      "source": [
        "def factorial(x):\n",
        "  if x == 1:\n",
        "    return 1\n",
        "  else:\n",
        "    #  print(x)\n",
        "    return x * factorial(x-1)  # 5*4*3*2*1\n",
        "\n",
        "print(factorial(5))"
      ],
      "metadata": {
        "colab": {
          "base_uri": "https://localhost:8080/"
        },
        "id": "L6NdB_WZlvoo",
        "outputId": "b857c531-6b0c-45b5-ce62-e11d69b5f303"
      },
      "execution_count": null,
      "outputs": [
        {
          "output_type": "stream",
          "name": "stdout",
          "text": [
            "120\n"
          ]
        }
      ]
    },
    {
      "cell_type": "markdown",
      "source": [
        "**Recursion**\n",
        "\n",
        "Recursive functions **can be infinite**, just like infinite **while** loops. These often occur when you forget to implement the base case.\n",
        "\n",
        "Below is an incorrect version of the factorial function. **It has no base case, so it runs until the interpreter runs out of memory and crashes.**\n",
        "\n",
        "> def factorial(x):\n",
        "\n",
        ">> return x * factorial(x - 1)\n",
        "\n",
        "> print(factorial(5))\n",
        "\n"
      ],
      "metadata": {
        "id": "YMkmnwo-l3aF"
      }
    },
    {
      "cell_type": "code",
      "source": [
        "def factorial(x):\n",
        "  return x * factorial(x - 1) # RecursionError: maximum recursion depth exceeded\n",
        "\n",
        "  # print(factorial(5))"
      ],
      "metadata": {
        "id": "kQ3Yh76jl7Rt"
      },
      "execution_count": null,
      "outputs": []
    },
    {
      "cell_type": "code",
      "source": [
        "def sum_to(x):\n",
        "  return x + sum_to(x - 1) # RecursionError: maximum resursion depth exceeded\n",
        "\n",
        "  # print(sum_to(5))"
      ],
      "metadata": {
        "id": "5fgUNtjDl_GP"
      },
      "execution_count": null,
      "outputs": []
    },
    {
      "cell_type": "markdown",
      "source": [
        "**Recursion**\n",
        "\n",
        "Recursion can also be indirect. One function can call a second, which calls the first, which calls the second, and so on. This can occur with any number of functions.\n",
        "\n",
        "**Example:**\n",
        "\n",
        "> def is_even(x):\n",
        "\n",
        ">> if x == 0:\n",
        "\n",
        ">>> return True\n",
        "\n",
        ">> else:\n",
        "\n",
        ">>> return is_odd(x - 1)\n",
        "\n",
        "> def is_odd(x):\n",
        "\n",
        ">> return not is_even(x)\n",
        "\n",
        "> print(is_odd(17))\n",
        "\n",
        "> print(is_even(23))\n",
        "\n"
      ],
      "metadata": {
        "id": "JjTypFvEmL73"
      }
    },
    {
      "cell_type": "code",
      "source": [
        "def is_even(x):\n",
        "  if x == 0:\n",
        "    return True\n",
        "  else:\n",
        "    return is_odd(x-1)\n",
        "\n",
        "def is_odd(x):\n",
        "  return not is_even(x)\n",
        "\n",
        "print(is_odd(1))\n",
        "print(is_even(1)) # not True"
      ],
      "metadata": {
        "colab": {
          "base_uri": "https://localhost:8080/"
        },
        "id": "WRx3KKs4mPQ9",
        "outputId": "61a18cb5-56d4-4350-8093-df1a1cfac4e5"
      },
      "execution_count": null,
      "outputs": [
        {
          "output_type": "stream",
          "name": "stdout",
          "text": [
            "True\n",
            "False\n"
          ]
        }
      ]
    },
    {
      "cell_type": "code",
      "source": [
        "def fib(x):\n",
        "  if x == 0 or x == 1:\n",
        "    return 1 \n",
        "  else:\n",
        "    return fib(x-1) + fib(x-2)\n",
        "\n",
        "print(fib(4))"
      ],
      "metadata": {
        "colab": {
          "base_uri": "https://localhost:8080/"
        },
        "id": "YcbzslV5mxnN",
        "outputId": "9b8f44d1-e7af-4635-a2f8-813940720725"
      },
      "execution_count": null,
      "outputs": [
        {
          "output_type": "stream",
          "name": "stdout",
          "text": [
            "5\n"
          ]
        }
      ]
    },
    {
      "cell_type": "markdown",
      "source": [
        "**Sets**\n",
        "\n",
        "**Sets** are data structures, similar to lists or dictionaries. They are crated using curly braces, or the **set** function. They share some functionality with lists, such as the use of **in** to check whether they contain a particular item.\n",
        "\n",
        "> num_set = {1, 2, 3, 4, 5}\n",
        "\n",
        "> word_set = set([\"spam\", \"eggs\", \"sausage\"])\n",
        "\n",
        "> print(3 in num_set)\n",
        "\n",
        "> print(\"spam\" not in word_set)\n",
        "\n",
        "To created an empty set, you must use set(), as {} creates an empty dictionary."
      ],
      "metadata": {
        "id": "VJLNicxenYMm"
      }
    },
    {
      "cell_type": "code",
      "source": [
        "num_set = {1, 2, 3, 4, 5}\n",
        "word_set = set(['spam', 'eggs', 'sausage'])\n",
        "\n",
        "print(3 in num_set)\n",
        "print(\"spam\" not in word_set)"
      ],
      "metadata": {
        "colab": {
          "base_uri": "https://localhost:8080/"
        },
        "id": "iyuaXsNlndZ1",
        "outputId": "2b20508f-6525-42c0-b1ff-94661108fe9c"
      },
      "execution_count": null,
      "outputs": [
        {
          "output_type": "stream",
          "name": "stdout",
          "text": [
            "True\n",
            "False\n"
          ]
        }
      ]
    },
    {
      "cell_type": "code",
      "source": [
        "letters = {\"a\", \"b\", \"c\", \"d\"}\n",
        "\n",
        "if \"e\" not in letters:\n",
        "  print(1)\n",
        "else:\n",
        "  print(2)"
      ],
      "metadata": {
        "colab": {
          "base_uri": "https://localhost:8080/"
        },
        "id": "QoBZnqZynb4g",
        "outputId": "15a04273-b41e-4da8-ee11-01e0857337af"
      },
      "execution_count": null,
      "outputs": [
        {
          "output_type": "stream",
          "name": "stdout",
          "text": [
            "1\n"
          ]
        }
      ]
    },
    {
      "cell_type": "markdown",
      "source": [
        "**Sets**\n",
        "\n",
        "Sets differ from lists in several ways, but share several list operations such as **len**\n",
        "\n",
        "They are unordered, which means that they can't be indexed. \n",
        "\n",
        "They **cannot** contain **duplicate elements**.\n",
        "\n",
        "Due to the way they're stored, it's **faster** to check whether an item is part of a set rather than part of a list.\n",
        "\n",
        "Instead of using append to add to a set, use **add**\n",
        "\n",
        "The method **remove** removes a specific element from a set.\n",
        "\n",
        "**pop** removes an arbitrary element.\n",
        "\n",
        "> nums = {1, 2, 1, 3, 1, 4, 5, 6 }\n",
        "\n",
        "> print(nums)\n",
        "\n",
        "> nums.add(-7)\n",
        "\n",
        "> nums.remove(3)\n",
        "\n",
        "> print(nums)\n",
        "\n",
        "Basic uses of **sets** include membership testing and the **elimination of duplicate entries**.\n"
      ],
      "metadata": {
        "id": "cken-AtooCJF"
      }
    },
    {
      "cell_type": "code",
      "source": [
        "nums = {1, 2, 1, 3, 1, 4, 5, 6}\n",
        "print(nums)\n",
        "nums.add(-7)\n",
        "nums.remove(3)\n",
        "print(nums)"
      ],
      "metadata": {
        "colab": {
          "base_uri": "https://localhost:8080/"
        },
        "id": "K17Cl-duoGq9",
        "outputId": "dfd3a118-e391-44a7-b5d3-0631373dd6c8"
      },
      "execution_count": null,
      "outputs": [
        {
          "output_type": "stream",
          "name": "stdout",
          "text": [
            "{1, 2, 3, 4, 5, 6}\n",
            "{1, 2, 4, 5, 6, -7}\n"
          ]
        }
      ]
    },
    {
      "cell_type": "code",
      "source": [
        "nums = {\"a\", \"b\", \"c\", \"d\"}\n",
        "\n",
        "nums.add(\"z\")\n",
        "print(len(nums))"
      ],
      "metadata": {
        "colab": {
          "base_uri": "https://localhost:8080/"
        },
        "id": "P9em4IVDoE3N",
        "outputId": "8f58ee8e-4661-4ff8-c955-d7b0ca1aef4c"
      },
      "execution_count": null,
      "outputs": [
        {
          "output_type": "stream",
          "name": "stdout",
          "text": [
            "5\n"
          ]
        }
      ]
    },
    {
      "cell_type": "markdown",
      "source": [
        "**Sets**\n",
        "\n",
        "Sets can be combined using mathematical operations.\n",
        "\n",
        "The **union** operator **|** combines two sets to form a new one containing items in either.\n",
        "\n",
        "The **intersection** operator **&** gers items only in both.\n",
        "\n",
        "The **difference** operator **-** gets items in the first set but not in the second.\n",
        "\n",
        "The **symmetric difference** operator **^** gets items in either set, but not both.\n",
        "\n",
        "> first = {1, 2, 3, 4, 5, 6}\n",
        "\n",
        "> second = {4, 5, 6, 7, 8, 9}\n",
        "\n",
        "> print(first | second)\n",
        "\n",
        "> print(first & second)\n",
        "\n",
        "> print(first - second)\n",
        "\n",
        "> print(second - first)\n",
        "\n",
        "> print(first ^ second)\n",
        "\n",
        "\n"
      ],
      "metadata": {
        "id": "FZjUud_Aohjo"
      }
    },
    {
      "cell_type": "code",
      "source": [
        "first = {1, 2, 3, 4, 5, 6}\n",
        "second = {4, 5, 6, 7, 8, 9}\n",
        "\n",
        "print(f\"union             :{first|second}\")\n",
        "print(f\"intersect         :{first&second}\")\n",
        "print(f\"set1 - set2       :{first-second}\")\n",
        "print(f\"set2 - set1       :{second-first}\")\n",
        "print(f\"union - intersect :{first^second}\")"
      ],
      "metadata": {
        "colab": {
          "base_uri": "https://localhost:8080/"
        },
        "id": "7Dh9KDu4h815",
        "outputId": "0c8ccb57-4697-4278-9b79-69f508da2160"
      },
      "execution_count": null,
      "outputs": [
        {
          "output_type": "stream",
          "name": "stdout",
          "text": [
            "union             :{1, 2, 3, 4, 5, 6, 7, 8, 9}\n",
            "intersect         :{4, 5, 6}\n",
            "set1 - set2       :{1, 2, 3}\n",
            "set2 - set1       :{8, 9, 7}\n",
            "union - intersect :{1, 2, 3, 7, 8, 9}\n"
          ]
        }
      ]
    },
    {
      "cell_type": "code",
      "source": [
        "a = {1, 2, 3}\n",
        "b = {0, 3, 4, 5}\n",
        "\n",
        "print(a&b)"
      ],
      "metadata": {
        "colab": {
          "base_uri": "https://localhost:8080/"
        },
        "id": "RPiUcQypokce",
        "outputId": "785ac433-88dd-4554-b181-3ed217e4ba64"
      },
      "execution_count": null,
      "outputs": [
        {
          "output_type": "stream",
          "name": "stdout",
          "text": [
            "{3}\n"
          ]
        }
      ]
    },
    {
      "cell_type": "markdown",
      "source": [
        "**Data Structures**\n",
        "\n",
        "As we have seen in the previous lessons, Python supports the following data structures: **list**, **dictionaries**, **tuples**, **sets**.\n",
        "\n",
        "**When to use a dictionary:**\n",
        "- When you need a logical association between a **key**:**value** pair.\n",
        "- When you need fast lookup for your data, based on a custom key.\n",
        "- When your data is being constantly modified. Remember, dictionaries are mutable.\n",
        "\n",
        "**When to use the other types:**\n",
        "- Use **lists** if you have a collection of data that does not need random access. \n",
        "Try to choose lists when you need a simple, iterable collection that is modified frequently.\n",
        "- Use a **set** if you need uniqueness for the elements.\n",
        "- Use **tuples** when you data cannot change.\n",
        "\n",
        "Many times, a **tuple** is used in combination with a dictionary, for example, a **tuple** might represent a key, because it's immutable."
      ],
      "metadata": {
        "id": "3b9E1JOKo3_F"
      }
    },
    {
      "cell_type": "markdown",
      "source": [
        "**itertools**\n",
        "\n",
        "The module **itertools** is a standard library that contains several functions that are useful in functional programmming.\n",
        "\n",
        "One type of function it produces is infinite iterators.\n",
        "\n",
        "The function **count** counts up infinitely from a value.\n",
        "\n",
        "The function **cycle** infinitely iterates through an iterable (for instance a list or string).\n",
        "\n",
        "The function **repeat** repeats an object, either infinitely or a specific number of times.\n",
        "\n",
        "**Example:**\n",
        "\n",
        "> from itertools import count\n",
        "\n",
        "> for i in count(3):\n",
        "\n",
        ">> print(i)\n",
        "\n",
        ">> if i >= 11:\n",
        "\n",
        ">>>break"
      ],
      "metadata": {
        "id": "nIbCdZv-pO-d"
      }
    },
    {
      "cell_type": "code",
      "source": [
        "from itertools import count\n",
        "\n",
        "for i in count(3):\n",
        "  print(i)\n",
        "  if i >= 11:\n",
        "    break"
      ],
      "metadata": {
        "colab": {
          "base_uri": "https://localhost:8080/"
        },
        "id": "WysXMH7UpR2B",
        "outputId": "8a219f74-4270-4e3f-dd79-9664cf0b242c"
      },
      "execution_count": null,
      "outputs": [
        {
          "output_type": "stream",
          "name": "stdout",
          "text": [
            "3\n",
            "4\n",
            "5\n",
            "6\n",
            "7\n",
            "8\n",
            "9\n",
            "10\n",
            "11\n"
          ]
        }
      ]
    },
    {
      "cell_type": "code",
      "source": [
        "from itertools import cycle\n",
        "\n",
        "x = cycle(['Ant', 'Bird', 'Cat', 'Dog'])\n",
        "R = 10\n",
        "\n",
        "for i in x:\n",
        "  print(i)\n",
        "  R -= 1\n",
        "  if R == 0:\n",
        "    break"
      ],
      "metadata": {
        "colab": {
          "base_uri": "https://localhost:8080/"
        },
        "id": "LGUUZh24k6Oy",
        "outputId": "ed4fe890-e1ed-423c-ce6b-743320160fd2"
      },
      "execution_count": null,
      "outputs": [
        {
          "output_type": "stream",
          "name": "stdout",
          "text": [
            "Ant\n",
            "Bird\n",
            "Cat\n",
            "Dog\n",
            "Ant\n",
            "Bird\n",
            "Cat\n",
            "Dog\n",
            "Ant\n",
            "Bird\n"
          ]
        }
      ]
    },
    {
      "cell_type": "code",
      "source": [
        "from itertools import repeat\n",
        "\n",
        "\n",
        "print(list(repeat('cat', 10))) # repeat element till n times"
      ],
      "metadata": {
        "colab": {
          "base_uri": "https://localhost:8080/"
        },
        "id": "fRAeEltpmLQx",
        "outputId": "b0b033b2-9d16-4b45-d05d-c8e325af44dd"
      },
      "execution_count": null,
      "outputs": [
        {
          "output_type": "stream",
          "name": "stdout",
          "text": [
            "['cat', 'cat', 'cat', 'cat', 'cat', 'cat', 'cat', 'cat', 'cat', 'cat']\n"
          ]
        }
      ]
    },
    {
      "cell_type": "markdown",
      "source": [
        "**itertools**\n",
        "\n",
        "There are many functions in **itertools** that operate on iterables, in a similar way to **map** and **filter**.\n",
        "\n",
        "Some examples:\n",
        "\n",
        "**takewhile** - takes items from an iterable while a predicate function remains true.\n",
        "\n",
        "**chain** - combines several iterables into one long one.\n",
        "\n",
        "**accumulate** - returns a running total of values in an iterable.\n",
        "\n",
        "> from itertools import accumulate, takewhile\n",
        "\n",
        "> nums = list(accumulate(range(8)))\n",
        "\n",
        "> print(nums)\n",
        "\n",
        "> print(list(takewhile(lambda x: x <= 6, nums)))\n",
        "\n"
      ],
      "metadata": {
        "id": "UejdybUKpfGu"
      }
    },
    {
      "cell_type": "code",
      "source": [
        "from itertools import accumulate, takewhile\n",
        "\n",
        "x = range(8)\n",
        "print(list(x))\n",
        "\n",
        "nums = list(accumulate(x))\n",
        "print(nums)\n",
        "\n",
        "print(list(takewhile(lambda x: x <= 6, nums)))"
      ],
      "metadata": {
        "colab": {
          "base_uri": "https://localhost:8080/"
        },
        "id": "g8zp0RIRpqB1",
        "outputId": "42ffab34-6f6e-422a-9db0-4ec631c6acf9"
      },
      "execution_count": null,
      "outputs": [
        {
          "output_type": "stream",
          "name": "stdout",
          "text": [
            "[0, 1, 2, 3, 4, 5, 6, 7]\n",
            "[0, 1, 3, 6, 10, 15, 21, 28]\n",
            "[0, 1, 3, 6]\n"
          ]
        }
      ]
    },
    {
      "cell_type": "code",
      "source": [
        "from itertools import takewhile\n",
        "\n",
        "nums = [2, 4, 6, 7, 9, 8]\n",
        "\n",
        "a = takewhile(lambda x: x % 2 == 0, nums)\n",
        "\n",
        "print(list(a))  # 8 is not in the list because when iterate to \"7\" makes the condition false so the iteration stop"
      ],
      "metadata": {
        "colab": {
          "base_uri": "https://localhost:8080/"
        },
        "id": "YucxUDr8psid",
        "outputId": "79c06f22-24fa-4754-a552-5cb7b30bcfb2"
      },
      "execution_count": null,
      "outputs": [
        {
          "output_type": "stream",
          "name": "stdout",
          "text": [
            "[2, 4, 6]\n"
          ]
        }
      ]
    },
    {
      "cell_type": "markdown",
      "source": [
        "**itertools**\n",
        "\n",
        "There are also several combinatoric functions in **itertool**, such as **product** and **permutation**.\n",
        "\n",
        "These are used when you want to accomplish a task with all possible combinations of some items.\n",
        "\n",
        "**Example:**\n",
        "\n",
        "> from itertools import product, permutations\n",
        "\n",
        "> letters = (\"A\", \"B\")\n",
        "\n",
        "> print(list(product(letters, range(2))))\n",
        "\n",
        "> print(list(permutaions(letters)))"
      ],
      "metadata": {
        "id": "lzh_IMRSpz1l"
      }
    },
    {
      "cell_type": "code",
      "source": [
        "from itertools import product, permutations\n",
        "\n",
        "letters = (\"A\", \"B\")\n",
        "\n",
        "print(list(product(letters, range(2))))\n",
        "print(list(permutations(letters)))"
      ],
      "metadata": {
        "colab": {
          "base_uri": "https://localhost:8080/"
        },
        "id": "MCRnEvsZp9I1",
        "outputId": "4da62be7-fb94-42c9-abec-6993d1a77a5d"
      },
      "execution_count": null,
      "outputs": [
        {
          "output_type": "stream",
          "name": "stdout",
          "text": [
            "[('A', 0), ('A', 1), ('B', 0), ('B', 1)]\n",
            "[('A', 'B'), ('B', 'A')]\n"
          ]
        }
      ]
    },
    {
      "cell_type": "code",
      "source": [
        "from itertools import product, permutations\n",
        "\n",
        "a = {1,2}\n",
        "\n",
        "print(len(list(product(range(3),a))))\n",
        "print(list(product(range(3), a)))\n",
        "print(list(permutations(a)))"
      ],
      "metadata": {
        "colab": {
          "base_uri": "https://localhost:8080/"
        },
        "id": "ht6duI40qPE1",
        "outputId": "7383f698-9b80-4860-854e-51f6e14ecd4f"
      },
      "execution_count": null,
      "outputs": [
        {
          "output_type": "stream",
          "name": "stdout",
          "text": [
            "6\n",
            "[(0, 1), (0, 2), (1, 1), (1, 2), (2, 1), (2, 2)]\n",
            "[(1, 2), (2, 1)]\n"
          ]
        }
      ]
    },
    {
      "cell_type": "code",
      "source": [
        "from itertools import combinations, permutations\n",
        "\n",
        "Animal = ['Ant', 'Bird', 'Cat', 'Dog']\n",
        "\n",
        "perm = permutations(Animal, 2) # choose 2 animals from animal list\n",
        "\n",
        "print(\"Permutations:\")\n",
        "for i in list(perm):\n",
        "  print(\"     {}\".format(i))\n",
        "\n",
        "comb = combinations(Animal, 2) \n",
        "\n",
        "print(\"\\nCombinations:\")\n",
        "for i in list(comb):\n",
        "  print(\"     {}\".format(i))"
      ],
      "metadata": {
        "colab": {
          "base_uri": "https://localhost:8080/"
        },
        "id": "UCJWTxj5p6DI",
        "outputId": "c311e2f9-7cbf-41fe-8fb8-c7f1bbddc27d"
      },
      "execution_count": null,
      "outputs": [
        {
          "output_type": "stream",
          "name": "stdout",
          "text": [
            "Permutations:\n",
            "     ('Ant', 'Bird')\n",
            "     ('Ant', 'Cat')\n",
            "     ('Ant', 'Dog')\n",
            "     ('Bird', 'Ant')\n",
            "     ('Bird', 'Cat')\n",
            "     ('Bird', 'Dog')\n",
            "     ('Cat', 'Ant')\n",
            "     ('Cat', 'Bird')\n",
            "     ('Cat', 'Dog')\n",
            "     ('Dog', 'Ant')\n",
            "     ('Dog', 'Bird')\n",
            "     ('Dog', 'Cat')\n",
            "\n",
            "Combinations:\n",
            "     ('Ant', 'Bird')\n",
            "     ('Ant', 'Cat')\n",
            "     ('Ant', 'Dog')\n",
            "     ('Bird', 'Cat')\n",
            "     ('Bird', 'Dog')\n",
            "     ('Cat', 'Dog')\n"
          ]
        }
      ]
    },
    {
      "cell_type": "markdown",
      "source": [
        "**quizes**"
      ],
      "metadata": {
        "id": "yuIbwiouqeB-"
      }
    },
    {
      "cell_type": "code",
      "source": [
        "nums = {1, 2, 3, 4, 5, 6,}\n",
        "nums = {0, 1, 2, 3} & nums\n",
        "print(nums)\n",
        "nums = filter(lambda x: x > 1, nums)\n",
        "\n",
        "print(list(nums))\n",
        "print(len(list(nums)))\n",
        "print(list(nums))"
      ],
      "metadata": {
        "colab": {
          "base_uri": "https://localhost:8080/"
        },
        "id": "G1pzZ_NLqhN8",
        "outputId": "30294cef-760a-4f1d-e15f-d8385e408fec"
      },
      "execution_count": null,
      "outputs": [
        {
          "output_type": "stream",
          "name": "stdout",
          "text": [
            "{1, 2, 3}\n",
            "[2, 3]\n",
            "0\n",
            "[]\n"
          ]
        }
      ]
    },
    {
      "cell_type": "code",
      "source": [
        "def power(x, y):\n",
        "  if y == 0:\n",
        "    return 1 \n",
        "  else:\n",
        "    return x * power(x, y-1)\n",
        "\n",
        "print(power(2, 3))"
      ],
      "metadata": {
        "colab": {
          "base_uri": "https://localhost:8080/"
        },
        "id": "CQZKISycrPxd",
        "outputId": "cdfc2a13-1f7c-4b5e-89d8-0204d01c2d50"
      },
      "execution_count": null,
      "outputs": [
        {
          "output_type": "stream",
          "name": "stdout",
          "text": [
            "8\n"
          ]
        }
      ]
    },
    {
      "cell_type": "code",
      "source": [
        "a = (lambda x: x * (x + 1)) (6)\n",
        "\n",
        "print(a)"
      ],
      "metadata": {
        "colab": {
          "base_uri": "https://localhost:8080/"
        },
        "id": "DlV1sxUwrjXe",
        "outputId": "cf4a1cad-d205-479f-dae9-a465d582ee93"
      },
      "execution_count": null,
      "outputs": [
        {
          "output_type": "stream",
          "name": "stdout",
          "text": [
            "42\n"
          ]
        }
      ]
    },
    {
      "cell_type": "code",
      "source": [
        "nums = [1, 2, 8, 3, 7]\n",
        "\n",
        "res = list(filter(lambda x: x % 2 == 0, nums))\n",
        "\n",
        "\n",
        "print(res)"
      ],
      "metadata": {
        "colab": {
          "base_uri": "https://localhost:8080/"
        },
        "id": "IgEikfXzrnSF",
        "outputId": "2c5bc033-7bb4-4eec-b441-a98fcc88bca6"
      },
      "execution_count": null,
      "outputs": [
        {
          "output_type": "stream",
          "name": "stdout",
          "text": [
            "[2, 8]\n"
          ]
        }
      ]
    },
    {
      "cell_type": "code",
      "source": [
        "from itertools import takewhile\n",
        "\n",
        "nums = [2, 8, 3, 7, 1] \n",
        "\n",
        "a = takewhile(lambda x: x % 2 == 0, nums) #if the first member of the list make condition true the carry on till it false\n",
        "\n",
        "print(list(a))"
      ],
      "metadata": {
        "colab": {
          "base_uri": "https://localhost:8080/"
        },
        "id": "sTqzMbOLrufO",
        "outputId": "d7381740-9e22-4db9-c011-4bf1032d571d"
      },
      "execution_count": null,
      "outputs": [
        {
          "output_type": "stream",
          "name": "stdout",
          "text": [
            "[2, 8]\n"
          ]
        }
      ]
    },
    {
      "cell_type": "code",
      "source": [
        "from itertools import takewhile\n",
        "\n",
        "nums = [1, 2, 8, 3, 7] \n",
        "\n",
        "a = takewhile(lambda x: x % 2 == 0, nums) #if the first member of the list make condition true the carry on till it false\n",
        "\n",
        "print(list(a))"
      ],
      "metadata": {
        "colab": {
          "base_uri": "https://localhost:8080/"
        },
        "id": "BHP0KG-qr6Ud",
        "outputId": "c15ec50d-9df6-4f81-9f87-5d7dd957ab3d"
      },
      "execution_count": null,
      "outputs": [
        {
          "output_type": "stream",
          "name": "stdout",
          "text": [
            "[]\n"
          ]
        }
      ]
    },
    {
      "cell_type": "markdown",
      "source": [
        "**Extra**"
      ],
      "metadata": {
        "id": "r4DrrLOrR-Nd"
      }
    },
    {
      "cell_type": "code",
      "source": [
        "print(\"Welcome to DIY Bouque\")\n",
        "\n",
        "style = {'1':'✽', '2': '❀', '3': '✣', '4': '❊' , '5': '❋', '6': '❃', '7': '✤'\\\n",
        "         , '8': '✾', '9' :'✿' , '10' : '❁'}\n",
        "\n",
        "check = True\n",
        "\n",
        "while (check):\n",
        "  choose = input(\"Plases select your favorite type of flower\\n\\tchoose  1: ✽ \\\n",
        "Carnation ✽\\n\\tchoose  2: ❀ Daisy ❀\\n\\tchoose  3: ✣ Iris ✣\\n\\tchoose\\\n",
        "  4: ❊ Lavender ❊\\n\\tchoose  5: ❋ Magnolia ❋\\n\\tchoose  6: ❃ Narcissus ❃\\n\\t\\\n",
        "choose  7: ✤ Orchid ✤\\n\\tchoose  8: ✾ Poppy ✾\\n\\tchoose  9: ✿ Rose ✿\\n\\t\\\n",
        "choose 10: ❁ Sunflower ❁\\nYou pick a flower number: \")\n",
        "  if choose in style.keys():\n",
        "    check = False\n",
        "  \n",
        "\n",
        "mes = (input(\"You may write if you wish (maximum 20 letters): \"))\n",
        "\n",
        "length = len(mes)\n",
        "\n",
        "if length == 1:\n",
        "  length += 2\n",
        "elif 1 < length <= 3:\n",
        "  length += 1\n",
        "elif 3 < length <= 6:\n",
        "  length += 0\n",
        "elif 6 < length <= 8:\n",
        "  length -= 1\n",
        "elif 8 < length <= 11:\n",
        "  length -= 2\n",
        "elif 11 < length <= 14:\n",
        "  length -= 3\n",
        "elif 14 < length <= 17:\n",
        "  length -= 4\n",
        "elif 17< length <= 20:\n",
        "  length -= 5\n",
        "else:\n",
        "  mes = mes[:21]\n",
        "  length = 15\n",
        "\n",
        "\n",
        "for k,v in style.items():\n",
        "  if choose == k:\n",
        "    flower = v\n",
        "\n",
        "\n",
        "def flower_frame(func):\n",
        "  def make_flower(mes):\n",
        "    print(flower*length)\n",
        "    print(flower,end='')\n",
        "    func(mes)\n",
        "    print(flower)\n",
        "    print(flower*length)\n",
        "  return make_flower\n",
        "\n",
        "@flower_frame\n",
        "def print_text(mes):\n",
        "  print(mes,end='')\n",
        "\n",
        "\n",
        "if choose in style.keys() and length <= 20:\n",
        "  print(\"Making...\")\n",
        "  print_text(mes)\n",
        "else:\n",
        "  print(\"error!\")"
      ],
      "metadata": {
        "colab": {
          "base_uri": "https://localhost:8080/"
        },
        "id": "rqTkylTvgjYE",
        "outputId": "6c3e381a-3468-4d8d-8508-4e7b6b3bfb56"
      },
      "execution_count": null,
      "outputs": [
        {
          "output_type": "stream",
          "name": "stdout",
          "text": [
            "Welcome to DIY Bouque\n",
            "Plases select your favorite type of flower\n",
            "\tchoose  1: ✽ Carnation ✽\n",
            "\tchoose  2: ❀ Daisy ❀\n",
            "\tchoose  3: ✣ Iris ✣\n",
            "\tchoose  4: ❊ Lavender ❊\n",
            "\tchoose  5: ❋ Magnolia ❋\n",
            "\tchoose  6: ❃ Narcissus ❃\n",
            "\tchoose  7: ✤ Orchid ✤\n",
            "\tchoose  8: ✾ Poppy ✾\n",
            "\tchoose  9: ✿ Rose ✿\n",
            "\tchoose 10: ❁ Sunflower ❁\n",
            "You pick a flower number: 9\n",
            "You may write if you wish (maximum 20 letters): Tanti Auguri! Jason\n",
            "Making...\n",
            "✿✿✿✿✿✿✿✿✿✿✿✿✿✿\n",
            "✿Tanti Auguri! Jason✿\n",
            "✿✿✿✿✿✿✿✿✿✿✿✿✿✿\n"
          ]
        }
      ]
    },
    {
      "cell_type": "markdown",
      "source": [
        "#<center><b>8. Object-Oriented Programming (OOP)</b></center>"
      ],
      "metadata": {
        "id": "WqWc2wMEtTS5"
      }
    },
    {
      "cell_type": "markdown",
      "source": [
        "**Classes**\n",
        "\n",
        "We have previously looked at two paradigms of programming \n",
        "- **imperative** (using statements, loops, and functions as subroutines), and \n",
        "- **functional** (using pure functions, higher-order functions, and recursion).\n",
        "\n",
        "Another very popular paradigm is **object-oriented programming**(OOP).\n",
        "\n",
        "Objects are created using **classes**, which are actually the focal point of OOP. \n",
        "\n",
        "The **class** describes what the object will be, but is separate from the object itself. \n",
        "\n",
        "In other words, a class can be described as an object's **blueprint**, description, or definition.\n",
        "\n",
        "You can use the same class as a blueprint for creating multiple different objects.\n",
        "\n",
        "Classes are created using the keyword **class** and an indented block, which contains class **methods** (which are functions).\n",
        "\n",
        "Below is an example of a simple class and its objects\n",
        "\n",
        "> class Cat:\n",
        "\n",
        ">> def \\_\\_init\\_\\_(self, color, legs):\n",
        "\n",
        ">>> self.color = color\n",
        "\n",
        ">>> self.legs = legs\n",
        "\n",
        "> felix = Cat(\"ginger\", 4)\n",
        "\n",
        "> rover = Cat(\"dog-colored\", 4)\n",
        "\n",
        "> stumpy = Cat(\"brown\", 3)\n",
        "\n",
        "This code defines a class named **Cat**, which has two attributes: **color** and **legs**\n",
        "\n",
        "Then the class is used to create 3 separate objects of that class.\n",
        "\n"
      ],
      "metadata": {
        "id": "PrnLSi_btFG-"
      }
    },
    {
      "cell_type": "code",
      "source": [
        "class Cat:\n",
        "  def __init__(self, color, legs):\n",
        "    self.color = color\n",
        "    self.legs = legs\n",
        "\n",
        "felix = Cat(\"ginger\", 4)\n",
        "rover = Cat(\"dog-colored\", 4)\n",
        "stumpy = Cat(\"brown\", 3)"
      ],
      "metadata": {
        "id": "YDdlJ7xdtUE-"
      },
      "execution_count": null,
      "outputs": []
    },
    {
      "cell_type": "markdown",
      "source": [
        "**__ init __**\n",
        "\n",
        "The **__ init __** method is the most important method is a class.\n",
        "\n",
        "**This is called when an instance(object) of the class is created**, using the class name as a function.\n",
        "\n",
        "All methods must have **self** as their first parameter, although it isn't explicitly passed, Python add the **self** argument to the list for you; you do not need to include it when you call the methods. Within a method definition, **self** refers to the instance calling the method.\n",
        "\n",
        "Instances of a class have **attributes,** which are pieces of data associated with them.\n",
        "\n",
        "In this example, **Cat** instances have attributes **color** and **legs** These can be accessed by putting a **dot**, and the attribute name after an instance. \n",
        "\n",
        "In an **__ init __** method, **self.attribute** can therefore be used to set the initial value of an instance's attributes.\n",
        "\n",
        "**Example:**\n",
        "\n",
        "> class Cat:\n",
        "\n",
        ">> def __ init __ (self, color, legs):\n",
        "\n",
        ">>> self.color = color\n",
        "\n",
        ">>> self.legs = legs\n",
        "\n",
        "\n",
        "> felix = Cat(\"ginger\", 4)\n",
        "\n",
        "> print(felix.color)\n",
        "\n",
        "In the example above, the **__ init __** method take two arguments and assigns them to the object's attributes. The **__ init __** method is called the class **constructor**"
      ],
      "metadata": {
        "id": "yNxCymmrtrYN"
      }
    },
    {
      "cell_type": "code",
      "source": [
        "class Cat:\n",
        "  def __init__ (self, color, legs):\n",
        "    self.color = color  \n",
        "    self.legs = legs\n",
        "\n",
        "felix = Cat(\"ginger\", 4)\n",
        "print(felix.color)"
      ],
      "metadata": {
        "colab": {
          "base_uri": "https://localhost:8080/"
        },
        "id": "opSfDbjjuz8U",
        "outputId": "df417356-28c8-40da-9eb6-63c6fcfccae3"
      },
      "execution_count": null,
      "outputs": [
        {
          "output_type": "stream",
          "name": "stdout",
          "text": [
            "ginger\n"
          ]
        }
      ]
    },
    {
      "cell_type": "code",
      "source": [
        "class Student:\n",
        "  def __init__ (self, name):\n",
        "    self.name = name\n",
        "\n",
        "test = Student(\"Bob\")\n",
        "print(test.name)"
      ],
      "metadata": {
        "colab": {
          "base_uri": "https://localhost:8080/"
        },
        "id": "FnhCNYggu7eE",
        "outputId": "9ade3695-1a0c-4237-ae75-2fd87040731f"
      },
      "execution_count": null,
      "outputs": [
        {
          "output_type": "stream",
          "name": "stdout",
          "text": [
            "Bob\n"
          ]
        }
      ]
    },
    {
      "cell_type": "markdown",
      "source": [
        "**Methods**\n",
        "\n",
        "Classes can have other **methods** defined to add functionality to them.\n",
        "\n",
        "Remember, that all methods must have **self** as their first parameter. \n",
        "\n",
        "These methods are accessed using the same **dot** syntax as attributes.\n",
        "\n",
        "**Example**\n",
        "\n",
        "> class Dog:\n",
        "\n",
        ">> def __ init __ (self, name, color):\n",
        "\n",
        ">>> self.name = name\n",
        "\n",
        ">>> self.color = color\n",
        "\n",
        ">> def bark(self):\n",
        "\n",
        ">>> print(\"Woof!\")\n",
        "\n",
        "> fido = Dog(\"Fido\", \"brown\")\n",
        "\n",
        "> print(fido.name)\n",
        "\n",
        "> fido.bark()\n",
        "\n",
        "Classes can also have **class attributes**, created by assigning variables within the body of the class. These can be accessed either form instances of the class, or the class itself.\n",
        "\n",
        "**Example:**\n",
        "\n",
        "> class Dog:\n",
        "\n",
        ">> legs = 4\n",
        "\n",
        ">> def __ init __ (self, name, color):\n",
        "\n",
        ">>> self.name = name\n",
        "\n",
        ">>> self.color = color\n",
        "\n",
        "> fido = Dog(\"Fido\", \"brown\")\n",
        "\n",
        "> print(fido.legs)\n",
        "\n",
        "> print(Dog.legs)\n",
        "\n",
        "Class attributes are shared by all instances of the class."
      ],
      "metadata": {
        "id": "QmjqKx-dvYhO"
      }
    },
    {
      "cell_type": "code",
      "source": [
        "class Dog:\n",
        "  def __init__(self, name, color):\n",
        "    self.name = name\n",
        "    self.color = color \n",
        "\n",
        "  def bark(self):\n",
        "    print(\"Woof!\")\n",
        "\n",
        "fido = Dog(\"Fido\", \"brown\")\n",
        "print(fido.name)\n",
        "fido.bark()"
      ],
      "metadata": {
        "colab": {
          "base_uri": "https://localhost:8080/"
        },
        "id": "t20n4devvn9s",
        "outputId": "167886ce-1a83-4553-bf73-7c684d0f0a81"
      },
      "execution_count": null,
      "outputs": [
        {
          "output_type": "stream",
          "name": "stdout",
          "text": [
            "Fido\n",
            "Woof!\n"
          ]
        }
      ]
    },
    {
      "cell_type": "code",
      "source": [
        "class Dog:\n",
        "  legs = 4 \n",
        "  def __init__(self, name, color):\n",
        "    self.name = name\n",
        "    self.color = color \n",
        "\n",
        "fido = Dog(\"Fido\", \"brown\")\n",
        "print(fido.legs)\n",
        "print(Dog.legs)"
      ],
      "metadata": {
        "colab": {
          "base_uri": "https://localhost:8080/"
        },
        "id": "OIBxug6Vvweb",
        "outputId": "e06db983-b164-46b9-8883-c12ccae088c4"
      },
      "execution_count": null,
      "outputs": [
        {
          "output_type": "stream",
          "name": "stdout",
          "text": [
            "4\n",
            "4\n"
          ]
        }
      ]
    },
    {
      "cell_type": "code",
      "source": [
        "class Student:\n",
        "  def __init__(self, name):\n",
        "    self.name = name\n",
        "\n",
        "  def sayHi(self):\n",
        "    print(\"Hi from \" + self.name)\n",
        "\n",
        "s1 = Student(\"Amy\")\n",
        "s1.sayHi()"
      ],
      "metadata": {
        "colab": {
          "base_uri": "https://localhost:8080/"
        },
        "id": "c3Tvkjp8v0x0",
        "outputId": "d2f74180-0484-4d3b-85dc-212ccf419e97"
      },
      "execution_count": null,
      "outputs": [
        {
          "output_type": "stream",
          "name": "stdout",
          "text": [
            "Hi from Amy\n"
          ]
        }
      ]
    },
    {
      "cell_type": "markdown",
      "source": [
        "**Classes**\n",
        "\n",
        "Trying to access an attribute of an **instance that isn't defined** causes an **AttributeError**. \n",
        "\n",
        "This also applies when you call an undefined method.\n",
        "\n",
        "**Example:**\n",
        "\n",
        "> class Rectangle:\n",
        "\n",
        ">> def __init__ (self, width, height):\n",
        "\n",
        ">>> self.width = width\n",
        "\n",
        ">>> self.height = height\n",
        "\n",
        "> rect = Rectangle(7, 8)\n",
        "\n",
        "> print(rect.color)\n",
        "\n"
      ],
      "metadata": {
        "id": "qENTkE2Iv_ol"
      }
    },
    {
      "cell_type": "code",
      "source": [
        "class Rectangle:\n",
        "  def __init__(self, width, height):\n",
        "    self.width = width\n",
        "    self.height = height\n",
        "\n",
        "\n",
        "rect = Rectangle(7, 8)\n",
        "print(rect.width)\n",
        "print(rect.height)\n",
        "#  print(rect.color) # AttributeError"
      ],
      "metadata": {
        "colab": {
          "base_uri": "https://localhost:8080/"
        },
        "id": "AkfLcb7EwFau",
        "outputId": "a2fedbba-51f3-4eb6-b615-ae6ad5affd97"
      },
      "execution_count": null,
      "outputs": [
        {
          "output_type": "stream",
          "name": "stdout",
          "text": [
            "7\n",
            "8\n"
          ]
        }
      ]
    },
    {
      "cell_type": "markdown",
      "source": [
        "**Inheritance**\n",
        "\n",
        "**Inheritance** provides a way to share functionality between classes. \n",
        "\n",
        "Imagine several classes, Cat, Dog, Rabbit and so on. \n",
        "\n",
        "Althought they may differ in some ways (only Dog might have the method bark), They are likely to be similar in others (all having the attributres color and name).\n",
        "\n",
        "This similarity can be expressed by making them all inherit from a **superclas Animal**, which contains the shared functionality.\n",
        "\n",
        "To inherit a class from another class, put the superclass name in parentheses after the class name.\n",
        "\n",
        "**Example:**\n",
        "\n",
        "> class Animal:\n",
        "\n",
        ">> def __init__(self, name, color):\n",
        "\n",
        ">>> self.name = name\n",
        "\n",
        ">>> self.color = color\n",
        "\n",
        "> #\n",
        "\n",
        "> class Cat(Animal):\n",
        "\n",
        ">> def purr(self):\n",
        "\n",
        ">>> print(\"Purr...\")\n",
        "\n",
        "> #\n",
        "\n",
        "> class Dog(Animal):\n",
        "\n",
        ">> def bark(self):\n",
        "\n",
        ">>> print(\"Woof!\")\n",
        "\n",
        "> #\n",
        "\n",
        "> fido = Dog(\"Fido\", \"brown\")\n",
        "\n",
        "> print(fido.color)\n",
        "\n",
        "> fido.bark()\n",
        "\n"
      ],
      "metadata": {
        "id": "ozTr4QMvxeRE"
      }
    },
    {
      "cell_type": "code",
      "source": [
        "class Animal:\n",
        "  def __init__(self, name, color):\n",
        "    self.name = name\n",
        "    self.color = color \n",
        "  \n",
        "class Cat(Animal):\n",
        "  def purr(self):\n",
        "    print(\"Purr...\")\n",
        "\n",
        "class Dog(Animal):\n",
        "  def bark(self):\n",
        "    print(\"Woof!\")\n",
        "\n",
        "fido = Dog(\"Fido\", \"brown\")\n",
        "print(fido.color)\n",
        "fido.bark()\n",
        "\n",
        "\n",
        "cheshire = Cat(\"Cheshire\", \"striped-purple\")\n",
        "print(cheshire.color)\n",
        "cheshire.purr()"
      ],
      "metadata": {
        "colab": {
          "base_uri": "https://localhost:8080/"
        },
        "id": "IdSB7oJoxk88",
        "outputId": "8450234b-0f19-46ea-ba8b-86d06c12b9bc"
      },
      "execution_count": null,
      "outputs": [
        {
          "output_type": "stream",
          "name": "stdout",
          "text": [
            "brown\n",
            "Woof!\n",
            "striped-purple\n",
            "Purr...\n"
          ]
        }
      ]
    },
    {
      "cell_type": "markdown",
      "source": [
        "**Inheritance**\n",
        "\n",
        "A class that inherits from another class is called a **subclass**.\n",
        "\n",
        "A class that is inferited from is called a **superclass**.\n",
        "\n",
        "If a class inherits from another with the same attributes or methods, it overides them.\n",
        "\n",
        "> class Wolf:\n",
        "\n",
        ">> def __ init __(self, name, color):\n",
        "\n",
        ">>> self.name = name\n",
        "\n",
        ">>> self.color = color\n",
        "\n",
        "> #\n",
        "\n",
        "> class Dog(Wolf):\n",
        "\n",
        ">> def bark(self):\n",
        "\n",
        ">>> print(\"Woof\")\n",
        "\n",
        "> #\n",
        "\n",
        "> husky = Dog(\"Max\", \"grey\")\n",
        "\n",
        "> husky.bark()\n",
        "\n",
        "In the example above, **Wolf** is the superclass, **Dog** is the subclass.\n",
        "\n",
        "\n"
      ],
      "metadata": {
        "id": "6tjADrfgzfmU"
      }
    },
    {
      "cell_type": "code",
      "source": [
        "class Wolf:\n",
        "  def __init__(self, name, color):\n",
        "    self.name = name\n",
        "    self.color = color\n",
        "  \n",
        "  def bark(self):\n",
        "    print(\"Grr...\")\n",
        "\n",
        "class Dog(Wolf):\n",
        "  def bark(self):\n",
        "    print(\"Woof\")\n",
        "\n",
        "husky = Dog(\"Max\", \"grey\")\n",
        "\n",
        "print(husky.name)\n",
        "husky.bark()"
      ],
      "metadata": {
        "colab": {
          "base_uri": "https://localhost:8080/"
        },
        "id": "UuCtB7NmzidU",
        "outputId": "5ad5c870-cf7f-4171-e79f-634aaa0d28e0"
      },
      "execution_count": null,
      "outputs": [
        {
          "output_type": "stream",
          "name": "stdout",
          "text": [
            "Max\n",
            "Woof\n"
          ]
        }
      ]
    },
    {
      "cell_type": "code",
      "source": [
        "class A:\n",
        "  def method(self):\n",
        "    print(1)\n",
        "\n",
        "class B(A):\n",
        "  def method(self):\n",
        "    print(2)\n",
        "\n",
        "B().method()"
      ],
      "metadata": {
        "colab": {
          "base_uri": "https://localhost:8080/"
        },
        "id": "hWawA6T2zsIb",
        "outputId": "dbe06c3b-dc7d-4480-f01a-4a2f283d2cb9"
      },
      "execution_count": null,
      "outputs": [
        {
          "output_type": "stream",
          "name": "stdout",
          "text": [
            "2\n"
          ]
        }
      ]
    },
    {
      "cell_type": "markdown",
      "source": [
        "**Inheritance**\n",
        "\n",
        "Inheritance can also be indirect. One class can inherit form another, and that class can inherit from a third class.\n",
        "\n",
        "**Example**\n",
        "\n",
        "> class A:\n",
        "\n",
        ">> def method(self):\n",
        "\n",
        ">>> print(\"A method\")\n",
        "\n",
        "> #\n",
        "\n",
        "> class B(A):\n",
        "\n",
        ">> def another_method(self):\n",
        "\n",
        ">>> print(\"B method\")\n",
        "\n",
        "> #\n",
        "\n",
        "> class C(B):\n",
        "\n",
        ">> def third_method(self):\n",
        "\n",
        ">> print(\"C method\")\n",
        "\n",
        "> #\n",
        "\n",
        "> c = C()\n",
        "\n",
        "> c.method()\n",
        "\n",
        "> c.another_method()\n",
        "\n",
        "> c.third_method()\n",
        "\n",
        "However, **circular** inheritance is **not** possible."
      ],
      "metadata": {
        "id": "rqJ4r15Wz4K9"
      }
    },
    {
      "cell_type": "code",
      "source": [
        "class A:\n",
        "  def method(self):\n",
        "    print(\"A method\")\n",
        "\n",
        "class B(A):\n",
        "  def another_method(self):\n",
        "    print(\"B method\")\n",
        "\n",
        "class C(B):\n",
        "  def third_method(self):\n",
        "    print(\"C method\")\n",
        "\n",
        "c = C()\n",
        "c.method()\n",
        "c.another_method()\n",
        "c.third_method()"
      ],
      "metadata": {
        "colab": {
          "base_uri": "https://localhost:8080/"
        },
        "id": "2zNEPSMlz7Ps",
        "outputId": "e9de5f45-e800-404e-cc78-d9dbad8ff7a5"
      },
      "execution_count": null,
      "outputs": [
        {
          "output_type": "stream",
          "name": "stdout",
          "text": [
            "A method\n",
            "B method\n",
            "C method\n"
          ]
        }
      ]
    },
    {
      "cell_type": "code",
      "source": [
        "class A:\n",
        "  def a(self):\n",
        "    print(1)\n",
        "\n",
        "class B(A):\n",
        "  def a(self):\n",
        "    print(2)\n",
        "\n",
        "class C(B):\n",
        "  def c(self):\n",
        "    print(3)\n",
        "\n",
        "c = C()\n",
        "c.a()"
      ],
      "metadata": {
        "colab": {
          "base_uri": "https://localhost:8080/"
        },
        "id": "ZIlce5D8z-mE",
        "outputId": "903a5c66-4c0f-45fe-a434-75a358581e7c"
      },
      "execution_count": null,
      "outputs": [
        {
          "output_type": "stream",
          "name": "stdout",
          "text": [
            "2\n"
          ]
        }
      ]
    },
    {
      "cell_type": "markdown",
      "source": [
        "**Inheritance**\n",
        "\n",
        "The function **super** is a useful inheritance-related function that refers to the parent class. It can be used to find the method with a certian name is an object's superclass.\n",
        "\n",
        "> class A:\n",
        "\n",
        ">> def spam(self):\n",
        "\n",
        ">>> print(1)\n",
        "\n",
        "> #\n",
        "\n",
        "> class B(A):\n",
        "\n",
        ">> def spam(self):\n",
        "\n",
        ">>> print(2)\n",
        "\n",
        ">>> super().spam()\n",
        "\n",
        "> B().spam()\n",
        "\n",
        "**super().spam()** calls the **spam** method of the superclass. "
      ],
      "metadata": {
        "id": "d5SpzWol0Qc8"
      }
    },
    {
      "cell_type": "code",
      "source": [
        "class A:\n",
        "  def spam(self):\n",
        "    print(1)\n",
        "\n",
        "class B(A):\n",
        "  def spam(self):\n",
        "    print(2)\n",
        "    super().spam()\n",
        "\n",
        "B().spam()"
      ],
      "metadata": {
        "colab": {
          "base_uri": "https://localhost:8080/"
        },
        "id": "DQu4cu1G0TVP",
        "outputId": "aed9524d-a485-499a-aa4d-0f3ca81b563a"
      },
      "execution_count": null,
      "outputs": [
        {
          "output_type": "stream",
          "name": "stdout",
          "text": [
            "2\n",
            "1\n"
          ]
        }
      ]
    },
    {
      "cell_type": "markdown",
      "source": [
        "**Magic Methods**\n",
        "\n",
        "**Magic methods** are special methods which have **double underscores** at the beginning and end of their names. They are also known as **dunders**\n",
        "\n",
        "So far, the only one we have encountered is **\\_\\_ init \\_\\_**, but there are several others.\n",
        "\n",
        "\n",
        "They are used to create functionality that can't be represented as a normal method.\n",
        "\n",
        "One common use of them is **operator overloading.**\n",
        "\n",
        "This means defining operators for custom classes that allow operators such as + and * to be used on them.\n",
        "\n",
        "An example magic method is **__ add __** for +.\n",
        "\n",
        "> class Vector2D:\n",
        "\n",
        ">> def __ init __ (self, x, y):\n",
        "\n",
        ">>> self.x = x\n",
        "\n",
        ">>> self.y = y\n",
        "\n",
        ">> def __ add __ (self, other):\n",
        "\n",
        ">>> return Vector2D(self.x + other.x, self.y + other.y)\n",
        "\n",
        "> first = Vector2D(5, 7)\n",
        "\n",
        "> second = Vector2D(3, 9)\n",
        "\n",
        "> resutl = first + second\n",
        "\n",
        "> print(result.x)\n",
        "\n",
        "> print(result.y)\n",
        "\n",
        "The __ add __ method allows for the definition of a custom behavior for the + operator in our class.\n",
        "\n",
        "As you can see, it adds the corresponding attributes of the objects and returns a new object, containing the result.\n",
        "\n",
        "Once it's defined, we can add two objects of the class together\n"
      ],
      "metadata": {
        "id": "52Or22yFBmiN"
      }
    },
    {
      "cell_type": "code",
      "source": [
        "class Vector2D:\n",
        "  def __init__(self, x, y):\n",
        "    self.x = x\n",
        "    self.y = y\n",
        "  def __add__(self, other):\n",
        "    return Vector2D(self.x + other.x, self.y + other.y)\n",
        "\n",
        "first = Vector2D(5, 7)\n",
        "second = Vector2D(3, 9)\n",
        "result = first + second\n",
        "\n",
        "print(result.x)\n",
        "print(result.y)"
      ],
      "metadata": {
        "colab": {
          "base_uri": "https://localhost:8080/"
        },
        "id": "3MOYmSpZBpSz",
        "outputId": "321cabd5-db48-47ab-d8c2-6b7d490fbfe9"
      },
      "execution_count": null,
      "outputs": [
        {
          "output_type": "stream",
          "name": "stdout",
          "text": [
            "8\n",
            "16\n"
          ]
        }
      ]
    },
    {
      "cell_type": "markdown",
      "source": [
        "**Magic Methods**\n",
        "\n",
        "More magic methods for common operators:\n",
        "\n",
        "> __ sub __ for -\n",
        "\n",
        "> __ mul __ for *\n",
        "\n",
        "> __ truediv __ for /\n",
        "\n",
        "> __ floordiv __ for //\n",
        "\n",
        "> __ mod __ for %\n",
        "\n",
        "> __ pow __ for **\n",
        "\n",
        "> __ and __ for &\n",
        "\n",
        "> __ xor __ for ^\n",
        "\n",
        "> __ or __ for |\n",
        "\n",
        "the expression x + y is translated into x.__ and __ (y). \n",
        "\n",
        "However, if x hasn't implemented __ and __, and x and y are of different types, then y. __radd __ (x) is called.\n",
        "\n",
        "There are equivalent r methods for all megic methods just mentioned.\n",
        "\n",
        "**Example:**\n",
        "\n",
        "> class SpecialString:\n",
        "\n",
        "> def __ init __ (self, count):\n",
        "\n",
        ">> self.count = cont\n",
        "\n",
        "> def __ truediv __ (self, other):\n",
        "\n",
        ">> line = \"=\" *len(other.cout)\n",
        "\n",
        ">> return \"\\n\".join([self.count, line, other.cont])\n",
        "\n",
        "> spam = SpecialString(\"spam\")\n",
        "\n",
        "> hello = SpecialString(\"Hello world!\")\n",
        "\n",
        "> print(spam/hello)\n",
        "\n",
        "In the example above, we defined the **division** operation for our class **SpecialString**."
      ],
      "metadata": {
        "id": "dcj5tSeDCrGt"
      }
    },
    {
      "cell_type": "code",
      "source": [
        "class SpecialString:\n",
        "  def __init__(self, cont):\n",
        "    self.cont = cont\n",
        "  \n",
        "  def __truediv__(self, other):\n",
        "    line = \"=\"* len(other.cont)\n",
        "    return \"\\n\".join([self.cont, line, other.cont])\n",
        "\n",
        "    \n",
        "spam = SpecialString(\"spam\")\n",
        "hello = SpecialString(\"Hello World!\")\n",
        "print(spam/hello)"
      ],
      "metadata": {
        "colab": {
          "base_uri": "https://localhost:8080/"
        },
        "id": "VBNpyGQACtPM",
        "outputId": "21a85c94-523c-40b7-e4a2-e40204b3871e"
      },
      "execution_count": null,
      "outputs": [
        {
          "output_type": "stream",
          "name": "stdout",
          "text": [
            "spam\n",
            "============\n",
            "Hello World!\n"
          ]
        }
      ]
    },
    {
      "cell_type": "markdown",
      "source": [
        "**Magic Methods**\n",
        "\n",
        "Python also provides magic methods for comparisions\n",
        "\n",
        "> __ lt __ for <\n",
        "\n",
        "> __ le __ for <=\n",
        "\n",
        "> __ eq __ for ==\n",
        "\n",
        "> __ ne __ for !=\n",
        "\n",
        "> __ gt __ for >\n",
        "\n",
        "> __ ge __ for >=\n",
        "\n",
        "If __ ne __ is not implemented, it returns the opposite of __ eq __.\n",
        "\n",
        "there are no other relationships between the other operators.\n",
        "\n",
        "**Example:**\n",
        "\n",
        "> class SpecialString:\n",
        "\n",
        ">> def __ init __ (self, cont):\n",
        "\n",
        ">>> self.cont = cont\n",
        "\n",
        ">> def __ gt __ (self, other):\n",
        "\n",
        ">>> for index in range(len(other.cont) + 1):\n",
        "\n",
        ">>>> result = other.cont[:index] + \">\" + self.cont\n",
        "\n",
        ">>>> result += \">\" + other.cont[index:]\n",
        "\n",
        ">>>> print(result)\n",
        "\n",
        "> spam = SpecialString(\"spam\")\n",
        "\n",
        "> eggs = SpecialString(\"eggs\")\n",
        "\n",
        "> spam > eggs\n",
        "\n",
        "\n",
        "As you can see, you can define any custom behavior for the overloaded operators."
      ],
      "metadata": {
        "id": "ohMXMbr_HBl8"
      }
    },
    {
      "cell_type": "code",
      "source": [
        "class SpecialString:\n",
        "  def __init__(self, cont):\n",
        "    self.cont = cont\n",
        "  \n",
        "  def __gt__ (self, other):\n",
        "    for index in range(len(other.cont)+1):\n",
        "      result = other.cont[:index] + \">\" + self.cont \n",
        "      result += \">\" + other.cont[index:]\n",
        "      print(result)\n",
        "\n",
        "\n",
        "spam = SpecialString(\"spam\")\n",
        "eggs = SpecialString(\"eggs\")\n",
        "spam>eggs"
      ],
      "metadata": {
        "colab": {
          "base_uri": "https://localhost:8080/"
        },
        "id": "Ied-gZgWHEgU",
        "outputId": "cea963c8-b452-4078-8a62-de969aa57c6c"
      },
      "execution_count": null,
      "outputs": [
        {
          "output_type": "stream",
          "name": "stdout",
          "text": [
            ">spam>eggs\n",
            "e>spam>ggs\n",
            "eg>spam>gs\n",
            "egg>spam>s\n",
            "eggs>spam>\n"
          ]
        }
      ]
    },
    {
      "cell_type": "markdown",
      "source": [
        "**Magic Methods**\n",
        "\n",
        "There are several magic methods for making classes act like containers.\n",
        "\n",
        "> __ len __ for len()\n",
        "\n",
        "> __ getitem __ for indexing \n",
        "\n",
        "> __ setitem __ for assigning to indexed values\n",
        "\n",
        "> __ delitem __ for deleting indexed values\n",
        "\n",
        "> __ iter __ for iteration over objects (e.g., in for loops)\n",
        "\n",
        "> __ contains __ for in\n",
        "\n",
        "There are many other magic methods that we won't cover here, such as __ call __ for calling objects as functions, and  __ int __ , __ str __, and the like, for converting objects to built-in types.\n",
        "\n",
        "**Example:**\n",
        "\n",
        "> import random\n",
        "\n",
        "> class VagueList:\n",
        "\n",
        ">> def __ init __(self, cont):\n",
        "\n",
        ">>> self.cont = cont\n",
        "\n",
        ">> def __ getitem __(self, index):\n",
        "\n",
        ">>> return self.cont[index + random.randint(1, 1)]\n",
        "\n",
        ">> def __ len __(self):\n",
        "\n",
        ">>> return random.randint(0, len(self.cont)*2)\n",
        "\n",
        "> vague_list = VagueList([\"A\", \"B\", \"C\", \"D\", \"E\"])\n",
        "\n",
        "> print(len(vague_list))\n",
        "\n",
        "> print(len(vague_list))\n",
        "\n",
        "> print(vague_list[2])\n",
        "\n",
        "> print(vague_list[2])\n",
        "\n",
        "We have overridden the len() function for the class VagueList to return a random number.\n",
        "\n",
        "The indexing function also returns a random item in a range from the list, based on the expression."
      ],
      "metadata": {
        "id": "iZNRP2dtIN8k"
      }
    },
    {
      "cell_type": "code",
      "source": [
        "import random\n",
        "\n",
        "class VagueList:\n",
        "  def __init__(self, cont):\n",
        "    self.cont = cont\n",
        "  \n",
        "  def __getitem__(self, index):\n",
        "    return self.cont[index + random.randint(-1, 1)]\n",
        "\n",
        "  def __len__(self):\n",
        "    return random.randint(0, len(self.cont)*2)\n",
        "\n",
        "\n",
        "vague_list = VagueList([\"A\", \"B\", \"C\", \"D\", \"E\"])\n",
        "print(len(vague_list))\n",
        "print(len(vague_list))\n",
        "print(vague_list[2])\n",
        "print(vague_list[2])"
      ],
      "metadata": {
        "colab": {
          "base_uri": "https://localhost:8080/"
        },
        "id": "e9rYcpSgIXV1",
        "outputId": "dc5b914d-b5ca-4b11-e520-bb2a42f73b96"
      },
      "execution_count": null,
      "outputs": [
        {
          "output_type": "stream",
          "name": "stdout",
          "text": [
            "2\n",
            "7\n",
            "D\n",
            "D\n"
          ]
        }
      ]
    },
    {
      "cell_type": "markdown",
      "source": [
        "**Object Lifecycle**\n",
        "\n",
        "\n",
        "The lifecycle of an object is made up of its **creation**, **manipulation**, and **destruction**. \n",
        "\n",
        "The first stage of the life-cycle of an object is the **definition** of the class to which it belongs.\n",
        "\n",
        "The next stage is the **instantiation** of an instance, when __ init __ is called. \n",
        "\n",
        "Memory is allocated to store the instance. Just before this occurs, the __ new __ method of the class is called. This is usually overridden only in special cases. \n",
        "\n",
        "After this has happened, the object is ready to be used.\n",
        "\n",
        "Other code can then interact with the object, by calling functions on it and accesssing its attributes.\n",
        "\n",
        "Eventually, it will finish being used, and can be **destroyed.**"
      ],
      "metadata": {
        "id": "hBWPHLderyXC"
      }
    },
    {
      "cell_type": "markdown",
      "source": [
        "**Object Lifecycle**\n",
        "\n",
        "When an object is **destroyed**, the memory allocated to it is freed up, and can be used for other purposes.\n",
        "\n",
        "Destruction of an object occurs when its **reference count** reaches zero. Reference count is the number of variables and other elements that refer to an object.\n",
        "\n",
        "If nothing is referring to it (it has a reference count of zero) nothing can't interact with it so it can be safely deleted\n",
        "\n",
        "In some situations, two (or more) objects can be referred to by each other only, and therefore can be deleted as well.\n",
        "\n",
        "The **del** statement reduces the reference count of an object by one, and this often leads to its deletion.\n",
        "\n",
        "The magic method for the **del** statement is __ del __.\n",
        "\n",
        "The process of deleting objects when they are no longer needed is called **garbage collection**.\n",
        "\n",
        "In summary, an object's reference count increases when it is assigned a new name of placed in container (list, tuple, or dictinary). \n",
        "\n",
        "The object's reference count decreases when it's deleted with **del**, its reference is reassigned, or its reference goes out of scope. When an object's reference count reaches zero, Python automatically deletes it.\n",
        "\n",
        "**Example:**\n",
        "\n",
        "> a = 42 # create object<42>\n",
        "\n",
        "> b = a # Increase ref. count of<42>\n",
        "\n",
        "> c = [a] # Increase ref. count of<42>\n",
        "\n",
        "> del a # Decrease ref. count of<42>\n",
        "\n",
        "> b = 100 # Decrease ref. count of<42>\n",
        "\n",
        "> c[0] = -1 #Decrease ref. count of<42>\n",
        "\n",
        "Lower level language like C don't have this kind of automatic memory management.\n",
        "\n",
        "\n",
        "\n"
      ],
      "metadata": {
        "id": "o7wJnkcZsbwT"
      }
    },
    {
      "cell_type": "markdown",
      "source": [
        "**Data Hiding**\n",
        "\n",
        "Weakly private methods and attributes have a **single underscore** at the beginning.\n",
        "\n",
        "This signals that they are private, and shouldn't be used by external code. However, it is mostly only a convention, and does not stop external code from accessing them.\n",
        "\n",
        "Its only actual effect is that \n",
        "> from module_name import *\n",
        "\n",
        "won't import variables that start with a single underscore.\n",
        "\n",
        "**Example:**\n",
        "\n",
        "> class Queue:\n",
        "\n",
        ">> def __ init __(self, contents):\n",
        "\n",
        ">>> self._hiddenlist = list(contents)\n",
        "\n",
        ">> def push(self, value):\n",
        "\n",
        ">>> self._hiddenlist.insert(0, value)\n",
        "\n",
        ">> def pop(self):\n",
        "\n",
        ">>> return self._hiddenlist.pop(-1)\n",
        "\n",
        ">> def __ repr __ (self):\n",
        "\n",
        ">>> return \"Queue({})\".format(self._hiddenlist)\n",
        "\n",
        "> queue = Queue([1, 2, 3])\n",
        "\n",
        "> print(queue)\n",
        "\n",
        "> queue.push(0)\n",
        "\n",
        "> print(queue)\n",
        "\n",
        "> queue.pop()\n",
        "\n",
        "> print(queue)\n",
        "\n",
        "> print(queue.hiddenlist)\n",
        "\n",
        "In the code above, the attribute _hiddenlist is marked as private, but it can still be accesssed in the outside code. \n",
        "\n",
        "The __ repr __ magic method is used for string representation of the instance."
      ],
      "metadata": {
        "id": "Mxw_v1Fpsfad"
      }
    },
    {
      "cell_type": "code",
      "source": [
        "class Queue:\n",
        "  def __init__(self, contents):\n",
        "    self._hiddenlist = list(contents)\n",
        "  \n",
        "  def push(self, value):\n",
        "    self._hiddenlist.insert(0, value)\n",
        "\n",
        "  def pop(self):\n",
        "    return self._hiddenlist.pop(-1)\n",
        "\n",
        "  def __repr__(self):\n",
        "    return \"Queue({})\".format(self._hiddenlist)\n",
        "\n",
        "queue = Queue([1, 2, 3])\n",
        "print(queue)\n",
        "queue.push(0)\n",
        "print(queue)\n",
        "queue.pop()\n",
        "print(queue)\n",
        "print(queue._hiddenlist)"
      ],
      "metadata": {
        "colab": {
          "base_uri": "https://localhost:8080/"
        },
        "id": "Z6Ph6itxtO8y",
        "outputId": "86687a01-3c00-4413-99fb-d71689c4e159"
      },
      "execution_count": null,
      "outputs": [
        {
          "output_type": "stream",
          "name": "stdout",
          "text": [
            "Queue([1, 2, 3])\n",
            "Queue([0, 1, 2, 3])\n",
            "Queue([0, 1, 2])\n",
            "[0, 1, 2]\n"
          ]
        }
      ]
    },
    {
      "cell_type": "markdown",
      "source": [
        "**Data Hiding**\n",
        "\n",
        "Strongly private methods and attributes have a **double underscore** at the beginning of their names. This causes their names to be mangled, which means that they can't be accessed from outside the class.\n",
        "\n",
        "The purpose of this isn't to ensure that they are kept private, but to avoid bugs if there are subclasses that have methods or attributes with the same names.\n",
        "\n",
        "Name mangled methods can still be accessed externally, but by a different name. The method **__privatemethod** of class **Spam** could be accessed externally with _ Spam __privatemethod.\n",
        "\n",
        "Example:\n",
        "\n",
        "> class Spam:\n",
        "\n",
        ">> __ egg = 7\n",
        "\n",
        ">> def print_egg(self):\n",
        "\n",
        ">>> print(self.__egg)\n",
        "\n",
        "> s = Spam()\n",
        "\n",
        "> s.print_egg()\n",
        "\n",
        "> print(s._ Spam _egg)\n",
        "\n",
        "> print(s. __egg) # Error\n",
        "\n",
        "Basically, Python protects those members by intermally changing the name to include the class name."
      ],
      "metadata": {
        "id": "U7E-FNGQuEX7"
      }
    },
    {
      "cell_type": "code",
      "source": [
        "class Spam:\n",
        "  __egg = 7\n",
        "  def print_egg(self):\n",
        "    print(self.__egg)\n",
        "\n",
        "s = Spam()\n",
        "s.print_egg() # 7\n",
        "print(s._Spam__egg) # 7 access by external\n",
        "  # print(s.__egg) # error"
      ],
      "metadata": {
        "colab": {
          "base_uri": "https://localhost:8080/"
        },
        "id": "jrUIsy-SuGlf",
        "outputId": "0ee4369f-0c06-4544-88e1-6d9b46a275e7"
      },
      "execution_count": null,
      "outputs": [
        {
          "output_type": "stream",
          "name": "stdout",
          "text": [
            "7\n",
            "7\n"
          ]
        }
      ]
    },
    {
      "cell_type": "markdown",
      "source": [
        "**Class Methods**\n",
        "\n",
        "Methods of objects we've looked at so far are called by an instance of a class, which is then passed to the **self** parameter of the method.\n",
        "\n",
        "**Class methods** are different - they are called by a class, which is passed to the **cls** parameter of the method.\n",
        "\n",
        "A common use of these are factory methods, which instantiate an instance of a class, using different parameters than those usually passed to the class constructor.\n",
        "\n",
        "Class methods are marked with a **classmethod decorator**.\n",
        "\n",
        "**Example**:\n",
        "\n",
        "> class Rectangle:\n",
        "\n",
        ">> def __ init __(self, width, height):\n",
        "\n",
        ">>> self.width = width\n",
        "\n",
        ">>> self.height = height\n",
        "\n",
        ">> def calculate_area(self):\n",
        "\n",
        ">>> return self.width*self.height\n",
        "\n",
        ">> @classmethod\n",
        "\n",
        ">> def new_square(cls, side_length):\n",
        "\n",
        ">>> return cls(side_length, side_length)\n",
        "\n",
        "> square = Rectangle.new_square(5)\n",
        "\n",
        "> print(square.calcuate_area())\n",
        "\n",
        "**new_square** is a class method and is called on the class, rather than on an instance of the class. It returns a new object of the class **cls**.\n",
        "\n",
        "Technically, the parameters **self** and **cls** are just conventions; they could be changed to anything else. However, they are universally followed, so it is wise to stick to using them.\n",
        "\n"
      ],
      "metadata": {
        "id": "Pw-IGcWMvOGL"
      }
    },
    {
      "cell_type": "code",
      "source": [
        "class Rectangle:\n",
        "  def __init__(self, width, height):\n",
        "    self.width = width\n",
        "    self.height = height\n",
        "\n",
        "  def calculate_area(self):\n",
        "    return self.width*self.height\n",
        "\n",
        "  @classmethod\n",
        "  def new_square(cls, side_length):\n",
        "    return cls(side_length, side_length)\n",
        "\n",
        "square = Rectangle.new_square(5)\n",
        "print(square.calculate_area())"
      ],
      "metadata": {
        "colab": {
          "base_uri": "https://localhost:8080/"
        },
        "id": "D_V_z5MhvbFj",
        "outputId": "060e95ad-bec5-4c69-9c71-46361d853bb0"
      },
      "execution_count": null,
      "outputs": [
        {
          "output_type": "stream",
          "name": "stdout",
          "text": [
            "25\n"
          ]
        }
      ]
    },
    {
      "cell_type": "code",
      "source": [
        "class Person:\n",
        "  def __init__(self, name):\n",
        "    self.name = name\n",
        "\n",
        "  def greeting(self):\n",
        "    return \"good morning \"+ str(self.name)\n",
        "\n",
        "  @classmethod\n",
        "  def sayHi(cls,name):\n",
        "    return cls(name)\n",
        "\n",
        "john = Person.sayHi(\"John\")\n",
        "print(john.greeting())"
      ],
      "metadata": {
        "colab": {
          "base_uri": "https://localhost:8080/"
        },
        "id": "qEpHgGenvk_T",
        "outputId": "d2630b83-4178-4a7d-d247-941ce589d63e"
      },
      "execution_count": null,
      "outputs": [
        {
          "output_type": "stream",
          "name": "stdout",
          "text": [
            "good morning John\n"
          ]
        }
      ]
    },
    {
      "cell_type": "markdown",
      "source": [
        "**Static Methods**\n",
        "\n",
        "**Static methods** are similar to class methods, except they don't receive any additional arguments; they are identical to normal functions that belong to class. \n",
        "\n",
        "They are marked with the **staticmethod** decorator.\n",
        "\n",
        "**Example:**\n",
        "\n",
        "> class Pizza:\n",
        "\n",
        ">> def __ init __ (self, toopings):\n",
        "\n",
        ">>> self.toppings = toppings\n",
        "\n",
        ">> @staticmethod\n",
        "\n",
        ">> def validata_topping(topping):\n",
        "\n",
        ">>> if topping == \"pineapple\":\n",
        "\n",
        ">> raise ValueError(\"No pineapples!)\n",
        "\n",
        ">>> else:\n",
        "\n",
        ">>>> return True\n",
        "\n",
        "> ingredients = [\"cheese\", \"onions\", \"spam\"]\n",
        "\n",
        "> if all(Pizza.validate_topping(i) for i in ingredients):\n",
        "\n",
        ">> pizza = Pizza(ingredients)\n",
        "\n",
        "Static methods behave like plain functions, except for the fact that you can call them from an instance of the class.\n",
        "\n"
      ],
      "metadata": {
        "id": "YSZAAu6k2GNe"
      }
    },
    {
      "cell_type": "code",
      "source": [
        "class Pizza:\n",
        "  def __init__(self, toppings):\n",
        "    self.toppings = toppings\n",
        "  \n",
        "  @staticmethod\n",
        "  def validate_topping(topping):\n",
        "    if topping == \"pineapple\":\n",
        "      raise ValueError(\"No pineapples!\")\n",
        "    else:\n",
        "      return True\n",
        "\n",
        "ingredients = [\"cheese\", \"onions\", \"spam\",]\n",
        "if all(Pizza.validate_topping(i) for i in ingredients):\n",
        "  pizza = Pizza(ingredients)"
      ],
      "metadata": {
        "id": "B8snuuqg2KWk"
      },
      "execution_count": null,
      "outputs": []
    },
    {
      "cell_type": "markdown",
      "source": [
        "**Properties**\n",
        "\n",
        "**Properties** provide a way of customizing access to instance attributes. They are created by putting the **property** decorator above a method, which means when the instance attribute with the same name as the method is accessed, the method will be called instead.\n",
        "\n",
        "One common use of a property is to make an attribute **read-only**.\n",
        "\n",
        "**Example:**\n",
        "\n",
        "> class Pizza:\n",
        "\n",
        ">> def __ init __ (self, toppings):\n",
        "\n",
        ">>> self.toppings = toppings\n",
        "\n",
        ">> @property\n",
        "\n",
        ">> def pineapple_allowed(self):\n",
        "\n",
        ">>>  return False\n",
        "\n",
        "> pizza = Pizza([\"cheese\", \"tomato\"])\n",
        "\n",
        "> print(pizza.pineapple_allowed)\n",
        "\n",
        "> pizza.pineapple_allowed = True"
      ],
      "metadata": {
        "id": "NAbTSvS429TT"
      }
    },
    {
      "cell_type": "code",
      "source": [
        "class Pizza:\n",
        "  def __init__(self, toppings):\n",
        "    self.toppings = toppings\n",
        "\n",
        "  @property\n",
        "  def pineapple_allowed(self):\n",
        "    return False\n",
        "\n",
        "pizza = Pizza([\"cheese\", \"tomato\"])\n",
        "print(pizza.pineapple_allowed)\n",
        "  # pizza.pineapple_allowed = True  # can't set attribute"
      ],
      "metadata": {
        "colab": {
          "base_uri": "https://localhost:8080/"
        },
        "id": "RzmSRLcQ3cbs",
        "outputId": "d4eaea7f-3e2a-4ac1-b5dd-d8a8a03c4bda"
      },
      "execution_count": null,
      "outputs": [
        {
          "output_type": "stream",
          "name": "stdout",
          "text": [
            "False\n"
          ]
        }
      ]
    },
    {
      "cell_type": "code",
      "source": [
        "class Person:\n",
        "  def __init__(self, age):\n",
        "    self.age = int(age)\n",
        "\n",
        "  @property\n",
        "  def isAdult(self):\n",
        "    if self.age > 18:\n",
        "      return True\n",
        "    else:\n",
        "      return False\n",
        "\n",
        "Jason = Person(24)\n",
        "print(Jason.isAdult) \n",
        "\n",
        "John = Person(14)\n",
        "print(John.isAdult)"
      ],
      "metadata": {
        "colab": {
          "base_uri": "https://localhost:8080/"
        },
        "id": "_FUw8BQg3vLk",
        "outputId": "cfc1630c-2411-4cf8-af80-a2acf2f64168"
      },
      "execution_count": null,
      "outputs": [
        {
          "output_type": "stream",
          "name": "stdout",
          "text": [
            "True\n",
            "False\n"
          ]
        }
      ]
    },
    {
      "cell_type": "markdown",
      "source": [
        "**Properties**\n",
        "\n",
        "Properties can also be set by defining **setter/getter** functions\n",
        "\n",
        "The **setter** function sets the corresponding property's value.\n",
        "\n",
        "The **getter** gets the value.\n",
        "\n",
        "To define a **setter**, you need to use a decorator of the same name as the property, followed by a dot and the **setter** keyword. \n",
        "\n",
        "The same applies to defining **getter** functions\n",
        "\n",
        "**Example:**\n",
        "\n",
        "> class Pizza:\n",
        "\n",
        ">> def __ init __ (self, toppings):\n",
        "\n",
        ">>> self.toppings = toppings\n",
        "\n",
        ">>> self._pineapple_allowed = False\n",
        "\n",
        ">> @property\n",
        "\n",
        ">> def pineaple_allowed(self):\n",
        "\n",
        ">>> return self._pineapple_allowed\n",
        "\n",
        ">> @pineapple_allowed.setter\n",
        "\n",
        ">> def pineapple_allowed(self, value):\n",
        "\n",
        ">>> if value:\n",
        "\n",
        ">>>> password = input(\"Enter the password: \")\n",
        "\n",
        ">>>> if password == \"Sw0rdf1sh!\":\n",
        "\n",
        ">>>>> self._pineapple_allowed = value\n",
        "\n",
        ">>>> else:\n",
        "\n",
        ">>>>> raise ValueError(\"Alert! Intruder!\")\n",
        "\n",
        "> pizza = Pizza([\"cheese\", \"tomato\"])\n",
        "\n",
        "> print(pizza.pineapple_allowed)\n",
        "\n",
        "> pizza.pineapple_allowed = True\n",
        "\n",
        "> print(pizza.pineapple_allowed)"
      ],
      "metadata": {
        "id": "yW73kAIj44PU"
      }
    },
    {
      "cell_type": "code",
      "source": [
        "class Pizza:\n",
        "  def __init__(self, toppings):\n",
        "    self.toppings = toppings\n",
        "    self._pineapple_allowed = False\n",
        "  \n",
        "  @property\n",
        "  def pineapple_allowed(self):\n",
        "    return self._pineapple_allowed\n",
        "\n",
        "  @pineapple_allowed.setter\n",
        "  def pineapple_allowed(self, value):\n",
        "    if value:\n",
        "      password = input(\"Enter the password: \")\n",
        "      if password == \"Sw0rdf1sh!\":\n",
        "        self._pineapple_allowed = value\n",
        "      else:\n",
        "        raise ValueError(\"Alert! Intruder!\")\n",
        "\n",
        "pizza = Pizza([\"cheese\", \"tomato\"])\n",
        "print(pizza.pineapple_allowed) # call method pineapple_allowed and return value False\n",
        "pizza.pineapple_allowed = True # assigned True in method pineapple_allowed and then check the condition password\n",
        "print(pizza.pineapple_allowed) # after the matched password then return new value"
      ],
      "metadata": {
        "colab": {
          "base_uri": "https://localhost:8080/"
        },
        "id": "DSXjzitm5De0",
        "outputId": "76e28730-0d30-4730-fa36-f1b1eab4607c"
      },
      "execution_count": null,
      "outputs": [
        {
          "output_type": "stream",
          "name": "stdout",
          "text": [
            "False\n",
            "Enter the password: Sw0rdf1sh!\n",
            "True\n"
          ]
        }
      ]
    },
    {
      "cell_type": "markdown",
      "source": [
        "**A Simple Game**"
      ],
      "metadata": {
        "id": "ArC-qfSR3Jqe"
      }
    },
    {
      "cell_type": "markdown",
      "source": [
        "**A Simple Game**\n",
        "\n",
        "Object-orientation is very useful when managing different objects and their relations. That is especially useful when you are developing game with different characters and features.\n",
        "\n",
        "Let's look at an example project that shows how classes are used in game development.\n",
        "\n",
        "The game to be developed is an old fashioned text-based advanture game. \n",
        "\n",
        "Below is the function handling input and simple parsing.\n",
        "\n",
        "> def get_input():\n",
        "\n",
        ">> command = input(\": \").split()\n",
        "\n",
        ">> verb_word = command[0]\n",
        "\n",
        ">> if verb_word in verb_dict:\n",
        "\n",
        ">>>  verb = verb_dict[verb_word]\n",
        "\n",
        ">> else:\n",
        "\n",
        ">>> print(\"Unknown verb {}\". format(verb_word))\n",
        "\n",
        ">>> return\n",
        "\n",
        ">> if len(command) >= 2 :\n",
        "\n",
        ">>> noun_word = command[1]\n",
        "\n",
        ">>> print(verb(noun_word))\n",
        "\n",
        ">> else:\n",
        "\n",
        ">>> print(verb(\"nothing\"))\n",
        "\n",
        "> def say(noun):\n",
        "\n",
        ">> return 'You said \"{}\"'. format(noun)\n",
        "\n",
        "> verb_dict = {\n",
        "\n",
        "> \"say\" : say,\n",
        "\n",
        "> }\n",
        "\n",
        "> while True:\n",
        "\n",
        ">> get_input()\n",
        "\n",
        "The code above takes input from the user, and tries to match the first word with a command in **verb_dict.** if a match is found, the corresponding function is called."
      ],
      "metadata": {
        "id": "JozSooSw3Vh2"
      }
    },
    {
      "cell_type": "code",
      "source": [
        "def get_input():\n",
        "  command = input(\"Input command: \").split()\n",
        "  verb_word = command[0]\n",
        "  if verb_word in verb_dict:\n",
        "    verb = verb_dict[verb_word]\n",
        "  else:\n",
        "    print(\"Unknown verb {}\". format(verb_word))\n",
        "    return\n",
        "  \n",
        "  if len(command) >= 2:\n",
        "    noun_word = command[1]\n",
        "    print(verb(noun_word))\n",
        "  else:\n",
        "    print(verb(\"nothing\"))\n",
        "\n",
        "def say(noun):\n",
        "  return 'You said \"{}\"'.format(noun)\n",
        "\n",
        "verb_dict = {\n",
        "    \"say\": say,\n",
        "}\n",
        "\n",
        "while True:\n",
        "  get_input()"
      ],
      "metadata": {
        "id": "woq4BJVxCdOK"
      },
      "execution_count": null,
      "outputs": []
    },
    {
      "cell_type": "markdown",
      "source": [
        "**A Simple Game**\n",
        "\n",
        "The next step is to use classes to represent game objects.\n",
        "\n",
        "> class GameObject:\n",
        "\n",
        ">> class_name = \"\"\n",
        "\n",
        ">> desc = \"\"\n",
        "\n",
        ">> objects = {}\n",
        "\n",
        ">> def __ init __ (self, name):\n",
        "\n",
        ">>> self.name = name\n",
        "\n",
        ">>> GameObject.objects[self.class_name] = self\n",
        "\n",
        ">> def get_desc(self):\n",
        "\n",
        ">>> return self.class_name + \"\\n\" + self.desc\n",
        "\n",
        "> class Goblin(GameObject):\n",
        "\n",
        ">> class_name = \"goblin\"\n",
        "\n",
        ">> decs = \"A foul creature\"\n",
        "\n",
        "> goblin = Goblin(\"Gobbly\")\n",
        "\n",
        "> def examine(noun):\n",
        "\n",
        ">> if noun in  GameObject.objects:\n",
        "\n",
        ">>> return GameObject.objects[noun].get_desc()\n",
        "\n",
        ">> else:\n",
        "\n",
        ">>> return \"There is no {} here. \".format(noun)\n",
        "\n",
        "\n",
        "We created a **Goblin** class, which inherits from the **GameObjects** class. We also created a new function **examine**, which returns the objects description.\n",
        "\n",
        "Now we can add a new **\"examine\"** verb to our dictionary and try it out!..\n",
        "\n",
        "> verb_dict = {\n",
        "\n",
        "> \"say\" : say, \n",
        "\n",
        "> \"examine\" : examine,\n",
        "\n",
        "> }\n",
        "\n",
        "Combine this code with the one in our previous example, and run the program.\n",
        "\n",
        "> #\n",
        "\n",
        "> #: say Hello!\n",
        "\n",
        "> #You said \"Hello!\"\n",
        "\n",
        "> #: examine goblin\n",
        "\n",
        "> #goblin\n",
        "\n",
        "> #A foul creature\n",
        "\n",
        "> #: examine elf\n",
        "\n",
        "> #There is no elf here.\n",
        "\n",
        "> #:\n",
        "\n",
        "Combine this code with the one in our previous example, and run the program."
      ],
      "metadata": {
        "id": "7bYOsaUWCFQC"
      }
    },
    {
      "cell_type": "code",
      "source": [
        "class GameObject:\n",
        "  class_name = \"\"\n",
        "  desc = \"\"\n",
        "  objects = {}\n",
        "\n",
        "  def __init__(self, name):\n",
        "    self.name = name\n",
        "    GameObject.objects[self.class_name] = self\n",
        "\n",
        "  def get_desc(self):\n",
        "    return self.class_name + \"\\n\" + self.desc\n",
        "\n",
        "\n",
        "class Goblin(GameObject):\n",
        "  class_name = \"goblin\"\n",
        "  desc = \"A foul creature\"\n",
        "\n",
        "\n",
        "goblin = Goblin(\"Gobbly\")\n",
        "\n",
        "\n",
        "def examine(noun):\n",
        "  if noun in GameObject.objects:\n",
        "    return GameObject.objects[noun].get_desc()\n",
        "  else:\n",
        "    return \"There is no {} here.\".format(noun)\n",
        "\n",
        "\n",
        "verb_dict = {\n",
        "    \"say\": say,\n",
        "    \"examine\": examine,\n",
        "}"
      ],
      "metadata": {
        "id": "6xQP074hCggY"
      },
      "execution_count": null,
      "outputs": []
    },
    {
      "cell_type": "code",
      "source": [
        "class GameObject:\n",
        "  class_name = \"\"\n",
        "  desc = \"\"\n",
        "  objects = {}\n",
        "\n",
        "  def __init__(self, name):\n",
        "    self.name = name\n",
        "    GameObject.objects[self.class_name] = self\n",
        "\n",
        "  def get_desc(self):\n",
        "    return self.class_name + \"\\n\" + self.desc\n",
        "\n",
        "\n",
        "class Goblin(GameObject):\n",
        "  class_name = \"goblin\"\n",
        "  desc = \"A foul creature\"\n",
        "\n",
        "\n",
        "goblin = Goblin(\"Gobbly\")\n",
        "\n",
        "\n",
        "def examine(noun):\n",
        "  if noun in GameObject.objects:\n",
        "    return GameObject.objects[noun].get_desc()\n",
        "  else:\n",
        "    return \"There is no {} here.\".format(noun)\n",
        "\n",
        "\n",
        "verb_dict = {\n",
        "    \"say\": say,\n",
        "    \"examine\": examine,\n",
        "}\n",
        "\n",
        "\n",
        "def get_input():\n",
        "  command = input(\": \").split()\n",
        "  verb_word = command[0]\n",
        "  if verb_word in verb_dict:\n",
        "    verb = verb_dict[verb_word]\n",
        "  else:\n",
        "    print(\"Unknown verb {}\". format(verb_word))\n",
        "    return\n",
        "  \n",
        "  if len(command) >= 2:\n",
        "    noun_word = command[1]\n",
        "    print(verb(noun_word))\n",
        "  else:\n",
        "    print(verb(\"nothing\"))\n",
        "\n",
        "\n",
        "def say(noun):\n",
        "  return 'You said \"{}\"'.format(noun)\n",
        "\n",
        "\n",
        "while True:\n",
        "  get_input()"
      ],
      "metadata": {
        "id": "DHOow2UaIm3n"
      },
      "execution_count": null,
      "outputs": []
    },
    {
      "cell_type": "markdown",
      "source": [
        "**A simple Game**\n",
        "\n",
        "This code add more detail to the **Goblin** class and allows you to **fight** goblins.\n",
        "\n",
        "> class Goblin(GameObject):\n",
        "\n",
        ">>  def __ init __ (self, name):\n",
        "\n",
        ">>> self.class_name = \"goblin\"\n",
        "\n",
        ">>> self.health = 3\n",
        "\n",
        ">>> self._desc = \"A foul crature\"\n",
        "\n",
        ">>> super().__ init __ (name)\n",
        "\n",
        ">> @property\n",
        "\n",
        ">> def desc(self):\n",
        "\n",
        ">>> if self.health >= 3\"\n",
        "\n",
        ">>>> return self._desc\n",
        "\n",
        ">>> elif self.health == 2:\n",
        "\n",
        ">>>> health_line = \"It has a wound on its knee.\"\n",
        "\n",
        ">>> elif self.health == 1:\n",
        "\n",
        ">>>> health_line = \"Its left arm has been cut off!\"\n",
        "\n",
        ">>> elif self.health <= 0:\n",
        "\n",
        ">>>> health_line = \"It is dead.\"\n",
        "\n",
        ">>> return self._desc + \"\\n\" + health_line\n",
        "\n",
        ">> @desc.setter\n",
        "\n",
        ">> def desc(self, value):\n",
        "\n",
        ">>> self._desc = value\n",
        "\n",
        "> def hit(noun):\n",
        "\n",
        ">> if noun in GameObject.objects:\n",
        "\n",
        ">>> thing = GameObject.objects[noun]\n",
        "\n",
        ">>> if type(thing) == Goblin:\n",
        "\n",
        ">>>> thing.health = thing.health -1\n",
        "\n",
        ">>>> if thing.health <= 0:\n",
        "\n",
        ">>>>> msg = \"You killed the goblin!\"\n",
        "\n",
        ">>>> else:\n",
        "\n",
        ">>>>> msg = \"You hit the {}\". format(thing.class_name)\n",
        "\n",
        ">> else:\n",
        "\n",
        ">>> msg = \"There is no {} here.\".format(noun)\n",
        "\n",
        "> return msg\n",
        "\n",
        "This was just a simple sample \n",
        "\n",
        "You could crate different classes (e.g., elves, orcs, humans), fight them, make them fight each other, and so on."
      ],
      "metadata": {
        "id": "7A8x3C_EEjdz"
      }
    },
    {
      "cell_type": "code",
      "source": [
        "class Goblin(GameObject):\n",
        "  def __init__(self, name):\n",
        "    self.class_name = \"goblin\"\n",
        "    self.health = 3\n",
        "    self._desc = \"A foul creature\"\n",
        "    super().__init__(name)\n",
        "\n",
        "  @property\n",
        "  def desc(self):\n",
        "    if self.health >= 3:\n",
        "      return self._desc\n",
        "    elif self.health == 2:\n",
        "      health_line = \"It has a wound on its knee.\"\n",
        "    elif self.health == 1:\n",
        "      health_line = \"Its left arm has been cut off!\"\n",
        "    elif self.health <= 0:\n",
        "      health_line = \"It is dead.\"\n",
        "    return self._desc + \"\\n\" + health_line\n",
        "\n",
        "  @desc.setter\n",
        "  def desc(self, value):\n",
        "    self._desc = value\n",
        "\n",
        "\n",
        "def hit(noun):\n",
        "  if noun in GameObject.objects:\n",
        "    thing = GameObject.objects[noun]\n",
        "    if type(thing) == Goblin:\n",
        "      thing.health = thing.health - 1\n",
        "      if thing.health <= 0:\n",
        "        msg = \"You killed the goblin!\"\n",
        "      else:\n",
        "        msg = \"You hit the {}\".format(thing.class_name)\n",
        "    else:\n",
        "      msg = \"There is no {} here.\".format(noun)\n",
        "    return msg"
      ],
      "metadata": {
        "id": "1Ia1kyHGEz8p"
      },
      "execution_count": null,
      "outputs": []
    },
    {
      "cell_type": "markdown",
      "source": [
        "**put code together**"
      ],
      "metadata": {
        "id": "NHFj59fDE6uD"
      }
    },
    {
      "cell_type": "code",
      "source": [
        "class GameObject:\n",
        "  class_name = \"\"\n",
        "  desc = \"\"\n",
        "  objects = {}\n",
        "\n",
        "  def __init__(self, name):\n",
        "    self.name = name\n",
        "    GameObject.objects[self.class_name] = self\n",
        "\n",
        "  def get_desc(self):\n",
        "    return self.class_name + \"\\n\" + self.desc\n",
        "\n",
        "class Goblin(GameObject):\n",
        "  def __init__(self, name):\n",
        "    self.class_name = \"goblin\"\n",
        "    self.health = 3\n",
        "    self._desc = \"A foul creature\"\n",
        "    super().__init__(name)\n",
        "\n",
        "  @property\n",
        "  def desc(self):\n",
        "    if self.health >= 3:\n",
        "      return self._desc\n",
        "    elif self.health == 2:\n",
        "      health_line = \"It has a wound on its knee.\"\n",
        "    elif self.health == 1:\n",
        "      health_line = \"Its left arm has been cut off!\"\n",
        "    elif self.health <= 0:\n",
        "      health_line = \"It is dead.\"\n",
        "    return self._desc + \"\\n\" + health_line\n",
        "  \n",
        "  @desc.setter\n",
        "  def desc(self, value):\n",
        "    self._desc = value\n",
        "\n",
        "goblin = Goblin(\"Gobbly\")\n",
        "\n",
        "def hit(noun):\n",
        "  if noun in GameObject.objects:\n",
        "    thing = GameObject.objects[noun]\n",
        "    if type(thing) == Goblin:\n",
        "      thing.health = thing.health - 1\n",
        "      if thing.health <= 0:\n",
        "        msg = \"You killed the goblin!\"\n",
        "      else:\n",
        "        msg = \"You hit the {}\".format(thing.class_name)\n",
        "  else:\n",
        "    msg = \"There is no {} here.\".format(noun)\n",
        "  return msg\n",
        "  \n",
        "  \n",
        "def examine(noun):\n",
        "  if noun in GameObject.objects:\n",
        "    return GameObject.objects[noun].get_desc()\n",
        "  else:\n",
        "    return \"There is no {} here.\".format(noun)\n",
        " \n",
        "\n",
        "def get_input():\n",
        "  command = input(\": \").split()\n",
        "  verb_word = command[0]\n",
        "  if verb_word in verb_dict:\n",
        "    verb = verb_dict[verb_word]\n",
        "  else:\n",
        "    print(\"Unknown verb {}\".format(verb_word))\n",
        "    return\n",
        "  \n",
        "  if len(command) >= 2:\n",
        "    noun_word = command[1]\n",
        "    print(verb(noun_word))\n",
        "  else:\n",
        "    print(verb(\"nothing\"))\n",
        "\n",
        "def say(noun):\n",
        "  return 'You said \"{}\"'.format(noun)\n",
        "\n",
        "\n",
        "verb_dict = {\n",
        "    \"say\": say,\n",
        "    \"examine\": examine,\n",
        "    \"hit\": hit,\n",
        "}    \n",
        "\n",
        "while True:\n",
        "  get_input()"
      ],
      "metadata": {
        "id": "P_GXMuJ_GBNB"
      },
      "execution_count": null,
      "outputs": []
    },
    {
      "cell_type": "markdown",
      "source": [
        "#<center><b>9. Regular Expression</b></center>"
      ],
      "metadata": {
        "id": "HqKKPvBhbwGi"
      }
    },
    {
      "cell_type": "markdown",
      "source": [
        "**Regular Expressions**\n",
        "\n",
        "**Regular expressions** are a powerful tool for various kinds of string manipulation.\n",
        "\n",
        "They are a **domain specific language**(DSL) that is present as a library **in most modern programming languages**, not just Python \n",
        "\n",
        "They are useful for two main tasks:\n",
        "\n",
        "- verifying the strings match a **pattern** (for instance, that a string has the format of an email address), \n",
        "\n",
        "- performing substitutions in a string (such as changing all American spellings to British ones).\n",
        "\n",
        "Domain specific languages are highly specialized mini programming languages.\n",
        "\n",
        "Regualar expressions are a popular example, and SQL (for database manipulation) is another.\n",
        "\n",
        "Private **domain-specific languages** are often **used for specific industrial purposes**."
      ],
      "metadata": {
        "id": "9UmhXhZZSU88"
      }
    },
    {
      "cell_type": "markdown",
      "source": [
        "**Regular Expressions**\n",
        "\n",
        "Regular expressions in Python can be accessed using the **re** module, which is part of the standard library.\n",
        "\n",
        "After you've defined a regular expression, the **re.match** fucntion can be used to determine whether it matches at the **beginning** of a string.\n",
        "\n",
        "If it does, **match** returns an object representing the match, if not, it returns **None**\n",
        "\n",
        "To avoid any confusion while working with regular expressions, we would use raw strings as **r\"expression\".**\n",
        "\n",
        "Raw strings don't escape anything, which makes use of regular expressions.\n",
        "\n",
        "**Example**\n",
        "\n",
        "> import re\n",
        "\n",
        "> pattern = r\"spam\"\n",
        "\n",
        "> if re.match(pattern, \"spamspamspam\"):\n",
        "\n",
        ">> print(\"Match\")\n",
        "\n",
        "> else:\n",
        "\n",
        ">> print(\"No match\")\n",
        "\n",
        "\n",
        "The above example checks if the pattern \"spam\" matches the string and prints \"Match if it does.\n",
        "\n",
        "Here the pattern is a simple word, but there are various characters, which would have special meaning when they are used in a regular expression."
      ],
      "metadata": {
        "id": "78MGXTf1TRHc"
      }
    },
    {
      "cell_type": "code",
      "source": [
        "import re\n",
        "\n",
        "pattern = r\"spam\"\n",
        "\n",
        "if re.match(pattern, \"spamspamspam\"):\n",
        "  print(\"Match\")\n",
        "else:\n",
        "  print(\"No match\")"
      ],
      "metadata": {
        "colab": {
          "base_uri": "https://localhost:8080/"
        },
        "id": "I2RSOoL_TTym",
        "outputId": "6016a225-96e1-4db4-ee8e-dd32dc25285b"
      },
      "execution_count": null,
      "outputs": [
        {
          "output_type": "stream",
          "name": "stdout",
          "text": [
            "Match\n"
          ]
        }
      ]
    },
    {
      "cell_type": "code",
      "source": [
        "import re\n",
        "\n",
        "pattern = r\"spam\"\n",
        "\n",
        "if re.match(pattern, \"eggspam\"):\n",
        "  print(\"Match\")\n",
        "else:\n",
        "  print(\"No match\")"
      ],
      "metadata": {
        "colab": {
          "base_uri": "https://localhost:8080/"
        },
        "id": "9dkL-IKaovN-",
        "outputId": "8eb0ba38-d40f-4735-bdac-2b5ee186f214"
      },
      "execution_count": null,
      "outputs": [
        {
          "output_type": "stream",
          "name": "stdout",
          "text": [
            "No match\n"
          ]
        }
      ]
    },
    {
      "cell_type": "markdown",
      "source": [
        "**Regular Expressions**\n",
        "\n",
        "Other functions to match patterns are **re.search** and **re.findall.**\n",
        "\n",
        "The function **re.search** finds a match of a pattern **anywhere in the string**.\n",
        "\n",
        "The function **re.findall** returns a list of all **substrings that match** a pattern.\n",
        "\n",
        "**Example:**\n",
        "\n",
        "> import re\n",
        "\n",
        "> pattern = r\"spam\"\n",
        "\n",
        "> #match\n",
        "\n",
        "> if re.match(pattern, \"eggspamsausagespam\"):\n",
        "\n",
        ">> print(\"Match\")\n",
        "\n",
        "> else:\n",
        "\n",
        ">> print(\"No match\")\n",
        "\n",
        "> #search\n",
        "\n",
        "> if re.search(pattern, \"eggspamsausagespam\"):\n",
        "\n",
        ">> print(\"Match\")\n",
        "\n",
        "> else:\n",
        "\n",
        ">> print(\"No match\")\n",
        "\n",
        "> #findall\n",
        "\n",
        "> print(re.findall(pattern, \"eggspamsausagespam\"))\n",
        "\n",
        "In the example above, the **match** function **did not match the pattern**, as it looks at the **beginning of the string**.\n",
        "\n",
        "The **search** function found a **match** in the string.\n",
        "\n",
        "The function **re.finditer** does the same thing as **re.findall**, except it **returns as iterator**, rather than a list."
      ],
      "metadata": {
        "id": "JkBIPuftYdkb"
      }
    },
    {
      "cell_type": "code",
      "source": [
        "import re\n",
        "\n",
        "pattern = r\"spam\"\n",
        "\n",
        "if re.match(pattern, \"eggspamsausagespam\"):\n",
        "  print(\"Match\")\n",
        "else:\n",
        "  print(\"No match\")\n",
        "\n",
        "if re.search(pattern, \"eggspamsausagespam\"):\n",
        "  print(\"Match\")\n",
        "else:\n",
        "  print(\"No match\")\n",
        "\n",
        "print(re.findall(pattern, \"eggspamsausagespam\"))"
      ],
      "metadata": {
        "colab": {
          "base_uri": "https://localhost:8080/"
        },
        "id": "siGXyRl8YggE",
        "outputId": "e34909d0-7ba1-41ef-9678-84786e7e1a67"
      },
      "execution_count": null,
      "outputs": [
        {
          "output_type": "stream",
          "name": "stdout",
          "text": [
            "No match\n",
            "Match\n",
            "['spam', 'spam']\n"
          ]
        }
      ]
    },
    {
      "cell_type": "code",
      "source": [
        "import re\n",
        "\n",
        "forma = r\"trabajar\"\n",
        "\n",
        "diario = 'Jaime se despierta a las 7.30. se ducha, se lava el pelo y se afeita antes de irse a trabajar'\n",
        "\n",
        "if re.search(forma, diario):\n",
        "  print(\"Se va a trabajar\")\n",
        "else:\n",
        "  print(\"Se queda en casa \")"
      ],
      "metadata": {
        "colab": {
          "base_uri": "https://localhost:8080/"
        },
        "id": "5OsI-f2QThPc",
        "outputId": "9be8ce0b-e252-4f0d-ea01-974d57f2ad7b"
      },
      "execution_count": null,
      "outputs": [
        {
          "output_type": "stream",
          "name": "stdout",
          "text": [
            "Se va a trabajar\n"
          ]
        }
      ]
    },
    {
      "cell_type": "markdown",
      "source": [
        "**Regular Expressions**\n",
        "\n",
        "The regex search returns an object with several methods that give details about it.\n",
        "\n",
        "These methods include: \n",
        "- **group** which returns the **string** matched, \n",
        "- **start** and **end** which return the start and ending **positions** of the first match, and \n",
        "- **span** which returns the start and end **positions** of the first match as a tuple.\n",
        "\n",
        "**Example:**\n",
        "\n",
        "> import re\n",
        "\n",
        "> pattern = r\"pam\"\n",
        "\n",
        "> match = re.search(pattern, \"eggspamsausage\")\n",
        "\n",
        "> if match:\n",
        "\n",
        ">> print(match.group())\n",
        "\n",
        ">> print(match.strart())\n",
        "\n",
        ">> print(match.end())\n",
        "\n",
        ">> print(match.span())"
      ],
      "metadata": {
        "id": "7i6z8Km0ZSQT"
      }
    },
    {
      "cell_type": "code",
      "source": [
        "import re\n",
        "\n",
        "pattern = r\"pam\"\n",
        "\n",
        "match = re.search(pattern, \"eggspamsausage\")\n",
        "\n",
        "if match:\n",
        "  print(match.group())\n",
        "  print(match.start())\n",
        "  print(match.end())\n",
        "  print(match.span())"
      ],
      "metadata": {
        "colab": {
          "base_uri": "https://localhost:8080/"
        },
        "id": "YuRFLP1jZVEj",
        "outputId": "49a4c311-afa4-4e20-eb61-0f9bc9b3aa94"
      },
      "execution_count": null,
      "outputs": [
        {
          "output_type": "stream",
          "name": "stdout",
          "text": [
            "pam\n",
            "4\n",
            "7\n",
            "(4, 7)\n"
          ]
        }
      ]
    },
    {
      "cell_type": "code",
      "source": [
        "import re\n",
        "\n",
        "pattern = r\"test\"\n",
        "\n",
        "match = re.search(pattern, \"some test\")\n",
        "\n",
        "print(match.start())\n",
        "print(match.end())"
      ],
      "metadata": {
        "colab": {
          "base_uri": "https://localhost:8080/"
        },
        "id": "2Qt4OlGsZgtT",
        "outputId": "9f47db43-893f-4ca9-8a3e-1580927866e1"
      },
      "execution_count": null,
      "outputs": [
        {
          "output_type": "stream",
          "name": "stdout",
          "text": [
            "5\n",
            "9\n"
          ]
        }
      ]
    },
    {
      "cell_type": "code",
      "source": [
        "import re\n",
        "\n",
        "forma1 = r\"pule\"\n",
        "forma2 = r\"maquilla\"\n",
        "\n",
        "\n",
        "diario = 'Camila se despierta a las 6.00. se baña, se pule las uñas, se maquilla y se pone perfume'\n",
        "\n",
        "\n",
        "match1 = re.search(forma1, diario)  \n",
        "match2 = re.search(forma2, diario)\n",
        "\n",
        "\n",
        "if match1.start() < match2.start():\n",
        "  print('se maquilla después de pulirse las uñas')\n",
        "else:\n",
        "  print('se pule las uñas después de maquillarse')\n"
      ],
      "metadata": {
        "colab": {
          "base_uri": "https://localhost:8080/"
        },
        "id": "Vh64OsAzZjJi",
        "outputId": "62766fab-3e40-4d47-a36f-583420cfa66f"
      },
      "execution_count": null,
      "outputs": [
        {
          "output_type": "stream",
          "name": "stdout",
          "text": [
            "se maquilla después de pulirse las uñas\n"
          ]
        }
      ]
    },
    {
      "cell_type": "markdown",
      "source": [
        "**Search & Replace**\n",
        "\n",
        "One of the most important **re** methods that use regular expressions is **sub**.\n",
        "\n",
        "**Syntax:**\n",
        "\n",
        "> re.sub(pattern, repl, string, count=0)\n",
        "\n",
        "This method replaces all occurrences of the **pattern** in string with **repl**, substituting all occurrences, unless **count** provided. This method returns the modified string.\n",
        "\n",
        "**Example:**\n",
        "\n",
        "> import re\n",
        "\n",
        "> str = \"My name is David. Hi David.\"\n",
        "\n",
        "> pattern = r\"David\"\n",
        "\n",
        "> newstr = re.sub(pattern, \"Amy\", str)\n",
        "\n",
        "> print(newstr)"
      ],
      "metadata": {
        "id": "gDDFK9PhhlEL"
      }
    },
    {
      "cell_type": "code",
      "source": [
        "import re\n",
        "\n",
        "str = \"My name is David. Hi David.\"\n",
        "pattern = r\"David\"\n",
        "newstr = re.sub(pattern, \"Amy\", str)\n",
        "\n",
        "print(newstr)"
      ],
      "metadata": {
        "colab": {
          "base_uri": "https://localhost:8080/"
        },
        "id": "kheOlZxahkSL",
        "outputId": "54888f97-2a3a-41d8-fab0-afad1f6b2728"
      },
      "execution_count": null,
      "outputs": [
        {
          "output_type": "stream",
          "name": "stdout",
          "text": [
            "My name is Amy. Hi Amy.\n"
          ]
        }
      ]
    },
    {
      "cell_type": "code",
      "source": [
        "import re\n",
        "\n",
        "loco_num = \"01023456789\"\n",
        "pattern = r\"0\"\n",
        "\n",
        "inter_num = re.sub(pattern, \"+34\", loco_num, 1)\n",
        "\n",
        "print(inter_num)"
      ],
      "metadata": {
        "colab": {
          "base_uri": "https://localhost:8080/"
        },
        "id": "Tg0VAZUKhuhz",
        "outputId": "4b2d0bc0-bb68-4c97-a18d-9764c52b9cd8"
      },
      "execution_count": null,
      "outputs": [
        {
          "output_type": "stream",
          "name": "stdout",
          "text": [
            "+341023456789\n"
          ]
        }
      ]
    },
    {
      "cell_type": "code",
      "source": [
        "import re\n",
        "\n",
        "str = \"There are many cats in Patty house, a cat is in the hat and there is another cat on the mat but the other fat cat is catching the rat,  How many cat are there? \"\n",
        "\n",
        "pattern = r\"cat\"\n",
        "\n",
        "newstr = re.sub(pattern, \"dog\", str, 4 )\n",
        "\n",
        "print(newstr)\n",
        "\n",
        "\n",
        "num = input(\"number: \")\n",
        "\n",
        "if num == 0:\n",
        "  print(\"correct\")\n",
        "else:\n",
        "  print(\"wrong\")"
      ],
      "metadata": {
        "colab": {
          "base_uri": "https://localhost:8080/"
        },
        "id": "bTkbMrJNh6RS",
        "outputId": "ae281df8-416e-4888-dbb4-fdfb72f8f646"
      },
      "execution_count": null,
      "outputs": [
        {
          "output_type": "stream",
          "name": "stdout",
          "text": [
            "There are many dogs in Patty house, a dog is in the hat and there is another dog on the mat but the other fat dog is catching the rat,  How many cat are there? \n",
            "number: 3\n",
            "wrong\n"
          ]
        }
      ]
    },
    {
      "cell_type": "markdown",
      "source": [
        "**Metacharacters**\n",
        "\n",
        "**Metacharacters** are what make regular expressions more powerful than normal string methods.\n",
        "\n",
        "They allow you to create regular expressions to represent concepts like \"one or more repetitions of a vowel\".\n",
        "\n",
        "The existence of metacharacters poses a problem if you want to create a  regular expression (or **regex**) that matches a literal metacharacter, such as \"$\".\n",
        "\n",
        "You can do this by escaping the metacharacters by putting a **backslash** in front of them.\n",
        "\n",
        "However, this can cause problems, since backslashes also have an escaping function in normal Python strings. This can mean putting three of four backslashes in a row to do all the escaping.\n",
        "\n",
        "To avoid this, you can use a raw string, which is a normal string with an **\"r\"** in front of it. "
      ],
      "metadata": {
        "id": "E9dHMSpSr40R"
      }
    },
    {
      "cell_type": "code",
      "source": [
        "str = r\"I am \\r\\a\\w!\""
      ],
      "metadata": {
        "id": "1Tr8BP_Mr6jI"
      },
      "execution_count": null,
      "outputs": []
    },
    {
      "cell_type": "markdown",
      "source": [
        "**Metacharacters**\n",
        "\n",
        "The first metacharacter we will look as is **.** (dot).\n",
        "\n",
        "This matches **any character**, other than a new line.\n",
        "\n",
        "**Example:**\n",
        "\n",
        "> import re\n",
        "\n",
        "> pattern = r\"gr.y\"\n",
        "\n",
        "> if re.match(pattern, \"grey\"):\n",
        "\n",
        ">> print(\"Match 1\")\n",
        "\n",
        "> if re.match(pattern, \"gray\"):\n",
        "\n",
        ">> print(\"Match 2\")\n",
        "\n",
        "> if re.match(pattern, \"blue\"):\n",
        "\n",
        ">> print(\"Match 3\")"
      ],
      "metadata": {
        "id": "nRTdm41DsFfY"
      }
    },
    {
      "cell_type": "code",
      "source": [
        "import re\n",
        "\n",
        "pattern = r\"gr.y\" # . any character\n",
        "\n",
        "if re.match(pattern, \"grey\"):\n",
        "  print(\"Match 1\")\n",
        "\n",
        "if re.match(pattern, \"gray\"):\n",
        "  print(\"Match 2\")\n",
        "\n",
        "if re.match(pattern, \"blue\"):\n",
        "  print(\"Match 3\")\n",
        "\n",
        "if re.match(pattern, \"gry\"):\n",
        "  print(\"Match 4\")"
      ],
      "metadata": {
        "colab": {
          "base_uri": "https://localhost:8080/"
        },
        "id": "RGMxdMM4sHcj",
        "outputId": "c6c59647-8777-4975-9bae-7758b09b2620"
      },
      "execution_count": null,
      "outputs": [
        {
          "output_type": "stream",
          "name": "stdout",
          "text": [
            "Match 1\n",
            "Match 2\n"
          ]
        }
      ]
    },
    {
      "cell_type": "markdown",
      "source": [
        "**Metacharacters**\n",
        "\n",
        "the next two metacharacters are ^ and \\$.\n",
        "\n",
        "These match the **start** and **end** of a string, respectively.\n",
        "\n",
        "**Example:**\n",
        "\n",
        "> import re\n",
        "\n",
        "> pattern = r\"^gr.y$\"\n",
        "\n",
        "> if re.match(pattern, \"grey\"):\n",
        "\n",
        ">> print(\"Match 1\")\n",
        "\n",
        "> if re.match(pattern, \"gray\"):\n",
        "\n",
        ">> print(\"Match 2\")\n",
        "\n",
        "> if re.match(pattern, \"stingray\"):\n",
        "\n",
        ">> print(\"Match 3\")\n",
        "\n",
        "The pattern \"^gr.y\\$\" means that the string should **start with gr**, then follow with any character, except a newline, and **end with** y."
      ],
      "metadata": {
        "id": "rIpu9ybMsRxQ"
      }
    },
    {
      "cell_type": "code",
      "source": [
        "import re\n",
        "\n",
        "pattern = r\"^gr.y$\"\n",
        "\n",
        "if re.match(pattern, \"grey\"):\n",
        "  print(\"Match 1\")\n",
        "\n",
        "if re.match(pattern, \"gray\"):\n",
        "  print(\"Match 2\")\n",
        "\n",
        "if re.match(pattern, \"stingray\"):\n",
        "  print(\"Match 3\")"
      ],
      "metadata": {
        "colab": {
          "base_uri": "https://localhost:8080/"
        },
        "id": "t9elYC0rsWgY",
        "outputId": "49e52ac9-bb6d-403c-ac43-e82665a1dbc1"
      },
      "execution_count": null,
      "outputs": [
        {
          "output_type": "stream",
          "name": "stdout",
          "text": [
            "Match 1\n",
            "Match 2\n"
          ]
        }
      ]
    },
    {
      "cell_type": "code",
      "source": [
        "import re\n",
        "\n",
        "pattern = r\"^s...r$\"\n",
        "\n",
        "if re.match(pattern, \"salire\"): # scendere get off, salire get on \n",
        "  print(\"it can be italian\")\n",
        "\n",
        "if re.match(pattern, 'salir'): # salir get off, subir get on\n",
        "  print(\"it can be spanish\")\n",
        "\n",
        "if re.match(pattern, 'aufsteigen'): # aussteigen get off, aufsteigen get on \n",
        "  print(\"it can be german\")"
      ],
      "metadata": {
        "colab": {
          "base_uri": "https://localhost:8080/"
        },
        "id": "Bzdhbn1estZ_",
        "outputId": "c3f13596-a296-4eb5-bf59-34efc72ca6de"
      },
      "execution_count": null,
      "outputs": [
        {
          "output_type": "stream",
          "name": "stdout",
          "text": [
            "it can be spanish\n"
          ]
        }
      ]
    },
    {
      "cell_type": "markdown",
      "source": [
        "**Character Classes**\n",
        "\n",
        "**Character classes** provide a way to **match only one of a specific set** of characters.\n",
        "\n",
        "A character class is created by putting the characters it matches inside **square backets.**\n",
        "\n",
        "**Example:**\n",
        "\n",
        "> import re\n",
        "\n",
        "> pattern = r\"[aeiou]\"\n",
        "\n",
        "> if re.search(pattern, \"gray\"):\n",
        "\n",
        ">> print(\"Match 1\")\n",
        "\n",
        "> if re.search(pattern, \"qwertyuiop\"):\n",
        "\n",
        ">> print(\"Match 2\")\n",
        "\n",
        "> if re.search(pattern, \"rhythm myths\"):\n",
        "\n",
        ">> pritn(\"Match 3\")\n",
        "\n",
        "The pattern **[aeiou]** in the **search**  fucntion matches **all strings that contain any one of the characters** defined."
      ],
      "metadata": {
        "id": "t0iYp7losaao"
      }
    },
    {
      "cell_type": "code",
      "source": [
        "import re\n",
        "\n",
        "pattern = r\"[aeiou]\"\n",
        "\n",
        "if re.search(pattern, \"gray\"):\n",
        "  print(\"Match 1\")\n",
        "\n",
        "if re.search(pattern, \"qwertyuiop\"):\n",
        "  print(\"Match 2\")\n",
        "\n",
        "if re.search(pattern, \"rhythm myths\"):\n",
        "  print(\"Match 3\")\n",
        "  "
      ],
      "metadata": {
        "colab": {
          "base_uri": "https://localhost:8080/"
        },
        "id": "qbQ0k5CdsqZh",
        "outputId": "5bce4af8-273b-420c-d916-2436a91225df"
      },
      "execution_count": null,
      "outputs": [
        {
          "output_type": "stream",
          "name": "stdout",
          "text": [
            "Match 1\n",
            "Match 2\n"
          ]
        }
      ]
    },
    {
      "cell_type": "code",
      "source": [
        "import re\n",
        "\n",
        "pattern = r\"^bl[au]\"\n",
        "\n",
        "\n",
        "if re.search(pattern, \"blu\"):\n",
        "  print(\"italiano\")\n",
        "\n",
        "if re.search(pattern, 'azul'):\n",
        "  print(\"español\")    \n",
        "\n",
        "if re.search(pattern, \"blau\"):\n",
        "  print(\"Deutsch\")\n",
        "  \n",
        "if re.search(pattern, 'blauw'):\n",
        "  print(\"Nederlands\")  \n",
        "\n",
        "if re.search(pattern, 'blå'):\n",
        "  print(\"svenska\")"
      ],
      "metadata": {
        "colab": {
          "base_uri": "https://localhost:8080/"
        },
        "id": "Fs2JkijMxJkp",
        "outputId": "ffa1835f-79f5-48ca-aaca-fb436cb95277"
      },
      "execution_count": null,
      "outputs": [
        {
          "output_type": "stream",
          "name": "stdout",
          "text": [
            "italiano\n",
            "Deutsch\n",
            "Nederlands\n"
          ]
        }
      ]
    },
    {
      "cell_type": "markdown",
      "source": [
        "**Character Classes**\n",
        "\n",
        "Character classes can also match **ranges of characters** [x-y] from lower case x to lower case y.\n",
        "\n",
        "Some examples:\n",
        "\n",
        "The class [a-z] matches any lowercase alphabetic character.\n",
        "\n",
        "The class [G-P] matches any uppercase character from G to P.\n",
        "\n",
        "The class [0-9] matches any digit.\n",
        "\n",
        "Multiple ranges can be included in one class. For example, [A-Za-z] matches a letter of any case.\n",
        "\n",
        "**Example:**\n",
        "\n",
        "> import re\n",
        "\n",
        "> pattern = r\"[A-Z][A-Z][0-9]\"\n",
        "\n",
        "> if re.search(pattern, \"LS8\"):\n",
        "\n",
        ">> print(\"Match 1\")\n",
        "\n",
        "> if re.search(pattern, \"E3\"):\n",
        "\n",
        ">> print(\"Match 2\")\n",
        "\n",
        "> if re.search(pattern, \"1ab\"):\n",
        "\n",
        ">> print(\"Match 3\")\n",
        "\n",
        "The pattern in the example above matches strings that contain two alphabetic uppercase letters followed by a digit."
      ],
      "metadata": {
        "id": "g4Akcd6tzGeh"
      }
    },
    {
      "cell_type": "code",
      "source": [
        "import re\n",
        "\n",
        "pattern = r\"[A-Z][A-Z][0-9]\"\n",
        "\n",
        "if re.search(pattern, \"LS8\"):\n",
        "  print(\"Match 1\")\n",
        "if re.search(pattern, \"E3\"):\n",
        "  print(\"Match 2\")\n",
        "if re.search(pattern, \"1ab\"):\n",
        "  print(\"Match 3\")"
      ],
      "metadata": {
        "colab": {
          "base_uri": "https://localhost:8080/"
        },
        "id": "vUtyqfthzIPQ",
        "outputId": "b498f552-a239-44e7-9d3e-633fbc1b2739"
      },
      "execution_count": null,
      "outputs": [
        {
          "output_type": "stream",
          "name": "stdout",
          "text": [
            "Match 1\n"
          ]
        }
      ]
    },
    {
      "cell_type": "markdown",
      "source": [
        "**Character Classes**\n",
        "\n",
        "Place a ^ at the **start of a character class** to **invert** it\n",
        "\n",
        "This causes it to match any character other than the ones included. \n",
        "\n",
        "Other metacharacters such as \\$ and ., have no meaning within character classes.\n",
        "\n",
        "The metacharacter ^ has no meaning unless it is the first character in a class.\n",
        "\n",
        "\n",
        "**Example:**\n",
        "\n",
        "> import re\n",
        "\n",
        "> pattern = r\"[^A-Z]\"\n",
        "\n",
        "> if re.search(pattern, \"This is all quiet\"):\n",
        "\n",
        ">> print(\"Match 1\")\n",
        "\n",
        "> if re.search(pattern, \"AbCdEfG123\"):\n",
        "\n",
        ">> print(\"Match 2\")\n",
        "\n",
        "> if re.search(pattern, \"THISISALLSHOUTING\"):\n",
        "\n",
        ">> print(\"Match 3\")\n",
        "\n",
        "The pattern [^A-Z] excludes upppercase strings.\n",
        "\n",
        "Note, that the ^ should be inside the brackets to invert the character class."
      ],
      "metadata": {
        "id": "jfS8IiYUzMO4"
      }
    },
    {
      "cell_type": "code",
      "source": [
        "import re\n",
        "\n",
        "pattern = r\"[^A-Z]\" # any thing except uppercase\n",
        "\n",
        "if re.search(pattern, \"This is all quiet\"):\n",
        "  print(\"Match 1\")\n",
        "\n",
        "if re.search(pattern, \"AbCdEfG123\"):\n",
        "  print(\"Match 2\")\n",
        "\n",
        "if re.search(pattern, \"THISISALLSHOUTING\"):\n",
        "  print(\"Match 3\")\n",
        "\n",
        "if re.search(pattern, \"012345678\"):\n",
        "  print(\"Match 4\")  \n",
        "\n",
        "if re.search(pattern, \"      \"):\n",
        "  print(\"Match 5\")  "
      ],
      "metadata": {
        "colab": {
          "base_uri": "https://localhost:8080/"
        },
        "id": "bAKPrRFPziLI",
        "outputId": "8ebbc941-08b6-460e-e4b4-765dcea359c1"
      },
      "execution_count": null,
      "outputs": [
        {
          "output_type": "stream",
          "name": "stdout",
          "text": [
            "Match 1\n",
            "Match 2\n",
            "Match 4\n",
            "Match 5\n"
          ]
        }
      ]
    },
    {
      "cell_type": "code",
      "source": [
        "import re\n",
        "\n",
        "pattern = r\"[^0-9]\"\n",
        "\n",
        "m = re.search(pattern, \"Hi there!\")\n",
        "\n",
        "print(bool(m))"
      ],
      "metadata": {
        "colab": {
          "base_uri": "https://localhost:8080/"
        },
        "id": "TAKAK27E1iln",
        "outputId": "6c0ab7be-8068-4c1f-f949-eeec0deae653"
      },
      "execution_count": null,
      "outputs": [
        {
          "output_type": "stream",
          "name": "stdout",
          "text": [
            "True\n"
          ]
        }
      ]
    },
    {
      "cell_type": "code",
      "source": [
        "import re\n",
        "\n",
        "pattern = r\"^[^b-x][5-9]\" # all whitespace, uppercase and digit allowed, only \"a\" lowercase allowed\n",
        "                          # start with not lowercase from b to x\n",
        "\n",
        "if re.search(pattern, 'a9'):\n",
        "  print(\"Match 1\")\n",
        "\n",
        "if re.search(pattern, 'b9'):\n",
        "  print(\"Match 2\")  \n",
        "\n",
        "if re.search(pattern, 'A9'):\n",
        "  print(\"Match 3\")  \n",
        "\n",
        "if re.search(pattern, 'B9'):\n",
        "  print(\"Match 4\")\n",
        "\n",
        "if re.search(pattern, '99'):\n",
        "  print(\"Match 5\")\n",
        "\n",
        "if re.search(pattern, ' 9'):\n",
        "  print(\"Match 6\")  "
      ],
      "metadata": {
        "colab": {
          "base_uri": "https://localhost:8080/"
        },
        "id": "jx_wc0EWzz6I",
        "outputId": "5568d725-a019-4f6c-f763-fd0673865482"
      },
      "execution_count": null,
      "outputs": [
        {
          "output_type": "stream",
          "name": "stdout",
          "text": [
            "Match 1\n",
            "Match 3\n",
            "Match 4\n",
            "Match 5\n",
            "Match 6\n"
          ]
        }
      ]
    },
    {
      "cell_type": "markdown",
      "source": [
        "**Metacharacters**\n",
        "\n",
        "Some more metacharacters are * + ? { and }.\n",
        "\n",
        "These specify numbers of repetitions.\n",
        "\n",
        "The metacharacter \\* means \"**zero** or **more repetitions of the previous thing**\". it tries to match as many repetitions as possible. The \"previous thing\" can be a **single character**, a **class**, or a **group of characters in parentheses**.\n",
        "\n",
        "**Example:**\n",
        "\n",
        "> import re\n",
        "\n",
        "> pattern = r\"egg(spam)*\"\n",
        "\n",
        "> if re.match(pattern, \"egg\"):\n",
        "\n",
        ">> print(\"Match 1\")\n",
        "\n",
        "> if re.match(pattern, \"eggspamspamegg\"):\n",
        "\n",
        ">> print(\"Match 2\")\n",
        "\n",
        "> if re.match(pattern, \"spam\"):\n",
        "\n",
        ">> print(\"Match 3\")\n",
        "\n",
        "The example above matchses strings that start with \"egg\" and follow with zero or more \"spam\"s."
      ],
      "metadata": {
        "id": "RSMHYuHrlYXp"
      }
    },
    {
      "cell_type": "code",
      "source": [
        "import re\n",
        "\n",
        "pattern = r\"egg(spam)*\" # match zero or more\n",
        "\n",
        "if re.match(pattern, \"egg\"):\n",
        "  print(\"Match 1\")\n",
        "\n",
        "if re.match(pattern, \"eggspamspamegg\"):\n",
        "  print(\"Match 2\")\n",
        "\n",
        "if re.match(pattern, \"spam\"):\n",
        "  print(\"Match 3\")"
      ],
      "metadata": {
        "colab": {
          "base_uri": "https://localhost:8080/"
        },
        "id": "JOc2jp8hm3_9",
        "outputId": "14261a08-7289-4e43-a7f0-2165fdffe175"
      },
      "execution_count": null,
      "outputs": [
        {
          "output_type": "stream",
          "name": "stdout",
          "text": [
            "Match 1\n",
            "Match 2\n"
          ]
        }
      ]
    },
    {
      "cell_type": "markdown",
      "source": [
        "**Metacharacters**\n",
        "\n",
        "The metacharacter + is very similar to \\*, except it means **\"one\"** or **more repetitions**\", as opposed to \"zero or more repetitons\".\n",
        "\n",
        "**Example:**\n",
        "\n",
        "> import re\n",
        "\n",
        "> pattern = r\"g+\"\n",
        "\n",
        "> if re.match(pattern, \"g\"):\n",
        "\n",
        ">> print(\"Match 1\")\n",
        "\n",
        "> if re.match(pattern, \"ggggggggggg\"):\n",
        "\n",
        ">> print(\"Match 2\")\n",
        "\n",
        "> if re.match(pattern, \"abc\"):\n",
        "\n",
        ">> print(\"Match 3\")\n",
        "\n",
        "To summarize: \n",
        "\n",
        "\\* matches **0** or **more** occurrences of the preceding expression.\n",
        "\n",
        "\\+ matchs **1** or **more** occurrences of the preceding expression."
      ],
      "metadata": {
        "id": "71OHkirxnHxt"
      }
    },
    {
      "cell_type": "code",
      "source": [
        "import re\n",
        "\n",
        "pattern = r\"g+\" # at least one\n",
        "\n",
        "if re.match(pattern, \"g\"):\n",
        "  print(\"Match 1\")\n",
        "\n",
        "if re.match(pattern, \"gggggggggggg\"):\n",
        "  print(\"Match 2\")\n",
        "\n",
        "if re.match(pattern, \"abc\"):\n",
        "  print(\"Match 3\")"
      ],
      "metadata": {
        "colab": {
          "base_uri": "https://localhost:8080/"
        },
        "id": "tysqbYgxnLw0",
        "outputId": "44f31993-fd0b-4d7c-e161-c94bbb7417ef"
      },
      "execution_count": null,
      "outputs": [
        {
          "output_type": "stream",
          "name": "stdout",
          "text": [
            "Match 1\n",
            "Match 2\n"
          ]
        }
      ]
    },
    {
      "cell_type": "markdown",
      "source": [
        "**Metacharacters**\n",
        "\n",
        "The metacharacter ? means \"**zero** or **one** repetitions\".\n",
        "\n",
        "**Example:**\n",
        "\n",
        "> import re\n",
        "\n",
        "> pattern = r\"ice(-)?cream\"\n",
        "\n",
        "> if re.match(pattern, \"ice-cream\"):\n",
        "\n",
        ">> print(\"Match 1\")\n",
        "\n",
        "> if re.match(pattern, \"icecream\"):\n",
        "\n",
        ">> print(\"Match 2\")\n",
        "\n",
        "> if re.match(pattern, \"sausages\"):\n",
        "\n",
        ">> print(\"Match 3\")\n",
        "\n",
        "> if re.match(pattern, \"ice--ice\"):\n",
        "\n",
        ">> print(\"Match 4\")"
      ],
      "metadata": {
        "id": "crhdxXQMnTvG"
      }
    },
    {
      "cell_type": "code",
      "source": [
        "import re\n",
        "\n",
        "pattern = r\"ice(-)?cream\" # one or none\n",
        "\n",
        "if re.match(pattern, \"ice-cream\"):\n",
        "  print(\"Match 1\")\n",
        "\n",
        "if re.match(pattern, \"icecream\"):\n",
        "  print(\"Match 2\")\n",
        "\n",
        "if re.match(pattern, \"sausages\"):\n",
        "  print(\"Match 3\")\n",
        "\n",
        "if re.match(pattern, \"ice--ice\"):\n",
        "  print(\"Match 4\")"
      ],
      "metadata": {
        "colab": {
          "base_uri": "https://localhost:8080/"
        },
        "id": "XxpEncI_ng3E",
        "outputId": "ca506c3b-16ca-4631-dcab-06b9c8dc2577"
      },
      "execution_count": null,
      "outputs": [
        {
          "output_type": "stream",
          "name": "stdout",
          "text": [
            "Match 1\n",
            "Match 2\n"
          ]
        }
      ]
    },
    {
      "cell_type": "markdown",
      "source": [
        "**Curly Braces**\n",
        "\n",
        "**Curly braces** can be used to represent **the number of repetitons between two numbers**.\n",
        "\n",
        "The regex {x,y} means \"between x and y repetitons of something\".\n",
        "\n",
        "Hence {0,1} is the same thing as ?.\n",
        "\n",
        "if the first number is missing, it is taken to be zero. If the second number is missing , it is taken to be infinity.\n",
        "\n",
        "**Example:**\n",
        "\n",
        "> import re\n",
        "\n",
        "> pattern = r\"9{1,3}$\"\n",
        "\n",
        "> if re.match(pattern, \"9\"):\n",
        "\n",
        ">> print(\"Match 1\")\n",
        "\n",
        "> if re.match(pattern, \"999\"):\n",
        "\n",
        ">> print(\"Match 2\")\n",
        "\n",
        "> if re.match(pattern, \"99999\"):\n",
        "\n",
        ">> print(\"Match 3\")\n",
        "\n",
        "\"9{1,3}\\$\" matches string that have **1** to **3** nines.\n",
        "\n"
      ],
      "metadata": {
        "id": "KG2MYjkin0SM"
      }
    },
    {
      "cell_type": "code",
      "source": [
        "import re\n",
        "\n",
        "pattern = r\"9{1,3}$\"\n",
        "\n",
        "if re.match(pattern, \"9\"):\n",
        "  print(\"Match 1\")\n",
        "\n",
        "if re.match(pattern, \"999\"):\n",
        "  print(\"Match 2\")\n",
        "\n",
        "if re.match(pattern, \"9999\"):\n",
        "  print(\"Match 3\")"
      ],
      "metadata": {
        "colab": {
          "base_uri": "https://localhost:8080/"
        },
        "id": "SWlUiK2jn2Ys",
        "outputId": "efb31ab3-952e-4da4-975a-48daeb1663e6"
      },
      "execution_count": null,
      "outputs": [
        {
          "output_type": "stream",
          "name": "stdout",
          "text": [
            "Match 1\n",
            "Match 2\n"
          ]
        }
      ]
    },
    {
      "cell_type": "markdown",
      "source": [
        "**Group**\n",
        "\n",
        "A group can be created by surrounding part of a regular expression with **parentheses.**\n",
        "\n",
        "This means that a group can be given as an argument to metacharacters such as \\* and ?.\n",
        "\n",
        "**Example:**\n",
        "\n",
        "> import re\n",
        "\n",
        "> pattern = r\"egg(spam)*\"\n",
        "\n",
        "> if re.match(pattern, \"egg\"):\n",
        "\n",
        ">> print(\"Match 1\")\n",
        "\n",
        "> if re.match(pattern, \"eggspamspamspamegg\"):\n",
        "\n",
        ">> print(\"Match 2\")\n",
        "\n",
        "> if re.match(pattern, \"spam\"):\n",
        "\n",
        ">> print(\"Match 3\")\n",
        "\n",
        "\n",
        "**(spam)** represents a group in the example pattern shown above."
      ],
      "metadata": {
        "id": "-yB-0eIHoB7M"
      }
    },
    {
      "cell_type": "code",
      "source": [
        "import re\n",
        "\n",
        "pattern = r\"egg(spam)*\"\n",
        "\n",
        "if re.match(pattern, \"egg\"):\n",
        "  print(\"Match 1\")\n",
        "\n",
        "if re.match(pattern, \"eggspamspamspamegg\"):\n",
        "  print(\"Match 2\")\n",
        "\n",
        "if re.match(pattern, \"spam\"):\n",
        "  print(\"Match 3\")"
      ],
      "metadata": {
        "colab": {
          "base_uri": "https://localhost:8080/"
        },
        "id": "ePJ7LvnxoEC8",
        "outputId": "b7d87ca3-39d0-42da-d6c7-c50d59f0e55a"
      },
      "execution_count": null,
      "outputs": [
        {
          "output_type": "stream",
          "name": "stdout",
          "text": [
            "Match 1\n",
            "Match 2\n"
          ]
        }
      ]
    },
    {
      "cell_type": "markdown",
      "source": [
        "**Groups**\n",
        "\n",
        "The content of groups in a match can be accessed using the **group** function. \n",
        "\n",
        "- A call of **group(0)** or **group()** returns the whole match.\n",
        "\n",
        "- A call of **group(n)**, where **n** is greater than 0, returns the **n**th group from the left.\n",
        "\n",
        "The method **groups()** returns all groups up from 1.\n",
        "\n",
        "**Example:**\n",
        "\n",
        "> import re\n",
        "\n",
        "> pattern = r\"a(bc)(de)(f(g)h)i\"\n",
        "\n",
        "> match = re.match(pattern, \"abcdefghijklmnop\")\n",
        "\n",
        "> if match:\n",
        "\n",
        ">> print(match.group())\n",
        "\n",
        ">> print(match.group(0))\n",
        "\n",
        ">> print(match.group(1))\n",
        "\n",
        ">> print(match.group(2))\n",
        "\n",
        ">> print(match.groups())\n",
        "\n",
        "\n",
        "As you can see from the example above, groups can be nested."
      ],
      "metadata": {
        "id": "NdE5CKU4pG-1"
      }
    },
    {
      "cell_type": "code",
      "source": [
        "import re\n",
        "\n",
        "pattern = r\"a(bc)(de)(f(g)h)i\"\n",
        "\n",
        "match = re.match(pattern, \"abcdefghijklmnop\")\n",
        "\n",
        "if match:\n",
        "  print(match.group())\n",
        "  print(match.group(0))\n",
        "  print(match.group(1))\n",
        "  print(match.group(2))\n",
        "  print(match.groups())"
      ],
      "metadata": {
        "colab": {
          "base_uri": "https://localhost:8080/"
        },
        "id": "vHC8h2PEpJsd",
        "outputId": "da939be3-26be-4b5c-eac4-104f3625e760"
      },
      "execution_count": null,
      "outputs": [
        {
          "output_type": "stream",
          "name": "stdout",
          "text": [
            "abcdefghi\n",
            "abcdefghi\n",
            "bc\n",
            "de\n",
            "('bc', 'de', 'fgh', 'g')\n"
          ]
        }
      ]
    },
    {
      "cell_type": "markdown",
      "source": [
        "**Groups**\n",
        "\n",
        "There are several kinds of special groups.\n",
        "\n",
        "Two useful ones are **named groups** and **non-capturing groups**.\n",
        "\n",
        "**Named groups** have the format **(?P\\<name>...)** where **name** is the name of the group, and \\... is the content. They behave exactly the same as normal groups, except they can be accessed by **group(name)** in  addition to its number. \n",
        "\n",
        "**Non-capturing groups** have the format **(?\\:...)**. They are not accessible by the group method, so they can be added to an existing regular expression without breaking the numbering.\n",
        "\n",
        "\n",
        "**Example:**\n",
        "\n",
        "> import re\n",
        "\n",
        "> pattern = r\"(?P\\<first>abc)(?:def)(ghi)\"\n",
        "\n",
        "> match = re.match(pattern, \"abcdefghi\")\n",
        "\n",
        "> if match:\n",
        "\n",
        ">> print(match.group(\"first\"))\n",
        "\n",
        ">> print(match.groups())"
      ],
      "metadata": {
        "id": "gNAHt6JNpg6U"
      }
    },
    {
      "cell_type": "code",
      "source": [
        "import re\n",
        "\n",
        "pattern = r\"(?P<first>abc)(?:def)(ghi)\"\n",
        "\n",
        "match = re.match(pattern, \"abcdefghi\")\n",
        "if match:\n",
        "  print(match.group(\"first\"))\n",
        "  print(match.groups())"
      ],
      "metadata": {
        "colab": {
          "base_uri": "https://localhost:8080/"
        },
        "id": "GbjVdbBgpjDv",
        "outputId": "b6803a65-4601-4acd-c577-23f813f47645"
      },
      "execution_count": null,
      "outputs": [
        {
          "output_type": "stream",
          "name": "stdout",
          "text": [
            "abc\n",
            "('abc', 'ghi')\n"
          ]
        }
      ]
    },
    {
      "cell_type": "code",
      "source": [
        "import re\n",
        "\n",
        "pattern = r\"(a)(b(?:c)(d)(?:e))?\"\n",
        "\n",
        "match = re.match(pattern, \"abcdefghi\")\n",
        "if match:\n",
        "  print(match.groups())"
      ],
      "metadata": {
        "colab": {
          "base_uri": "https://localhost:8080/"
        },
        "id": "MTVldBbypyWM",
        "outputId": "3861e2a8-1b00-4a5b-e710-e61f017d8fb1"
      },
      "execution_count": null,
      "outputs": [
        {
          "output_type": "stream",
          "name": "stdout",
          "text": [
            "('a', 'bcde', 'd')\n"
          ]
        }
      ]
    },
    {
      "cell_type": "markdown",
      "source": [
        "**Metacharacters**\n",
        "\n",
        "Another important metacharacter is **|**.\n",
        "\n",
        "This means \"or\", so **red|blue** matchs either \"red\" or \"blue\".\n",
        "\n",
        "**Example:**\n",
        "\n",
        "> import re\n",
        "\n",
        "> pattern = r\"gr(a|e)y\"\n",
        "\n",
        "> match = re.match(pattern, \"gray\")\n",
        "\n",
        "> if match:\n",
        "\n",
        ">> print(\"Match 1\")\n",
        "\n",
        "> match = re.match(pattern, \"grey\")\n",
        "\n",
        "> if match:\n",
        "\n",
        ">> print(\"Match 2\")\n",
        "\n",
        "> match = re.match(pattern, \"griy\")\n",
        "\n",
        "> if match:\n",
        "\n",
        ">> print(\"Match 3\")"
      ],
      "metadata": {
        "id": "_gIdvnTCqa0k"
      }
    },
    {
      "cell_type": "code",
      "source": [
        "import re\n",
        "\n",
        "pattern = r\"gr(a|e)y\"\n",
        "\n",
        "match = re.match(pattern, \"gray\")\n",
        "if match:\n",
        "  print(\"Match 1\")\n",
        "\n",
        "match = re.match(pattern, \"grey\")\n",
        "if match:\n",
        "  print(\"Match 2\")\n",
        "\n",
        "match = re.match(pattern, \"griy\")\n",
        "if match:\n",
        "  print(\"Match 3\")\n",
        "\n",
        "match = re.match(pattern, \"graey\")\n",
        "if match:\n",
        "  print(\"Match 4\")  "
      ],
      "metadata": {
        "colab": {
          "base_uri": "https://localhost:8080/"
        },
        "id": "8OOQTW5oqaId",
        "outputId": "d69be2fe-ee4e-4b13-fa2b-d9e557dcea55"
      },
      "execution_count": null,
      "outputs": [
        {
          "output_type": "stream",
          "name": "stdout",
          "text": [
            "Match 1\n",
            "Match 2\n"
          ]
        }
      ]
    },
    {
      "cell_type": "code",
      "source": [
        "import re\n",
        "\n",
        "pattern = r\"(p|f)[le]\"\n",
        "\n",
        "\n",
        "if re.search(pattern, \"mela\"):\n",
        "  print(\"italiano\")\n",
        "\n",
        "if re.search(pattern, 'manzana'):\n",
        "  print(\"español\")    \n",
        "\n",
        "if re.search(pattern, \"Apfel\"):\n",
        "  print(\"Deutsch\")\n",
        "  \n",
        "if re.search(pattern, 'appel'):\n",
        "  print(\"Nederlands\")  \n",
        "\n",
        "if re.search(pattern, 'äpple'):\n",
        "  print(\"svenska\")"
      ],
      "metadata": {
        "colab": {
          "base_uri": "https://localhost:8080/"
        },
        "id": "pZL8BdfTxkap",
        "outputId": "f307f32d-2377-40da-f60f-e74cbc6b5a5e"
      },
      "execution_count": null,
      "outputs": [
        {
          "output_type": "stream",
          "name": "stdout",
          "text": [
            "Deutsch\n",
            "Nederlands\n",
            "svenska\n"
          ]
        }
      ]
    },
    {
      "cell_type": "code",
      "source": [
        "import re\n",
        "\n",
        "pattern = r\"^(R|r)e*i+j*s+\" # start with 'R' or 'r', it doesn't matter if it follows by 'e' but needs at least one 'i' \n",
        "                            # it is not important to have 'j' but 's' is required      \n",
        "\n",
        "\n",
        "if re.search(pattern, \"riso\"):\n",
        "  print(\"italiano\")\n",
        "\n",
        "if re.search(pattern, 'arroz'):\n",
        "  print(\"español\")    \n",
        "\n",
        "if re.search(pattern, \"Reis\"):\n",
        "  print(\"Deutsch\")\n",
        "  \n",
        "if re.search(pattern, 'rijst'):\n",
        "  print(\"Nederlands\")  \n",
        "\n",
        "if re.search(pattern, 'ris'):\n",
        "  print(\"svenska\")"
      ],
      "metadata": {
        "colab": {
          "base_uri": "https://localhost:8080/"
        },
        "id": "Sj2AIr-bzYDn",
        "outputId": "e424b0ac-613d-46e9-f541-e2f192a29a0d"
      },
      "execution_count": null,
      "outputs": [
        {
          "output_type": "stream",
          "name": "stdout",
          "text": [
            "italiano\n",
            "Deutsch\n",
            "Nederlands\n",
            "svenska\n"
          ]
        }
      ]
    },
    {
      "cell_type": "markdown",
      "source": [
        "**Special Sequences**\n",
        "\n",
        "There are various **special sequences** you can use in regular expressions. They are written as a backslash followed by another character.\n",
        "\n",
        "One useful special sequence is a backslash and a number between 1 and 99,\n",
        "\n",
        "e.g., \\1 or \\17. This matches the expressin of the group of that number.\n",
        "\n",
        "**Example:**\n",
        "\n",
        "> import re\n",
        "\n",
        "> pattern = r\"(.+) \\1\"\n",
        "\n",
        "> match = re.match(pattern, \"word word\")\n",
        "\n",
        "> if match:\n",
        "\n",
        ">> print(\"Match 1\")\n",
        "\n",
        "> match = re.match(pattern, \"?! ?!\")\n",
        "\n",
        "> if match:\n",
        "\n",
        ">> print(\"Match 2\")\n",
        "\n",
        "> match = re.match(pattern, \"abc cde\")\n",
        "\n",
        "> if match:\n",
        "\n",
        ">> print(\"Match 3\")\n",
        "\n",
        "\n",
        "Note, that \"(.+)\\1\" is not the same as \"(.+)(.+)\", because \\1 refers to the first group's subexpression, which is the matched expression itself, and not the regex pattern."
      ],
      "metadata": {
        "id": "0-bNvGrUq-p0"
      }
    },
    {
      "cell_type": "code",
      "source": [
        "import re\n",
        "\n",
        "pattern = r\"(.+) \\1\"\n",
        "\n",
        "match = re.match(pattern, \"word word\")\n",
        "if match:\n",
        "  print(\"Match 1\")\n",
        "\n",
        "match = re.match(pattern, \"?1 ?1\")\n",
        "if match:\n",
        "  print(\"Match 2\")\n",
        "\n",
        "match = re.match(pattern, \"abc cde\")\n",
        "if match:\n",
        "  print(\"Match 3\")"
      ],
      "metadata": {
        "colab": {
          "base_uri": "https://localhost:8080/"
        },
        "id": "hq63yGEXr_C1",
        "outputId": "36bbaf58-78a4-4778-ecdc-abd4f84d911d"
      },
      "execution_count": null,
      "outputs": [
        {
          "output_type": "stream",
          "name": "stdout",
          "text": [
            "Match 1\n",
            "Match 2\n"
          ]
        }
      ]
    },
    {
      "cell_type": "markdown",
      "source": [
        "**Special Sequences**\n",
        "\n",
        "More useful special sequences are \\d, \\s, and \\w.\n",
        "\n",
        "these match **digits**,  **whitespace**, and **word characters** repectively. \n",
        "\n",
        "In ASCII mode they are equivalent to [0-9], [\\t\\n\\r\\f\\v], and [a-zA-Z0-9_]. \n",
        "\n",
        "In Unicode mode they match certain other characters, as well, For instance, \\w matches letters with accents.\n",
        "\n",
        "Versions of these special sequences with **upper case letters** - \\D, \\S, and \\W mean the **opposite to the lower-case** versions. For instance, \\D matches anything that isn't a digit.\n",
        "\n",
        "**Example:**\n",
        "\n",
        "> import re\n",
        "\n",
        "> pattern = r\"(\\D+\\d)\"\n",
        "\n",
        "> match = re.match(pattern, \"Hi 999!\")\n",
        "\n",
        "> if match:\n",
        "\n",
        ">> print(\"Match 1\")\n",
        "\n",
        "> match = re.match(pattern, \"1, 23, 456!\")\n",
        "\n",
        "> if match:\n",
        "\n",
        ">> print(\"Match 2\")\n",
        "\n",
        "> match = re.match(pattern, \"! $?\")\n",
        "\n",
        "> if match: \n",
        "\n",
        ">> print(\"Match 3\")\n",
        "\n",
        "**(\\D+\\d)** matches one or more non-digits followed by a digit."
      ],
      "metadata": {
        "id": "q7mMwqbDsXFF"
      }
    },
    {
      "cell_type": "code",
      "source": [
        "import re\n",
        "\n",
        "pattern = r\"(\\D+\\d)\"\n",
        "\n",
        "match = re.match(pattern, \"Hi 999!\")\n",
        "\n",
        "if match:\n",
        "  print(\"Match 1\")\n",
        "\n",
        "match =  re.match(pattern, \"1, 23, 456!\") # not match \\D that makes conditon false\n",
        "\n",
        "if match:\n",
        "  print(\"Match 2\")\n",
        "\n",
        "\n",
        "match = re.match(pattern, \"! $?\")  # match \\D but have to be followed by \\d that make condition false\n",
        "\n",
        "if match:\n",
        "  print(\"Match 3\")"
      ],
      "metadata": {
        "colab": {
          "base_uri": "https://localhost:8080/"
        },
        "id": "4rGDzIUms3FU",
        "outputId": "960c51c9-949d-46f9-de26-86782ce48608"
      },
      "execution_count": null,
      "outputs": [
        {
          "output_type": "stream",
          "name": "stdout",
          "text": [
            "Match 1\n"
          ]
        }
      ]
    },
    {
      "cell_type": "markdown",
      "source": [
        "**Special Sequences**\n",
        "\n",
        "Additional special sequences are \\A, \\Z, and \\b.\n",
        "\n",
        "The sequences \\A and \\Z match the **beginning** and **end** of a string, respectively.\n",
        "\n",
        "The sequence \\b matches the **empty string** between \\w and \\W characters, or \\w characters and the beginning or end of the string. Informally, it represents the boundary between words.\n",
        "\n",
        "The sequence \\B matches the empty string anywhere else.\n",
        "\n",
        "**Example:**\n",
        "\n",
        "> import re\n",
        "\n",
        "> pattern = r\"\\b(cat)\\b\"\n",
        "\n",
        "> match = re.search(pattern, \"The cat sat!\")\n",
        "\n",
        "> if match:\n",
        "\n",
        ">> print(\"Match 1\")\n",
        "\n",
        "> match = re.search(pattern, \"We s>cat<tered?\")\n",
        "\n",
        "> if match:\n",
        "\n",
        ">> print(\"Match 2\")\n",
        "\n",
        "> match = re.search(pattern, \"We scattered.\")\n",
        "\n",
        "> if match:\n",
        "\n",
        ">> print(\"Match 3\")\n",
        "\n",
        "\"\\b(cat)\\b\" basically meathes the word \"cat\" surrounded by word boundaries.\n",
        "\n"
      ],
      "metadata": {
        "id": "H4akvuxGtON8"
      }
    },
    {
      "cell_type": "code",
      "source": [
        "import re\n",
        "\n",
        "pattern = r\"\\b(cat)\\b\"\n",
        "\n",
        "match = re.search(pattern, \"The cat sat!\")\n",
        "if match:\n",
        "  print(\"Match 1\")\n",
        "\n",
        "match = re.search(pattern, \"We s>cat<tered?\")  \n",
        "if match:\n",
        "  print(\"Match 2\")\n",
        "\n",
        "match = re.search(pattern, \"we scattered.\")\n",
        "if match:\n",
        "  print(\"Match 3\")"
      ],
      "metadata": {
        "colab": {
          "base_uri": "https://localhost:8080/"
        },
        "id": "DHwyk5zjtQ0L",
        "outputId": "5fe39ec4-5544-4004-a682-7ae91b7ce1e7"
      },
      "execution_count": null,
      "outputs": [
        {
          "output_type": "stream",
          "name": "stdout",
          "text": [
            "Match 1\n",
            "Match 2\n"
          ]
        }
      ]
    },
    {
      "cell_type": "markdown",
      "source": [
        "**Email Extraction**\n",
        "\n",
        "To demonstrate a sample usage of regular expressions, lets create a program to extract email addresses from a string.\n",
        "Suppose we have a text that contains an email address:\n",
        "\n",
        "> str = \"Please contact info@sololearn.com for assistance\"\n",
        "\n",
        "Our goal is to extract the substring \"info@sololearn.com\".\n",
        "\n",
        "A basic email address consists of:\n",
        "- a word and may include dots or dashes. \n",
        "- This is followed by the @ sign and \n",
        "- the domain name (the name, a dot, and the domain name suffix).\n",
        "\n",
        "This is the basis for building our regular expression.\n",
        "\n",
        "> pattern = r\"([\\w\\.-]+)@([\\w\\.-]+)(\\.[\\w\\.]+)\"\n",
        "\n",
        "[\\w\\.-]+ matches one or more word character, dot or dash. The regex above says that the string should contain a word (with dots and dashes allowed), followed by the @ sign, then another similar word, then a dot and another word.\n",
        "\n",
        "\n",
        "Our regex contains three groups:\n",
        "- 1. first part of the email address.\n",
        "- 2. domain name without the suffix.\n",
        "- 3. the domain suffix."
      ],
      "metadata": {
        "id": "Zlb9VexzvCL0"
      }
    },
    {
      "cell_type": "markdown",
      "source": [
        "**Email Extraction**\n",
        "\n",
        "Putting it all together:\n",
        "\n",
        "> import re\n",
        "\n",
        "> pattern = r\"([\\w\\.-]+)@([\\w\\.-]+)(\\.[\\w\\.]+)\"\n",
        "\n",
        "> str = \"Please contact info@sololearn.com for assistance\"\n",
        "\n",
        "> matc = re.search(pattern, str)\n",
        "\n",
        "> if match:\n",
        "\n",
        ">> print(match.group())\n",
        "\n",
        "In case the string contains multiple email addresses, we could use the **re.findall** method instead of **re.search**, to extract all email addresses.\n",
        "\n",
        "The regex in the example is for demonstration purposes only. A much more complex regex is required to fully validate an email address."
      ],
      "metadata": {
        "id": "idrsri32vPb0"
      }
    },
    {
      "cell_type": "code",
      "source": [
        "import re\n",
        "\n",
        "pattern = r\"([\\w\\.-]+)@([\\w\\.-]+)(\\.[\\w\\.]+)\"\n",
        "\n",
        "str = \"Please contact info@sololearn.com for assistance\"\n",
        "\n",
        "match = re.search(pattern, str)\n",
        "if match:\n",
        "  print(match.group())"
      ],
      "metadata": {
        "colab": {
          "base_uri": "https://localhost:8080/"
        },
        "id": "GzSySa_PvS1b",
        "outputId": "2b889315-ffe5-4929-eba8-5ff7e4b6156e"
      },
      "execution_count": null,
      "outputs": [
        {
          "output_type": "stream",
          "name": "stdout",
          "text": [
            "info@sololearn.com\n"
          ]
        }
      ]
    },
    {
      "cell_type": "code",
      "source": [
        "import re\n",
        "\n",
        "num = input()\n",
        "\n",
        "pattern = r\"[1,8,9]{1}\\d{7}\" # at least 1 of 1 or 8 or 9 then following by 7 digits\n",
        "\n",
        "if len(num) == 8:\n",
        "  if re.search(pattern, num):\n",
        "    print(\"Valid\")\n",
        "  else:\n",
        "    print(\"Invalid\")\n",
        "else:\n",
        "  print(\"Invalid\")"
      ],
      "metadata": {
        "colab": {
          "base_uri": "https://localhost:8080/"
        },
        "id": "fa3L-ETFvYOl",
        "outputId": "8828cd8c-ab9d-47b7-ad89-ec591eb7479f"
      },
      "execution_count": null,
      "outputs": [
        {
          "output_type": "stream",
          "name": "stdout",
          "text": [
            "90000000\n",
            "Valid\n"
          ]
        }
      ]
    },
    {
      "cell_type": "code",
      "source": [
        "import re\n",
        "\n",
        "# input\n",
        "# thai mobile phone ex. 0812345678, there are 10 digits\n",
        "num = input(\"Enter your mobile phone number :\")\n",
        "\n",
        "# process\n",
        "pattern = r\"0\\d{9}\"\n",
        "\n",
        "if len(num) == 10:\n",
        "  if re.search(pattern, num):\n",
        "    print(\"Valid thai mobile phone number\")\n",
        "  else:\n",
        "    print(\"Invalid\")\n",
        "else:\n",
        "  print(\"Invalid\")"
      ],
      "metadata": {
        "colab": {
          "base_uri": "https://localhost:8080/"
        },
        "id": "jswIvxu2v8HE",
        "outputId": "0ddbe403-f41c-41a3-a86a-c7ca930a69ab"
      },
      "execution_count": null,
      "outputs": [
        {
          "output_type": "stream",
          "name": "stdout",
          "text": [
            "Enter your mobile phone number :0123456789\n",
            "Valid thai mobile phone number\n"
          ]
        }
      ]
    },
    {
      "cell_type": "markdown",
      "source": [
        "#<center><b>10. Pythonicness and Packaging</b></center>"
      ],
      "metadata": {
        "id": "8X93-pUM4Uoa"
      }
    },
    {
      "cell_type": "markdown",
      "source": [
        "**The Zen of Python**\n",
        "\n",
        "Writing programs that actually **do what they are supposed to do** is just one component of being a good Python programmer.\n",
        "\n",
        "It's also important to write **clean code that is easily understood**, even weeks after you've written it.\n",
        "\n",
        "One way of doing this is to follow the **Zen of Python**, a somewhat tongue-in-cheek set of principles that surves as a guide to programming the Pythoneer way. Use the following code to access the Zen of Python.\n",
        "\n",
        "> import this\n",
        "\n",
        "**Result:**\n",
        "\n",
        "> The Zen of Python, by Tim Peters\n",
        "\n",
        "> (blank line)\n",
        "\n",
        "> Beautiful is better than ugly.\n",
        "\n",
        "> Explicit is better than implicit.\n",
        "\n",
        "> Simple is better than complex.\n",
        "\n",
        "> Flat is better than nested.\n",
        "\n",
        "> Sparse is better than dense.\n",
        "\n",
        "> Readability counts.\n",
        "\n",
        "> Special cases aren't special enough to break the rules.\n",
        "\n",
        "> Although praticality beats purity.\n",
        "\n",
        "> Errors should never pass silently.\n",
        "\n",
        "> Unless explicitly silenced.\n",
        "\n",
        "> In the face of ambiguity, refuse the temptation to guess.\n",
        "\n",
        "> There should be one-- and preferably only one --obvious way to do it.\n",
        "\n",
        "> Although that way may not be obvious at first unless you're Dutch\n",
        "\n",
        "> Now is better than never.\n",
        "\n",
        "> Although never is often better than \\*right\\* now.\n",
        "\n",
        "> If the implementation is hard to explain, it's a bad idea.\n",
        "\n",
        "> If the implementation is easy to explain, it may be a good idea.\n",
        "\n",
        "> Namespaces are one honking great idea -- let's do more of those!\n",
        "\n"
      ],
      "metadata": {
        "id": "gaUfVMF1HAPg"
      }
    },
    {
      "cell_type": "code",
      "source": [
        "import this"
      ],
      "metadata": {
        "colab": {
          "base_uri": "https://localhost:8080/"
        },
        "id": "BStggBQ4HI3o",
        "outputId": "2bb3ef3c-b367-48c6-ed80-1f8fd7d02497"
      },
      "execution_count": null,
      "outputs": [
        {
          "output_type": "stream",
          "name": "stdout",
          "text": [
            "The Zen of Python, by Tim Peters\n",
            "\n",
            "Beautiful is better than ugly.\n",
            "Explicit is better than implicit.\n",
            "Simple is better than complex.\n",
            "Complex is better than complicated.\n",
            "Flat is better than nested.\n",
            "Sparse is better than dense.\n",
            "Readability counts.\n",
            "Special cases aren't special enough to break the rules.\n",
            "Although practicality beats purity.\n",
            "Errors should never pass silently.\n",
            "Unless explicitly silenced.\n",
            "In the face of ambiguity, refuse the temptation to guess.\n",
            "There should be one-- and preferably only one --obvious way to do it.\n",
            "Although that way may not be obvious at first unless you're Dutch.\n",
            "Now is better than never.\n",
            "Although never is often better than *right* now.\n",
            "If the implementation is hard to explain, it's a bad idea.\n",
            "If the implementation is easy to explain, it may be a good idea.\n",
            "Namespaces are one honking great idea -- let's do more of those!\n"
          ]
        }
      ]
    },
    {
      "cell_type": "markdown",
      "source": [
        "**The Zen of Python**\n",
        "\n",
        "Some lines in the Zen of Python may need more explanation.\n",
        "\n",
        "**Explicit is better than implicit**: it is best to spell out exactly what you code is doing. This is why adding a numeric straing to an integer requires explicit conversion, rather than having it happen behind the scenes, as it does in other languages.\n",
        "\n",
        "**Flat is better than nested**: Heavily nested structures(lists of lists, of lists, and on and on...) should be avoided.\n",
        "\n",
        "**Errors should never pass silently**: In general, when an error occurs, you should output some sort of error message, rather than ignoring it.\n",
        "\n",
        "There are **20 principles** in the Zen of Python, but only 19 lines of text. **The 20th** principle is a matter of opinion, but our interpretation is that the blank line means **\"Use whitespace\"**.\n",
        "\n",
        "The line \"There should be one - and preferably only one - obvious way to do it\" references and contradicts the Perl language philosophy that there should be more than one way to do it."
      ],
      "metadata": {
        "id": "JCOOLsVDJd9P"
      }
    },
    {
      "cell_type": "markdown",
      "source": [
        "**PEP**\n",
        "\n",
        "**Python Enhancement Proposals(PEP)** are suggestions for improvements to the language, made by experienced Python developers.\n",
        "\n",
        "**PEP 8** is a style guide on the subject of writing readable code. It contains a number of **guidelines** in reference to **variable names**, which are summarized here:\n",
        "\n",
        "- **modules** should have short, **all-lowercase** names;\n",
        "- **class** names should be in the **CapWords** style;\n",
        "- most **variables** and **function** names should be **lowercase_with_underscores**;\n",
        "- **constants**(variables that never change value) should be **CAPS_WITH_UNDERSCORES**;\n",
        "- names that would clash with Python keywords(such as 'class' of 'if') should have a trailing underscore.\n",
        "\n",
        "**PEP 8** also recommends using **spaces around operators** and after commas to **increase readability**.\n",
        "\n",
        "However, whitespace should not be overused. For instance, avoid having any space directly inside any type of brackets."
      ],
      "metadata": {
        "id": "jm16IRHwJ3OQ"
      }
    },
    {
      "cell_type": "markdown",
      "source": [
        "**PEP 8**\n",
        "\n",
        "Other **PEP 8** suggestions include the following:\n",
        "\n",
        "- lines shouldn't be longer than 80 characters;\n",
        "- 'from module import *' should be avoided;\n",
        "- there should only be one statement per line.\n",
        "\n",
        "It also suggests that you use spaces, rather than tabs, to indent. However, to some extent, this is a matter of personal preference. If you use spaces, only use 4 per line. It's more important to choose one and stick to it.\n",
        "\n",
        "The most important advice in the PEP is to ignore it when it makes sense to do so. Don't bother with following PEP suggestions when it would cause your code to be less readable; inconsistent with the surrounding code; or not backwards compatible.\n",
        "\n",
        "However, by and large, following PEP 8 will greatly enhance the quality of your code.\n",
        "\n",
        "Some other notable PEPs that cover code style:\n",
        "\n",
        "**PEP 20**: The Zen of Python\n",
        "\n",
        "**PEP 257**: Style Conventions for Docstrings"
      ],
      "metadata": {
        "id": "9NqFsN5FJ9C3"
      }
    },
    {
      "cell_type": "markdown",
      "source": [
        "**Function Arguments**\n",
        "\n",
        "Python allows to have function with varying number of arguments.\n",
        "\n",
        "Using **\\*args** as a function parameter enables you to pass an arbitrary number of arguments to that function. The arguments are then accessible as the tuple **args** in the body of the function.\n",
        "\n",
        "**Example:**\n",
        "\n",
        "> def function(named_arg, *args):\n",
        "\n",
        ">> print(named_arg)\n",
        "\n",
        ">> print(args)\n",
        "\n",
        "> funciton(1, 2, 3, 4, 5)\n",
        "\n",
        "The parameter \\*args must come after the named parameters to a function.\n",
        "\n",
        "The name **args** is just a convention; you can choose to use another."
      ],
      "metadata": {
        "id": "cKdmOePiKSy_"
      }
    },
    {
      "cell_type": "code",
      "source": [
        "def function(named_arg, *args):\n",
        "  print(named_arg)\n",
        "  print(args)\n",
        "\n",
        "function(1, 2, 3, 4, 5) "
      ],
      "metadata": {
        "colab": {
          "base_uri": "https://localhost:8080/"
        },
        "id": "UzwY0LKnKiaZ",
        "outputId": "67003054-ea01-492e-e01a-1f00059076c1"
      },
      "execution_count": null,
      "outputs": [
        {
          "output_type": "stream",
          "name": "stdout",
          "text": [
            "1\n",
            "(2, 3, 4, 5)\n"
          ]
        }
      ]
    },
    {
      "cell_type": "code",
      "source": [
        "def whatdoescatsay(domestic, *international):\n",
        "  print(domestic)\n",
        "  print(international)\n",
        "\n",
        "whatdoescatsay(\"meow\", \"miaow\", \"miaou\", \"miau\", \"miao\")"
      ],
      "metadata": {
        "colab": {
          "base_uri": "https://localhost:8080/"
        },
        "id": "-M7sgkoOKtKX",
        "outputId": "9c97450f-bf0c-4f07-f021-f7a42722b945"
      },
      "execution_count": null,
      "outputs": [
        {
          "output_type": "stream",
          "name": "stdout",
          "text": [
            "meow\n",
            "('miaow', 'miaou', 'miau', 'miao')\n"
          ]
        }
      ]
    },
    {
      "cell_type": "markdown",
      "source": [
        "**Default Values**\n",
        "\n",
        "Named parameters to a function can be made optional by giving them a **default value.**\n",
        "\n",
        "These must **come after** named **parameters without a defaul value**. \n",
        "\n",
        "**Example:**\n",
        "\n",
        "> def function(x, y, food=\"spam\"):\n",
        "\n",
        ">> print(food)\n",
        "\n",
        "> function(1, 2)\n",
        "\n",
        "> function(3, 4, \"egg\")\n",
        "\n",
        "In case the argument is passed in, the default value is ignored. \n",
        "\n",
        "If the argument is not passed in, the defual value is used."
      ],
      "metadata": {
        "id": "JYA7a25-LHaI"
      }
    },
    {
      "cell_type": "code",
      "source": [
        "def function(x, y, food=\"spam\"):\n",
        "  print(food)\n",
        "\n",
        "function(1, 2) \n",
        "function(3, 4, \"egg\") "
      ],
      "metadata": {
        "colab": {
          "base_uri": "https://localhost:8080/"
        },
        "id": "0-n_nMLRLI95",
        "outputId": "5582e4b4-06ea-407e-8133-0c3df2dfa249"
      },
      "execution_count": null,
      "outputs": [
        {
          "output_type": "stream",
          "name": "stdout",
          "text": [
            "spam\n",
            "egg\n"
          ]
        }
      ]
    },
    {
      "cell_type": "markdown",
      "source": [
        "**Function Arguments**\n",
        "\n",
        "\\*\\*kwargs (standing for keyword arguments) allows you to handle named arguments that you have not defined in advance.\n",
        "\n",
        "The **keyword arguments** return a **dictionary** in which the keys are the argument names, and the values are the argument values.\n",
        "\n",
        "**Example:**\n",
        "\n",
        "> def my_func(x, y=7, \\*args, \\*\\*kwargs):\n",
        "\n",
        ">> print(kwargs)\n",
        "\n",
        "> my_func(2, 3, 4, 5, 6, a=7, b=8)\n",
        "\n",
        "**a** and **b** are the names of the arguments that we passed to the function call.\n",
        "\n",
        "The arguments returned by \\*\\*kwarg are not included in \\*args."
      ],
      "metadata": {
        "id": "XfhNuKr3LWBI"
      }
    },
    {
      "cell_type": "code",
      "source": [
        "def my_func(x, y=7, *args, **kwargs):\n",
        "  print(kwargs)\n",
        "\n",
        "my_func(2, 3, 4, 5, 6, a=7, b=8)"
      ],
      "metadata": {
        "colab": {
          "base_uri": "https://localhost:8080/"
        },
        "id": "JE6jZNuULm6w",
        "outputId": "da7b7e0a-efbf-4dc1-b3d6-93885e41f0b6"
      },
      "execution_count": null,
      "outputs": [
        {
          "output_type": "stream",
          "name": "stdout",
          "text": [
            "{'a': 7, 'b': 8}\n"
          ]
        }
      ]
    },
    {
      "cell_type": "markdown",
      "source": [
        "**Tuple Unpacking**\n",
        "\n",
        "**Tuple unpacking** allows you to assign each item in an iterable (often a tuple) to a variable.\n",
        "\n",
        "**Example**\n",
        "\n",
        "> numbers = (1, 2, 3)\n",
        "\n",
        "> a, b, c = numbers\n",
        "\n",
        "> print(a)\n",
        "\n",
        "> print(b)\n",
        "\n",
        "> print(c)\n",
        "\n",
        "This can be also used to swap variables by doing a, b = b, a since b, a on the right hand side forms the tuple (b,a) which is then unpacked.\n",
        "\n"
      ],
      "metadata": {
        "id": "zi6T-PQlLu8P"
      }
    },
    {
      "cell_type": "code",
      "source": [
        "numbers = (1, 2, 3)\n",
        "a, b, c = numbers\n",
        "\n",
        "print(a)\n",
        "print(b)\n",
        "print(c)"
      ],
      "metadata": {
        "colab": {
          "base_uri": "https://localhost:8080/"
        },
        "id": "df8pUiSZLwuv",
        "outputId": "20492ffa-f496-4682-bb7c-7e9ede79504c"
      },
      "execution_count": null,
      "outputs": [
        {
          "output_type": "stream",
          "name": "stdout",
          "text": [
            "1\n",
            "2\n",
            "3\n"
          ]
        }
      ]
    },
    {
      "cell_type": "code",
      "source": [
        "a = 1\n",
        "b = 'cat'\n",
        "\n",
        "\n",
        "print(f\"before swap : a = {a}  , b = {b}\")\n",
        "\n",
        "a, b = b, a\n",
        "\n",
        "print(f\"after swap  : a = {a}, b = {b}\")"
      ],
      "metadata": {
        "colab": {
          "base_uri": "https://localhost:8080/"
        },
        "id": "mJA-cSmzLyOy",
        "outputId": "e59171f0-1440-45ce-a538-a2ef8a80c21e"
      },
      "execution_count": null,
      "outputs": [
        {
          "output_type": "stream",
          "name": "stdout",
          "text": [
            "before swap : a = 1  , b = cat\n",
            "after swap  : a = cat, b = 1\n"
          ]
        }
      ]
    },
    {
      "cell_type": "markdown",
      "source": [
        "**Tuple Unpacking**\n",
        "\n",
        "A variable that is prefaced with an asterisk(*) takes all values from the iterable that are left over from the other variables.\n",
        "\n",
        "**Example:**\n",
        "\n",
        "> a, b, *c, d = [1, 2, 3, 4, 5, 6, 7, 8, 9]\n",
        "\n",
        "> print(a)\n",
        "\n",
        "> print(b)\n",
        "\n",
        "> print(c)\n",
        "\n",
        "> print(d)\n"
      ],
      "metadata": {
        "id": "aNnQvcOxMkNI"
      }
    },
    {
      "cell_type": "code",
      "source": [
        "a, b, *c, d = [1, 2, 3, 4, 5, 6, 7, 8, 9]\n",
        "\n",
        "print(a)\n",
        "print(b)\n",
        "print(c)\n",
        "print(d)"
      ],
      "metadata": {
        "colab": {
          "base_uri": "https://localhost:8080/"
        },
        "id": "6LCmhqdnMmqY",
        "outputId": "577a85fa-f065-47f7-a3c5-3d80f5724bbb"
      },
      "execution_count": null,
      "outputs": [
        {
          "output_type": "stream",
          "name": "stdout",
          "text": [
            "1\n",
            "2\n",
            "[3, 4, 5, 6, 7, 8]\n",
            "9\n"
          ]
        }
      ]
    },
    {
      "cell_type": "markdown",
      "source": [
        "**Ternary Operator** \n",
        "\n",
        "Conditional expressions provide the funcitonality of **if statements while using less code**. They **shouldn't** be **overused**, as they can easily **reduce readability**, but they are often useful when assigning variables.\n",
        "\n",
        "Conditional expressions are also known as applications of the **ternary operator**\n",
        "\n",
        "**Example:**\n",
        "\n",
        "> a = 7\n",
        "\n",
        "> b = 1 if a >= 5 else 42 \n",
        "\n",
        "> print(b)\n",
        "\n",
        "The ternary operator checks the condition and returns the correspoding value.\n",
        "\n",
        "In the example above, as the condition is true, **b** is assigned 1. if **a** was less than 5, it would have been assigned 42.\n",
        "\n",
        "**Another example:**\n",
        "\n",
        "> status = 1 \n",
        "\n",
        "> msg = \"Logout\" if status == 1 else \"Login\"\n",
        "\n",
        "\n",
        "The **ternary** operator is so called because, unlike most operators, it takes **three** argumetns."
      ],
      "metadata": {
        "id": "PaVJqcKiRk0h"
      }
    },
    {
      "cell_type": "code",
      "source": [
        "a = 7\n",
        "b = 1 if a >= 5 else 42 \n",
        "\n",
        "print(b)"
      ],
      "metadata": {
        "colab": {
          "base_uri": "https://localhost:8080/"
        },
        "id": "yIIxBmF4RmZS",
        "outputId": "bd616b9f-a109-47b1-f87c-904e1ee048fb"
      },
      "execution_count": null,
      "outputs": [
        {
          "output_type": "stream",
          "name": "stdout",
          "text": [
            "1\n"
          ]
        }
      ]
    },
    {
      "cell_type": "code",
      "source": [
        "status = 1\n",
        "\n",
        "msg = \"Logout\" if status == 1 else \"Login\"\n",
        "\n",
        "print(msg)"
      ],
      "metadata": {
        "colab": {
          "base_uri": "https://localhost:8080/"
        },
        "id": "EvgP-ZqIRqqn",
        "outputId": "198ce406-a906-4e48-9e83-1531e7f1af31"
      },
      "execution_count": null,
      "outputs": [
        {
          "output_type": "stream",
          "name": "stdout",
          "text": [
            "Logout\n"
          ]
        }
      ]
    },
    {
      "cell_type": "code",
      "source": [
        "b = 1 if 2 + 2 == 5 else 2\n",
        "\n",
        "print(b)"
      ],
      "metadata": {
        "colab": {
          "base_uri": "https://localhost:8080/"
        },
        "id": "Qqruino-Rx9p",
        "outputId": "106f1c00-fb4a-4df9-e28f-6f9ad786df35"
      },
      "execution_count": null,
      "outputs": [
        {
          "output_type": "stream",
          "name": "stdout",
          "text": [
            "2\n"
          ]
        }
      ]
    },
    {
      "cell_type": "markdown",
      "source": [
        "**else**\n",
        "\n",
        "The **else** statement is most commonly used along with the **if** statement, but it can also follow a **for** or **while** loop, which gives it a different meaning. \n",
        "\n",
        "With the **for** or **while** loop, the code within it is called if the loop finishes normally (when a **break** statement does not cause an exit from the loop).\n",
        "\n",
        "**Example 1:**\n",
        "\n",
        "> for i in range(10):\n",
        "\n",
        ">> if i == 999:\n",
        "\n",
        ">>> break\n",
        "\n",
        "> else:\n",
        "\n",
        ">> print(\"Unbroken 1\")\n",
        "\n",
        "**Example 2:**\n",
        "\n",
        "> for i in range(10):\n",
        "\n",
        ">> if i == 5:\n",
        "\n",
        ">>> break\n",
        "\n",
        "> else:\n",
        "\n",
        ">> print(\"unbroken 2\")\n",
        "\n",
        "The first **for** loop executes normally, resulting in the printing of \"Unbroken 1\".\n",
        "\n",
        "The second loop exits due to a **break**, which is why it's **else** statement is not executed."
      ],
      "metadata": {
        "id": "QaWbwJ_9SQ8P"
      }
    },
    {
      "cell_type": "code",
      "source": [
        "for i in range(10):\n",
        "  if i == 999:\n",
        "    break\n",
        "else:\n",
        "  print(\"Unbroken 1\")"
      ],
      "metadata": {
        "colab": {
          "base_uri": "https://localhost:8080/"
        },
        "id": "SwsWLoT7SUKD",
        "outputId": "d0f23128-0534-4250-ec9d-b7c56647f238"
      },
      "execution_count": null,
      "outputs": [
        {
          "output_type": "stream",
          "name": "stdout",
          "text": [
            "Unbroken 1\n"
          ]
        }
      ]
    },
    {
      "cell_type": "code",
      "source": [
        "for i in range(10):\n",
        "  if i == 5:\n",
        "    break\n",
        "else:\n",
        "  print(\"Unbroken 2\")"
      ],
      "metadata": {
        "id": "IZaj_M66SXRv"
      },
      "execution_count": null,
      "outputs": []
    },
    {
      "cell_type": "code",
      "source": [
        "for i in range(10):\n",
        "  if i > 5:\n",
        "    print(i)\n",
        "    break\n",
        "  else:\n",
        "    print(\"7\")"
      ],
      "metadata": {
        "colab": {
          "base_uri": "https://localhost:8080/"
        },
        "id": "3Ji_DGuYSaFn",
        "outputId": "cda262a3-b253-4291-ab20-40117751e204"
      },
      "execution_count": null,
      "outputs": [
        {
          "output_type": "stream",
          "name": "stdout",
          "text": [
            "7\n",
            "7\n",
            "7\n",
            "7\n",
            "7\n",
            "7\n",
            "6\n"
          ]
        }
      ]
    },
    {
      "cell_type": "markdown",
      "source": [
        "**else**\n",
        "\n",
        "The **else** statement can also used with **try/except** statements.\n",
        "\n",
        "In this case, the code within it is only executed if no error occurs in the **try** statement.\n",
        "\n",
        "**Example:**\n",
        "\n",
        "> try:\n",
        "\n",
        ">> print(1)\n",
        "\n",
        "> except ZeroDivisionError:\n",
        "\n",
        ">> print(2)\n",
        "\n",
        "> else:\n",
        "\n",
        ">> print(3)\n",
        "\n",
        "> #\n",
        "\n",
        "> try:\n",
        "\n",
        ">> print(1/0)\n",
        "\n",
        "> except ZeroDivisionError:\n",
        "\n",
        ">> print(4)\n",
        "\n",
        "> else:\n",
        "\n",
        ">> print(5)"
      ],
      "metadata": {
        "id": "IqK3Bhi_S6AK"
      }
    },
    {
      "cell_type": "code",
      "source": [
        "try:\n",
        "  print(1)\n",
        "except ZeroDivisionError:\n",
        "  print(2)\n",
        "else:\n",
        "  print(3)"
      ],
      "metadata": {
        "colab": {
          "base_uri": "https://localhost:8080/"
        },
        "id": "HwMm9Wx5TFSg",
        "outputId": "64c4e050-4607-4243-ac4a-1e002d3b0b62"
      },
      "execution_count": null,
      "outputs": [
        {
          "output_type": "stream",
          "name": "stdout",
          "text": [
            "1\n",
            "3\n"
          ]
        }
      ]
    },
    {
      "cell_type": "code",
      "source": [
        "try:\n",
        "  print(1/0)\n",
        "except ZeroDivisionError:\n",
        "  print(4)\n",
        "else:\n",
        "  print(5)"
      ],
      "metadata": {
        "colab": {
          "base_uri": "https://localhost:8080/"
        },
        "id": "Gc8DwdCjTKEY",
        "outputId": "1bfaa4bc-adcc-4ba9-d874-55175449a357"
      },
      "execution_count": null,
      "outputs": [
        {
          "output_type": "stream",
          "name": "stdout",
          "text": [
            "4\n"
          ]
        }
      ]
    },
    {
      "cell_type": "code",
      "source": [
        "try:\n",
        "  print(1)\n",
        "  print(1 + \"1\" == 2)\n",
        "  print(2)\n",
        "except TypeError:\n",
        "  print(3)\n",
        "else:\n",
        "  print(4)"
      ],
      "metadata": {
        "colab": {
          "base_uri": "https://localhost:8080/"
        },
        "id": "hIJ1G6svTNpg",
        "outputId": "89182a91-9e1b-432c-abae-ad76ac5e28b5"
      },
      "execution_count": null,
      "outputs": [
        {
          "output_type": "stream",
          "name": "stdout",
          "text": [
            "1\n",
            "3\n"
          ]
        }
      ]
    },
    {
      "cell_type": "code",
      "source": [
        "n = int(input(\"Enter a number : \"))\n",
        "\n",
        "try:\n",
        "  print(1/n)\n",
        "except ZeroDivisionError:\n",
        "  print(\"Error\")\n",
        "else:\n",
        "  print(\"the code process\")\n",
        "finally:\n",
        "  print(\"run anyway\")  "
      ],
      "metadata": {
        "colab": {
          "base_uri": "https://localhost:8080/"
        },
        "id": "e9UgN1h6TV8a",
        "outputId": "8de8728e-0d33-4368-d260-68fdb6ad7c7f"
      },
      "execution_count": null,
      "outputs": [
        {
          "output_type": "stream",
          "name": "stdout",
          "text": [
            "Enter a number : 1\n",
            "1.0\n",
            "the code process\n",
            "run anyway\n"
          ]
        }
      ]
    },
    {
      "cell_type": "markdown",
      "source": [
        "**\\_\\_main\\_\\_**\n",
        "\n",
        "Most Python code is either \n",
        "- a module to be imported, or \n",
        "- a script that does something.\n",
        "\n",
        "However, sometimes it is useful to make a file that can be both imported as a module and run as a script.\n",
        "\n",
        "To do this, place script code inside if \n",
        "> **\\_\\_name\\_\\_==\"\\_\\_main\\_\\_\"**.\n",
        "This ensures that it won't be run if the file is imported.\n",
        "\n",
        "**Example:**\n",
        "\n",
        "> def function():\n",
        "\n",
        ">> print(\"This is a module function\")\n",
        "\n",
        "> if **\\_\\_name\\_\\_==\"\\_\\_main\\_\\_\"**:\n",
        "\n",
        ">> print(\"This is a script\")\n",
        "\n",
        "When the Python interpreter reads a source file, it executes all of the code it finds in the file. Before executing the code, it defines a few special variables.\n",
        "\n",
        "For example, if the Python interpreter is running that module (the source file) as the main program, it sets the special **\\_\\_name\\_\\_** variable to have a value **\"\\_\\_main\\_\\_\"**. if this file is being imported from another module, **\\_\\_name\\_\\_** will be set to the module's name."
      ],
      "metadata": {
        "id": "tlW4PfOHeGhT"
      }
    },
    {
      "cell_type": "code",
      "source": [
        "def function():\n",
        "  print(\"This is a module function\")\n",
        "\n",
        "if __name__==\"__main__\":\n",
        "  print(\"This is a script\") "
      ],
      "metadata": {
        "colab": {
          "base_uri": "https://localhost:8080/"
        },
        "id": "U24nqbFKeIm7",
        "outputId": "bf396abc-1ad8-40f5-fc2a-870c064c7e5a"
      },
      "execution_count": null,
      "outputs": [
        {
          "output_type": "stream",
          "name": "stdout",
          "text": [
            "This is a script\n"
          ]
        }
      ]
    },
    {
      "cell_type": "code",
      "source": [
        "x = 1 \n",
        "y = x\n",
        "\n",
        "if __name__==\"__main__\":\n",
        "  z = 3\n",
        "\n",
        "print(x,y,z)"
      ],
      "metadata": {
        "colab": {
          "base_uri": "https://localhost:8080/"
        },
        "id": "ntXwnYTUeKXD",
        "outputId": "c8f6e95a-10df-447d-fd53-81dc0a9b689b"
      },
      "execution_count": null,
      "outputs": [
        {
          "output_type": "stream",
          "name": "stdout",
          "text": [
            "1 1 3\n"
          ]
        }
      ]
    },
    {
      "cell_type": "code",
      "source": [
        "x = 1\n",
        "y = x\n",
        "\n",
        "print(x, y)\n",
        "\n",
        "if __name__==\"__main__\":\n",
        "  z = 3\n",
        "  x = 8\n",
        "  y = 10\n",
        "\n",
        "print(x, y, z)"
      ],
      "metadata": {
        "colab": {
          "base_uri": "https://localhost:8080/"
        },
        "id": "yRbJcx5QeMs7",
        "outputId": "590a6035-02dc-4253-9af8-49f7fe1dc1c0"
      },
      "execution_count": null,
      "outputs": [
        {
          "output_type": "stream",
          "name": "stdout",
          "text": [
            "1 1\n",
            "8 10 3\n"
          ]
        }
      ]
    },
    {
      "cell_type": "markdown",
      "source": [
        "**\\_\\_main\\_\\_**\n",
        "\n",
        "If we save the code from our previous example as a file called **sololearn.py**, we can then import it to another script as a module, using the name **sololearn.**\n",
        "\n",
        "**sololearn.py**\n",
        "\n",
        "> def function():\n",
        "\n",
        ">> print(\"This is a module function\")\n",
        "\n",
        "> if \\_\\_name\\_\\_==\"\\_\\_main\\_\\_\":\n",
        "\n",
        ">> pritn(\"This is a script\")\n",
        "\n",
        "**some_script.py**\n",
        "\n",
        "> import sololearn\n",
        "\n",
        "> sololearn.function()\n",
        "\n",
        "**Result:**\n",
        "\n",
        "> This is a module funciton\n",
        "\n",
        "Basically, we've created a custom module called **sololearn,** and then used it in another script."
      ],
      "metadata": {
        "id": "6i_rgdHCexRL"
      }
    },
    {
      "cell_type": "code",
      "source": [
        "def function():\n",
        "  print(\"This is a module function\")\n",
        "\n",
        "if __name__==\"__main__\":\n",
        "   print(\"This is a script\")"
      ],
      "metadata": {
        "colab": {
          "base_uri": "https://localhost:8080/"
        },
        "id": "GEYsVLg-ezN7",
        "outputId": "6e9295a7-5ecc-4254-de06-886feaa50566"
      },
      "execution_count": null,
      "outputs": [
        {
          "output_type": "stream",
          "name": "stdout",
          "text": [
            "This is a script\n"
          ]
        }
      ]
    },
    {
      "cell_type": "code",
      "source": [
        "if __name__==\"__main__\":\n",
        "  print(\"Hi\")\n",
        "else:\n",
        "  print(\"Welcome\")  "
      ],
      "metadata": {
        "colab": {
          "base_uri": "https://localhost:8080/"
        },
        "id": "5gasIubKe3AD",
        "outputId": "2b038ce4-caf2-45a1-fc5f-75d964ded270"
      },
      "execution_count": null,
      "outputs": [
        {
          "output_type": "stream",
          "name": "stdout",
          "text": [
            "Hi\n"
          ]
        }
      ]
    },
    {
      "cell_type": "markdown",
      "source": [
        "**Major 3rd-Party Libraries**\n",
        "\n",
        "The Python standard library alone contains extensive functionlity. However, some tasks require the use of third-party libraries. Some major third-party libraries:\n",
        "\n",
        "**Django:** The most frequently used web framework written in Python, Djanjo powers websites that include Instagram and Disqus. It has many useful features, and whatever features it lacks are covered by extension packages. **CherryPy** and **Flask** are also popular web frameworks.\n",
        "\n",
        "For scraping data from websites, the library **BeautifulSoup** is very useful, and leads to better results than building your own scraper with regular expressions.\n",
        "\n",
        "While Python does offer modules for programmatically accessing websites, such as urllib, they are quite cumbersome to use. Third-party library requests make it much easier to use HTTP requests."
      ],
      "metadata": {
        "id": "wpcFgCsUfI1T"
      }
    },
    {
      "cell_type": "markdown",
      "source": [
        "**Major 3rd-Party Libraries**\n",
        "\n",
        "A number of third-party modules are available that make it much easier to carry out scientific and mathematical computing with Python.\n",
        "\n",
        "The module **matplotlib** allows you to create graphs based on data in Python.\n",
        "\n",
        "The module **NumPy** allows for the use of multidimensional arrays that are much faster than the native Python solution of nested lists. It also contains much faster than the native Python solution of nested lists. It also contains functions to perform mathematical operations such as matrix transformations on the arrays.\n",
        "\n",
        "The library **SciPy** contains numerous extensions to the functionality of **NumPy.**\n",
        "\n",
        "Python can also be used for **game developement.**\n",
        "\n",
        "Usually, it is used as a scripting language for games written in other languages, but it can be used to make games by itself.\n",
        "\n",
        "\n",
        "For 3D games, the library **Panda3D** can be used. For 2D games, you can use **pygame**"
      ],
      "metadata": {
        "id": "rDh2JnENfLva"
      }
    },
    {
      "cell_type": "markdown",
      "source": [
        "**Packaging**\n",
        "\n",
        "In Python, the term **packaging** refers to putting modules you have written in a standard format, so that other programmers can install and use them with ease.\n",
        "\n",
        "This involves use of the modules **setuptools** and **distutils**\n",
        "\n",
        "The first step in packaging is to organize existing files correctly. Place all of the files you want to put in a library in the same patent directory. This directory should also contain a file called \\_\\_init\\_\\_.py, which can be blank but must be present in the directory.\n",
        "\n",
        "This directory goes into another directory containing the readme and license, as well as an important file called **setup.py**\n",
        "\n",
        "**Example directory structure:**\n",
        "\n",
        "> SoloLearn/\n",
        "\n",
        ">> LICENSE.txt\n",
        "\n",
        ">> README.txt\n",
        "\n",
        ">> setup.py\n",
        "\n",
        ">> sololearn/\n",
        "\n",
        ">>> \\_\\_init\\_\\_.py\n",
        "\n",
        ">>> sololearn.py\n",
        "\n",
        ">>> sololearn2.py\n",
        "\n",
        "You can place as many script files in the directory as you need."
      ],
      "metadata": {
        "id": "Jtdht2zDfbeb"
      }
    },
    {
      "cell_type": "markdown",
      "source": [
        "**Packaging**\n",
        "\n",
        "The next step in packaginig is to write the **setup.py** file.\n",
        "\n",
        "This contains information necessary to assemble the package so it can be uploaded to **PyPl** and installed with **pip** (name,version, etc.).\n",
        "\n",
        "Example of a **setup.py** file:\n",
        "\n",
        "> from distutils.core import setup\n",
        "\n",
        "> setup(\n",
        "\n",
        ">> name='SoloLearn',\n",
        "\n",
        ">> version='0.1dev',\n",
        "\n",
        ">> packages=['sololearn',],\n",
        "\n",
        ">> license='MIT',\n",
        "\n",
        ">> long_description=open('README.txt').read(),\n",
        "\n",
        "> )\n",
        "\n",
        "After creating the **setup.py** file, upload it to **PyPl**, or use the command line to create a binary distributin (an executable installer).\n",
        "\n",
        "To build a source distribution, use the command line to navigate to the directory containing setup.py, and run the command **python setup.py sdist**. Run **python setup.py bdist** or, for Windows, python setup.py bdist_winnist to build a binary distribution.\n",
        "\n",
        "Use **python setup.py register**, followed by **python setup.py sdist upload** to upload a package.\n",
        "\n",
        "Finally, install a package with **python setup.py install**."
      ],
      "metadata": {
        "id": "7KWWIB0XgP7b"
      }
    },
    {
      "cell_type": "markdown",
      "source": [
        "**Packaging** \n",
        "\n",
        "The previous lesson covered packaging modules for use by other Python programmers. However, many computer users who are not programmers do not have Python installed. Therefore, it is useful to package scripts as executable files for the relevant platform, such as the Windows or Mac operating systems. This is not necessary for Linux, as most Linux users do have Python installed, and are able to run scripts as they are .\n",
        "\n",
        "For Whindows, many tools are available for vonverting scripts to executables. For example, **py2exe**, can be used to package a Python script, along with the libraries it requires, into a single executable.\n",
        "\n",
        "**PyInstaller** and **cx_Freeze** serve the same purpose.\n",
        "\n",
        "For Macs, use **py2app**, **PyInstaller** or **cx_Freeze**."
      ],
      "metadata": {
        "id": "efNyU1MVgYXC"
      }
    },
    {
      "cell_type": "code",
      "source": [
        "def func(**kwargs):\n",
        "  print(kwargs[\"zero\"])\n",
        "\n",
        "func(a=0, zero=8)  "
      ],
      "metadata": {
        "colab": {
          "base_uri": "https://localhost:8080/"
        },
        "id": "msvykZWygrje",
        "outputId": "ad952de5-1035-42a1-9867-8e747dd124f1"
      },
      "execution_count": null,
      "outputs": [
        {
          "output_type": "stream",
          "name": "stdout",
          "text": [
            "8\n"
          ]
        }
      ]
    },
    {
      "cell_type": "code",
      "source": [
        "for i in range(10): \n",
        "  try:\n",
        "    if 10/i == 2.0: # when i equal 5 that make condition true then break out of the loop\n",
        "      break\n",
        "  except ZeroDivisionError:\n",
        "    print(1)\n",
        "  else:\n",
        "    print(2)  "
      ],
      "metadata": {
        "colab": {
          "base_uri": "https://localhost:8080/"
        },
        "id": "Ud3S-0pxg_Rj",
        "outputId": "e89c8b00-e909-4e54-d6d9-34479b0268b0"
      },
      "execution_count": null,
      "outputs": [
        {
          "output_type": "stream",
          "name": "stdout",
          "text": [
            "1\n",
            "2\n",
            "2\n",
            "2\n",
            "2\n"
          ]
        }
      ]
    },
    {
      "cell_type": "code",
      "source": [
        "a = 7\n",
        "b = 42\n",
        "\n",
        "print(\"before a:\", a)\n",
        "print(\"before b:\", b)\n",
        "\n",
        "a, b = b, a\n",
        "\n",
        "print(\"after  a:\", a)\n",
        "print(\"after  b:\", b)"
      ],
      "metadata": {
        "colab": {
          "base_uri": "https://localhost:8080/"
        },
        "id": "fnBIcBlbhBWM",
        "outputId": "b2e2cc49-f1ea-4774-d560-6382d881d17b"
      },
      "execution_count": null,
      "outputs": [
        {
          "output_type": "stream",
          "name": "stdout",
          "text": [
            "before a: 7\n",
            "before b: 42\n",
            "after  a: 42\n",
            "after  b: 7\n"
          ]
        }
      ]
    },
    {
      "cell_type": "markdown",
      "source": [
        "#<b>Reference</b>"
      ],
      "metadata": {
        "id": "K019_HIghRqk"
      }
    },
    {
      "cell_type": "markdown",
      "source": [
        "Sololearn. *Python.* https://www.sololearn.com/learning/1073"
      ],
      "metadata": {
        "id": "GrR8w6nXhbpr"
      }
    },
    {
      "cell_type": "markdown",
      "source": [
        "Myself\n",
        "\n",
        "github:Niklaust"
      ],
      "metadata": {
        "id": "rfV6B6xDRdcb"
      }
    }
  ]
}